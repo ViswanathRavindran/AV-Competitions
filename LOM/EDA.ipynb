{
 "cells": [
  {
   "cell_type": "code",
   "execution_count": 1,
   "metadata": {},
   "outputs": [],
   "source": [
    "import numpy as np\n",
    "import pandas as pd\n",
    "from sklearn.model_selection import train_test_split\n",
    "from sklearn.model_selection import KFold\n",
    "import xgboost as xgb\n",
    "from time import time\n",
    "import gc\n",
    "import warnings\n",
    "warnings.filterwarnings('ignore')\n",
    "pd.options.display.max_rows = 999\n",
    "pd.options.display.max_columns = 999"
   ]
  },
  {
   "cell_type": "code",
   "execution_count": 2,
   "metadata": {},
   "outputs": [],
   "source": [
    "#path = '/Users/804357/Desktop/MyFiles/Learn/LOM/Data/'\n",
    "path = '/Users/Vishy/Files/AVDatahack/LOM/Data/' \n",
    "train = pd.read_csv(path+'train.csv')\n",
    "test = pd.read_csv(path+'test.csv')\n",
    "camp = pd.read_csv(path+'campaign_data.csv')"
   ]
  },
  {
   "cell_type": "code",
   "execution_count": 3,
   "metadata": {},
   "outputs": [
    {
     "name": "stdout",
     "output_type": "stream",
     "text": [
      "New variable creations\n"
     ]
    }
   ],
   "source": [
    "print('New variable creations')\n",
    "train['hour'] = pd.to_datetime(train.send_date).dt.hour.astype('uint8')\n",
    "train['day'] = pd.to_datetime(train.send_date).dt.day.astype('uint8')\n",
    "train['dow'] = pd.to_datetime(train.send_date).dt.dayofweek.astype('uint8')\n",
    "\n",
    "test['hour'] = pd.to_datetime(test.send_date).dt.hour.astype('uint8')\n",
    "test['day'] = pd.to_datetime(test.send_date).dt.day.astype('uint8')\n",
    "test['dow'] = pd.to_datetime(test.send_date).dt.dayofweek.astype('uint8')"
   ]
  },
  {
   "cell_type": "code",
   "execution_count": 4,
   "metadata": {},
   "outputs": [
    {
     "data": {
      "text/plain": [
       "Index(['id', 'user_id', 'campaign_id', 'send_date', 'is_open', 'is_click',\n",
       "       'hour', 'day', 'dow'],\n",
       "      dtype='object')"
      ]
     },
     "execution_count": 4,
     "metadata": {},
     "output_type": "execute_result"
    }
   ],
   "source": [
    "train.columns"
   ]
  },
  {
   "cell_type": "code",
   "execution_count": 4,
   "metadata": {},
   "outputs": [],
   "source": [
    "def overlap(list1,list2):\n",
    "    listC = []\n",
    "    for element in list1:\n",
    "        if element in list2:\n",
    "            listC.append(element)\n",
    "    return len(listC)        \n",
    "        \n",
    "def distinct(list1,list2):\n",
    "    listD = []\n",
    "    for element in list1:\n",
    "        if element not in list2:\n",
    "            listD.append(element)\n",
    "    return len(listD)        "
   ]
  },
  {
   "cell_type": "code",
   "execution_count": 5,
   "metadata": {},
   "outputs": [
    {
     "name": "stdout",
     "output_type": "stream",
     "text": [
      "The Number of unique users in Train and Test Data respectively are 168236 198219\n",
      "---------------------------------------------------------------\n",
      "The number of users from Train and in Test are: 145737\n",
      "---------------------------------------------------------------\n",
      "The number of users from Train and not in Test are: 74981\n"
     ]
    }
   ],
   "source": [
    "print('The Number of unique users in Train and Test Data respectively are', train.user_id.nunique(), \n",
    "      test.user_id.nunique())\n",
    "print('---------------------------------------------------------------')\n",
    "print('The number of users from Train and in Test are:',len(set(train.user_id.unique())&set(test.user_id.unique())))\n",
    "print('---------------------------------------------------------------')\n",
    "print('The number of users from Train and not in Test are:',len(set(train.user_id.unique())^set(test.user_id.unique())))"
   ]
  },
  {
   "cell_type": "code",
   "execution_count": 13,
   "metadata": {},
   "outputs": [
    {
     "name": "stdout",
     "output_type": "stream",
     "text": [
      "The Number of unique campaign in Train and Test Data respectively are 26 26\n",
      "----------------------------------------\n",
      "The number of campaigns from Train and in Test are: 26\n",
      "---------------------------------------------------------------\n",
      "The number of campaigns from Train and not in Test are: 52\n"
     ]
    }
   ],
   "source": [
    "print('The Number of unique campaign in Train and Test Data respectively are', train.campaign_id.nunique(), \n",
    "      test.campaign_id.nunique())\n",
    "print('----------------------------------------')\n",
    "print('The number of campaigns from Train and in Test are:', len(set(train.campaign_id.unique())&set(train.campaign_id.unique())))\n",
    "print('---------------------------------------------------------------')\n",
    "print('The number of campaigns from Train and not in Test are:', len(set(train.campaign_id.unique())^set(test.campaign_id.unique())))"
   ]
  },
  {
   "cell_type": "code",
   "execution_count": 14,
   "metadata": {},
   "outputs": [
    {
     "name": "stdout",
     "output_type": "stream",
     "text": [
      "26\n",
      "[42 52 33 44 29 49 30 54 36 53 32 48 50 41 47 39 34 46 35 31 37 38 45 51\n",
      " 40 43]\n",
      "26\n",
      "[63 56 57 71 76 74 67 75 64 69 78 79 61 58 77 60 80 65 70 55 68 73 59 66\n",
      " 72 62]\n"
     ]
    }
   ],
   "source": [
    "print(train.campaign_id.nunique())\n",
    "print(train.campaign_id.unique())\n",
    "print(test.campaign_id.nunique())\n",
    "print(test.campaign_id.unique())"
   ]
  },
  {
   "cell_type": "code",
   "execution_count": 16,
   "metadata": {},
   "outputs": [
    {
     "data": {
      "text/plain": [
       "0    920401\n",
       "1    102790\n",
       "Name: is_open, dtype: int64"
      ]
     },
     "execution_count": 16,
     "metadata": {},
     "output_type": "execute_result"
    }
   ],
   "source": [
    "train.is_open.value_counts()"
   ]
  },
  {
   "cell_type": "code",
   "execution_count": 17,
   "metadata": {},
   "outputs": [
    {
     "data": {
      "text/plain": [
       "0    1010409\n",
       "1      12782\n",
       "Name: is_click, dtype: int64"
      ]
     },
     "execution_count": 17,
     "metadata": {},
     "output_type": "execute_result"
    }
   ],
   "source": [
    "train.is_click.value_counts()"
   ]
  },
  {
   "cell_type": "code",
   "execution_count": 18,
   "metadata": {},
   "outputs": [
    {
     "data": {
      "text/html": [
       "<div>\n",
       "<style scoped>\n",
       "    .dataframe tbody tr th:only-of-type {\n",
       "        vertical-align: middle;\n",
       "    }\n",
       "\n",
       "    .dataframe tbody tr th {\n",
       "        vertical-align: top;\n",
       "    }\n",
       "\n",
       "    .dataframe thead th {\n",
       "        text-align: right;\n",
       "    }\n",
       "</style>\n",
       "<table border=\"1\" class=\"dataframe\">\n",
       "  <thead>\n",
       "    <tr style=\"text-align: right;\">\n",
       "      <th></th>\n",
       "      <th>id</th>\n",
       "      <th>user_id</th>\n",
       "      <th>campaign_id</th>\n",
       "      <th>send_date</th>\n",
       "      <th>is_open</th>\n",
       "      <th>is_click</th>\n",
       "      <th>hour</th>\n",
       "      <th>day</th>\n",
       "      <th>dow</th>\n",
       "    </tr>\n",
       "  </thead>\n",
       "  <tbody>\n",
       "    <tr>\n",
       "      <th>0</th>\n",
       "      <td>42_14051</td>\n",
       "      <td>14051</td>\n",
       "      <td>42</td>\n",
       "      <td>01-09-2017 19:55</td>\n",
       "      <td>0</td>\n",
       "      <td>0</td>\n",
       "      <td>19</td>\n",
       "      <td>9</td>\n",
       "      <td>0</td>\n",
       "    </tr>\n",
       "    <tr>\n",
       "      <th>1</th>\n",
       "      <td>52_134438</td>\n",
       "      <td>134438</td>\n",
       "      <td>52</td>\n",
       "      <td>02-11-2017 12:53</td>\n",
       "      <td>0</td>\n",
       "      <td>0</td>\n",
       "      <td>12</td>\n",
       "      <td>11</td>\n",
       "      <td>5</td>\n",
       "    </tr>\n",
       "    <tr>\n",
       "      <th>2</th>\n",
       "      <td>33_181789</td>\n",
       "      <td>181789</td>\n",
       "      <td>33</td>\n",
       "      <td>24-07-2017 15:15</td>\n",
       "      <td>0</td>\n",
       "      <td>0</td>\n",
       "      <td>15</td>\n",
       "      <td>24</td>\n",
       "      <td>0</td>\n",
       "    </tr>\n",
       "    <tr>\n",
       "      <th>3</th>\n",
       "      <td>44_231448</td>\n",
       "      <td>231448</td>\n",
       "      <td>44</td>\n",
       "      <td>05-09-2017 11:36</td>\n",
       "      <td>0</td>\n",
       "      <td>0</td>\n",
       "      <td>11</td>\n",
       "      <td>9</td>\n",
       "      <td>1</td>\n",
       "    </tr>\n",
       "    <tr>\n",
       "      <th>4</th>\n",
       "      <td>29_185580</td>\n",
       "      <td>185580</td>\n",
       "      <td>29</td>\n",
       "      <td>01-07-2017 18:01</td>\n",
       "      <td>0</td>\n",
       "      <td>0</td>\n",
       "      <td>18</td>\n",
       "      <td>7</td>\n",
       "      <td>5</td>\n",
       "    </tr>\n",
       "  </tbody>\n",
       "</table>\n",
       "</div>"
      ],
      "text/plain": [
       "          id  user_id  campaign_id         send_date  is_open  is_click  hour  \\\n",
       "0   42_14051    14051           42  01-09-2017 19:55        0         0    19   \n",
       "1  52_134438   134438           52  02-11-2017 12:53        0         0    12   \n",
       "2  33_181789   181789           33  24-07-2017 15:15        0         0    15   \n",
       "3  44_231448   231448           44  05-09-2017 11:36        0         0    11   \n",
       "4  29_185580   185580           29  01-07-2017 18:01        0         0    18   \n",
       "\n",
       "   day  dow  \n",
       "0    9    0  \n",
       "1   11    5  \n",
       "2   24    0  \n",
       "3    9    1  \n",
       "4    7    5  "
      ]
     },
     "execution_count": 18,
     "metadata": {},
     "output_type": "execute_result"
    }
   ],
   "source": [
    "train.head()"
   ]
  },
  {
   "cell_type": "code",
   "execution_count": 2,
   "metadata": {},
   "outputs": [],
   "source": [
    "from nltk.tokenize import word_tokenize, sent_tokenize\n",
    "from nltk.corpus import stopwords\n",
    "stop = set(stopwords.words('english'))\n",
    "from string import punctuation\n",
    "from collections import Counter\n",
    "import re"
   ]
  },
  {
   "cell_type": "code",
   "execution_count": 5,
   "metadata": {},
   "outputs": [],
   "source": [
    "def tokenizer(text):\n",
    "    try:\n",
    "        tokens_ = [word_tokenize(sent) for sent in sent_tokenize(text)]\n",
    "        \n",
    "        tokens = []\n",
    "        for token_by_sent in tokens_:\n",
    "            tokens += token_by_sent\n",
    "\n",
    "        tokens = list(filter(lambda t: t.lower() not in stop, tokens))\n",
    "        tokens = list(filter(lambda t: t not in punctuation, tokens))\n",
    "        tokens = list(filter(lambda t: t not in [u\"'s\", u\"n't\", u\"...\", u\"''\", u'``'], tokens))\n",
    "        filtered_tokens = []\n",
    "        for token in tokens:\n",
    "            if re.search('[a-zA-Z]', token):\n",
    "                filtered_tokens.append(token)\n",
    "\n",
    "        filtered_tokens = list(map(lambda token: token.lower(), filtered_tokens))\n",
    "\n",
    "        return filtered_tokens\n",
    "    except Error as e:\n",
    "        print(e)"
   ]
  },
  {
   "cell_type": "code",
   "execution_count": 8,
   "metadata": {},
   "outputs": [],
   "source": [
    "camp['sub_tokens'] = camp['subject'].map(tokenizer)"
   ]
  },
  {
   "cell_type": "code",
   "execution_count": 10,
   "metadata": {},
   "outputs": [
    {
     "name": "stdout",
     "output_type": "stream",
     "text": [
      "subject: Sneak Peek: A look at the emerging data science world !\n",
      "sub_tokens: ['sneak', 'peek', 'look', 'emerging', 'data', 'science', 'world']\n",
      "\n",
      "subject: [July] Data Science Expert Meetups & Competitions coming your way\n",
      "sub_tokens: ['july', 'data', 'science', 'expert', 'meetups', 'competitions', 'coming', 'way']\n",
      "\n",
      "subject: Last chance to convince your boss before the Early Bird expires !\n",
      "sub_tokens: ['last', 'chance', 'convince', 'boss', 'early', 'bird', 'expires']\n",
      "\n",
      "subject: A.I. & Machine Learning: 5 reasons why you should attend DataHack Summit 2017\n",
      "sub_tokens: ['a.i', 'machine', 'learning', 'reasons', 'attend', 'datahack', 'summit']\n",
      "\n",
      "subject: [Delhi NCR] Fireside Chat with DJ Patil, Former US Chief Data Scientist\n",
      "sub_tokens: ['delhi', 'ncr', 'fireside', 'chat', 'dj', 'patil', 'former', 'us', 'chief', 'data', 'scientist']\n",
      "\n"
     ]
    }
   ],
   "source": [
    "for subject, sub_tokens in zip(camp['subject'].head(5), camp['sub_tokens'].head(5)):\n",
    "    print('subject:', subject)\n",
    "    print('sub_tokens:', sub_tokens)\n",
    "    print() "
   ]
  },
  {
   "cell_type": "code",
   "execution_count": 11,
   "metadata": {},
   "outputs": [],
   "source": [
    "camp['email_tokens'] = camp['email_body'].map(tokenizer)"
   ]
  },
  {
   "cell_type": "code",
   "execution_count": 12,
   "metadata": {},
   "outputs": [
    {
     "name": "stdout",
     "output_type": "stream",
     "text": [
      "email_body: Dear AVians,\r\n",
      " \r\n",
      "We are shaping up a superb data science ecosystem brick by brick. The community is thriving with events and interactions. I can see a new world where data science knowledge is getting created through our community interactions.\r\n",
      " \r\n",
      "Our entire team extremely excited about our first annual conference - DataHack Summit 2017. The conference is shaping up superbly - this would be first of its kind conference with hands-on practitioners sharing their knowledge, challenges and bleeding edge work. A few awesome sessions & workshops have been announced and there are many more to come. Book your early-bird spot before they finish. If you know/are a data science leader and have done really awesome work - reach out to us and we can provide you Indias largest platform for data science practitioners.\r\n",
      " \r\n",
      "Now, coming to last month, I am feeling proud to announce that our dedicated volunteers now run meet up programs across 5 cities - check out our upcoming Expert Meet-ups. These meetups are meant for practitioners and are invite-only, hands-on problem-solving sessions.\r\n",
      " \r\n",
      "In addition to this, you might have noticed some top notch articles on deep learning like Introduction to GANs and coding Neural Networks from scratch in R & Python.\r\n",
      " \r\n",
      "We constantly bring various jobs vacancies across India - so to help you with your career beginnings/ change, keep a tab on the latest openings here.\r\n",
      " \r\n",
      "So, see you all very soon in this new world emerging!\r\n",
      " \r\n",
      "Regards,\r\n",
      " \r\n",
      "Kunal Jain\n",
      "email_tokens: ['dear', 'avians', 'shaping', 'superb', 'data', 'science', 'ecosystem', 'brick', 'brick', 'community', 'thriving', 'events', 'interactions', 'see', 'new', 'world', 'data', 'science', 'knowledge', 'getting', 'created', 'community', 'interactions', 'entire', 'team', 'extremely', 'excited', 'first', 'annual', 'conference', 'datahack', 'summit', 'conference', 'shaping', 'superbly', 'would', 'first', 'kind', 'conference', 'hands-on', 'practitioners', 'sharing', 'knowledge', 'challenges', 'bleeding', 'edge', 'work', 'awesome', 'sessions', 'workshops', 'announced', 'many', 'come', 'book', 'early-bird', 'spot', 'finish', 'know/are', 'data', 'science', 'leader', 'done', 'really', 'awesome', 'work', 'reach', 'us', 'provide', 'india\\x92s', 'largest', 'platform', 'data', 'science', 'practitioners', 'coming', 'last', 'month', 'feeling', 'proud', 'announce', 'dedicated', 'volunteers', 'run', 'meet', 'programs', 'across', 'cities', 'check', 'upcoming', 'expert', 'meet-ups', 'meetups', 'meant', 'practitioners', 'invite-only', 'hands-on', 'problem-solving', 'sessions', 'addition', 'might', 'noticed', 'top', 'notch', 'articles', 'deep', 'learning', 'like', 'introduction', 'gans', 'coding', 'neural', 'networks', 'scratch', 'r', 'python', 'constantly', 'bring', 'various', 'jobs', 'vacancies', 'across', 'india', 'help', 'career', 'beginnings/', 'change', 'keep', 'tab', 'latest', 'openings', 'see', 'soon', 'new', 'world', 'emerging', 'regards', 'kunal', 'jain']\n",
      "\n",
      "email_body: Dear AVians,\r\n",
      " \r\n",
      "Are your eager to know what are the upcoming challenges & meetups for you this July? Read on, to know about exciting events & competitions coming up.Get ready for the upcoming events. \r\n",
      " \n",
      "email_tokens: ['dear', 'avians', 'eager', 'know', 'upcoming', 'challenges', 'meetups', 'july', 'read', 'know', 'exciting', 'events', 'competitions', 'coming', 'up.get', 'ready', 'upcoming', 'events']\n",
      "\n",
      "email_body: Early Bird Pricing Till August 07  Save upto 33%\r\n",
      " \r\n",
      "15% extra savings on a 3-day conference & workshop pass\r\n",
      "Additional 10% discount on teams of 5 people and above\r\n",
      " \r\n",
      "\r\n",
      " \r\n",
      " \r\n",
      "Hi,\r\n",
      "\r\n",
      "DataHack Summit 2017 is going to be the largest and the most exciting data science event in India. This conference is aimed towards data science practitioners and focuses on Artificial Intelligence & Machine Learning.\r\n",
      "\r\n",
      "It is a unique opportunity to meet the thought leaders & see the horizons of how machine learning & AI are changing the world around us. If you are leading Analytics / Data Science / Machine Learning in your organization, you have got to attend this.\r\n",
      "\r\n",
      "Remember, what Mark Cuban said recently:\r\n",
      " \r\n",
      "Artificial Intelligence, deep learning, machine learning  whatever youre doing if you dont understand it  learn it. Because otherwise youre going to be a dinosaur within 3 years.\r\n",
      " \r\n",
      "Such is an impact of AI & ML. And if you need help to convince your manager on why to join DataHack Summit 2017, here is a nifty strategy:\r\n",
      " \r\n",
      "P.S. The early bird discount expires this week!\n",
      "email_tokens: ['early', 'bird', 'pricing', 'till', 'august', 'save', 'upto', 'extra', 'savings', '3-day', 'conference', 'workshop', 'pass', 'additional', 'discount', 'teams', 'people', 'hi', 'datahack', 'summit', 'going', 'largest', 'exciting', 'data', 'science', 'event', 'india', 'conference', 'aimed', 'towards', 'data', 'science', 'practitioners', 'focuses', 'artificial', 'intelligence', 'machine', 'learning', 'unique', 'opportunity', 'meet', 'thought', 'leaders', 'see', 'horizons', 'machine', 'learning', 'ai', 'changing', 'world', 'around', 'us', 'leading', 'analytics', 'data', 'science', 'machine', 'learning', 'organization', 'got', 'attend', 'remember', 'mark', 'cuban', 'said', 'recently', '\\x93artificial', 'intelligence', 'deep', 'learning', 'machine', 'learning', 'whatever', 'you\\x92re', 'don\\x92t', 'understand', 'learn', 'otherwise', 'you\\x92re', 'going', 'dinosaur', 'within', 'years.\\x94', 'impact', 'ai', 'ml', 'need', 'help', 'convince', 'manager', 'join', 'datahack', 'summit', 'nifty', 'strategy', 'p.s', 'early', 'bird', 'discount', 'expires', 'week']\n",
      "\n",
      "email_body: \r\n",
      " \r\n",
      "Hi ?\r\n",
      " \r\n",
      "Before I dive into why you should attend this Data Science conference, let me announce that conferences are designed - To make you think. To spark inspiration. To take you where the next big thing truly lies. DataHack Summit 2017 is one such opportunity which will take a leap into the future of Data Science.\r\n",
      " \r\n",
      "If youre on the fence about attending DataHack Summit 2017 - Conference on Artificial Intelligence & Machine Learning, here are a few reasons to register today, and start planning your trip to Bengaluru. \n",
      "email_tokens: ['hi', 'dive', 'attend', 'data', 'science', 'conference', 'let', 'announce', 'conferences', 'designed', 'make', 'think', 'spark', 'inspiration', 'take', 'next', 'big', 'thing', 'truly', 'lies', 'datahack', 'summit', 'one', 'opportunity', 'take', 'leap', 'future', 'data', 'science', 'you\\x92re', 'fence', 'attending', 'datahack', 'summit', 'conference', 'artificial', 'intelligence', 'machine', 'learning', 'reasons', 'register', 'today', 'start', 'planning', 'trip', 'bengaluru']\n",
      "\n",
      "email_body: Fireside Chat with DJ Patil - the master is here!\r\n",
      " \r\n",
      "Dear AVian,\r\n",
      " \r\n",
      "Here's a super exciting event update for you! We've put together a Fireside Chat with DJ Patil, this week in Delhi/ NCR.\r\n",
      " \r\n",
      "Kunal Jain will be conducting a conversation with DJ Patil which will be followed by engaging Q&A session with this data science veteran.\r\n",
      " \r\n",
      "Surely, you wouldn't want to miss this opportunity to hear, interact and connect - meant for all aspiring Students, Data Scientists, Data Science Teams from corporates, influencers & bloggers!\r\n",
      " \r\n",
      "More about event: Click here\r\n",
      " \r\n",
      "Date: 29th July\r\n",
      "\r\n",
      "Venue: Gurgaon (Register to know more)\r\n",
      "\r\n",
      "Block your calendars, invite your teams and plan your data journey for this exclusive event.\r\n",
      " \r\n",
      "See you there!\n",
      "email_tokens: ['fireside', 'chat', 'dj', 'patil', 'master', 'dear', 'avian', 'super', 'exciting', 'event', 'update', \"'ve\", 'put', 'together', 'fireside', 'chat', 'dj', 'patil', 'week', 'delhi/', 'ncr', 'kunal', 'jain', 'conducting', 'conversation', 'dj', 'patil', 'followed', 'engaging', 'q', 'session', 'data', 'science', 'veteran', 'surely', 'would', 'want', 'miss', 'opportunity', 'hear', 'interact', 'connect', 'meant', 'aspiring', 'students', 'data', 'scientists', 'data', 'science', 'teams', 'corporates', 'influencers', 'bloggers', 'event', 'click', 'date', '29th', 'july', 'venue', 'gurgaon', 'register', 'know', 'block', 'calendars', 'invite', 'teams', 'plan', 'data', 'journey', 'exclusive', 'event', 'see']\n",
      "\n"
     ]
    }
   ],
   "source": [
    "for email_body, email_tokens in zip(camp['email_body'].head(5), camp['email_tokens'].head(5)):\n",
    "    print('email_body:', email_body)\n",
    "    print('email_tokens:', email_tokens)\n",
    "    print() "
   ]
  },
  {
   "cell_type": "code",
   "execution_count": 19,
   "metadata": {},
   "outputs": [
    {
     "name": "stdout",
     "output_type": "stream",
     "text": [
      "Shape of the train data is (1023191, 19)\n",
      "Shape of the test data is (773858, 17)\n"
     ]
    }
   ],
   "source": [
    "train_df = pd.merge(train, camp, on='campaign_id')\n",
    "test_df = pd.merge(test, camp, on='campaign_id')\n",
    "print('Shape of the train data is', train_df.shape)\n",
    "print('Shape of the test data is', test_df.shape)"
   ]
  },
  {
   "cell_type": "code",
   "execution_count": 20,
   "metadata": {},
   "outputs": [
    {
     "name": "stdout",
     "output_type": "stream",
     "text": [
      "7\n",
      "['Newsletter' 'Others' 'Upcoming Events' 'Conference' 'Corporate'\n",
      " 'Hackathon' 'Webinar']\n",
      "4\n",
      "['Newsletter' 'Upcoming Events' 'Hackathon' 'Corporate']\n"
     ]
    }
   ],
   "source": [
    "print(train_df.communication_type.nunique())\n",
    "print(train_df.communication_type.unique())\n",
    "print(test_df.communication_type.nunique())\n",
    "print(test_df.communication_type.unique())"
   ]
  },
  {
   "cell_type": "code",
   "execution_count": 22,
   "metadata": {},
   "outputs": [
    {
     "data": {
      "text/html": [
       "<div>\n",
       "<style scoped>\n",
       "    .dataframe tbody tr th:only-of-type {\n",
       "        vertical-align: middle;\n",
       "    }\n",
       "\n",
       "    .dataframe tbody tr th {\n",
       "        vertical-align: top;\n",
       "    }\n",
       "\n",
       "    .dataframe thead th {\n",
       "        text-align: right;\n",
       "    }\n",
       "</style>\n",
       "<table border=\"1\" class=\"dataframe\">\n",
       "  <thead>\n",
       "    <tr style=\"text-align: right;\">\n",
       "      <th></th>\n",
       "      <th>id</th>\n",
       "      <th>campaign_id</th>\n",
       "      <th>user_id</th>\n",
       "      <th>send_date</th>\n",
       "      <th>hour</th>\n",
       "      <th>day</th>\n",
       "      <th>dow</th>\n",
       "      <th>communication_type</th>\n",
       "      <th>total_links</th>\n",
       "      <th>no_of_internal_links</th>\n",
       "      <th>no_of_images</th>\n",
       "      <th>no_of_sections</th>\n",
       "      <th>email_body</th>\n",
       "      <th>subject</th>\n",
       "      <th>email_url</th>\n",
       "      <th>sub_tokens</th>\n",
       "      <th>email_tokens</th>\n",
       "    </tr>\n",
       "  </thead>\n",
       "  <tbody>\n",
       "    <tr>\n",
       "      <th>0</th>\n",
       "      <td>63_122715</td>\n",
       "      <td>63</td>\n",
       "      <td>122715</td>\n",
       "      <td>01-02-2018 22:35</td>\n",
       "      <td>22</td>\n",
       "      <td>2</td>\n",
       "      <td>1</td>\n",
       "      <td>Newsletter</td>\n",
       "      <td>68</td>\n",
       "      <td>64</td>\n",
       "      <td>15</td>\n",
       "      <td>5</td>\n",
       "      <td>\\r\\nFebruary 2018 Newsletter\\r\\n \\r\\nDear AVia...</td>\n",
       "      <td>AVbytes, Ultimate 2018 learning path and aweso...</td>\n",
       "      <td>http://r.newsletters.analyticsvidhya.com/7whsu...</td>\n",
       "      <td>[avbytes, ultimate, learning, path, awesome, c...</td>\n",
       "      <td>[february, newsletter, dear, avian, couldnt, ...</td>\n",
       "    </tr>\n",
       "    <tr>\n",
       "      <th>1</th>\n",
       "      <td>63_124394</td>\n",
       "      <td>63</td>\n",
       "      <td>124394</td>\n",
       "      <td>01-02-2018 22:47</td>\n",
       "      <td>22</td>\n",
       "      <td>2</td>\n",
       "      <td>1</td>\n",
       "      <td>Newsletter</td>\n",
       "      <td>68</td>\n",
       "      <td>64</td>\n",
       "      <td>15</td>\n",
       "      <td>5</td>\n",
       "      <td>\\r\\nFebruary 2018 Newsletter\\r\\n \\r\\nDear AVia...</td>\n",
       "      <td>AVbytes, Ultimate 2018 learning path and aweso...</td>\n",
       "      <td>http://r.newsletters.analyticsvidhya.com/7whsu...</td>\n",
       "      <td>[avbytes, ultimate, learning, path, awesome, c...</td>\n",
       "      <td>[february, newsletter, dear, avian, couldnt, ...</td>\n",
       "    </tr>\n",
       "    <tr>\n",
       "      <th>2</th>\n",
       "      <td>63_95168</td>\n",
       "      <td>63</td>\n",
       "      <td>95168</td>\n",
       "      <td>01-02-2018 22:44</td>\n",
       "      <td>22</td>\n",
       "      <td>2</td>\n",
       "      <td>1</td>\n",
       "      <td>Newsletter</td>\n",
       "      <td>68</td>\n",
       "      <td>64</td>\n",
       "      <td>15</td>\n",
       "      <td>5</td>\n",
       "      <td>\\r\\nFebruary 2018 Newsletter\\r\\n \\r\\nDear AVia...</td>\n",
       "      <td>AVbytes, Ultimate 2018 learning path and aweso...</td>\n",
       "      <td>http://r.newsletters.analyticsvidhya.com/7whsu...</td>\n",
       "      <td>[avbytes, ultimate, learning, path, awesome, c...</td>\n",
       "      <td>[february, newsletter, dear, avian, couldnt, ...</td>\n",
       "    </tr>\n",
       "    <tr>\n",
       "      <th>3</th>\n",
       "      <td>63_31556</td>\n",
       "      <td>63</td>\n",
       "      <td>31556</td>\n",
       "      <td>01-02-2018 23:09</td>\n",
       "      <td>23</td>\n",
       "      <td>2</td>\n",
       "      <td>1</td>\n",
       "      <td>Newsletter</td>\n",
       "      <td>68</td>\n",
       "      <td>64</td>\n",
       "      <td>15</td>\n",
       "      <td>5</td>\n",
       "      <td>\\r\\nFebruary 2018 Newsletter\\r\\n \\r\\nDear AVia...</td>\n",
       "      <td>AVbytes, Ultimate 2018 learning path and aweso...</td>\n",
       "      <td>http://r.newsletters.analyticsvidhya.com/7whsu...</td>\n",
       "      <td>[avbytes, ultimate, learning, path, awesome, c...</td>\n",
       "      <td>[february, newsletter, dear, avian, couldnt, ...</td>\n",
       "    </tr>\n",
       "    <tr>\n",
       "      <th>4</th>\n",
       "      <td>63_138377</td>\n",
       "      <td>63</td>\n",
       "      <td>138377</td>\n",
       "      <td>01-02-2018 22:48</td>\n",
       "      <td>22</td>\n",
       "      <td>2</td>\n",
       "      <td>1</td>\n",
       "      <td>Newsletter</td>\n",
       "      <td>68</td>\n",
       "      <td>64</td>\n",
       "      <td>15</td>\n",
       "      <td>5</td>\n",
       "      <td>\\r\\nFebruary 2018 Newsletter\\r\\n \\r\\nDear AVia...</td>\n",
       "      <td>AVbytes, Ultimate 2018 learning path and aweso...</td>\n",
       "      <td>http://r.newsletters.analyticsvidhya.com/7whsu...</td>\n",
       "      <td>[avbytes, ultimate, learning, path, awesome, c...</td>\n",
       "      <td>[february, newsletter, dear, avian, couldnt, ...</td>\n",
       "    </tr>\n",
       "  </tbody>\n",
       "</table>\n",
       "</div>"
      ],
      "text/plain": [
       "          id  campaign_id  user_id         send_date  hour  day  dow  \\\n",
       "0  63_122715           63   122715  01-02-2018 22:35    22    2    1   \n",
       "1  63_124394           63   124394  01-02-2018 22:47    22    2    1   \n",
       "2   63_95168           63    95168  01-02-2018 22:44    22    2    1   \n",
       "3   63_31556           63    31556  01-02-2018 23:09    23    2    1   \n",
       "4  63_138377           63   138377  01-02-2018 22:48    22    2    1   \n",
       "\n",
       "  communication_type  total_links  no_of_internal_links  no_of_images  \\\n",
       "0         Newsletter           68                    64            15   \n",
       "1         Newsletter           68                    64            15   \n",
       "2         Newsletter           68                    64            15   \n",
       "3         Newsletter           68                    64            15   \n",
       "4         Newsletter           68                    64            15   \n",
       "\n",
       "   no_of_sections                                         email_body  \\\n",
       "0               5  \\r\\nFebruary 2018 Newsletter\\r\\n \\r\\nDear AVia...   \n",
       "1               5  \\r\\nFebruary 2018 Newsletter\\r\\n \\r\\nDear AVia...   \n",
       "2               5  \\r\\nFebruary 2018 Newsletter\\r\\n \\r\\nDear AVia...   \n",
       "3               5  \\r\\nFebruary 2018 Newsletter\\r\\n \\r\\nDear AVia...   \n",
       "4               5  \\r\\nFebruary 2018 Newsletter\\r\\n \\r\\nDear AVia...   \n",
       "\n",
       "                                             subject  \\\n",
       "0  AVbytes, Ultimate 2018 learning path and aweso...   \n",
       "1  AVbytes, Ultimate 2018 learning path and aweso...   \n",
       "2  AVbytes, Ultimate 2018 learning path and aweso...   \n",
       "3  AVbytes, Ultimate 2018 learning path and aweso...   \n",
       "4  AVbytes, Ultimate 2018 learning path and aweso...   \n",
       "\n",
       "                                           email_url  \\\n",
       "0  http://r.newsletters.analyticsvidhya.com/7whsu...   \n",
       "1  http://r.newsletters.analyticsvidhya.com/7whsu...   \n",
       "2  http://r.newsletters.analyticsvidhya.com/7whsu...   \n",
       "3  http://r.newsletters.analyticsvidhya.com/7whsu...   \n",
       "4  http://r.newsletters.analyticsvidhya.com/7whsu...   \n",
       "\n",
       "                                          sub_tokens  \\\n",
       "0  [avbytes, ultimate, learning, path, awesome, c...   \n",
       "1  [avbytes, ultimate, learning, path, awesome, c...   \n",
       "2  [avbytes, ultimate, learning, path, awesome, c...   \n",
       "3  [avbytes, ultimate, learning, path, awesome, c...   \n",
       "4  [avbytes, ultimate, learning, path, awesome, c...   \n",
       "\n",
       "                                        email_tokens  \n",
       "0  [february, newsletter, dear, avian, couldnt, ...  \n",
       "1  [february, newsletter, dear, avian, couldnt, ...  \n",
       "2  [february, newsletter, dear, avian, couldnt, ...  \n",
       "3  [february, newsletter, dear, avian, couldnt, ...  \n",
       "4  [february, newsletter, dear, avian, couldnt, ...  "
      ]
     },
     "execution_count": 22,
     "metadata": {},
     "output_type": "execute_result"
    }
   ],
   "source": [
    "test_df.head()"
   ]
  },
  {
   "cell_type": "code",
   "execution_count": 23,
   "metadata": {},
   "outputs": [],
   "source": [
    "train_df.to_csv('train_df.csv', index=False)\n",
    "test_df.to_csv('test_df.csv', index=False)"
   ]
  },
  {
   "cell_type": "markdown",
   "metadata": {},
   "source": [
    "# Restart from here"
   ]
  },
  {
   "cell_type": "code",
   "execution_count": 2,
   "metadata": {},
   "outputs": [],
   "source": [
    "path = '/Users/Vishy/Files/AVDatahack/LOM/Data/'\n",
    "train_df = pd.read_csv(path+'train_df.csv')\n",
    "test_df = pd.read_csv(path+'test_df.csv')"
   ]
  },
  {
   "cell_type": "code",
   "execution_count": 3,
   "metadata": {},
   "outputs": [
    {
     "data": {
      "text/plain": [
       "Newsletter         451053\n",
       "Conference         332633\n",
       "Upcoming Events    148964\n",
       "Others              50936\n",
       "Hackathon           33265\n",
       "Webinar              3487\n",
       "Corporate            2853\n",
       "Name: communication_type, dtype: int64"
      ]
     },
     "execution_count": 3,
     "metadata": {},
     "output_type": "execute_result"
    }
   ],
   "source": [
    "train_df.communication_type.value_counts()"
   ]
  },
  {
   "cell_type": "code",
   "execution_count": 4,
   "metadata": {},
   "outputs": [
    {
     "data": {
      "text/plain": [
       "Upcoming Events    302125\n",
       "Newsletter         291706\n",
       "Hackathon          144667\n",
       "Corporate           35360\n",
       "Name: communication_type, dtype: int64"
      ]
     },
     "execution_count": 4,
     "metadata": {},
     "output_type": "execute_result"
    }
   ],
   "source": [
    "test_df.communication_type.value_counts()"
   ]
  },
  {
   "cell_type": "code",
   "execution_count": null,
   "metadata": {},
   "outputs": [],
   "source": [
    "traindf"
   ]
  },
  {
   "cell_type": "code",
   "execution_count": 27,
   "metadata": {},
   "outputs": [],
   "source": [
    "from sklearn.feature_extraction.text import TfidfVectorizer\n",
    "\n",
    "# min_df is minimum number of documents that contain a term t\n",
    "# max_features is maximum number of unique tokens (across documents) that we'd consider\n",
    "# TfidfVectorizer preprocesses the descriptions using the tokenizer we defined above\n",
    "\n",
    "vectorizer = TfidfVectorizer(min_df=10, max_features=10000, ngram_range=(1, 2))#tokenizer=tokenizer,\n",
    "vz = vectorizer.fit_transform(list(train_df['sub_tokens']))"
   ]
  },
  {
   "cell_type": "code",
   "execution_count": 28,
   "metadata": {},
   "outputs": [
    {
     "data": {
      "text/plain": [
       "(1023191, 254)"
      ]
     },
     "execution_count": 28,
     "metadata": {},
     "output_type": "execute_result"
    }
   ],
   "source": [
    "vz.shape"
   ]
  },
  {
   "cell_type": "code",
   "execution_count": 29,
   "metadata": {},
   "outputs": [],
   "source": [
    "tfidf = dict(zip(vectorizer.get_feature_names(), vectorizer.idf_))\n",
    "tfidf = pd.DataFrame(columns=['tfidf']).from_dict(dict(tfidf), orient='index')\n",
    "tfidf.columns = ['tfidf']"
   ]
  },
  {
   "cell_type": "code",
   "execution_count": 30,
   "metadata": {},
   "outputs": [
    {
     "data": {
      "image/png": "[encoded data removed]",
      "text/plain": [
       "<matplotlib.figure.Figure at 0x1a0a47ada0>"
      ]
     },
     "metadata": {},
     "output_type": "display_data"
    }
   ],
   "source": [
    "import matplotlib.pyplot as plt\n",
    "tfidf.tfidf.hist(bins=50, figsize=(15,7))\n",
    "plt.show()"
   ]
  },
  {
   "cell_type": "code",
   "execution_count": 31,
   "metadata": {},
   "outputs": [
    {
     "data": {
      "text/html": [
       "<div>\n",
       "<style scoped>\n",
       "    .dataframe tbody tr th:only-of-type {\n",
       "        vertical-align: middle;\n",
       "    }\n",
       "\n",
       "    .dataframe tbody tr th {\n",
       "        vertical-align: top;\n",
       "    }\n",
       "\n",
       "    .dataframe thead th {\n",
       "        text-align: right;\n",
       "    }\n",
       "</style>\n",
       "<table border=\"1\" class=\"dataframe\">\n",
       "  <thead>\n",
       "    <tr style=\"text-align: right;\">\n",
       "      <th></th>\n",
       "      <th>tfidf</th>\n",
       "    </tr>\n",
       "  </thead>\n",
       "  <tbody>\n",
       "    <tr>\n",
       "      <th>datahack</th>\n",
       "      <td>1.686195</td>\n",
       "    </tr>\n",
       "    <tr>\n",
       "      <th>datahack summit</th>\n",
       "      <td>1.686195</td>\n",
       "    </tr>\n",
       "    <tr>\n",
       "      <th>summit</th>\n",
       "      <td>1.686195</td>\n",
       "    </tr>\n",
       "    <tr>\n",
       "      <th>data</th>\n",
       "      <td>2.304260</td>\n",
       "    </tr>\n",
       "    <tr>\n",
       "      <th>hackathons</th>\n",
       "      <td>2.423032</td>\n",
       "    </tr>\n",
       "    <tr>\n",
       "      <th>machine learning</th>\n",
       "      <td>2.444907</td>\n",
       "    </tr>\n",
       "    <tr>\n",
       "      <th>learning</th>\n",
       "      <td>2.444907</td>\n",
       "    </tr>\n",
       "    <tr>\n",
       "      <th>machine</th>\n",
       "      <td>2.444907</td>\n",
       "    </tr>\n",
       "    <tr>\n",
       "      <th>data science</th>\n",
       "      <td>2.489196</td>\n",
       "    </tr>\n",
       "    <tr>\n",
       "      <th>science</th>\n",
       "      <td>2.489196</td>\n",
       "    </tr>\n",
       "    <tr>\n",
       "      <th>meetups</th>\n",
       "      <td>2.491656</td>\n",
       "    </tr>\n",
       "    <tr>\n",
       "      <th>announcing</th>\n",
       "      <td>2.759608</td>\n",
       "    </tr>\n",
       "    <tr>\n",
       "      <th>days</th>\n",
       "      <td>2.772104</td>\n",
       "    </tr>\n",
       "    <tr>\n",
       "      <th>india</th>\n",
       "      <td>2.797381</td>\n",
       "    </tr>\n",
       "    <tr>\n",
       "      <th>artificial</th>\n",
       "      <td>2.813947</td>\n",
       "    </tr>\n",
       "    <tr>\n",
       "      <th>artificial intelligence</th>\n",
       "      <td>2.813947</td>\n",
       "    </tr>\n",
       "    <tr>\n",
       "      <th>register</th>\n",
       "      <td>2.813947</td>\n",
       "    </tr>\n",
       "    <tr>\n",
       "      <th>intelligence</th>\n",
       "      <td>2.813947</td>\n",
       "    </tr>\n",
       "    <tr>\n",
       "      <th>intelligence machine</th>\n",
       "      <td>2.813947</td>\n",
       "    </tr>\n",
       "    <tr>\n",
       "      <th>hackathons meetups</th>\n",
       "      <td>2.852625</td>\n",
       "    </tr>\n",
       "  </tbody>\n",
       "</table>\n",
       "</div>"
      ],
      "text/plain": [
       "                            tfidf\n",
       "datahack                 1.686195\n",
       "datahack summit          1.686195\n",
       "summit                   1.686195\n",
       "data                     2.304260\n",
       "hackathons               2.423032\n",
       "machine learning         2.444907\n",
       "learning                 2.444907\n",
       "machine                  2.444907\n",
       "data science             2.489196\n",
       "science                  2.489196\n",
       "meetups                  2.491656\n",
       "announcing               2.759608\n",
       "days                     2.772104\n",
       "india                    2.797381\n",
       "artificial               2.813947\n",
       "artificial intelligence  2.813947\n",
       "register                 2.813947\n",
       "intelligence             2.813947\n",
       "intelligence machine     2.813947\n",
       "hackathons meetups       2.852625"
      ]
     },
     "execution_count": 31,
     "metadata": {},
     "output_type": "execute_result"
    }
   ],
   "source": [
    "tfidf.sort_values(by=['tfidf'], ascending=True).head(20)"
   ]
  },
  {
   "cell_type": "code",
   "execution_count": 32,
   "metadata": {},
   "outputs": [
    {
     "data": {
      "text/html": [
       "<div>\n",
       "<style scoped>\n",
       "    .dataframe tbody tr th:only-of-type {\n",
       "        vertical-align: middle;\n",
       "    }\n",
       "\n",
       "    .dataframe tbody tr th {\n",
       "        vertical-align: top;\n",
       "    }\n",
       "\n",
       "    .dataframe thead th {\n",
       "        text-align: right;\n",
       "    }\n",
       "</style>\n",
       "<table border=\"1\" class=\"dataframe\">\n",
       "  <thead>\n",
       "    <tr style=\"text-align: right;\">\n",
       "      <th></th>\n",
       "      <th>tfidf</th>\n",
       "    </tr>\n",
       "  </thead>\n",
       "  <tbody>\n",
       "    <tr>\n",
       "      <th>grow</th>\n",
       "      <td>10.618930</td>\n",
       "    </tr>\n",
       "    <tr>\n",
       "      <th>innovate</th>\n",
       "      <td>10.618930</td>\n",
       "    </tr>\n",
       "    <tr>\n",
       "      <th>innovate grow</th>\n",
       "      <td>10.618930</td>\n",
       "    </tr>\n",
       "    <tr>\n",
       "      <th>business data</th>\n",
       "      <td>10.618930</td>\n",
       "    </tr>\n",
       "    <tr>\n",
       "      <th>business</th>\n",
       "      <td>10.618930</td>\n",
       "    </tr>\n",
       "    <tr>\n",
       "      <th>data hackathons</th>\n",
       "      <td>10.618930</td>\n",
       "    </tr>\n",
       "    <tr>\n",
       "      <th>grow business</th>\n",
       "      <td>10.618930</td>\n",
       "    </tr>\n",
       "    <tr>\n",
       "      <th>participate datahack</th>\n",
       "      <td>6.905717</td>\n",
       "    </tr>\n",
       "    <tr>\n",
       "      <th>participate</th>\n",
       "      <td>6.905717</td>\n",
       "    </tr>\n",
       "    <tr>\n",
       "      <th>last chance</th>\n",
       "      <td>6.769722</td>\n",
       "    </tr>\n",
       "  </tbody>\n",
       "</table>\n",
       "</div>"
      ],
      "text/plain": [
       "                          tfidf\n",
       "grow                  10.618930\n",
       "innovate              10.618930\n",
       "innovate grow         10.618930\n",
       "business data         10.618930\n",
       "business              10.618930\n",
       "data hackathons       10.618930\n",
       "grow business         10.618930\n",
       "participate datahack   6.905717\n",
       "participate            6.905717\n",
       "last chance            6.769722"
      ]
     },
     "execution_count": 32,
     "metadata": {},
     "output_type": "execute_result"
    }
   ],
   "source": [
    "tfidf.sort_values(by=['tfidf'], ascending=False).head(10)"
   ]
  },
  {
   "cell_type": "code",
   "execution_count": 33,
   "metadata": {},
   "outputs": [],
   "source": [
    "vz = vectorizer.fit_transform(list(train_df['email_tokens']))"
   ]
  },
  {
   "cell_type": "code",
   "execution_count": 34,
   "metadata": {},
   "outputs": [
    {
     "data": {
      "text/plain": [
       "(1023191, 2764)"
      ]
     },
     "execution_count": 34,
     "metadata": {},
     "output_type": "execute_result"
    }
   ],
   "source": [
    "vz.shape"
   ]
  },
  {
   "cell_type": "code",
   "execution_count": 35,
   "metadata": {},
   "outputs": [],
   "source": [
    "tfidf = dict(zip(vectorizer.get_feature_names(), vectorizer.idf_))\n",
    "tfidf = pd.DataFrame(columns=['tfidf']).from_dict(dict(tfidf), orient='index')\n",
    "tfidf.columns = ['tfidf']"
   ]
  },
  {
   "cell_type": "code",
   "execution_count": 36,
   "metadata": {},
   "outputs": [
    {
     "data": {
      "image/png": "[encoded data removed]",
      "text/plain": [
       "<matplotlib.figure.Figure at 0x105315be0>"
      ]
     },
     "metadata": {},
     "output_type": "display_data"
    }
   ],
   "source": [
    "import matplotlib.pyplot as plt\n",
    "tfidf.tfidf.hist(bins=50, figsize=(15,7))\n",
    "plt.show()"
   ]
  },
  {
   "cell_type": "code",
   "execution_count": 37,
   "metadata": {},
   "outputs": [
    {
     "data": {
      "text/html": [
       "<div>\n",
       "<style scoped>\n",
       "    .dataframe tbody tr th:only-of-type {\n",
       "        vertical-align: middle;\n",
       "    }\n",
       "\n",
       "    .dataframe tbody tr th {\n",
       "        vertical-align: top;\n",
       "    }\n",
       "\n",
       "    .dataframe thead th {\n",
       "        text-align: right;\n",
       "    }\n",
       "</style>\n",
       "<table border=\"1\" class=\"dataframe\">\n",
       "  <thead>\n",
       "    <tr style=\"text-align: right;\">\n",
       "      <th></th>\n",
       "      <th>tfidf</th>\n",
       "    </tr>\n",
       "  </thead>\n",
       "  <tbody>\n",
       "    <tr>\n",
       "      <th>science</th>\n",
       "      <td>1.122753</td>\n",
       "    </tr>\n",
       "    <tr>\n",
       "      <th>data</th>\n",
       "      <td>1.122753</td>\n",
       "    </tr>\n",
       "    <tr>\n",
       "      <th>data science</th>\n",
       "      <td>1.122753</td>\n",
       "    </tr>\n",
       "    <tr>\n",
       "      <th>summit</th>\n",
       "      <td>1.196789</td>\n",
       "    </tr>\n",
       "    <tr>\n",
       "      <th>datahack summit</th>\n",
       "      <td>1.196789</td>\n",
       "    </tr>\n",
       "    <tr>\n",
       "      <th>datahack</th>\n",
       "      <td>1.196789</td>\n",
       "    </tr>\n",
       "    <tr>\n",
       "      <th>dear</th>\n",
       "      <td>1.269956</td>\n",
       "    </tr>\n",
       "    <tr>\n",
       "      <th>learning</th>\n",
       "      <td>1.323015</td>\n",
       "    </tr>\n",
       "    <tr>\n",
       "      <th>coming</th>\n",
       "      <td>1.400166</td>\n",
       "    </tr>\n",
       "    <tr>\n",
       "      <th>conference</th>\n",
       "      <td>1.439765</td>\n",
       "    </tr>\n",
       "    <tr>\n",
       "      <th>avians</th>\n",
       "      <td>1.533723</td>\n",
       "    </tr>\n",
       "    <tr>\n",
       "      <th>dear avians</th>\n",
       "      <td>1.533723</td>\n",
       "    </tr>\n",
       "    <tr>\n",
       "      <th>workshops</th>\n",
       "      <td>1.736348</td>\n",
       "    </tr>\n",
       "    <tr>\n",
       "      <th>sessions</th>\n",
       "      <td>1.746239</td>\n",
       "    </tr>\n",
       "    <tr>\n",
       "      <th>deep</th>\n",
       "      <td>1.796116</td>\n",
       "    </tr>\n",
       "    <tr>\n",
       "      <th>deep learning</th>\n",
       "      <td>1.796116</td>\n",
       "    </tr>\n",
       "    <tr>\n",
       "      <th>exciting</th>\n",
       "      <td>1.807471</td>\n",
       "    </tr>\n",
       "    <tr>\n",
       "      <th>kunal jain</th>\n",
       "      <td>1.829438</td>\n",
       "    </tr>\n",
       "    <tr>\n",
       "      <th>jain</th>\n",
       "      <td>1.829438</td>\n",
       "    </tr>\n",
       "    <tr>\n",
       "      <th>kunal</th>\n",
       "      <td>1.829438</td>\n",
       "    </tr>\n",
       "  </tbody>\n",
       "</table>\n",
       "</div>"
      ],
      "text/plain": [
       "                    tfidf\n",
       "science          1.122753\n",
       "data             1.122753\n",
       "data science     1.122753\n",
       "summit           1.196789\n",
       "datahack summit  1.196789\n",
       "datahack         1.196789\n",
       "dear             1.269956\n",
       "learning         1.323015\n",
       "coming           1.400166\n",
       "conference       1.439765\n",
       "avians           1.533723\n",
       "dear avians      1.533723\n",
       "workshops        1.736348\n",
       "sessions         1.746239\n",
       "deep             1.796116\n",
       "deep learning    1.796116\n",
       "exciting         1.807471\n",
       "kunal jain       1.829438\n",
       "jain             1.829438\n",
       "kunal            1.829438"
      ]
     },
     "execution_count": 37,
     "metadata": {},
     "output_type": "execute_result"
    }
   ],
   "source": [
    "tfidf.sort_values(by=['tfidf'], ascending=True).head(20)"
   ]
  },
  {
   "cell_type": "code",
   "execution_count": 38,
   "metadata": {},
   "outputs": [
    {
     "data": {
      "text/html": [
       "<div>\n",
       "<style scoped>\n",
       "    .dataframe tbody tr th:only-of-type {\n",
       "        vertical-align: middle;\n",
       "    }\n",
       "\n",
       "    .dataframe tbody tr th {\n",
       "        vertical-align: top;\n",
       "    }\n",
       "\n",
       "    .dataframe thead th {\n",
       "        text-align: right;\n",
       "    }\n",
       "</style>\n",
       "<table border=\"1\" class=\"dataframe\">\n",
       "  <thead>\n",
       "    <tr style=\"text-align: right;\">\n",
       "      <th></th>\n",
       "      <th>tfidf</th>\n",
       "    </tr>\n",
       "  </thead>\n",
       "  <tbody>\n",
       "    <tr>\n",
       "      <th>world elevate</th>\n",
       "      <td>10.61893</td>\n",
       "    </tr>\n",
       "    <tr>\n",
       "      <th>talent</th>\n",
       "      <td>10.61893</td>\n",
       "    </tr>\n",
       "    <tr>\n",
       "      <th>hackathons let</th>\n",
       "      <td>10.61893</td>\n",
       "    </tr>\n",
       "    <tr>\n",
       "      <th>hackathons showcase</th>\n",
       "      <td>10.61893</td>\n",
       "    </tr>\n",
       "    <tr>\n",
       "      <th>logistics optimization</th>\n",
       "      <td>10.61893</td>\n",
       "    </tr>\n",
       "    <tr>\n",
       "      <th>talented data</th>\n",
       "      <td>10.61893</td>\n",
       "    </tr>\n",
       "    <tr>\n",
       "      <th>talented</th>\n",
       "      <td>10.61893</td>\n",
       "    </tr>\n",
       "    <tr>\n",
       "      <th>talent augment</th>\n",
       "      <td>10.61893</td>\n",
       "    </tr>\n",
       "    <tr>\n",
       "      <th>organisations create</th>\n",
       "      <td>10.61893</td>\n",
       "    </tr>\n",
       "    <tr>\n",
       "      <th>apps</th>\n",
       "      <td>10.61893</td>\n",
       "    </tr>\n",
       "  </tbody>\n",
       "</table>\n",
       "</div>"
      ],
      "text/plain": [
       "                           tfidf\n",
       "world elevate           10.61893\n",
       "talent                  10.61893\n",
       "hackathons let          10.61893\n",
       "hackathons showcase     10.61893\n",
       "logistics optimization  10.61893\n",
       "talented data           10.61893\n",
       "talented                10.61893\n",
       "talent augment          10.61893\n",
       "organisations create    10.61893\n",
       "apps                    10.61893"
      ]
     },
     "execution_count": 38,
     "metadata": {},
     "output_type": "execute_result"
    }
   ],
   "source": [
    "tfidf.sort_values(by=['tfidf'], ascending=False).head(10)"
   ]
  },
  {
   "cell_type": "code",
   "execution_count": 40,
   "metadata": {},
   "outputs": [],
   "source": [
    "path = '/Users/Vishy/Files/AVDatahack/LOM/Data/' \n",
    "camp = pd.read_csv(path+'campaign_data.csv')"
   ]
  },
  {
   "cell_type": "code",
   "execution_count": 41,
   "metadata": {},
   "outputs": [],
   "source": [
    "camp = camp.head(5)"
   ]
  },
  {
   "cell_type": "code",
   "execution_count": 52,
   "metadata": {},
   "outputs": [
    {
     "data": {
      "text/html": [
       "<div>\n",
       "<style scoped>\n",
       "    .dataframe tbody tr th:only-of-type {\n",
       "        vertical-align: middle;\n",
       "    }\n",
       "\n",
       "    .dataframe tbody tr th {\n",
       "        vertical-align: top;\n",
       "    }\n",
       "\n",
       "    .dataframe thead th {\n",
       "        text-align: right;\n",
       "    }\n",
       "</style>\n",
       "<table border=\"1\" class=\"dataframe\">\n",
       "  <thead>\n",
       "    <tr style=\"text-align: right;\">\n",
       "      <th></th>\n",
       "      <th>campaign_id</th>\n",
       "      <th>communication_type</th>\n",
       "      <th>total_links</th>\n",
       "      <th>no_of_internal_links</th>\n",
       "      <th>no_of_images</th>\n",
       "      <th>no_of_sections</th>\n",
       "      <th>email_body</th>\n",
       "      <th>subject</th>\n",
       "      <th>email_url</th>\n",
       "    </tr>\n",
       "  </thead>\n",
       "  <tbody>\n",
       "    <tr>\n",
       "      <th>0</th>\n",
       "      <td>29</td>\n",
       "      <td>Newsletter</td>\n",
       "      <td>67</td>\n",
       "      <td>61</td>\n",
       "      <td>12</td>\n",
       "      <td>3</td>\n",
       "      <td>Dear AVians,\\r\\n \\r\\nWe are shaping up a super...</td>\n",
       "      <td>Sneak Peek: A look at the emerging data scienc...</td>\n",
       "      <td>http://r.newsletters.analyticsvidhya.com/7um44...</td>\n",
       "    </tr>\n",
       "    <tr>\n",
       "      <th>1</th>\n",
       "      <td>30</td>\n",
       "      <td>Upcoming Events</td>\n",
       "      <td>18</td>\n",
       "      <td>14</td>\n",
       "      <td>7</td>\n",
       "      <td>1</td>\n",
       "      <td>Dear AVians,\\r\\n \\r\\nAre your eager to know wh...</td>\n",
       "      <td>[July] Data Science Expert Meetups &amp; Competiti...</td>\n",
       "      <td>http://r.newsletters.analyticsvidhya.com/7up0e...</td>\n",
       "    </tr>\n",
       "    <tr>\n",
       "      <th>2</th>\n",
       "      <td>31</td>\n",
       "      <td>Conference</td>\n",
       "      <td>15</td>\n",
       "      <td>13</td>\n",
       "      <td>5</td>\n",
       "      <td>1</td>\n",
       "      <td>Early Bird Pricing Till August 07  Save upto ...</td>\n",
       "      <td>Last chance to convince your boss before the E...</td>\n",
       "      <td>http://r.newsletters.analyticsvidhya.com/7usym...</td>\n",
       "    </tr>\n",
       "    <tr>\n",
       "      <th>3</th>\n",
       "      <td>32</td>\n",
       "      <td>Conference</td>\n",
       "      <td>24</td>\n",
       "      <td>19</td>\n",
       "      <td>7</td>\n",
       "      <td>1</td>\n",
       "      <td>\\r\\n \\r\\nHi ?\\r\\n \\r\\nBefore I dive into why y...</td>\n",
       "      <td>A.I. &amp; Machine Learning: 5 reasons why you sho...</td>\n",
       "      <td>http://r.newsletters.analyticsvidhya.com/7uthl...</td>\n",
       "    </tr>\n",
       "    <tr>\n",
       "      <th>4</th>\n",
       "      <td>33</td>\n",
       "      <td>Others</td>\n",
       "      <td>7</td>\n",
       "      <td>3</td>\n",
       "      <td>1</td>\n",
       "      <td>1</td>\n",
       "      <td>Fireside Chat with DJ Patil - the master is he...</td>\n",
       "      <td>[Delhi NCR] Fireside Chat with DJ Patil, Forme...</td>\n",
       "      <td>http://r.newsletters.analyticsvidhya.com/7uvlg...</td>\n",
       "    </tr>\n",
       "  </tbody>\n",
       "</table>\n",
       "</div>"
      ],
      "text/plain": [
       "   campaign_id communication_type  total_links  no_of_internal_links  \\\n",
       "0           29         Newsletter           67                    61   \n",
       "1           30    Upcoming Events           18                    14   \n",
       "2           31         Conference           15                    13   \n",
       "3           32         Conference           24                    19   \n",
       "4           33             Others            7                     3   \n",
       "\n",
       "   no_of_images  no_of_sections  \\\n",
       "0            12               3   \n",
       "1             7               1   \n",
       "2             5               1   \n",
       "3             7               1   \n",
       "4             1               1   \n",
       "\n",
       "                                          email_body  \\\n",
       "0  Dear AVians,\\r\\n \\r\\nWe are shaping up a super...   \n",
       "1  Dear AVians,\\r\\n \\r\\nAre your eager to know wh...   \n",
       "2  Early Bird Pricing Till August 07  Save upto ...   \n",
       "3  \\r\\n \\r\\nHi ?\\r\\n \\r\\nBefore I dive into why y...   \n",
       "4  Fireside Chat with DJ Patil - the master is he...   \n",
       "\n",
       "                                             subject  \\\n",
       "0  Sneak Peek: A look at the emerging data scienc...   \n",
       "1  [July] Data Science Expert Meetups & Competiti...   \n",
       "2  Last chance to convince your boss before the E...   \n",
       "3  A.I. & Machine Learning: 5 reasons why you sho...   \n",
       "4  [Delhi NCR] Fireside Chat with DJ Patil, Forme...   \n",
       "\n",
       "                                           email_url  \n",
       "0  http://r.newsletters.analyticsvidhya.com/7um44...  \n",
       "1  http://r.newsletters.analyticsvidhya.com/7up0e...  \n",
       "2  http://r.newsletters.analyticsvidhya.com/7usym...  \n",
       "3  http://r.newsletters.analyticsvidhya.com/7uthl...  \n",
       "4  http://r.newsletters.analyticsvidhya.com/7uvlg...  "
      ]
     },
     "execution_count": 52,
     "metadata": {},
     "output_type": "execute_result"
    }
   ],
   "source": [
    "camp"
   ]
  },
  {
   "cell_type": "code",
   "execution_count": 70,
   "metadata": {},
   "outputs": [],
   "source": [
    "from sklearn.feature_extraction.text import TfidfVectorizer\n",
    "\n",
    "# min_df is minimum number of documents that contain a term t\n",
    "# max_features is maximum number of unique tokens (across documents) that we'd consider\n",
    "# TfidfVectorizer preprocesses the descriptions using the tokenizer we defined above\n",
    "\n",
    "vectorizer1 = TfidfVectorizer(min_df=2, max_features=10000, ngram_range=(1, 2), tokenizer=tokenizer,)\n",
    "tf = vectorizer1.fit_transform(list(camp['subject']))"
   ]
  },
  {
   "cell_type": "code",
   "execution_count": 71,
   "metadata": {},
   "outputs": [
    {
     "data": {
      "text/plain": [
       "(5, 3)"
      ]
     },
     "execution_count": 71,
     "metadata": {},
     "output_type": "execute_result"
    }
   ],
   "source": [
    "tf.shape"
   ]
  },
  {
   "cell_type": "code",
   "execution_count": 72,
   "metadata": {},
   "outputs": [],
   "source": [
    "tfidf = dict(zip(vectorizer1.get_feature_names(), vectorizer1.idf_))\n",
    "tfidf = pd.DataFrame(columns=['tfidf']).from_dict(dict(tfidf), orient='index')\n",
    "tfidf.columns = ['tfidf']"
   ]
  },
  {
   "cell_type": "code",
   "execution_count": 73,
   "metadata": {},
   "outputs": [
    {
     "data": {
      "text/html": [
       "<div>\n",
       "<style scoped>\n",
       "    .dataframe tbody tr th:only-of-type {\n",
       "        vertical-align: middle;\n",
       "    }\n",
       "\n",
       "    .dataframe tbody tr th {\n",
       "        vertical-align: top;\n",
       "    }\n",
       "\n",
       "    .dataframe thead th {\n",
       "        text-align: right;\n",
       "    }\n",
       "</style>\n",
       "<table border=\"1\" class=\"dataframe\">\n",
       "  <thead>\n",
       "    <tr style=\"text-align: right;\">\n",
       "      <th></th>\n",
       "      <th>tfidf</th>\n",
       "    </tr>\n",
       "  </thead>\n",
       "  <tbody>\n",
       "    <tr>\n",
       "      <th>data</th>\n",
       "      <td>1.405465</td>\n",
       "    </tr>\n",
       "    <tr>\n",
       "      <th>data science</th>\n",
       "      <td>1.693147</td>\n",
       "    </tr>\n",
       "    <tr>\n",
       "      <th>science</th>\n",
       "      <td>1.693147</td>\n",
       "    </tr>\n",
       "  </tbody>\n",
       "</table>\n",
       "</div>"
      ],
      "text/plain": [
       "                 tfidf\n",
       "data          1.405465\n",
       "data science  1.693147\n",
       "science       1.693147"
      ]
     },
     "execution_count": 73,
     "metadata": {},
     "output_type": "execute_result"
    }
   ],
   "source": [
    "tfidf"
   ]
  },
  {
   "cell_type": "code",
   "execution_count": 74,
   "metadata": {},
   "outputs": [],
   "source": [
    "vectorizer2 = TfidfVectorizer(min_df=2, max_features=10000, ngram_range=(1, 2), binary=True, tokenizer=tokenizer,)#\n",
    "tf1 = vectorizer2.fit_transform(list(camp['subject']))"
   ]
  },
  {
   "cell_type": "code",
   "execution_count": 75,
   "metadata": {},
   "outputs": [
    {
     "data": {
      "text/plain": [
       "(5, 3)"
      ]
     },
     "execution_count": 75,
     "metadata": {},
     "output_type": "execute_result"
    }
   ],
   "source": [
    "tf1.shape"
   ]
  },
  {
   "cell_type": "code",
   "execution_count": 76,
   "metadata": {},
   "outputs": [],
   "source": [
    "tfidf = dict(zip(vectorizer2.get_feature_names(), vectorizer2.idf_))\n",
    "tfidf = pd.DataFrame(columns=['tfidf']).from_dict(dict(tfidf), orient='index')\n",
    "tfidf.columns = ['tfidf']"
   ]
  },
  {
   "cell_type": "code",
   "execution_count": 77,
   "metadata": {},
   "outputs": [
    {
     "data": {
      "text/html": [
       "<div>\n",
       "<style scoped>\n",
       "    .dataframe tbody tr th:only-of-type {\n",
       "        vertical-align: middle;\n",
       "    }\n",
       "\n",
       "    .dataframe tbody tr th {\n",
       "        vertical-align: top;\n",
       "    }\n",
       "\n",
       "    .dataframe thead th {\n",
       "        text-align: right;\n",
       "    }\n",
       "</style>\n",
       "<table border=\"1\" class=\"dataframe\">\n",
       "  <thead>\n",
       "    <tr style=\"text-align: right;\">\n",
       "      <th></th>\n",
       "      <th>tfidf</th>\n",
       "    </tr>\n",
       "  </thead>\n",
       "  <tbody>\n",
       "    <tr>\n",
       "      <th>data</th>\n",
       "      <td>1.405465</td>\n",
       "    </tr>\n",
       "    <tr>\n",
       "      <th>data science</th>\n",
       "      <td>1.693147</td>\n",
       "    </tr>\n",
       "    <tr>\n",
       "      <th>science</th>\n",
       "      <td>1.693147</td>\n",
       "    </tr>\n",
       "  </tbody>\n",
       "</table>\n",
       "</div>"
      ],
      "text/plain": [
       "                 tfidf\n",
       "data          1.405465\n",
       "data science  1.693147\n",
       "science       1.693147"
      ]
     },
     "execution_count": 77,
     "metadata": {},
     "output_type": "execute_result"
    }
   ],
   "source": [
    "tfidf"
   ]
  },
  {
   "cell_type": "code",
   "execution_count": 78,
   "metadata": {},
   "outputs": [],
   "source": [
    "vectorizer3 = TfidfVectorizer(min_df=2, max_features=10000, ngram_range=(1, 2), binary=True, tokenizer=tokenizer,use_idf=False)#\n",
    "tf2 = vectorizer3.fit_transform(list(camp['subject']))"
   ]
  },
  {
   "cell_type": "code",
   "execution_count": 79,
   "metadata": {},
   "outputs": [
    {
     "data": {
      "text/plain": [
       "(5, 3)"
      ]
     },
     "execution_count": 79,
     "metadata": {},
     "output_type": "execute_result"
    }
   ],
   "source": [
    "tf2.shape"
   ]
  },
  {
   "cell_type": "code",
   "execution_count": 80,
   "metadata": {},
   "outputs": [
    {
     "ename": "AttributeError",
     "evalue": "'TfidfTransformer' object has no attribute '_idf_diag'",
     "output_type": "error",
     "traceback": [
      "\u001b[0;31m---------------------------------------------------------------------------\u001b[0m",
      "\u001b[0;31mAttributeError\u001b[0m                            Traceback (most recent call last)",
      "\u001b[0;32m<ipython-input-80-0fe7f780664b>\u001b[0m in \u001b[0;36m<module>\u001b[0;34m()\u001b[0m\n\u001b[0;32m----> 1\u001b[0;31m \u001b[0mtfidf\u001b[0m \u001b[0;34m=\u001b[0m \u001b[0mdict\u001b[0m\u001b[0;34m(\u001b[0m\u001b[0mzip\u001b[0m\u001b[0;34m(\u001b[0m\u001b[0mvectorizer3\u001b[0m\u001b[0;34m.\u001b[0m\u001b[0mget_feature_names\u001b[0m\u001b[0;34m(\u001b[0m\u001b[0;34m)\u001b[0m\u001b[0;34m,\u001b[0m \u001b[0mvectorizer3\u001b[0m\u001b[0;34m.\u001b[0m\u001b[0midf_\u001b[0m\u001b[0;34m)\u001b[0m\u001b[0;34m)\u001b[0m\u001b[0;34m\u001b[0m\u001b[0m\n\u001b[0m\u001b[1;32m      2\u001b[0m \u001b[0mtfidf\u001b[0m \u001b[0;34m=\u001b[0m \u001b[0mpd\u001b[0m\u001b[0;34m.\u001b[0m\u001b[0mDataFrame\u001b[0m\u001b[0;34m(\u001b[0m\u001b[0mcolumns\u001b[0m\u001b[0;34m=\u001b[0m\u001b[0;34m[\u001b[0m\u001b[0;34m'tfidf'\u001b[0m\u001b[0;34m]\u001b[0m\u001b[0;34m)\u001b[0m\u001b[0;34m.\u001b[0m\u001b[0mfrom_dict\u001b[0m\u001b[0;34m(\u001b[0m\u001b[0mdict\u001b[0m\u001b[0;34m(\u001b[0m\u001b[0mtfidf\u001b[0m\u001b[0;34m)\u001b[0m\u001b[0;34m,\u001b[0m \u001b[0morient\u001b[0m\u001b[0;34m=\u001b[0m\u001b[0;34m'index'\u001b[0m\u001b[0;34m)\u001b[0m\u001b[0;34m\u001b[0m\u001b[0m\n\u001b[1;32m      3\u001b[0m \u001b[0mtfidf\u001b[0m\u001b[0;34m.\u001b[0m\u001b[0mcolumns\u001b[0m \u001b[0;34m=\u001b[0m \u001b[0;34m[\u001b[0m\u001b[0;34m'tfidf'\u001b[0m\u001b[0;34m]\u001b[0m\u001b[0;34m\u001b[0m\u001b[0m\n",
      "\u001b[0;32m/anaconda3/lib/python3.6/site-packages/sklearn/feature_extraction/text.py\u001b[0m in \u001b[0;36midf_\u001b[0;34m(self)\u001b[0m\n\u001b[1;32m   1345\u001b[0m     \u001b[0;34m@\u001b[0m\u001b[0mproperty\u001b[0m\u001b[0;34m\u001b[0m\u001b[0m\n\u001b[1;32m   1346\u001b[0m     \u001b[0;32mdef\u001b[0m \u001b[0midf_\u001b[0m\u001b[0;34m(\u001b[0m\u001b[0mself\u001b[0m\u001b[0;34m)\u001b[0m\u001b[0;34m:\u001b[0m\u001b[0;34m\u001b[0m\u001b[0m\n\u001b[0;32m-> 1347\u001b[0;31m         \u001b[0;32mreturn\u001b[0m \u001b[0mself\u001b[0m\u001b[0;34m.\u001b[0m\u001b[0m_tfidf\u001b[0m\u001b[0;34m.\u001b[0m\u001b[0midf_\u001b[0m\u001b[0;34m\u001b[0m\u001b[0m\n\u001b[0m\u001b[1;32m   1348\u001b[0m \u001b[0;34m\u001b[0m\u001b[0m\n\u001b[1;32m   1349\u001b[0m     \u001b[0;32mdef\u001b[0m \u001b[0mfit\u001b[0m\u001b[0;34m(\u001b[0m\u001b[0mself\u001b[0m\u001b[0;34m,\u001b[0m \u001b[0mraw_documents\u001b[0m\u001b[0;34m,\u001b[0m \u001b[0my\u001b[0m\u001b[0;34m=\u001b[0m\u001b[0;32mNone\u001b[0m\u001b[0;34m)\u001b[0m\u001b[0;34m:\u001b[0m\u001b[0;34m\u001b[0m\u001b[0m\n",
      "\u001b[0;32m/anaconda3/lib/python3.6/site-packages/sklearn/feature_extraction/text.py\u001b[0m in \u001b[0;36midf_\u001b[0;34m(self)\u001b[0m\n\u001b[1;32m   1120\u001b[0m         \u001b[0;31m# if _idf_diag is not set, this will raise an attribute error,\u001b[0m\u001b[0;34m\u001b[0m\u001b[0;34m\u001b[0m\u001b[0m\n\u001b[1;32m   1121\u001b[0m         \u001b[0;31m# which means hasattr(self, \"idf_\") is False\u001b[0m\u001b[0;34m\u001b[0m\u001b[0;34m\u001b[0m\u001b[0m\n\u001b[0;32m-> 1122\u001b[0;31m         \u001b[0;32mreturn\u001b[0m \u001b[0mnp\u001b[0m\u001b[0;34m.\u001b[0m\u001b[0mravel\u001b[0m\u001b[0;34m(\u001b[0m\u001b[0mself\u001b[0m\u001b[0;34m.\u001b[0m\u001b[0m_idf_diag\u001b[0m\u001b[0;34m.\u001b[0m\u001b[0msum\u001b[0m\u001b[0;34m(\u001b[0m\u001b[0maxis\u001b[0m\u001b[0;34m=\u001b[0m\u001b[0;36m0\u001b[0m\u001b[0;34m)\u001b[0m\u001b[0;34m)\u001b[0m\u001b[0;34m\u001b[0m\u001b[0m\n\u001b[0m\u001b[1;32m   1123\u001b[0m \u001b[0;34m\u001b[0m\u001b[0m\n\u001b[1;32m   1124\u001b[0m \u001b[0;34m\u001b[0m\u001b[0m\n",
      "\u001b[0;31mAttributeError\u001b[0m: 'TfidfTransformer' object has no attribute '_idf_diag'"
     ]
    }
   ],
   "source": [
    "tfidf = dict(zip(vectorizer3.get_feature_names(), vectorizer3.idf_))\n",
    "tfidf = pd.DataFrame(columns=['tfidf']).from_dict(dict(tfidf), orient='index')\n",
    "tfidf.columns = ['tfidf']"
   ]
  },
  {
   "cell_type": "code",
   "execution_count": 83,
   "metadata": {},
   "outputs": [],
   "source": [
    "from sklearn.feature_extraction.text import CountVectorizer\n",
    "vectorizer4 = CountVectorizer(min_df=2, max_features=10000, ngram_range=(1, 2))\n",
    "tf4 = vectorizer4.fit_transform(list(camp['subject']))"
   ]
  },
  {
   "cell_type": "code",
   "execution_count": 85,
   "metadata": {},
   "outputs": [
    {
     "data": {
      "text/plain": [
       "(5, 5)"
      ]
     },
     "execution_count": 85,
     "metadata": {},
     "output_type": "execute_result"
    }
   ],
   "source": [
    "tf4.shape"
   ]
  },
  {
   "cell_type": "code",
   "execution_count": 88,
   "metadata": {},
   "outputs": [
    {
     "data": {
      "text/plain": [
       "['data', 'data science', 'science', 'the', 'your']"
      ]
     },
     "execution_count": 88,
     "metadata": {},
     "output_type": "execute_result"
    }
   ],
   "source": [
    "vectorizer4.get_feature_names()"
   ]
  },
  {
   "cell_type": "code",
   "execution_count": null,
   "metadata": {},
   "outputs": [],
   "source": []
  }
 ],
 "metadata": {
  "kernelspec": {
   "display_name": "Python 3",
   "language": "python",
   "name": "python3"
  },
  "language_info": {
   "codemirror_mode": {
    "name": "ipython",
    "version": 3
   },
   "file_extension": ".py",
   "mimetype": "text/x-python",
   "name": "python",
   "nbconvert_exporter": "python",
   "pygments_lexer": "ipython3",
   "version": "3.6.3"
  }
 },
 "nbformat": 4,
 "nbformat_minor": 2
}
