{
 "cells": [
  {
   "cell_type": "code",
   "execution_count": 1,
   "metadata": {
    "collapsed": true
   },
   "outputs": [],
   "source": [
    "import pandas as pd\n",
    "import numpy as np\n",
    "import matplotlib.pyplot as plt\n",
    "pd.set_option('display.max_columns', 99)\n",
    "pd.set_option('display.max_rows', 999)"
   ]
  },
  {
   "cell_type": "code",
   "execution_count": 2,
   "metadata": {},
   "outputs": [
    {
     "name": "stderr",
     "output_type": "stream",
     "text": [
      "/Users/viswanathravindran/anaconda/lib/python3.6/site-packages/IPython/core/interactiveshell.py:2698: DtypeWarning: Columns (13) have mixed types. Specify dtype option on import or set low_memory=False.\n",
      "  interactivity=interactivity, compiler=compiler, result=result)\n"
     ]
    }
   ],
   "source": [
    "# Importing the part df on local and full data on cloud\n",
    "filename = '/Users/viswanathravindran/AVDatahack/ADClick/RawData/train.csv'\n",
    "Traindf = pd.read_csv(filename)\n",
    "#filename1 = '/Users/viswanathravindran/AVDatahack/ADClick/RawData/test.csv'\n",
    "#Testdf = pd.read_csv(filename1, nrows = 2000000)\n",
    "#Traindf = pd.read_csv('/advdata/train.csv')\n",
    "#Testdf = pd.read_csv('/advdata/test.csv')"
   ]
  },
  {
   "cell_type": "code",
   "execution_count": 3,
   "metadata": {},
   "outputs": [
    {
     "data": {
      "text/html": [
       "<div>\n",
       "<style>\n",
       "    .dataframe thead tr:only-child th {\n",
       "        text-align: right;\n",
       "    }\n",
       "\n",
       "    .dataframe thead th {\n",
       "        text-align: left;\n",
       "    }\n",
       "\n",
       "    .dataframe tbody tr th {\n",
       "        vertical-align: top;\n",
       "    }\n",
       "</style>\n",
       "<table border=\"1\" class=\"dataframe\">\n",
       "  <thead>\n",
       "    <tr style=\"text-align: right;\">\n",
       "      <th></th>\n",
       "      <th>ID</th>\n",
       "      <th>Country</th>\n",
       "      <th>Carrier</th>\n",
       "      <th>TrafficType</th>\n",
       "      <th>ClickDate</th>\n",
       "      <th>Device</th>\n",
       "      <th>Browser</th>\n",
       "      <th>OS</th>\n",
       "      <th>RefererUrl</th>\n",
       "      <th>UserIp</th>\n",
       "      <th>ConversionStatus</th>\n",
       "      <th>ConversionDate</th>\n",
       "      <th>ConversionPayOut</th>\n",
       "      <th>publisherId</th>\n",
       "      <th>subPublisherId</th>\n",
       "      <th>advertiserCampaignId</th>\n",
       "      <th>Fraud</th>\n",
       "    </tr>\n",
       "  </thead>\n",
       "  <tbody>\n",
       "    <tr>\n",
       "      <th>0</th>\n",
       "      <td>0</td>\n",
       "      <td>IN</td>\n",
       "      <td>2.0</td>\n",
       "      <td>M</td>\n",
       "      <td>2017-08-21 00:00:01</td>\n",
       "      <td>Google</td>\n",
       "      <td>chrome</td>\n",
       "      <td>Android</td>\n",
       "      <td>NaN</td>\n",
       "      <td>42.111.171.131</td>\n",
       "      <td>False</td>\n",
       "      <td>NaN</td>\n",
       "      <td>0.0</td>\n",
       "      <td>69</td>\n",
       "      <td>NaN</td>\n",
       "      <td>6555.0</td>\n",
       "      <td>0.0</td>\n",
       "    </tr>\n",
       "    <tr>\n",
       "      <th>1</th>\n",
       "      <td>1</td>\n",
       "      <td>TH</td>\n",
       "      <td>27.0</td>\n",
       "      <td>A</td>\n",
       "      <td>2017-08-21 00:00:01</td>\n",
       "      <td>Generic</td>\n",
       "      <td>46.0.2490.76</td>\n",
       "      <td>Android</td>\n",
       "      <td>NaN</td>\n",
       "      <td>1.46.235.65</td>\n",
       "      <td>False</td>\n",
       "      <td>NaN</td>\n",
       "      <td>0.0</td>\n",
       "      <td>646</td>\n",
       "      <td>NaN</td>\n",
       "      <td>7510.0</td>\n",
       "      <td>0.0</td>\n",
       "    </tr>\n",
       "    <tr>\n",
       "      <th>2</th>\n",
       "      <td>2</td>\n",
       "      <td>IN</td>\n",
       "      <td>4.0</td>\n",
       "      <td>M</td>\n",
       "      <td>2017-08-21 00:00:01</td>\n",
       "      <td>Samsung</td>\n",
       "      <td>chromium</td>\n",
       "      <td>Android</td>\n",
       "      <td>NaN</td>\n",
       "      <td>49.15.91.224</td>\n",
       "      <td>False</td>\n",
       "      <td>NaN</td>\n",
       "      <td>0.0</td>\n",
       "      <td>301</td>\n",
       "      <td>NaN</td>\n",
       "      <td>12696.0</td>\n",
       "      <td>0.0</td>\n",
       "    </tr>\n",
       "    <tr>\n",
       "      <th>3</th>\n",
       "      <td>3</td>\n",
       "      <td>PH</td>\n",
       "      <td>-1.0</td>\n",
       "      <td>A</td>\n",
       "      <td>2017-08-21 00:00:01</td>\n",
       "      <td>Generic</td>\n",
       "      <td>android_webkit</td>\n",
       "      <td>Android</td>\n",
       "      <td>NaN</td>\n",
       "      <td>115.42.126.86</td>\n",
       "      <td>False</td>\n",
       "      <td>NaN</td>\n",
       "      <td>0.0</td>\n",
       "      <td>242</td>\n",
       "      <td>NaN</td>\n",
       "      <td>735.0</td>\n",
       "      <td>0.0</td>\n",
       "    </tr>\n",
       "    <tr>\n",
       "      <th>4</th>\n",
       "      <td>4</td>\n",
       "      <td>MX</td>\n",
       "      <td>-1.0</td>\n",
       "      <td>NaN</td>\n",
       "      <td>2017-08-21 00:00:01</td>\n",
       "      <td>Generic</td>\n",
       "      <td>chrome</td>\n",
       "      <td>Android</td>\n",
       "      <td>NaN</td>\n",
       "      <td>187.161.11.97</td>\n",
       "      <td>False</td>\n",
       "      <td>NaN</td>\n",
       "      <td>0.0</td>\n",
       "      <td>1306</td>\n",
       "      <td>NaN</td>\n",
       "      <td>7802.0</td>\n",
       "      <td>0.0</td>\n",
       "    </tr>\n",
       "  </tbody>\n",
       "</table>\n",
       "</div>"
      ],
      "text/plain": [
       "   ID Country  Carrier TrafficType            ClickDate   Device  \\\n",
       "0   0      IN      2.0           M  2017-08-21 00:00:01   Google   \n",
       "1   1      TH     27.0           A  2017-08-21 00:00:01  Generic   \n",
       "2   2      IN      4.0           M  2017-08-21 00:00:01  Samsung   \n",
       "3   3      PH     -1.0           A  2017-08-21 00:00:01  Generic   \n",
       "4   4      MX     -1.0         NaN  2017-08-21 00:00:01  Generic   \n",
       "\n",
       "          Browser       OS RefererUrl          UserIp  ConversionStatus  \\\n",
       "0          chrome  Android        NaN  42.111.171.131             False   \n",
       "1    46.0.2490.76  Android        NaN     1.46.235.65             False   \n",
       "2        chromium  Android        NaN    49.15.91.224             False   \n",
       "3  android_webkit  Android        NaN   115.42.126.86             False   \n",
       "4          chrome  Android        NaN   187.161.11.97             False   \n",
       "\n",
       "  ConversionDate  ConversionPayOut publisherId subPublisherId  \\\n",
       "0            NaN               0.0          69            NaN   \n",
       "1            NaN               0.0         646            NaN   \n",
       "2            NaN               0.0         301            NaN   \n",
       "3            NaN               0.0         242            NaN   \n",
       "4            NaN               0.0        1306            NaN   \n",
       "\n",
       "   advertiserCampaignId  Fraud  \n",
       "0                6555.0    0.0  \n",
       "1                7510.0    0.0  \n",
       "2               12696.0    0.0  \n",
       "3                 735.0    0.0  \n",
       "4                7802.0    0.0  "
      ]
     },
     "execution_count": 3,
     "metadata": {},
     "output_type": "execute_result"
    }
   ],
   "source": [
    "Traindf.head()"
   ]
  },
  {
   "cell_type": "code",
   "execution_count": 4,
   "metadata": {},
   "outputs": [
    {
     "name": "stdout",
     "output_type": "stream",
     "text": [
      "The shape of the Full training Data is:  (63367217, 17)\n",
      "The shape of the Full Test Data is:  (25548873, 14)\n",
      "The shape of the dataframe with only converted members is:  (34524, 17)\n",
      "The Percentage of conversion is:  0.054482430560269045\n"
     ]
    }
   ],
   "source": [
    "print ('The shape of the Full training Data is: ', Traindf.shape)\n",
    "print ('The shape of the Full Test Data is: ', Testdf.shape)\n",
    "RegTraindf = Traindf[Traindf.ConversionStatus==True]\n",
    "print ('The shape of the dataframe with only converted members is: ', RegTraindf.shape)\n",
    "print ('The Percentage of conversion is: ', ((RegTraindf.shape[0] / Traindf.shape[0])*100))"
   ]
  },
  {
   "cell_type": "code",
   "execution_count": 7,
   "metadata": {},
   "outputs": [
    {
     "data": {
      "text/plain": [
       "(34524, 17)"
      ]
     },
     "execution_count": 7,
     "metadata": {},
     "output_type": "execute_result"
    }
   ],
   "source": [
    "RegTraindf.shape"
   ]
  },
  {
   "cell_type": "code",
   "execution_count": 4,
   "metadata": {
    "collapsed": true
   },
   "outputs": [],
   "source": [
    "RegTraindf.to_csv('RegTraindf.csv')"
   ]
  },
  {
   "cell_type": "code",
   "execution_count": 8,
   "metadata": {
    "collapsed": true
   },
   "outputs": [],
   "source": [
    "del RegTraindf"
   ]
  },
  {
   "cell_type": "code",
   "execution_count": 6,
   "metadata": {},
   "outputs": [
    {
     "name": "stdout",
     "output_type": "stream",
     "text": [
      "Fraud Count in Train 0.0    63366821\n",
      "1.0         396\n",
      "Name: Fraud, dtype: int64\n",
      "Fraud Count in Test 0.0    25444662\n",
      "1.0      104211\n",
      "Name: Fraud, dtype: int64\n"
     ]
    }
   ],
   "source": [
    "# this indicates in the complete sample that we have taken there are Fraud variable set to 1.0\n",
    "print ('Fraud Count in Train',Traindf.Fraud.value_counts())\n",
    "print ('Fraud Count in Test',Testdf.Fraud.value_counts())"
   ]
  },
  {
   "cell_type": "code",
   "execution_count": 4,
   "metadata": {
    "collapsed": true
   },
   "outputs": [],
   "source": [
    "# Convert the Fraud and Conversion Status to integer \n",
    "Traindf['Fraud'] = Traindf['Fraud'].astype(np.int)\n",
    "Testdf['Fraud'] = Testdf['Fraud'].astype(np.int)\n",
    "Traindf['ConversionStatus'] = Traindf['ConversionStatus'].astype(np.int)"
   ]
  },
  {
   "cell_type": "code",
   "execution_count": 8,
   "metadata": {},
   "outputs": [
    {
     "data": {
      "text/html": [
       "<div>\n",
       "<style>\n",
       "    .dataframe thead tr:only-child th {\n",
       "        text-align: right;\n",
       "    }\n",
       "\n",
       "    .dataframe thead th {\n",
       "        text-align: left;\n",
       "    }\n",
       "\n",
       "    .dataframe tbody tr th {\n",
       "        vertical-align: top;\n",
       "    }\n",
       "</style>\n",
       "<table border=\"1\" class=\"dataframe\">\n",
       "  <thead>\n",
       "    <tr style=\"text-align: right;\">\n",
       "      <th></th>\n",
       "      <th>Missing Ratio</th>\n",
       "      <th>Missing Total</th>\n",
       "    </tr>\n",
       "  </thead>\n",
       "  <tbody>\n",
       "    <tr>\n",
       "      <th>ConversionDate</th>\n",
       "      <td>99.945518</td>\n",
       "      <td>63332693</td>\n",
       "    </tr>\n",
       "    <tr>\n",
       "      <th>subPublisherId</th>\n",
       "      <td>98.348556</td>\n",
       "      <td>62320743</td>\n",
       "    </tr>\n",
       "    <tr>\n",
       "      <th>RefererUrl</th>\n",
       "      <td>74.716878</td>\n",
       "      <td>47346006</td>\n",
       "    </tr>\n",
       "    <tr>\n",
       "      <th>TrafficType</th>\n",
       "      <td>14.978493</td>\n",
       "      <td>9491454</td>\n",
       "    </tr>\n",
       "    <tr>\n",
       "      <th>OS</th>\n",
       "      <td>0.487481</td>\n",
       "      <td>308903</td>\n",
       "    </tr>\n",
       "    <tr>\n",
       "      <th>Browser</th>\n",
       "      <td>0.430606</td>\n",
       "      <td>272863</td>\n",
       "    </tr>\n",
       "    <tr>\n",
       "      <th>Device</th>\n",
       "      <td>0.209716</td>\n",
       "      <td>132891</td>\n",
       "    </tr>\n",
       "    <tr>\n",
       "      <th>Country</th>\n",
       "      <td>0.064795</td>\n",
       "      <td>41059</td>\n",
       "    </tr>\n",
       "    <tr>\n",
       "      <th>advertiserCampaignId</th>\n",
       "      <td>0.000726</td>\n",
       "      <td>460</td>\n",
       "    </tr>\n",
       "    <tr>\n",
       "      <th>publisherId</th>\n",
       "      <td>0.000314</td>\n",
       "      <td>199</td>\n",
       "    </tr>\n",
       "  </tbody>\n",
       "</table>\n",
       "</div>"
      ],
      "text/plain": [
       "                      Missing Ratio  Missing Total\n",
       "ConversionDate            99.945518       63332693\n",
       "subPublisherId            98.348556       62320743\n",
       "RefererUrl                74.716878       47346006\n",
       "TrafficType               14.978493        9491454\n",
       "OS                         0.487481         308903\n",
       "Browser                    0.430606         272863\n",
       "Device                     0.209716         132891\n",
       "Country                    0.064795          41059\n",
       "advertiserCampaignId       0.000726            460\n",
       "publisherId                0.000314            199"
      ]
     },
     "execution_count": 8,
     "metadata": {},
     "output_type": "execute_result"
    }
   ],
   "source": [
    "# Checking for the ratio of missing value\n",
    "Total = Traindf.isnull().sum().sort_values(ascending=False)[:30]\n",
    "percent = ((Traindf.isnull().sum()/Traindf.isnull().count())*100).sort_values(ascending=False)[:30]\n",
    "missing_data = pd.DataFrame({'Missing Ratio' :percent, 'Missing Total':Total})\n",
    "missing_data.head(10)"
   ]
  },
  {
   "cell_type": "code",
   "execution_count": 9,
   "metadata": {},
   "outputs": [
    {
     "data": {
      "text/html": [
       "<div>\n",
       "<style>\n",
       "    .dataframe thead tr:only-child th {\n",
       "        text-align: right;\n",
       "    }\n",
       "\n",
       "    .dataframe thead th {\n",
       "        text-align: left;\n",
       "    }\n",
       "\n",
       "    .dataframe tbody tr th {\n",
       "        vertical-align: top;\n",
       "    }\n",
       "</style>\n",
       "<table border=\"1\" class=\"dataframe\">\n",
       "  <thead>\n",
       "    <tr style=\"text-align: right;\">\n",
       "      <th></th>\n",
       "      <th>Missing Ratio</th>\n",
       "      <th>Missing Total</th>\n",
       "    </tr>\n",
       "  </thead>\n",
       "  <tbody>\n",
       "    <tr>\n",
       "      <th>subPublisherId</th>\n",
       "      <td>97.288667</td>\n",
       "      <td>24856158</td>\n",
       "    </tr>\n",
       "    <tr>\n",
       "      <th>RefererUrl</th>\n",
       "      <td>63.835008</td>\n",
       "      <td>16309125</td>\n",
       "    </tr>\n",
       "    <tr>\n",
       "      <th>TrafficType</th>\n",
       "      <td>20.355023</td>\n",
       "      <td>5200479</td>\n",
       "    </tr>\n",
       "    <tr>\n",
       "      <th>OS</th>\n",
       "      <td>0.521236</td>\n",
       "      <td>133170</td>\n",
       "    </tr>\n",
       "    <tr>\n",
       "      <th>Browser</th>\n",
       "      <td>0.372200</td>\n",
       "      <td>95093</td>\n",
       "    </tr>\n",
       "    <tr>\n",
       "      <th>Device</th>\n",
       "      <td>0.214311</td>\n",
       "      <td>54754</td>\n",
       "    </tr>\n",
       "    <tr>\n",
       "      <th>Country</th>\n",
       "      <td>0.035375</td>\n",
       "      <td>9038</td>\n",
       "    </tr>\n",
       "    <tr>\n",
       "      <th>advertiserCampaignId</th>\n",
       "      <td>0.001558</td>\n",
       "      <td>398</td>\n",
       "    </tr>\n",
       "    <tr>\n",
       "      <th>publisherId</th>\n",
       "      <td>0.000595</td>\n",
       "      <td>152</td>\n",
       "    </tr>\n",
       "    <tr>\n",
       "      <th>Fraud</th>\n",
       "      <td>0.000000</td>\n",
       "      <td>0</td>\n",
       "    </tr>\n",
       "  </tbody>\n",
       "</table>\n",
       "</div>"
      ],
      "text/plain": [
       "                      Missing Ratio  Missing Total\n",
       "subPublisherId            97.288667       24856158\n",
       "RefererUrl                63.835008       16309125\n",
       "TrafficType               20.355023        5200479\n",
       "OS                         0.521236         133170\n",
       "Browser                    0.372200          95093\n",
       "Device                     0.214311          54754\n",
       "Country                    0.035375           9038\n",
       "advertiserCampaignId       0.001558            398\n",
       "publisherId                0.000595            152\n",
       "Fraud                      0.000000              0"
      ]
     },
     "execution_count": 9,
     "metadata": {},
     "output_type": "execute_result"
    }
   ],
   "source": [
    "# Checking for the ratio of missing value\n",
    "Total = Testdf.isnull().sum().sort_values(ascending=False)[:30]\n",
    "percent = ((Testdf.isnull().sum()/Testdf.isnull().count())*100).sort_values(ascending=False)[:30]\n",
    "missing_data = pd.DataFrame({'Missing Ratio' :percent, 'Missing Total':Total})\n",
    "missing_data.head(10)"
   ]
  },
  {
   "cell_type": "code",
   "execution_count": 10,
   "metadata": {
    "collapsed": true
   },
   "outputs": [],
   "source": [
    "del Total, percent, missing_data"
   ]
  },
  {
   "cell_type": "code",
   "execution_count": 11,
   "metadata": {},
   "outputs": [
    {
     "name": "stdout",
     "output_type": "stream",
     "text": [
      "A    0.680448\n",
      "M    0.319552\n",
      "Name: TrafficType, dtype: float64\n",
      "------------------------------------------------------\n",
      "android_webkit    0.468677\n",
      "chrome            0.411411\n",
      "46.0.2490.76      0.066501\n",
      "uc                0.025921\n",
      "iphone            0.011110\n",
      "Name: Browser, dtype: float64\n",
      "------------------------------------------------------\n",
      "Android             0.983829\n",
      "iOS                 0.011286\n",
      "Desktop             0.003755\n",
      "Windows Phone OS    0.000779\n",
      "Tizen               0.000174\n",
      "Name: OS, dtype: float64\n",
      "------------------------------------------------------\n",
      "Generic     0.486809\n",
      "Samsung     0.154218\n",
      "Lenovo      0.036442\n",
      "Micromax    0.036188\n",
      "Alcatel     0.027993\n",
      "Name: Device, dtype: float64\n",
      "------------------------------------------------------\n",
      "IN    0.311474\n",
      "TH    0.099770\n",
      "BD    0.095609\n",
      "ID    0.084199\n",
      "RU    0.036145\n",
      "Name: Country, dtype: float64\n",
      "------------------------------------------------------\n",
      "112.215.36.142    0.000405\n",
      "112.215.36.144    0.000402\n",
      "112.215.36.145    0.000400\n",
      "112.215.36.143    0.000396\n",
      "203.82.85.33      0.000258\n",
      "Name: UserIp, dtype: float64\n"
     ]
    }
   ],
   "source": [
    "print (Traindf.TrafficType.value_counts(normalize=True).head())\n",
    "print ('------------------------------------------------------')\n",
    "print (Traindf.Browser.value_counts(normalize=True).head())\n",
    "print ('------------------------------------------------------')\n",
    "print (Traindf.OS.value_counts(normalize=True).head())\n",
    "print ('------------------------------------------------------')\n",
    "print (Traindf.Device.value_counts(normalize=True).head())\n",
    "print ('------------------------------------------------------')\n",
    "print (Traindf.Country.value_counts(normalize=True).head())\n",
    "print ('------------------------------------------------------')\n",
    "print (Traindf.UserIp.value_counts(normalize=True).head())"
   ]
  },
  {
   "cell_type": "code",
   "execution_count": 12,
   "metadata": {},
   "outputs": [
    {
     "name": "stdout",
     "output_type": "stream",
     "text": [
      "A    0.677213\n",
      "M    0.322787\n",
      "Name: TrafficType, dtype: float64\n",
      "------------------------------------------------------\n",
      "android_webkit    0.459745\n",
      "chrome            0.414337\n",
      "46.0.2490.76      0.063891\n",
      "uc                0.034135\n",
      "iphone            0.012135\n",
      "Name: Browser, dtype: float64\n",
      "------------------------------------------------------\n",
      "Android             0.983301\n",
      "iOS                 0.012304\n",
      "Desktop             0.003265\n",
      "Windows Phone OS    0.000759\n",
      "Tizen               0.000181\n",
      "Name: OS, dtype: float64\n",
      "------------------------------------------------------\n",
      "Generic     0.485834\n",
      "Samsung     0.149987\n",
      "Alcatel     0.067560\n",
      "Micromax    0.034369\n",
      "Lenovo      0.027156\n",
      "Name: Device, dtype: float64\n",
      "------------------------------------------------------\n",
      "IN    0.288274\n",
      "ID    0.125484\n",
      "BD    0.083680\n",
      "RU    0.041530\n",
      "TH    0.041285\n",
      "Name: Country, dtype: float64\n",
      "------------------------------------------------------\n",
      "112.215.36.142    0.000405\n",
      "112.215.36.144    0.000402\n",
      "112.215.36.145    0.000400\n",
      "112.215.36.143    0.000396\n",
      "203.82.85.33      0.000258\n",
      "Name: UserIp, dtype: float64\n"
     ]
    }
   ],
   "source": [
    "print (Testdf.TrafficType.value_counts(normalize=True).head())\n",
    "print ('------------------------------------------------------')\n",
    "print (Testdf.Browser.value_counts(normalize=True).head())\n",
    "print ('------------------------------------------------------')\n",
    "print (Testdf.OS.value_counts(normalize=True).head())\n",
    "print ('------------------------------------------------------')\n",
    "print (Testdf.Device.value_counts(normalize=True).head())\n",
    "print ('------------------------------------------------------')\n",
    "print (Testdf.Country.value_counts(normalize=True).head())\n",
    "print ('------------------------------------------------------')\n",
    "print (Traindf.UserIp.value_counts(normalize=True).head())"
   ]
  },
  {
   "cell_type": "code",
   "execution_count": 5,
   "metadata": {
    "collapsed": true
   },
   "outputs": [],
   "source": [
    "Traindf['TrafficType'] = Traindf['TrafficType'].fillna(pd.Series(np.random.choice(['A','M'], p=[0.60,0.40], size=len(Traindf))))\n",
    "Traindf['Browser'] = Traindf['Browser'].fillna(pd.Series(np.random.choice(['android_webkit','chrome'], p=[0.60,0.40], size=len(Traindf))))\n",
    "Traindf['Device'] = Traindf['Device'].fillna(pd.Series(np.random.choice(['Generic','Samsung','Alcatel','Micromax','Lenovo'], p=[0.50,0.20,0.10,0.10,0.10], size=len(Traindf))))\n",
    "Traindf['Country'] = Traindf['Country'].fillna(pd.Series(np.random.choice(['IN','BD','RU','ID','NG'], p=[0.50,0.15,0.13,0.12,0.10], size=len(Traindf))))"
   ]
  },
  {
   "cell_type": "code",
   "execution_count": 6,
   "metadata": {
    "collapsed": true
   },
   "outputs": [],
   "source": [
    "Testdf['TrafficType'] = Testdf['TrafficType'].fillna(pd.Series(np.random.choice(['A','M'], p=[0.60,0.40], size=len(Traindf))))\n",
    "Testdf['Browser'] = Testdf['Browser'].fillna(pd.Series(np.random.choice(['android_webkit','chrome'], p=[0.60,0.40], size=len(Traindf))))\n",
    "Testdf['Device'] = Testdf['Device'].fillna(pd.Series(np.random.choice(['Generic','Samsung','Alcatel','Micromax','Lenovo'], p=[0.50,0.20,0.10,0.10,0.10], size=len(Traindf))))\n",
    "Testdf['Country'] = Testdf['Country'].fillna(pd.Series(np.random.choice(['IN','BD','RU','ID','NG'], p=[0.50,0.15,0.13,0.12,0.10], size=len(Traindf))))"
   ]
  },
  {
   "cell_type": "code",
   "execution_count": 7,
   "metadata": {
    "collapsed": true
   },
   "outputs": [],
   "source": [
    "Traindf['advertiserCampaignId'] = Traindf.advertiserCampaignId.fillna(7510).astype(np.int)\n",
    "Testdf['advertiserCampaignId'] = Testdf.advertiserCampaignId.fillna(7510).astype(np.int)"
   ]
  },
  {
   "cell_type": "code",
   "execution_count": 8,
   "metadata": {},
   "outputs": [
    {
     "data": {
      "text/html": [
       "<div>\n",
       "<style>\n",
       "    .dataframe thead tr:only-child th {\n",
       "        text-align: right;\n",
       "    }\n",
       "\n",
       "    .dataframe thead th {\n",
       "        text-align: left;\n",
       "    }\n",
       "\n",
       "    .dataframe tbody tr th {\n",
       "        vertical-align: top;\n",
       "    }\n",
       "</style>\n",
       "<table border=\"1\" class=\"dataframe\">\n",
       "  <thead>\n",
       "    <tr style=\"text-align: right;\">\n",
       "      <th></th>\n",
       "      <th>Missing Ratio</th>\n",
       "      <th>Missing Total</th>\n",
       "    </tr>\n",
       "  </thead>\n",
       "  <tbody>\n",
       "    <tr>\n",
       "      <th>ConversionDate</th>\n",
       "      <td>99.945518</td>\n",
       "      <td>63332693</td>\n",
       "    </tr>\n",
       "    <tr>\n",
       "      <th>subPublisherId</th>\n",
       "      <td>98.348556</td>\n",
       "      <td>62320743</td>\n",
       "    </tr>\n",
       "    <tr>\n",
       "      <th>RefererUrl</th>\n",
       "      <td>74.716878</td>\n",
       "      <td>47346006</td>\n",
       "    </tr>\n",
       "    <tr>\n",
       "      <th>OS</th>\n",
       "      <td>0.487481</td>\n",
       "      <td>308903</td>\n",
       "    </tr>\n",
       "    <tr>\n",
       "      <th>publisherId</th>\n",
       "      <td>0.000314</td>\n",
       "      <td>199</td>\n",
       "    </tr>\n",
       "    <tr>\n",
       "      <th>ConversionPayOut</th>\n",
       "      <td>0.000003</td>\n",
       "      <td>2</td>\n",
       "    </tr>\n",
       "    <tr>\n",
       "      <th>Device</th>\n",
       "      <td>0.000000</td>\n",
       "      <td>0</td>\n",
       "    </tr>\n",
       "    <tr>\n",
       "      <th>Country</th>\n",
       "      <td>0.000000</td>\n",
       "      <td>0</td>\n",
       "    </tr>\n",
       "    <tr>\n",
       "      <th>Carrier</th>\n",
       "      <td>0.000000</td>\n",
       "      <td>0</td>\n",
       "    </tr>\n",
       "    <tr>\n",
       "      <th>TrafficType</th>\n",
       "      <td>0.000000</td>\n",
       "      <td>0</td>\n",
       "    </tr>\n",
       "  </tbody>\n",
       "</table>\n",
       "</div>"
      ],
      "text/plain": [
       "                  Missing Ratio  Missing Total\n",
       "ConversionDate        99.945518       63332693\n",
       "subPublisherId        98.348556       62320743\n",
       "RefererUrl            74.716878       47346006\n",
       "OS                     0.487481         308903\n",
       "publisherId            0.000314            199\n",
       "ConversionPayOut       0.000003              2\n",
       "Device                 0.000000              0\n",
       "Country                0.000000              0\n",
       "Carrier                0.000000              0\n",
       "TrafficType            0.000000              0"
      ]
     },
     "execution_count": 8,
     "metadata": {},
     "output_type": "execute_result"
    }
   ],
   "source": [
    "# Checking for the ratio of missing value\n",
    "Total = Traindf.isnull().sum().sort_values(ascending=False)[:30]\n",
    "percent = ((Traindf.isnull().sum()/Traindf.isnull().count())*100).sort_values(ascending=False)[:30]\n",
    "missing_data = pd.DataFrame({'Missing Ratio' :percent, 'Missing Total':Total})\n",
    "missing_data.head(10)"
   ]
  },
  {
   "cell_type": "code",
   "execution_count": 9,
   "metadata": {},
   "outputs": [
    {
     "data": {
      "text/html": [
       "<div>\n",
       "<style>\n",
       "    .dataframe thead tr:only-child th {\n",
       "        text-align: right;\n",
       "    }\n",
       "\n",
       "    .dataframe thead th {\n",
       "        text-align: left;\n",
       "    }\n",
       "\n",
       "    .dataframe tbody tr th {\n",
       "        vertical-align: top;\n",
       "    }\n",
       "</style>\n",
       "<table border=\"1\" class=\"dataframe\">\n",
       "  <thead>\n",
       "    <tr style=\"text-align: right;\">\n",
       "      <th></th>\n",
       "      <th>Missing Ratio</th>\n",
       "      <th>Missing Total</th>\n",
       "    </tr>\n",
       "  </thead>\n",
       "  <tbody>\n",
       "    <tr>\n",
       "      <th>subPublisherId</th>\n",
       "      <td>97.288667</td>\n",
       "      <td>24856158</td>\n",
       "    </tr>\n",
       "    <tr>\n",
       "      <th>RefererUrl</th>\n",
       "      <td>63.835008</td>\n",
       "      <td>16309125</td>\n",
       "    </tr>\n",
       "    <tr>\n",
       "      <th>OS</th>\n",
       "      <td>0.521236</td>\n",
       "      <td>133170</td>\n",
       "    </tr>\n",
       "    <tr>\n",
       "      <th>publisherId</th>\n",
       "      <td>0.000595</td>\n",
       "      <td>152</td>\n",
       "    </tr>\n",
       "    <tr>\n",
       "      <th>Fraud</th>\n",
       "      <td>0.000000</td>\n",
       "      <td>0</td>\n",
       "    </tr>\n",
       "    <tr>\n",
       "      <th>advertiserCampaignId</th>\n",
       "      <td>0.000000</td>\n",
       "      <td>0</td>\n",
       "    </tr>\n",
       "    <tr>\n",
       "      <th>UserIp</th>\n",
       "      <td>0.000000</td>\n",
       "      <td>0</td>\n",
       "    </tr>\n",
       "    <tr>\n",
       "      <th>Browser</th>\n",
       "      <td>0.000000</td>\n",
       "      <td>0</td>\n",
       "    </tr>\n",
       "    <tr>\n",
       "      <th>Device</th>\n",
       "      <td>0.000000</td>\n",
       "      <td>0</td>\n",
       "    </tr>\n",
       "    <tr>\n",
       "      <th>ClickDate</th>\n",
       "      <td>0.000000</td>\n",
       "      <td>0</td>\n",
       "    </tr>\n",
       "  </tbody>\n",
       "</table>\n",
       "</div>"
      ],
      "text/plain": [
       "                      Missing Ratio  Missing Total\n",
       "subPublisherId            97.288667       24856158\n",
       "RefererUrl                63.835008       16309125\n",
       "OS                         0.521236         133170\n",
       "publisherId                0.000595            152\n",
       "Fraud                      0.000000              0\n",
       "advertiserCampaignId       0.000000              0\n",
       "UserIp                     0.000000              0\n",
       "Browser                    0.000000              0\n",
       "Device                     0.000000              0\n",
       "ClickDate                  0.000000              0"
      ]
     },
     "execution_count": 9,
     "metadata": {},
     "output_type": "execute_result"
    }
   ],
   "source": [
    "# Checking for the ratio of missing value\n",
    "Total = Testdf.isnull().sum().sort_values(ascending=False)[:30]\n",
    "percent = ((Testdf.isnull().sum()/Testdf.isnull().count())*100).sort_values(ascending=False)[:30]\n",
    "missing_data = pd.DataFrame({'Missing Ratio' :percent, 'Missing Total':Total})\n",
    "missing_data.head(10)"
   ]
  },
  {
   "cell_type": "code",
   "execution_count": 10,
   "metadata": {},
   "outputs": [
    {
     "data": {
      "text/plain": [
       "6400075"
      ]
     },
     "execution_count": 10,
     "metadata": {},
     "output_type": "execute_result"
    }
   ],
   "source": [
    "Testdf.UserIp.nunique()"
   ]
  },
  {
   "cell_type": "code",
   "execution_count": 12,
   "metadata": {},
   "outputs": [
    {
     "data": {
      "text/plain": [
       "(88916090, 6)"
      ]
     },
     "execution_count": 12,
     "metadata": {},
     "output_type": "execute_result"
    }
   ],
   "source": [
    "# Combining the data only for the necessary fields\n",
    "#STrain = Traindf[['Country','Carrier','Device','Browser','advertiserCampaignId','Fraud']]\n",
    "#STest = Testdf[['Country','Carrier','Device','Browser','advertiserCampaignId','Fraud']]\n",
    "Combdf = pd.concat([STrain,STest])\n",
    "Combdf.shape"
   ]
  },
  {
   "cell_type": "code",
   "execution_count": 13,
   "metadata": {
    "collapsed": true
   },
   "outputs": [],
   "source": [
    "#del STrain, STest\n",
    "del Traindf, Testdf"
   ]
  },
  {
   "cell_type": "code",
   "execution_count": 14,
   "metadata": {},
   "outputs": [
    {
     "data": {
      "text/html": [
       "<div>\n",
       "<style>\n",
       "    .dataframe thead tr:only-child th {\n",
       "        text-align: right;\n",
       "    }\n",
       "\n",
       "    .dataframe thead th {\n",
       "        text-align: left;\n",
       "    }\n",
       "\n",
       "    .dataframe tbody tr th {\n",
       "        vertical-align: top;\n",
       "    }\n",
       "</style>\n",
       "<table border=\"1\" class=\"dataframe\">\n",
       "  <thead>\n",
       "    <tr style=\"text-align: right;\">\n",
       "      <th></th>\n",
       "      <th>Country</th>\n",
       "      <th>Carrier</th>\n",
       "      <th>Device</th>\n",
       "      <th>Browser</th>\n",
       "      <th>advertiserCampaignId</th>\n",
       "      <th>Fraud</th>\n",
       "    </tr>\n",
       "  </thead>\n",
       "  <tbody>\n",
       "    <tr>\n",
       "      <th>0</th>\n",
       "      <td>IN</td>\n",
       "      <td>2.0</td>\n",
       "      <td>Google</td>\n",
       "      <td>chrome</td>\n",
       "      <td>6555</td>\n",
       "      <td>0</td>\n",
       "    </tr>\n",
       "    <tr>\n",
       "      <th>1</th>\n",
       "      <td>TH</td>\n",
       "      <td>27.0</td>\n",
       "      <td>Generic</td>\n",
       "      <td>46.0.2490.76</td>\n",
       "      <td>7510</td>\n",
       "      <td>0</td>\n",
       "    </tr>\n",
       "    <tr>\n",
       "      <th>2</th>\n",
       "      <td>IN</td>\n",
       "      <td>4.0</td>\n",
       "      <td>Samsung</td>\n",
       "      <td>chromium</td>\n",
       "      <td>12696</td>\n",
       "      <td>0</td>\n",
       "    </tr>\n",
       "    <tr>\n",
       "      <th>3</th>\n",
       "      <td>PH</td>\n",
       "      <td>-1.0</td>\n",
       "      <td>Generic</td>\n",
       "      <td>android_webkit</td>\n",
       "      <td>735</td>\n",
       "      <td>0</td>\n",
       "    </tr>\n",
       "    <tr>\n",
       "      <th>4</th>\n",
       "      <td>MX</td>\n",
       "      <td>-1.0</td>\n",
       "      <td>Generic</td>\n",
       "      <td>chrome</td>\n",
       "      <td>7802</td>\n",
       "      <td>0</td>\n",
       "    </tr>\n",
       "  </tbody>\n",
       "</table>\n",
       "</div>"
      ],
      "text/plain": [
       "  Country  Carrier   Device         Browser  advertiserCampaignId  Fraud\n",
       "0      IN      2.0   Google          chrome                  6555      0\n",
       "1      TH     27.0  Generic    46.0.2490.76                  7510      0\n",
       "2      IN      4.0  Samsung        chromium                 12696      0\n",
       "3      PH     -1.0  Generic  android_webkit                   735      0\n",
       "4      MX     -1.0  Generic          chrome                  7802      0"
      ]
     },
     "execution_count": 14,
     "metadata": {},
     "output_type": "execute_result"
    }
   ],
   "source": [
    "Combdf.head()"
   ]
  },
  {
   "cell_type": "code",
   "execution_count": 19,
   "metadata": {},
   "outputs": [
    {
     "data": {
      "text/plain": [
       "2132"
      ]
     },
     "execution_count": 19,
     "metadata": {},
     "output_type": "execute_result"
    }
   ],
   "source": [
    "# Country-232,Carrier-383,Device-1343,Browser-41,advertiserCampaignId-2132\n",
    "Combdf.advertiserCampaignId.nunique()"
   ]
  },
  {
   "cell_type": "code",
   "execution_count": 40,
   "metadata": {
    "collapsed": true
   },
   "outputs": [],
   "source": [
    "del Combdf['CntryCount'],Combdf['CarrCount'],Combdf['DevCount'],Combdf['CntryFrd'],Combdf['CarrFrd'],Combdf['DevFrd']"
   ]
  },
  {
   "cell_type": "code",
   "execution_count": 42,
   "metadata": {
    "collapsed": true
   },
   "outputs": [],
   "source": [
    "# Count the count of the variables which we should convert into their counts and run it one varaible at a time\n",
    "#Combdf['CntryCount'] = Combdf.groupby('Country')['Country'].transform('count').astype(np.int)\n",
    "#Combdf['CarrCount'] = Combdf.groupby('Carrier')['Carrier'].transform('count').astype(np.int)\n",
    "#Combdf['DevCount'] = Combdf.groupby('Device')['Device'].transform('count').astype(np.int)\n",
    "#Combdf['BrwCount'] = Combdf.groupby('Browser')['Browser'].transform('count').astype(np.int)\n",
    "Combdf['AdvCount'] = Combdf.groupby('advertiserCampaignId')['advertiserCampaignId'].transform('count').astype(np.int)"
   ]
  },
  {
   "cell_type": "code",
   "execution_count": 44,
   "metadata": {
    "collapsed": true
   },
   "outputs": [],
   "source": [
    "# Count the count of the variables which we should convert into their counts and run it one varaible at a time\n",
    "#Combdf['CntryFrd'] = Combdf.groupby('Country')['Fraud'].transform('sum').astype(np.int)\n",
    "#Combdf['CarrFrd'] = Combdf.groupby('Carrier')['Fraud'].transform('sum').astype(np.int)\n",
    "#Combdf['DevFrd'] = Combdf.groupby('Device')['Fraud'].transform('sum').astype(np.int)\n",
    "#Combdf['BrwFrd'] = Combdf.groupby('Browser')['Fraud'].transform('sum').astype(np.int)\n",
    "Combdf['AdvFrd'] = Combdf.groupby('advertiserCampaignId')['Fraud'].transform('sum').astype(np.int)"
   ]
  },
  {
   "cell_type": "code",
   "execution_count": 45,
   "metadata": {},
   "outputs": [
    {
     "data": {
      "text/html": [
       "<div>\n",
       "<style>\n",
       "    .dataframe thead tr:only-child th {\n",
       "        text-align: right;\n",
       "    }\n",
       "\n",
       "    .dataframe thead th {\n",
       "        text-align: left;\n",
       "    }\n",
       "\n",
       "    .dataframe tbody tr th {\n",
       "        vertical-align: top;\n",
       "    }\n",
       "</style>\n",
       "<table border=\"1\" class=\"dataframe\">\n",
       "  <thead>\n",
       "    <tr style=\"text-align: right;\">\n",
       "      <th></th>\n",
       "      <th>Country</th>\n",
       "      <th>Carrier</th>\n",
       "      <th>Device</th>\n",
       "      <th>Browser</th>\n",
       "      <th>advertiserCampaignId</th>\n",
       "      <th>Fraud</th>\n",
       "      <th>BrwCount</th>\n",
       "      <th>AdvCount</th>\n",
       "      <th>BrwFrd</th>\n",
       "      <th>AdvFrd</th>\n",
       "    </tr>\n",
       "  </thead>\n",
       "  <tbody>\n",
       "    <tr>\n",
       "      <th>0</th>\n",
       "      <td>IN</td>\n",
       "      <td>2.0</td>\n",
       "      <td>Google</td>\n",
       "      <td>chrome</td>\n",
       "      <td>6555</td>\n",
       "      <td>0</td>\n",
       "      <td>36650963</td>\n",
       "      <td>342922</td>\n",
       "      <td>48003</td>\n",
       "      <td>7</td>\n",
       "    </tr>\n",
       "    <tr>\n",
       "      <th>1</th>\n",
       "      <td>TH</td>\n",
       "      <td>27.0</td>\n",
       "      <td>Generic</td>\n",
       "      <td>46.0.2490.76</td>\n",
       "      <td>7510</td>\n",
       "      <td>0</td>\n",
       "      <td>5822097</td>\n",
       "      <td>6662847</td>\n",
       "      <td>7360</td>\n",
       "      <td>11386</td>\n",
       "    </tr>\n",
       "    <tr>\n",
       "      <th>2</th>\n",
       "      <td>IN</td>\n",
       "      <td>4.0</td>\n",
       "      <td>Samsung</td>\n",
       "      <td>chromium</td>\n",
       "      <td>12696</td>\n",
       "      <td>0</td>\n",
       "      <td>713676</td>\n",
       "      <td>101476</td>\n",
       "      <td>736</td>\n",
       "      <td>0</td>\n",
       "    </tr>\n",
       "    <tr>\n",
       "      <th>3</th>\n",
       "      <td>PH</td>\n",
       "      <td>-1.0</td>\n",
       "      <td>Generic</td>\n",
       "      <td>android_webkit</td>\n",
       "      <td>735</td>\n",
       "      <td>0</td>\n",
       "      <td>41494257</td>\n",
       "      <td>1904630</td>\n",
       "      <td>45188</td>\n",
       "      <td>772</td>\n",
       "    </tr>\n",
       "    <tr>\n",
       "      <th>4</th>\n",
       "      <td>MX</td>\n",
       "      <td>-1.0</td>\n",
       "      <td>Generic</td>\n",
       "      <td>chrome</td>\n",
       "      <td>7802</td>\n",
       "      <td>0</td>\n",
       "      <td>36650963</td>\n",
       "      <td>235984</td>\n",
       "      <td>48003</td>\n",
       "      <td>0</td>\n",
       "    </tr>\n",
       "  </tbody>\n",
       "</table>\n",
       "</div>"
      ],
      "text/plain": [
       "  Country  Carrier   Device         Browser  advertiserCampaignId  Fraud  \\\n",
       "0      IN      2.0   Google          chrome                  6555      0   \n",
       "1      TH     27.0  Generic    46.0.2490.76                  7510      0   \n",
       "2      IN      4.0  Samsung        chromium                 12696      0   \n",
       "3      PH     -1.0  Generic  android_webkit                   735      0   \n",
       "4      MX     -1.0  Generic          chrome                  7802      0   \n",
       "\n",
       "   BrwCount  AdvCount  BrwFrd  AdvFrd  \n",
       "0  36650963    342922   48003       7  \n",
       "1   5822097   6662847    7360   11386  \n",
       "2    713676    101476     736       0  \n",
       "3  41494257   1904630   45188     772  \n",
       "4  36650963    235984   48003       0  "
      ]
     },
     "execution_count": 45,
     "metadata": {},
     "output_type": "execute_result"
    }
   ],
   "source": [
    "Combdf.head()"
   ]
  },
  {
   "cell_type": "code",
   "execution_count": 47,
   "metadata": {
    "collapsed": true
   },
   "outputs": [],
   "source": [
    "#Countrydf = Combdf[['Country','CntryCount','CntryFrd']]\n",
    "#Carrierdf = Combdf[['Carrier','CarrCount','CarrFrd']]\n",
    "#Devicedf = Combdf[['Device','DevCount','DevFrd']]\n",
    "#Browserdf = Combdf[['Browser','BrwCount','BrwFrd']]\n",
    "Advertiserdf = Combdf[['advertiserCampaignId','AdvCount','AdvFrd']]"
   ]
  },
  {
   "cell_type": "code",
   "execution_count": 48,
   "metadata": {},
   "outputs": [
    {
     "name": "stdout",
     "output_type": "stream",
     "text": [
      "(88916090, 3)\n",
      "(88916090, 3)\n"
     ]
    }
   ],
   "source": [
    "#print (Countrydf.shape)\n",
    "#print (Carrierdf.shape)\n",
    "#print (Devicedf.shape)\n",
    "print (Browserdf.shape)\n",
    "print (Advertiserdf.shape)"
   ]
  },
  {
   "cell_type": "code",
   "execution_count": 50,
   "metadata": {
    "collapsed": true
   },
   "outputs": [],
   "source": [
    "#Countrydf = Countrydf.drop_duplicates()\n",
    "#Carrierdf = Carrierdf.drop_duplicates()\n",
    "#Devicedf = Devicedf.drop_duplicates()\n",
    "#Browserdf = Browserdf.drop_duplicates()\n",
    "Advertiserdf = Advertiserdf.drop_duplicates()"
   ]
  },
  {
   "cell_type": "code",
   "execution_count": 51,
   "metadata": {},
   "outputs": [
    {
     "name": "stdout",
     "output_type": "stream",
     "text": [
      "(232, 3)\n",
      "(383, 3)\n",
      "(1343, 3)\n",
      "(41, 3)\n",
      "(2132, 3)\n"
     ]
    }
   ],
   "source": [
    "print (Countrydf.shape)\n",
    "print (Carrierdf.shape)\n",
    "print (Devicedf.shape)\n",
    "print (Browserdf.shape)\n",
    "print (Advertiserdf.shape)"
   ]
  },
  {
   "cell_type": "code",
   "execution_count": 52,
   "metadata": {
    "collapsed": true
   },
   "outputs": [],
   "source": [
    "del Combdf"
   ]
  },
  {
   "cell_type": "code",
   "execution_count": 75,
   "metadata": {
    "collapsed": true
   },
   "outputs": [],
   "source": [
    "Countrydf.to_csv('Countrydf.csv', index= False)\n",
    "Carrierdf.to_csv('Carrierdf.csv', index= False)\n",
    "Devicedf.to_csv('Devicedf.csv', index= False)\n",
    "Browserdf.to_csv('Browserdf.csv', index= False)\n",
    "Advertiserdf.to_csv('Advertiserdf.csv', index= False)"
   ]
  },
  {
   "cell_type": "markdown",
   "metadata": {},
   "source": [
    "After exporting the csv the following treatment were done:\n",
    "1. Created a new commulative sum column for the Count of occurence column\n",
    "2. Identifed the cummulative percentage of total\n",
    "3. Created a new Primary Name column with only top 80% to 10% depending on the variable\n",
    "4. Created a Fraud Bucket column (This saves lot of time by avoiding execution of Fraud/Count Category codes)"
   ]
  },
  {
   "cell_type": "markdown",
   "metadata": {},
   "source": [
    "# Restart without the Count of variables"
   ]
  },
  {
   "cell_type": "code",
   "execution_count": 1,
   "metadata": {
    "collapsed": true
   },
   "outputs": [],
   "source": [
    "import pandas as pd\n",
    "import numpy as np\n",
    "import matplotlib.pyplot as plt\n",
    "from sklearn.utils import resample\n",
    "pd.set_option('display.max_columns', 99)\n",
    "pd.set_option('display.max_rows', 999)\n",
    "random_state = 42"
   ]
  },
  {
   "cell_type": "code",
   "execution_count": 2,
   "metadata": {},
   "outputs": [
    {
     "name": "stderr",
     "output_type": "stream",
     "text": [
      "/usr/local/lib/python3.5/site-packages/IPython/core/interactiveshell.py:2698: DtypeWarning: Columns (13) have mixed types. Specify dtype option on import or set low_memory=False.\n",
      "  interactivity=interactivity, compiler=compiler, result=result)\n"
     ]
    }
   ],
   "source": [
    "# Importing the part df on local and full data on cloud\n",
    "#filename = '/Users/viswanathravindran/AVDatahack/ADClick/RawData/train.csv'\n",
    "#Traindf = pd.read_csv(filename, nrows = 20000)\n",
    "Traindf = pd.read_csv('/advdata/train.csv')"
   ]
  },
  {
   "cell_type": "code",
   "execution_count": 3,
   "metadata": {},
   "outputs": [
    {
     "data": {
      "text/html": [
       "<div>\n",
       "<style>\n",
       "    .dataframe thead tr:only-child th {\n",
       "        text-align: right;\n",
       "    }\n",
       "\n",
       "    .dataframe thead th {\n",
       "        text-align: left;\n",
       "    }\n",
       "\n",
       "    .dataframe tbody tr th {\n",
       "        vertical-align: top;\n",
       "    }\n",
       "</style>\n",
       "<table border=\"1\" class=\"dataframe\">\n",
       "  <thead>\n",
       "    <tr style=\"text-align: right;\">\n",
       "      <th></th>\n",
       "      <th>ID</th>\n",
       "      <th>Country</th>\n",
       "      <th>Carrier</th>\n",
       "      <th>TrafficType</th>\n",
       "      <th>ClickDate</th>\n",
       "      <th>Device</th>\n",
       "      <th>Browser</th>\n",
       "      <th>OS</th>\n",
       "      <th>RefererUrl</th>\n",
       "      <th>UserIp</th>\n",
       "      <th>ConversionStatus</th>\n",
       "      <th>ConversionDate</th>\n",
       "      <th>ConversionPayOut</th>\n",
       "      <th>publisherId</th>\n",
       "      <th>subPublisherId</th>\n",
       "      <th>advertiserCampaignId</th>\n",
       "      <th>Fraud</th>\n",
       "    </tr>\n",
       "  </thead>\n",
       "  <tbody>\n",
       "    <tr>\n",
       "      <th>0</th>\n",
       "      <td>0</td>\n",
       "      <td>IN</td>\n",
       "      <td>2.0</td>\n",
       "      <td>M</td>\n",
       "      <td>2017-08-21 00:00:01</td>\n",
       "      <td>Google</td>\n",
       "      <td>chrome</td>\n",
       "      <td>Android</td>\n",
       "      <td>NaN</td>\n",
       "      <td>42.111.171.131</td>\n",
       "      <td>False</td>\n",
       "      <td>NaN</td>\n",
       "      <td>0.0</td>\n",
       "      <td>69</td>\n",
       "      <td>NaN</td>\n",
       "      <td>6555.0</td>\n",
       "      <td>0.0</td>\n",
       "    </tr>\n",
       "    <tr>\n",
       "      <th>1</th>\n",
       "      <td>1</td>\n",
       "      <td>TH</td>\n",
       "      <td>27.0</td>\n",
       "      <td>A</td>\n",
       "      <td>2017-08-21 00:00:01</td>\n",
       "      <td>Generic</td>\n",
       "      <td>46.0.2490.76</td>\n",
       "      <td>Android</td>\n",
       "      <td>NaN</td>\n",
       "      <td>1.46.235.65</td>\n",
       "      <td>False</td>\n",
       "      <td>NaN</td>\n",
       "      <td>0.0</td>\n",
       "      <td>646</td>\n",
       "      <td>NaN</td>\n",
       "      <td>7510.0</td>\n",
       "      <td>0.0</td>\n",
       "    </tr>\n",
       "    <tr>\n",
       "      <th>2</th>\n",
       "      <td>2</td>\n",
       "      <td>IN</td>\n",
       "      <td>4.0</td>\n",
       "      <td>M</td>\n",
       "      <td>2017-08-21 00:00:01</td>\n",
       "      <td>Samsung</td>\n",
       "      <td>chromium</td>\n",
       "      <td>Android</td>\n",
       "      <td>NaN</td>\n",
       "      <td>49.15.91.224</td>\n",
       "      <td>False</td>\n",
       "      <td>NaN</td>\n",
       "      <td>0.0</td>\n",
       "      <td>301</td>\n",
       "      <td>NaN</td>\n",
       "      <td>12696.0</td>\n",
       "      <td>0.0</td>\n",
       "    </tr>\n",
       "    <tr>\n",
       "      <th>3</th>\n",
       "      <td>3</td>\n",
       "      <td>PH</td>\n",
       "      <td>-1.0</td>\n",
       "      <td>A</td>\n",
       "      <td>2017-08-21 00:00:01</td>\n",
       "      <td>Generic</td>\n",
       "      <td>android_webkit</td>\n",
       "      <td>Android</td>\n",
       "      <td>NaN</td>\n",
       "      <td>115.42.126.86</td>\n",
       "      <td>False</td>\n",
       "      <td>NaN</td>\n",
       "      <td>0.0</td>\n",
       "      <td>242</td>\n",
       "      <td>NaN</td>\n",
       "      <td>735.0</td>\n",
       "      <td>0.0</td>\n",
       "    </tr>\n",
       "    <tr>\n",
       "      <th>4</th>\n",
       "      <td>4</td>\n",
       "      <td>MX</td>\n",
       "      <td>-1.0</td>\n",
       "      <td>NaN</td>\n",
       "      <td>2017-08-21 00:00:01</td>\n",
       "      <td>Generic</td>\n",
       "      <td>chrome</td>\n",
       "      <td>Android</td>\n",
       "      <td>NaN</td>\n",
       "      <td>187.161.11.97</td>\n",
       "      <td>False</td>\n",
       "      <td>NaN</td>\n",
       "      <td>0.0</td>\n",
       "      <td>1306</td>\n",
       "      <td>NaN</td>\n",
       "      <td>7802.0</td>\n",
       "      <td>0.0</td>\n",
       "    </tr>\n",
       "  </tbody>\n",
       "</table>\n",
       "</div>"
      ],
      "text/plain": [
       "   ID Country  Carrier TrafficType            ClickDate   Device  \\\n",
       "0   0      IN      2.0           M  2017-08-21 00:00:01   Google   \n",
       "1   1      TH     27.0           A  2017-08-21 00:00:01  Generic   \n",
       "2   2      IN      4.0           M  2017-08-21 00:00:01  Samsung   \n",
       "3   3      PH     -1.0           A  2017-08-21 00:00:01  Generic   \n",
       "4   4      MX     -1.0         NaN  2017-08-21 00:00:01  Generic   \n",
       "\n",
       "          Browser       OS RefererUrl          UserIp  ConversionStatus  \\\n",
       "0          chrome  Android        NaN  42.111.171.131             False   \n",
       "1    46.0.2490.76  Android        NaN     1.46.235.65             False   \n",
       "2        chromium  Android        NaN    49.15.91.224             False   \n",
       "3  android_webkit  Android        NaN   115.42.126.86             False   \n",
       "4          chrome  Android        NaN   187.161.11.97             False   \n",
       "\n",
       "  ConversionDate  ConversionPayOut publisherId subPublisherId  \\\n",
       "0            NaN               0.0          69            NaN   \n",
       "1            NaN               0.0         646            NaN   \n",
       "2            NaN               0.0         301            NaN   \n",
       "3            NaN               0.0         242            NaN   \n",
       "4            NaN               0.0        1306            NaN   \n",
       "\n",
       "   advertiserCampaignId  Fraud  \n",
       "0                6555.0    0.0  \n",
       "1                7510.0    0.0  \n",
       "2               12696.0    0.0  \n",
       "3                 735.0    0.0  \n",
       "4                7802.0    0.0  "
      ]
     },
     "execution_count": 3,
     "metadata": {},
     "output_type": "execute_result"
    }
   ],
   "source": [
    "Traindf.head()"
   ]
  },
  {
   "cell_type": "code",
   "execution_count": 4,
   "metadata": {
    "collapsed": true
   },
   "outputs": [],
   "source": [
    "# Convert the Fraud and Conversion Status to integer \n",
    "Traindf['Fraud'] = Traindf['Fraud'].astype(np.int)\n",
    "Traindf['ConversionStatus'] = Traindf['ConversionStatus'].astype(np.int)"
   ]
  },
  {
   "cell_type": "code",
   "execution_count": 5,
   "metadata": {
    "collapsed": true
   },
   "outputs": [],
   "source": [
    "del Traindf['subPublisherId']"
   ]
  },
  {
   "cell_type": "code",
   "execution_count": 6,
   "metadata": {},
   "outputs": [
    {
     "data": {
      "text/plain": [
       "0    63332693\n",
       "1       34524\n",
       "Name: ConversionStatus, dtype: int64"
      ]
     },
     "execution_count": 6,
     "metadata": {},
     "output_type": "execute_result"
    }
   ],
   "source": [
    "Traindf.ConversionStatus.value_counts()"
   ]
  },
  {
   "cell_type": "code",
   "execution_count": 7,
   "metadata": {},
   "outputs": [
    {
     "name": "stdout",
     "output_type": "stream",
     "text": [
      "Count of Minority sample (34524, 16) Count of Majority Sample (63332693, 16)\n"
     ]
    }
   ],
   "source": [
    "# Separate majority and minority classes\n",
    "TraindfMaj = Traindf[Traindf.ConversionStatus==0]\n",
    "TraindfMin = Traindf[Traindf.ConversionStatus==1]\n",
    "print ('Count of Minority sample', TraindfMin.shape, 'Count of Majority Sample', TraindfMaj.shape)"
   ]
  },
  {
   "cell_type": "code",
   "execution_count": 8,
   "metadata": {
    "collapsed": true
   },
   "outputs": [],
   "source": [
    "del Traindf"
   ]
  },
  {
   "cell_type": "code",
   "execution_count": 9,
   "metadata": {},
   "outputs": [
    {
     "name": "stdout",
     "output_type": "stream",
     "text": [
      "0.6857450674582145\n",
      "9.090909090909092\n",
      "16.666666666666664\n"
     ]
    }
   ],
   "source": [
    "print((34524/ (34524 + 5000000))*100)\n",
    "print((500000/ (500000 + 5000000))*100)\n",
    "print((1000000/ (1000000 + 5000000))*100)"
   ]
  },
  {
   "cell_type": "code",
   "execution_count": 12,
   "metadata": {
    "collapsed": true
   },
   "outputs": [],
   "source": [
    "# Upsample minority class # sample with replacement, to match majority class\n",
    "TraindfMinup1 = resample(TraindfMin, replace=True, n_samples=500000,random_state=random_state)\n",
    "TraindfMinup2 = resample(TraindfMin, replace=True, n_samples=1000000,random_state=random_state)\n",
    "# Downsample Majority class without replacement\n",
    "TraindfMajdn = resample(TraindfMaj, replace=False, n_samples=5000000, random_state=random_state)"
   ]
  },
  {
   "cell_type": "code",
   "execution_count": 16,
   "metadata": {},
   "outputs": [
    {
     "name": "stdout",
     "output_type": "stream",
     "text": [
      "------------------------------------------------------------------------------------------------\n",
      "The Distribution of Conversionstatus Training set 1 is: 0    5000000\n",
      "1      34524\n",
      "Name: ConversionStatus, dtype: int64\n",
      "The shape of Training set 1 is: (5034524, 16)\n",
      "------------------------------------------------------------------------------------------------\n",
      "The Distribution of Conversionstatus Training set 2 is: 0    5000000\n",
      "1     500000\n",
      "Name: ConversionStatus, dtype: int64\n",
      "The shape of Training set 2 is: (5500000, 16)\n",
      "------------------------------------------------------------------------------------------------\n",
      "The Distribution of Conversionstatus Training set 3 is: 0    5000000\n",
      "1    1000000\n",
      "Name: ConversionStatus, dtype: int64\n",
      "The shape of Training set 3 is: (6000000, 16)\n"
     ]
    }
   ],
   "source": [
    "# Combine the datasets\n",
    "#Traindf1 = pd.concat([TraindfMajdn, TraindfMin])\n",
    "#Traindf2 = pd.concat([TraindfMajdn, TraindfMinup1])\n",
    "#Traindf3 = pd.concat([TraindfMajdn, TraindfMinup2])\n",
    "# Display new class counts\n",
    "\n",
    "print ('------------------------------------------------------------------------------------------------')\n",
    "print ('The Distribution of Conversionstatus Training set 1 is:',Traindf1.ConversionStatus.value_counts())\n",
    "print ('The shape of Training set 1 is:',Traindf1.shape)\n",
    "print ('------------------------------------------------------------------------------------------------')\n",
    "print ('The Distribution of Conversionstatus Training set 2 is:',Traindf2.ConversionStatus.value_counts())\n",
    "print ('The shape of Training set 2 is:',Traindf2.shape)\n",
    "print ('------------------------------------------------------------------------------------------------')\n",
    "print ('The Distribution of Conversionstatus Training set 3 is:',Traindf3.ConversionStatus.value_counts())\n",
    "print ('The shape of Training set 3 is:',Traindf3.shape)\n"
   ]
  },
  {
   "cell_type": "code",
   "execution_count": 17,
   "metadata": {
    "collapsed": true
   },
   "outputs": [],
   "source": [
    "# delete the 2 temp DF's\n",
    "del TraindfMaj,TraindfMin,TraindfMinup1,TraindfMinup2,TraindfMajdn"
   ]
  },
  {
   "cell_type": "code",
   "execution_count": 18,
   "metadata": {},
   "outputs": [
    {
     "data": {
      "text/plain": [
       "0    5000000\n",
       "1    1000000\n",
       "Name: ConversionStatus, dtype: int64"
      ]
     },
     "execution_count": 18,
     "metadata": {},
     "output_type": "execute_result"
    }
   ],
   "source": [
    "# Check to see if the sample is fine\n",
    "#Traindf1.tail()\n",
    "#Traindf1.Country.value_counts(normalize =  True, sort=True, ascending=False).head(5)\n",
    "#Traindf1.TrafficType.value_counts(normalize =  True, sort=True, ascending=False).head()\n",
    "#Traindf1.Device.value_counts(normalize =  True, sort=True, ascending=False).head()\n",
    "Traindf1.ConversionStatus.value_counts()\n",
    "Traindf2.ConversionStatus.value_counts()\n",
    "Traindf3.ConversionStatus.value_counts()"
   ]
  },
  {
   "cell_type": "code",
   "execution_count": 19,
   "metadata": {},
   "outputs": [
    {
     "name": "stdout",
     "output_type": "stream",
     "text": [
      "(5034524, 16)\n",
      "(5500000, 16)\n",
      "(6000000, 16)\n"
     ]
    }
   ],
   "source": [
    "print (Traindf1.shape)\n",
    "print (Traindf2.shape)\n",
    "print (Traindf3.shape)"
   ]
  },
  {
   "cell_type": "code",
   "execution_count": 20,
   "metadata": {
    "collapsed": true
   },
   "outputs": [],
   "source": [
    "Traindf1.to_csv('MjdnSample.csv', index= False)\n",
    "Traindf2.to_csv('MjdnmiupsSample.csv', index= False)\n",
    "Traindf3.to_csv('MjdnmiupbSample.csv', index= False)"
   ]
  },
  {
   "cell_type": "markdown",
   "metadata": {},
   "source": [
    "# Restart after sampling"
   ]
  },
  {
   "cell_type": "code",
   "execution_count": 1,
   "metadata": {
    "collapsed": true
   },
   "outputs": [],
   "source": [
    "import pandas as pd\n",
    "import numpy as np\n",
    "import matplotlib.pyplot as plt\n",
    "pd.set_option('display.max_columns', 99)\n",
    "pd.set_option('display.max_rows', 999)"
   ]
  },
  {
   "cell_type": "code",
   "execution_count": 71,
   "metadata": {},
   "outputs": [
    {
     "name": "stderr",
     "output_type": "stream",
     "text": [
      "/usr/local/lib/python3.5/site-packages/IPython/core/interactiveshell.py:2698: DtypeWarning: Columns (11,13) have mixed types. Specify dtype option on import or set low_memory=False.\n",
      "  interactivity=interactivity, compiler=compiler, result=result)\n"
     ]
    }
   ],
   "source": [
    "#Traindf1 = pd.read_csv('MjdnSample.csv')\n",
    "#Traindf2 = pd.read_csv('MjdnmiupsSample.csv')\n",
    "Traindf3 = pd.read_csv('MjdnmiupbSample.csv')"
   ]
  },
  {
   "cell_type": "code",
   "execution_count": 72,
   "metadata": {
    "scrolled": true
   },
   "outputs": [
    {
     "name": "stdout",
     "output_type": "stream",
     "text": [
      "(6000000, 16)\n"
     ]
    }
   ],
   "source": [
    "#print(Traindf1.shape)\n",
    "#print(Traindf2.shape)\n",
    "print(Traindf3.shape)"
   ]
  },
  {
   "cell_type": "code",
   "execution_count": 73,
   "metadata": {
    "collapsed": true
   },
   "outputs": [],
   "source": [
    "# Replace the Missing value based on analysis\n",
    "Traindf3['Fraud'] = Traindf3['Fraud'].astype(np.int)\n",
    "Traindf3['Device'] = Traindf3['Device'].astype(str)\n",
    "Traindf3['ConversionStatus'] = Traindf3['ConversionStatus'].astype(np.int)\n",
    "Traindf3['advertiserCampaignId'] = Traindf3.advertiserCampaignId.fillna(7510).astype(np.int)\n",
    "Traindf3['RefererUrl'] = Traindf3.RefererUrl.fillna('NoRefer').astype(str)"
   ]
  },
  {
   "cell_type": "code",
   "execution_count": 74,
   "metadata": {
    "collapsed": true
   },
   "outputs": [],
   "source": [
    "Traindf3['TrafficType'] = Traindf3['TrafficType'].fillna(pd.Series(np.random.choice(['A','M'], p=[0.60,0.40], size=len(Traindf3))))\n",
    "Traindf3['Browser'] = Traindf3['Browser'].fillna(pd.Series(np.random.choice(['android_webkit','chrome'], p=[0.60,0.40], size=len(Traindf3))))\n",
    "Traindf3['OS'] = Traindf3['OS'].fillna(pd.Series(np.random.choice(['Android','Desktop','iOS'], p=[0.95,0.03,0.02], size=len(Traindf3))))\n",
    "Traindf3['Device'] = Traindf3['Device'].fillna(pd.Series(np.random.choice(['Generic','Samsung','Alcatel','Micromax','Lenovo'], p=[0.50,0.20,0.10,0.10,0.10], size=len(Traindf3))))\n",
    "Traindf3['Country'] = Traindf3['Country'].fillna(pd.Series(np.random.choice(['IN','BD','RU','ID','NG'], p=[0.50,0.15,0.13,0.12,0.10], size=len(Traindf3))))"
   ]
  },
  {
   "cell_type": "code",
   "execution_count": 75,
   "metadata": {},
   "outputs": [
    {
     "data": {
      "text/html": [
       "<div>\n",
       "<style>\n",
       "    .dataframe thead tr:only-child th {\n",
       "        text-align: right;\n",
       "    }\n",
       "\n",
       "    .dataframe thead th {\n",
       "        text-align: left;\n",
       "    }\n",
       "\n",
       "    .dataframe tbody tr th {\n",
       "        vertical-align: top;\n",
       "    }\n",
       "</style>\n",
       "<table border=\"1\" class=\"dataframe\">\n",
       "  <thead>\n",
       "    <tr style=\"text-align: right;\">\n",
       "      <th></th>\n",
       "      <th>Missing Ratio</th>\n",
       "      <th>Missing Total</th>\n",
       "    </tr>\n",
       "  </thead>\n",
       "  <tbody>\n",
       "    <tr>\n",
       "      <th>ConversionDate</th>\n",
       "      <td>83.333333</td>\n",
       "      <td>5000000</td>\n",
       "    </tr>\n",
       "    <tr>\n",
       "      <th>ConversionPayOut</th>\n",
       "      <td>0.001083</td>\n",
       "      <td>65</td>\n",
       "    </tr>\n",
       "    <tr>\n",
       "      <th>publisherId</th>\n",
       "      <td>0.000233</td>\n",
       "      <td>14</td>\n",
       "    </tr>\n",
       "    <tr>\n",
       "      <th>Fraud</th>\n",
       "      <td>0.000000</td>\n",
       "      <td>0</td>\n",
       "    </tr>\n",
       "    <tr>\n",
       "      <th>advertiserCampaignId</th>\n",
       "      <td>0.000000</td>\n",
       "      <td>0</td>\n",
       "    </tr>\n",
       "    <tr>\n",
       "      <th>ConversionStatus</th>\n",
       "      <td>0.000000</td>\n",
       "      <td>0</td>\n",
       "    </tr>\n",
       "    <tr>\n",
       "      <th>UserIp</th>\n",
       "      <td>0.000000</td>\n",
       "      <td>0</td>\n",
       "    </tr>\n",
       "    <tr>\n",
       "      <th>RefererUrl</th>\n",
       "      <td>0.000000</td>\n",
       "      <td>0</td>\n",
       "    </tr>\n",
       "    <tr>\n",
       "      <th>OS</th>\n",
       "      <td>0.000000</td>\n",
       "      <td>0</td>\n",
       "    </tr>\n",
       "    <tr>\n",
       "      <th>Browser</th>\n",
       "      <td>0.000000</td>\n",
       "      <td>0</td>\n",
       "    </tr>\n",
       "  </tbody>\n",
       "</table>\n",
       "</div>"
      ],
      "text/plain": [
       "                      Missing Ratio  Missing Total\n",
       "ConversionDate            83.333333        5000000\n",
       "ConversionPayOut           0.001083             65\n",
       "publisherId                0.000233             14\n",
       "Fraud                      0.000000              0\n",
       "advertiserCampaignId       0.000000              0\n",
       "ConversionStatus           0.000000              0\n",
       "UserIp                     0.000000              0\n",
       "RefererUrl                 0.000000              0\n",
       "OS                         0.000000              0\n",
       "Browser                    0.000000              0"
      ]
     },
     "execution_count": 75,
     "metadata": {},
     "output_type": "execute_result"
    }
   ],
   "source": [
    "# Checking for the ratio of missing value after replacement\n",
    "Total = Traindf3.isnull().sum().sort_values(ascending=False)[:30]\n",
    "percent = ((Traindf3.isnull().sum()/Traindf3.isnull().count())*100).sort_values(ascending=False)[:30]\n",
    "missing_data = pd.DataFrame({'Missing Ratio' :percent, 'Missing Total':Total})\n",
    "missing_data.head(10)"
   ]
  },
  {
   "cell_type": "code",
   "execution_count": 76,
   "metadata": {
    "collapsed": true
   },
   "outputs": [],
   "source": [
    "#Traindf['publisherId_New']=Traindf.publisherId.apply(lambda x: np.where(x.isdigit(),x,'99999')).astype(int)\n",
    "del Traindf3['publisherId']"
   ]
  },
  {
   "cell_type": "code",
   "execution_count": 77,
   "metadata": {
    "collapsed": true
   },
   "outputs": [],
   "source": [
    "# Change the Referral URL as either Yes or No\n",
    "Traindf3['RefererUrl'] = np.where(Traindf3['RefererUrl']=='NoRefer', 0, 1).astype(int)"
   ]
  },
  {
   "cell_type": "code",
   "execution_count": 78,
   "metadata": {
    "collapsed": true
   },
   "outputs": [],
   "source": [
    "# Handing the ClickDate field as a Date\n",
    "Traindf3['ClickDate'] = pd.to_datetime(Traindf3['ClickDate'])"
   ]
  },
  {
   "cell_type": "code",
   "execution_count": 79,
   "metadata": {
    "collapsed": true
   },
   "outputs": [],
   "source": [
    "# Feature Enginerring to Create New variables for Day of Week and Day part\n",
    "Traindf3['Weekday'] = (Traindf3['ClickDate'].dt.dayofweek).astype(int)\n",
    "Traindf3['Dayhour'] = (Traindf3.ClickDate.apply(lambda x: x.hour)).astype(int)"
   ]
  },
  {
   "cell_type": "code",
   "execution_count": 80,
   "metadata": {
    "collapsed": true
   },
   "outputs": [],
   "source": [
    "# To remove Ordinality in both Weekday and DayHour variables convert into Categories\n",
    "Traindf3['Weekday'] = Traindf3['Weekday'].map( {0: 'Sun', 1: 'Mon', 2: 'Tue', 3: 'Wed',\n",
    "                                              4: 'Thr', 5: 'Fri', 6: 'Sat'} ).astype(str)\n",
    "Traindf3['Dayhour'] = Traindf3['Dayhour'].map( {0: 'AM1', 1: 'AM1', 2: 'AM1', 3: 'AM2', 4: 'AM2', 5: 'AM2', \n",
    "                                              6: 'AM3', 7: 'AM3', 8: 'AM3', 9: 'AM4', 10: 'AM4', 11: 'AM4', 12: 'PM1', \n",
    "                                              13: 'PM1', 14: 'PM1', 15: 'PM2', 16: 'PM2', 17: 'PM2', 18: 'PM3', \n",
    "                                              19: 'PM3', 20: 'PM3', 21: 'PM4', 22: 'PM4', 23: 'PM4'} ).astype(str)\n",
    "# Delete the Click Date varaible\n",
    "del Traindf3['ClickDate']"
   ]
  },
  {
   "cell_type": "code",
   "execution_count": 81,
   "metadata": {
    "collapsed": true
   },
   "outputs": [],
   "source": [
    "Traindf3['DayPeriod'] = (Traindf3['Weekday'] + Traindf3['Dayhour']).astype(str)\n",
    "del Traindf3['Weekday'], Traindf3['Dayhour']"
   ]
  },
  {
   "cell_type": "code",
   "execution_count": 82,
   "metadata": {},
   "outputs": [
    {
     "data": {
      "text/html": [
       "<div>\n",
       "<style>\n",
       "    .dataframe thead tr:only-child th {\n",
       "        text-align: right;\n",
       "    }\n",
       "\n",
       "    .dataframe thead th {\n",
       "        text-align: left;\n",
       "    }\n",
       "\n",
       "    .dataframe tbody tr th {\n",
       "        vertical-align: top;\n",
       "    }\n",
       "</style>\n",
       "<table border=\"1\" class=\"dataframe\">\n",
       "  <thead>\n",
       "    <tr style=\"text-align: right;\">\n",
       "      <th></th>\n",
       "      <th>ID</th>\n",
       "      <th>Country</th>\n",
       "      <th>Carrier</th>\n",
       "      <th>TrafficType</th>\n",
       "      <th>Device</th>\n",
       "      <th>Browser</th>\n",
       "      <th>OS</th>\n",
       "      <th>RefererUrl</th>\n",
       "      <th>UserIp</th>\n",
       "      <th>ConversionStatus</th>\n",
       "      <th>ConversionDate</th>\n",
       "      <th>ConversionPayOut</th>\n",
       "      <th>advertiserCampaignId</th>\n",
       "      <th>Fraud</th>\n",
       "      <th>DayPeriod</th>\n",
       "    </tr>\n",
       "  </thead>\n",
       "  <tbody>\n",
       "    <tr>\n",
       "      <th>0</th>\n",
       "      <td>60317302</td>\n",
       "      <td>IN</td>\n",
       "      <td>4.0</td>\n",
       "      <td>A</td>\n",
       "      <td>Generic</td>\n",
       "      <td>android_webkit</td>\n",
       "      <td>Android</td>\n",
       "      <td>0</td>\n",
       "      <td>106.78.209.186</td>\n",
       "      <td>0</td>\n",
       "      <td>NaN</td>\n",
       "      <td>0.0</td>\n",
       "      <td>10128</td>\n",
       "      <td>0</td>\n",
       "      <td>TuePM1</td>\n",
       "    </tr>\n",
       "    <tr>\n",
       "      <th>1</th>\n",
       "      <td>57103822</td>\n",
       "      <td>ID</td>\n",
       "      <td>47.0</td>\n",
       "      <td>M</td>\n",
       "      <td>Asus</td>\n",
       "      <td>chrome</td>\n",
       "      <td>Android</td>\n",
       "      <td>0</td>\n",
       "      <td>120.188.39.3</td>\n",
       "      <td>0</td>\n",
       "      <td>NaN</td>\n",
       "      <td>0.0</td>\n",
       "      <td>735</td>\n",
       "      <td>0</td>\n",
       "      <td>MonPM4</td>\n",
       "    </tr>\n",
       "    <tr>\n",
       "      <th>2</th>\n",
       "      <td>30999692</td>\n",
       "      <td>BD</td>\n",
       "      <td>125.0</td>\n",
       "      <td>M</td>\n",
       "      <td>Generic</td>\n",
       "      <td>android_webkit</td>\n",
       "      <td>Android</td>\n",
       "      <td>0</td>\n",
       "      <td>202.134.13.136</td>\n",
       "      <td>0</td>\n",
       "      <td>NaN</td>\n",
       "      <td>0.0</td>\n",
       "      <td>4901</td>\n",
       "      <td>0</td>\n",
       "      <td>ThrPM1</td>\n",
       "    </tr>\n",
       "    <tr>\n",
       "      <th>3</th>\n",
       "      <td>59559116</td>\n",
       "      <td>IN</td>\n",
       "      <td>1.0</td>\n",
       "      <td>M</td>\n",
       "      <td>Generic</td>\n",
       "      <td>46.0.2490.76</td>\n",
       "      <td>Android</td>\n",
       "      <td>0</td>\n",
       "      <td>223.184.27.187</td>\n",
       "      <td>0</td>\n",
       "      <td>NaN</td>\n",
       "      <td>0.0</td>\n",
       "      <td>16407</td>\n",
       "      <td>0</td>\n",
       "      <td>TueAM4</td>\n",
       "    </tr>\n",
       "    <tr>\n",
       "      <th>4</th>\n",
       "      <td>17487057</td>\n",
       "      <td>TH</td>\n",
       "      <td>20.0</td>\n",
       "      <td>A</td>\n",
       "      <td>AIS</td>\n",
       "      <td>chrome</td>\n",
       "      <td>Android</td>\n",
       "      <td>0</td>\n",
       "      <td>182.232.30.98</td>\n",
       "      <td>0</td>\n",
       "      <td>NaN</td>\n",
       "      <td>0.0</td>\n",
       "      <td>7510</td>\n",
       "      <td>0</td>\n",
       "      <td>TuePM1</td>\n",
       "    </tr>\n",
       "  </tbody>\n",
       "</table>\n",
       "</div>"
      ],
      "text/plain": [
       "         ID Country  Carrier TrafficType   Device         Browser       OS  \\\n",
       "0  60317302      IN      4.0           A  Generic  android_webkit  Android   \n",
       "1  57103822      ID     47.0           M     Asus          chrome  Android   \n",
       "2  30999692      BD    125.0           M  Generic  android_webkit  Android   \n",
       "3  59559116      IN      1.0           M  Generic    46.0.2490.76  Android   \n",
       "4  17487057      TH     20.0           A      AIS          chrome  Android   \n",
       "\n",
       "   RefererUrl          UserIp  ConversionStatus ConversionDate  \\\n",
       "0           0  106.78.209.186                 0            NaN   \n",
       "1           0    120.188.39.3                 0            NaN   \n",
       "2           0  202.134.13.136                 0            NaN   \n",
       "3           0  223.184.27.187                 0            NaN   \n",
       "4           0   182.232.30.98                 0            NaN   \n",
       "\n",
       "   ConversionPayOut  advertiserCampaignId  Fraud DayPeriod  \n",
       "0               0.0                 10128      0    TuePM1  \n",
       "1               0.0                   735      0    MonPM4  \n",
       "2               0.0                  4901      0    ThrPM1  \n",
       "3               0.0                 16407      0    TueAM4  \n",
       "4               0.0                  7510      0    TuePM1  "
      ]
     },
     "execution_count": 82,
     "metadata": {},
     "output_type": "execute_result"
    }
   ],
   "source": [
    "Traindf3.head()"
   ]
  },
  {
   "cell_type": "code",
   "execution_count": 83,
   "metadata": {},
   "outputs": [
    {
     "data": {
      "text/plain": [
       "(6000000, 15)"
      ]
     },
     "execution_count": 83,
     "metadata": {},
     "output_type": "execute_result"
    }
   ],
   "source": [
    "Traindf3.shape"
   ]
  },
  {
   "cell_type": "code",
   "execution_count": 15,
   "metadata": {
    "collapsed": true
   },
   "outputs": [],
   "source": [
    "Countrydf = pd.read_csv('Countrydf.csv')\n",
    "Carrierdf = pd.read_csv('Carrierdf.csv')\n",
    "Devicedf = pd.read_csv('Devicedf.csv')\n",
    "Browserdf = pd.read_csv('Browserdf.csv')\n",
    "Advertiserdf = pd.read_csv('Advertiserdf.csv')"
   ]
  },
  {
   "cell_type": "code",
   "execution_count": 84,
   "metadata": {},
   "outputs": [
    {
     "data": {
      "text/plain": [
       "(6000000, 17)"
      ]
     },
     "execution_count": 84,
     "metadata": {},
     "output_type": "execute_result"
    }
   ],
   "source": [
    "# Merge back the Columns to train and test\n",
    "Traindf3 = pd.merge(Traindf3,Countrydf, how='left', left_on='Country', right_on='Country')\n",
    "Traindf3.shape"
   ]
  },
  {
   "cell_type": "code",
   "execution_count": 85,
   "metadata": {},
   "outputs": [
    {
     "data": {
      "text/plain": [
       "(6000000, 19)"
      ]
     },
     "execution_count": 85,
     "metadata": {},
     "output_type": "execute_result"
    }
   ],
   "source": [
    "Traindf3 = pd.merge(Traindf3,Carrierdf, how='left', left_on='Carrier', right_on='Carrier')\n",
    "Traindf3.shape"
   ]
  },
  {
   "cell_type": "code",
   "execution_count": 86,
   "metadata": {},
   "outputs": [
    {
     "data": {
      "text/plain": [
       "(6000000, 21)"
      ]
     },
     "execution_count": 86,
     "metadata": {},
     "output_type": "execute_result"
    }
   ],
   "source": [
    "Traindf3 = pd.merge(Traindf3,Devicedf, how='left', left_on='Device', right_on='Device')\n",
    "Traindf3.shape"
   ]
  },
  {
   "cell_type": "code",
   "execution_count": 87,
   "metadata": {},
   "outputs": [
    {
     "data": {
      "text/plain": [
       "(6000000, 23)"
      ]
     },
     "execution_count": 87,
     "metadata": {},
     "output_type": "execute_result"
    }
   ],
   "source": [
    "Traindf3 = pd.merge(Traindf3,Browserdf, how='left', left_on='Browser', right_on='Browser')\n",
    "Traindf3.shape"
   ]
  },
  {
   "cell_type": "code",
   "execution_count": 88,
   "metadata": {},
   "outputs": [
    {
     "data": {
      "text/plain": [
       "(6000000, 25)"
      ]
     },
     "execution_count": 88,
     "metadata": {},
     "output_type": "execute_result"
    }
   ],
   "source": [
    "Traindf3 = pd.merge(Traindf3,Advertiserdf, how='left', left_on='advertiserCampaignId', right_on='advertiserCampaignId')\n",
    "Traindf3.shape"
   ]
  },
  {
   "cell_type": "code",
   "execution_count": 89,
   "metadata": {},
   "outputs": [
    {
     "data": {
      "text/html": [
       "<div>\n",
       "<style>\n",
       "    .dataframe thead tr:only-child th {\n",
       "        text-align: right;\n",
       "    }\n",
       "\n",
       "    .dataframe thead th {\n",
       "        text-align: left;\n",
       "    }\n",
       "\n",
       "    .dataframe tbody tr th {\n",
       "        vertical-align: top;\n",
       "    }\n",
       "</style>\n",
       "<table border=\"1\" class=\"dataframe\">\n",
       "  <thead>\n",
       "    <tr style=\"text-align: right;\">\n",
       "      <th></th>\n",
       "      <th>ID</th>\n",
       "      <th>Country</th>\n",
       "      <th>Carrier</th>\n",
       "      <th>TrafficType</th>\n",
       "      <th>Device</th>\n",
       "      <th>Browser</th>\n",
       "      <th>OS</th>\n",
       "      <th>RefererUrl</th>\n",
       "      <th>UserIp</th>\n",
       "      <th>ConversionStatus</th>\n",
       "      <th>ConversionDate</th>\n",
       "      <th>ConversionPayOut</th>\n",
       "      <th>advertiserCampaignId</th>\n",
       "      <th>Fraud</th>\n",
       "      <th>DayPeriod</th>\n",
       "      <th>NEWCNTRY</th>\n",
       "      <th>FRDCLS</th>\n",
       "      <th>NEWCARR</th>\n",
       "      <th>CARRFRD</th>\n",
       "      <th>NEWDEV</th>\n",
       "      <th>DEVFRD</th>\n",
       "      <th>NEWBRWSR</th>\n",
       "      <th>BRWSRFRD</th>\n",
       "      <th>NEWADCM</th>\n",
       "      <th>ADFRD</th>\n",
       "    </tr>\n",
       "  </thead>\n",
       "  <tbody>\n",
       "    <tr>\n",
       "      <th>0</th>\n",
       "      <td>60317302</td>\n",
       "      <td>IN</td>\n",
       "      <td>4</td>\n",
       "      <td>A</td>\n",
       "      <td>Generic</td>\n",
       "      <td>android_webkit</td>\n",
       "      <td>Android</td>\n",
       "      <td>0</td>\n",
       "      <td>106.78.209.186</td>\n",
       "      <td>0</td>\n",
       "      <td>NaN</td>\n",
       "      <td>0.0</td>\n",
       "      <td>10128</td>\n",
       "      <td>0</td>\n",
       "      <td>TuePM1</td>\n",
       "      <td>IN</td>\n",
       "      <td>CL7</td>\n",
       "      <td>CR5</td>\n",
       "      <td>H</td>\n",
       "      <td>Generic</td>\n",
       "      <td>VH</td>\n",
       "      <td>ANDWEB</td>\n",
       "      <td>H</td>\n",
       "      <td>ADCM14</td>\n",
       "      <td>H</td>\n",
       "    </tr>\n",
       "    <tr>\n",
       "      <th>1</th>\n",
       "      <td>57103822</td>\n",
       "      <td>ID</td>\n",
       "      <td>47</td>\n",
       "      <td>M</td>\n",
       "      <td>Asus</td>\n",
       "      <td>chrome</td>\n",
       "      <td>Android</td>\n",
       "      <td>0</td>\n",
       "      <td>120.188.39.3</td>\n",
       "      <td>0</td>\n",
       "      <td>NaN</td>\n",
       "      <td>0.0</td>\n",
       "      <td>735</td>\n",
       "      <td>0</td>\n",
       "      <td>MonPM4</td>\n",
       "      <td>ID</td>\n",
       "      <td>CL7</td>\n",
       "      <td>CR10</td>\n",
       "      <td>M</td>\n",
       "      <td>Asus</td>\n",
       "      <td>M</td>\n",
       "      <td>CHROME</td>\n",
       "      <td>H</td>\n",
       "      <td>ADCM12</td>\n",
       "      <td>M</td>\n",
       "    </tr>\n",
       "    <tr>\n",
       "      <th>2</th>\n",
       "      <td>30999692</td>\n",
       "      <td>BD</td>\n",
       "      <td>125</td>\n",
       "      <td>M</td>\n",
       "      <td>Generic</td>\n",
       "      <td>android_webkit</td>\n",
       "      <td>Android</td>\n",
       "      <td>0</td>\n",
       "      <td>202.134.13.136</td>\n",
       "      <td>0</td>\n",
       "      <td>NaN</td>\n",
       "      <td>0.0</td>\n",
       "      <td>4901</td>\n",
       "      <td>0</td>\n",
       "      <td>ThrPM1</td>\n",
       "      <td>BD</td>\n",
       "      <td>CL8</td>\n",
       "      <td>CR16</td>\n",
       "      <td>H</td>\n",
       "      <td>Generic</td>\n",
       "      <td>VH</td>\n",
       "      <td>ANDWEB</td>\n",
       "      <td>H</td>\n",
       "      <td>ADCM8</td>\n",
       "      <td>H</td>\n",
       "    </tr>\n",
       "    <tr>\n",
       "      <th>3</th>\n",
       "      <td>59559116</td>\n",
       "      <td>IN</td>\n",
       "      <td>1</td>\n",
       "      <td>M</td>\n",
       "      <td>Generic</td>\n",
       "      <td>46.0.2490.76</td>\n",
       "      <td>Android</td>\n",
       "      <td>0</td>\n",
       "      <td>223.184.27.187</td>\n",
       "      <td>0</td>\n",
       "      <td>NaN</td>\n",
       "      <td>0.0</td>\n",
       "      <td>16407</td>\n",
       "      <td>0</td>\n",
       "      <td>TueAM4</td>\n",
       "      <td>IN</td>\n",
       "      <td>CL7</td>\n",
       "      <td>CR2</td>\n",
       "      <td>M</td>\n",
       "      <td>Generic</td>\n",
       "      <td>VH</td>\n",
       "      <td>OTHBRW</td>\n",
       "      <td>L</td>\n",
       "      <td>ADCMOT</td>\n",
       "      <td>L</td>\n",
       "    </tr>\n",
       "    <tr>\n",
       "      <th>4</th>\n",
       "      <td>17487057</td>\n",
       "      <td>TH</td>\n",
       "      <td>20</td>\n",
       "      <td>A</td>\n",
       "      <td>AIS</td>\n",
       "      <td>chrome</td>\n",
       "      <td>Android</td>\n",
       "      <td>0</td>\n",
       "      <td>182.232.30.98</td>\n",
       "      <td>0</td>\n",
       "      <td>NaN</td>\n",
       "      <td>0.0</td>\n",
       "      <td>7510</td>\n",
       "      <td>0</td>\n",
       "      <td>TuePM1</td>\n",
       "      <td>TH</td>\n",
       "      <td>CL6</td>\n",
       "      <td>CR9</td>\n",
       "      <td>M</td>\n",
       "      <td>UnOthers</td>\n",
       "      <td>L</td>\n",
       "      <td>CHROME</td>\n",
       "      <td>H</td>\n",
       "      <td>ADCM1</td>\n",
       "      <td>VH</td>\n",
       "    </tr>\n",
       "  </tbody>\n",
       "</table>\n",
       "</div>"
      ],
      "text/plain": [
       "         ID Country Carrier TrafficType   Device         Browser       OS  \\\n",
       "0  60317302      IN       4           A  Generic  android_webkit  Android   \n",
       "1  57103822      ID      47           M     Asus          chrome  Android   \n",
       "2  30999692      BD     125           M  Generic  android_webkit  Android   \n",
       "3  59559116      IN       1           M  Generic    46.0.2490.76  Android   \n",
       "4  17487057      TH      20           A      AIS          chrome  Android   \n",
       "\n",
       "   RefererUrl          UserIp  ConversionStatus ConversionDate  \\\n",
       "0           0  106.78.209.186                 0            NaN   \n",
       "1           0    120.188.39.3                 0            NaN   \n",
       "2           0  202.134.13.136                 0            NaN   \n",
       "3           0  223.184.27.187                 0            NaN   \n",
       "4           0   182.232.30.98                 0            NaN   \n",
       "\n",
       "   ConversionPayOut  advertiserCampaignId  Fraud DayPeriod NEWCNTRY FRDCLS  \\\n",
       "0               0.0                 10128      0    TuePM1       IN    CL7   \n",
       "1               0.0                   735      0    MonPM4       ID    CL7   \n",
       "2               0.0                  4901      0    ThrPM1       BD    CL8   \n",
       "3               0.0                 16407      0    TueAM4       IN    CL7   \n",
       "4               0.0                  7510      0    TuePM1       TH    CL6   \n",
       "\n",
       "  NEWCARR CARRFRD    NEWDEV DEVFRD NEWBRWSR BRWSRFRD NEWADCM ADFRD  \n",
       "0     CR5       H   Generic     VH   ANDWEB        H  ADCM14     H  \n",
       "1    CR10       M      Asus      M   CHROME        H  ADCM12     M  \n",
       "2    CR16       H   Generic     VH   ANDWEB        H   ADCM8     H  \n",
       "3     CR2       M   Generic     VH   OTHBRW        L  ADCMOT     L  \n",
       "4     CR9       M  UnOthers      L   CHROME        H   ADCM1    VH  "
      ]
     },
     "execution_count": 89,
     "metadata": {},
     "output_type": "execute_result"
    }
   ],
   "source": [
    "Traindf3.head()"
   ]
  },
  {
   "cell_type": "code",
   "execution_count": 90,
   "metadata": {
    "collapsed": true
   },
   "outputs": [],
   "source": [
    "Traindf3['DEVFRD']=Traindf3.DEVFRD.fillna('L').astype(str)\n",
    "Traindf3['NEWDEV']=Traindf3.NEWDEV.fillna('UnOthers').astype(str)"
   ]
  },
  {
   "cell_type": "code",
   "execution_count": 91,
   "metadata": {},
   "outputs": [
    {
     "data": {
      "text/html": [
       "<div>\n",
       "<style>\n",
       "    .dataframe thead tr:only-child th {\n",
       "        text-align: right;\n",
       "    }\n",
       "\n",
       "    .dataframe thead th {\n",
       "        text-align: left;\n",
       "    }\n",
       "\n",
       "    .dataframe tbody tr th {\n",
       "        vertical-align: top;\n",
       "    }\n",
       "</style>\n",
       "<table border=\"1\" class=\"dataframe\">\n",
       "  <thead>\n",
       "    <tr style=\"text-align: right;\">\n",
       "      <th></th>\n",
       "      <th>Missing Ratio</th>\n",
       "      <th>Missing Total</th>\n",
       "    </tr>\n",
       "  </thead>\n",
       "  <tbody>\n",
       "    <tr>\n",
       "      <th>ConversionDate</th>\n",
       "      <td>83.333333</td>\n",
       "      <td>5000000</td>\n",
       "    </tr>\n",
       "    <tr>\n",
       "      <th>ConversionPayOut</th>\n",
       "      <td>0.001083</td>\n",
       "      <td>65</td>\n",
       "    </tr>\n",
       "    <tr>\n",
       "      <th>ADFRD</th>\n",
       "      <td>0.000000</td>\n",
       "      <td>0</td>\n",
       "    </tr>\n",
       "    <tr>\n",
       "      <th>Country</th>\n",
       "      <td>0.000000</td>\n",
       "      <td>0</td>\n",
       "    </tr>\n",
       "    <tr>\n",
       "      <th>Carrier</th>\n",
       "      <td>0.000000</td>\n",
       "      <td>0</td>\n",
       "    </tr>\n",
       "  </tbody>\n",
       "</table>\n",
       "</div>"
      ],
      "text/plain": [
       "                  Missing Ratio  Missing Total\n",
       "ConversionDate        83.333333        5000000\n",
       "ConversionPayOut       0.001083             65\n",
       "ADFRD                  0.000000              0\n",
       "Country                0.000000              0\n",
       "Carrier                0.000000              0"
      ]
     },
     "execution_count": 91,
     "metadata": {},
     "output_type": "execute_result"
    }
   ],
   "source": [
    "# Checking for the ratio of missing value after replacement\n",
    "Total = Traindf3.isnull().sum().sort_values(ascending=False)[:30]\n",
    "percent = ((Traindf3.isnull().sum()/Traindf3.isnull().count())*100).sort_values(ascending=False)[:30]\n",
    "missing_data = pd.DataFrame({'Missing Ratio' :percent, 'Missing Total':Total})\n",
    "missing_data.head()"
   ]
  },
  {
   "cell_type": "code",
   "execution_count": 25,
   "metadata": {
    "collapsed": true
   },
   "outputs": [],
   "source": [
    "#miss = Traindf1[Traindf1['DEVFRD'].isnull()]\n",
    "#miss.head()\n",
    "#del miss"
   ]
  },
  {
   "cell_type": "code",
   "execution_count": 92,
   "metadata": {
    "collapsed": true
   },
   "outputs": [],
   "source": [
    "# Creating a Category as Android Yes / No\n",
    "Traindf3['AndroidOS'] = np.where(Traindf3['OS']=='Android', 'yes', 'no')\n",
    "del Traindf3['OS']"
   ]
  },
  {
   "cell_type": "code",
   "execution_count": 93,
   "metadata": {
    "collapsed": true
   },
   "outputs": [],
   "source": [
    "# Convert the User Ip Address as Classes that they belong\n",
    "Traindf3['FirstIP'] = Traindf3['UserIp'].str.split('.').str[0]\n",
    "Traindf3['FirstIP'] = Traindf3['FirstIP'].astype(int)\n",
    "\n",
    "def func1(row):\n",
    "    if row['FirstIP'] <= 128:\n",
    "        val = 'ClassA'\n",
    "    elif row['FirstIP'] <= 191:\n",
    "        val = 'ClassB'\n",
    "    elif row['FirstIP'] <= 223:\n",
    "        val = 'ClassC'\n",
    "    elif row['FirstIP'] <= 239:\n",
    "        val = 'ClassD'\n",
    "    elif row['FirstIP'] <= 255:\n",
    "        val = 'ClassE'\n",
    "    else:\n",
    "        val = 'NoClass'\n",
    "    return val\n",
    "\n",
    "Traindf3['IPClass'] = Traindf3.apply(func1, axis = 1).astype(str)\n",
    "del Traindf3['FirstIP'], Traindf3['UserIp']"
   ]
  },
  {
   "cell_type": "code",
   "execution_count": 94,
   "metadata": {
    "collapsed": true
   },
   "outputs": [],
   "source": [
    "# Remove the Y's\n",
    "All_y3 = Traindf3[['ID', 'ConversionStatus','ConversionDate','ConversionPayOut']]"
   ]
  },
  {
   "cell_type": "code",
   "execution_count": 95,
   "metadata": {
    "collapsed": true
   },
   "outputs": [],
   "source": [
    "# Removing the variables that are part of Y\n",
    "del Traindf3['ConversionStatus'],Traindf3['ConversionDate'],Traindf3['ConversionPayOut']"
   ]
  },
  {
   "cell_type": "code",
   "execution_count": 96,
   "metadata": {
    "collapsed": true
   },
   "outputs": [],
   "source": [
    "# Remove unnecessary varaibles\n",
    "del Traindf3['Country'],Traindf3['Carrier'],Traindf3['Device'],Traindf3['Browser'],Traindf3['advertiserCampaignId']"
   ]
  },
  {
   "cell_type": "code",
   "execution_count": 97,
   "metadata": {},
   "outputs": [
    {
     "data": {
      "text/plain": [
       "(6000000, 17)"
      ]
     },
     "execution_count": 97,
     "metadata": {},
     "output_type": "execute_result"
    }
   ],
   "source": [
    "Traindf3.shape"
   ]
  },
  {
   "cell_type": "code",
   "execution_count": 98,
   "metadata": {},
   "outputs": [
    {
     "data": {
      "text/html": [
       "<div>\n",
       "<style>\n",
       "    .dataframe thead tr:only-child th {\n",
       "        text-align: right;\n",
       "    }\n",
       "\n",
       "    .dataframe thead th {\n",
       "        text-align: left;\n",
       "    }\n",
       "\n",
       "    .dataframe tbody tr th {\n",
       "        vertical-align: top;\n",
       "    }\n",
       "</style>\n",
       "<table border=\"1\" class=\"dataframe\">\n",
       "  <thead>\n",
       "    <tr style=\"text-align: right;\">\n",
       "      <th></th>\n",
       "      <th>ID</th>\n",
       "      <th>TrafficType</th>\n",
       "      <th>RefererUrl</th>\n",
       "      <th>Fraud</th>\n",
       "      <th>DayPeriod</th>\n",
       "      <th>NEWCNTRY</th>\n",
       "      <th>FRDCLS</th>\n",
       "      <th>NEWCARR</th>\n",
       "      <th>CARRFRD</th>\n",
       "      <th>NEWDEV</th>\n",
       "      <th>DEVFRD</th>\n",
       "      <th>NEWBRWSR</th>\n",
       "      <th>BRWSRFRD</th>\n",
       "      <th>NEWADCM</th>\n",
       "      <th>ADFRD</th>\n",
       "      <th>AndroidOS</th>\n",
       "      <th>IPClass</th>\n",
       "    </tr>\n",
       "  </thead>\n",
       "  <tbody>\n",
       "    <tr>\n",
       "      <th>0</th>\n",
       "      <td>60317302</td>\n",
       "      <td>A</td>\n",
       "      <td>0</td>\n",
       "      <td>0</td>\n",
       "      <td>TuePM1</td>\n",
       "      <td>IN</td>\n",
       "      <td>CL7</td>\n",
       "      <td>CR5</td>\n",
       "      <td>H</td>\n",
       "      <td>Generic</td>\n",
       "      <td>VH</td>\n",
       "      <td>ANDWEB</td>\n",
       "      <td>H</td>\n",
       "      <td>ADCM14</td>\n",
       "      <td>H</td>\n",
       "      <td>yes</td>\n",
       "      <td>ClassA</td>\n",
       "    </tr>\n",
       "    <tr>\n",
       "      <th>1</th>\n",
       "      <td>57103822</td>\n",
       "      <td>M</td>\n",
       "      <td>0</td>\n",
       "      <td>0</td>\n",
       "      <td>MonPM4</td>\n",
       "      <td>ID</td>\n",
       "      <td>CL7</td>\n",
       "      <td>CR10</td>\n",
       "      <td>M</td>\n",
       "      <td>Asus</td>\n",
       "      <td>M</td>\n",
       "      <td>CHROME</td>\n",
       "      <td>H</td>\n",
       "      <td>ADCM12</td>\n",
       "      <td>M</td>\n",
       "      <td>yes</td>\n",
       "      <td>ClassA</td>\n",
       "    </tr>\n",
       "    <tr>\n",
       "      <th>2</th>\n",
       "      <td>30999692</td>\n",
       "      <td>M</td>\n",
       "      <td>0</td>\n",
       "      <td>0</td>\n",
       "      <td>ThrPM1</td>\n",
       "      <td>BD</td>\n",
       "      <td>CL8</td>\n",
       "      <td>CR16</td>\n",
       "      <td>H</td>\n",
       "      <td>Generic</td>\n",
       "      <td>VH</td>\n",
       "      <td>ANDWEB</td>\n",
       "      <td>H</td>\n",
       "      <td>ADCM8</td>\n",
       "      <td>H</td>\n",
       "      <td>yes</td>\n",
       "      <td>ClassC</td>\n",
       "    </tr>\n",
       "    <tr>\n",
       "      <th>3</th>\n",
       "      <td>59559116</td>\n",
       "      <td>M</td>\n",
       "      <td>0</td>\n",
       "      <td>0</td>\n",
       "      <td>TueAM4</td>\n",
       "      <td>IN</td>\n",
       "      <td>CL7</td>\n",
       "      <td>CR2</td>\n",
       "      <td>M</td>\n",
       "      <td>Generic</td>\n",
       "      <td>VH</td>\n",
       "      <td>OTHBRW</td>\n",
       "      <td>L</td>\n",
       "      <td>ADCMOT</td>\n",
       "      <td>L</td>\n",
       "      <td>yes</td>\n",
       "      <td>ClassC</td>\n",
       "    </tr>\n",
       "    <tr>\n",
       "      <th>4</th>\n",
       "      <td>17487057</td>\n",
       "      <td>A</td>\n",
       "      <td>0</td>\n",
       "      <td>0</td>\n",
       "      <td>TuePM1</td>\n",
       "      <td>TH</td>\n",
       "      <td>CL6</td>\n",
       "      <td>CR9</td>\n",
       "      <td>M</td>\n",
       "      <td>UnOthers</td>\n",
       "      <td>L</td>\n",
       "      <td>CHROME</td>\n",
       "      <td>H</td>\n",
       "      <td>ADCM1</td>\n",
       "      <td>VH</td>\n",
       "      <td>yes</td>\n",
       "      <td>ClassB</td>\n",
       "    </tr>\n",
       "  </tbody>\n",
       "</table>\n",
       "</div>"
      ],
      "text/plain": [
       "         ID TrafficType  RefererUrl  Fraud DayPeriod NEWCNTRY FRDCLS NEWCARR  \\\n",
       "0  60317302           A           0      0    TuePM1       IN    CL7     CR5   \n",
       "1  57103822           M           0      0    MonPM4       ID    CL7    CR10   \n",
       "2  30999692           M           0      0    ThrPM1       BD    CL8    CR16   \n",
       "3  59559116           M           0      0    TueAM4       IN    CL7     CR2   \n",
       "4  17487057           A           0      0    TuePM1       TH    CL6     CR9   \n",
       "\n",
       "  CARRFRD    NEWDEV DEVFRD NEWBRWSR BRWSRFRD NEWADCM ADFRD AndroidOS IPClass  \n",
       "0       H   Generic     VH   ANDWEB        H  ADCM14     H       yes  ClassA  \n",
       "1       M      Asus      M   CHROME        H  ADCM12     M       yes  ClassA  \n",
       "2       H   Generic     VH   ANDWEB        H   ADCM8     H       yes  ClassC  \n",
       "3       M   Generic     VH   OTHBRW        L  ADCMOT     L       yes  ClassC  \n",
       "4       M  UnOthers      L   CHROME        H   ADCM1    VH       yes  ClassB  "
      ]
     },
     "execution_count": 98,
     "metadata": {},
     "output_type": "execute_result"
    }
   ],
   "source": [
    "Traindf3.head()"
   ]
  },
  {
   "cell_type": "code",
   "execution_count": 99,
   "metadata": {
    "collapsed": true
   },
   "outputs": [],
   "source": [
    "Traindf3.columns = ['ID','TrafficType','RefererUrl','Fraud','DayPeriod','Country','CountryFrd','Carrier','CarrierFrd',\n",
    "                    'Device','DeviceFrd','Browser','BrowserFrd','AdvCampaign','AdvCampaignFrd','AndroidOS','IPClass']"
   ]
  },
  {
   "cell_type": "code",
   "execution_count": 100,
   "metadata": {
    "collapsed": true
   },
   "outputs": [],
   "source": [
    "#Traindf1.to_csv('ClassifierTrain1.csv', index= False)\n",
    "#Traindf2.to_csv('ClassifierTrain2.csv', index= False)\n",
    "Traindf3.to_csv('ClassifierTrain3.csv', index= False)"
   ]
  },
  {
   "cell_type": "code",
   "execution_count": 101,
   "metadata": {
    "collapsed": true
   },
   "outputs": [],
   "source": [
    "#All_y1.to_csv('All_y1.csv', index=False)\n",
    "#All_y2.to_csv('All_y2.csv', index=False)\n",
    "All_y3.to_csv('All_y3.csv', index=False)"
   ]
  },
  {
   "cell_type": "code",
   "execution_count": 102,
   "metadata": {},
   "outputs": [
    {
     "name": "stdout",
     "output_type": "stream",
     "text": [
      "(6000000, 17) (6000000, 4)\n"
     ]
    }
   ],
   "source": [
    "#print (Traindf1.shape, All_y1.shape)\n",
    "#print (Traindf2.shape, All_y2.shape)\n",
    "print (Traindf3.shape, All_y3.shape)"
   ]
  },
  {
   "cell_type": "code",
   "execution_count": 103,
   "metadata": {
    "collapsed": true
   },
   "outputs": [],
   "source": [
    "#del Traindf1,All_y1\n",
    "#del Traindf2,All_y2\n",
    "del Traindf3,All_y3"
   ]
  },
  {
   "cell_type": "markdown",
   "metadata": {},
   "source": [
    "# Convert the Test data"
   ]
  },
  {
   "cell_type": "code",
   "execution_count": 1,
   "metadata": {
    "collapsed": true
   },
   "outputs": [],
   "source": [
    "import pandas as pd\n",
    "import numpy as np\n",
    "import matplotlib.pyplot as plt\n",
    "import time\n",
    "pd.set_option('display.max_columns', 99)\n",
    "pd.set_option('display.max_rows', 999)"
   ]
  },
  {
   "cell_type": "code",
   "execution_count": 2,
   "metadata": {},
   "outputs": [
    {
     "name": "stderr",
     "output_type": "stream",
     "text": [
      "/usr/local/lib/python3.5/site-packages/IPython/core/interactiveshell.py:2698: DtypeWarning: Columns (10) have mixed types. Specify dtype option on import or set low_memory=False.\n",
      "  interactivity=interactivity, compiler=compiler, result=result)\n"
     ]
    }
   ],
   "source": [
    "#filename = '/Users/viswanathravindran/AVDatahack/ADClick/RawData/test.csv'\n",
    "#Testdf = pd.read_csv(filename, nrows=50000)\n",
    "Testdf = pd.read_csv('/advdata/test.csv')"
   ]
  },
  {
   "cell_type": "code",
   "execution_count": 3,
   "metadata": {},
   "outputs": [
    {
     "data": {
      "text/plain": [
       "(25548873, 14)"
      ]
     },
     "execution_count": 3,
     "metadata": {},
     "output_type": "execute_result"
    }
   ],
   "source": [
    "Testdf.shape"
   ]
  },
  {
   "cell_type": "code",
   "execution_count": 4,
   "metadata": {},
   "outputs": [
    {
     "data": {
      "text/html": [
       "<div>\n",
       "<style>\n",
       "    .dataframe thead tr:only-child th {\n",
       "        text-align: right;\n",
       "    }\n",
       "\n",
       "    .dataframe thead th {\n",
       "        text-align: left;\n",
       "    }\n",
       "\n",
       "    .dataframe tbody tr th {\n",
       "        vertical-align: top;\n",
       "    }\n",
       "</style>\n",
       "<table border=\"1\" class=\"dataframe\">\n",
       "  <thead>\n",
       "    <tr style=\"text-align: right;\">\n",
       "      <th></th>\n",
       "      <th>ID</th>\n",
       "      <th>Country</th>\n",
       "      <th>Carrier</th>\n",
       "      <th>TrafficType</th>\n",
       "      <th>ClickDate</th>\n",
       "      <th>Device</th>\n",
       "      <th>Browser</th>\n",
       "      <th>OS</th>\n",
       "      <th>RefererUrl</th>\n",
       "      <th>UserIp</th>\n",
       "      <th>publisherId</th>\n",
       "      <th>subPublisherId</th>\n",
       "      <th>advertiserCampaignId</th>\n",
       "      <th>Fraud</th>\n",
       "    </tr>\n",
       "  </thead>\n",
       "  <tbody>\n",
       "    <tr>\n",
       "      <th>0</th>\n",
       "      <td>63367289</td>\n",
       "      <td>IN</td>\n",
       "      <td>5.0</td>\n",
       "      <td>NaN</td>\n",
       "      <td>2017-08-31 00:00:01</td>\n",
       "      <td>Generic</td>\n",
       "      <td>uc</td>\n",
       "      <td>Android</td>\n",
       "      <td>NaN</td>\n",
       "      <td>101.58.211.15</td>\n",
       "      <td>1479</td>\n",
       "      <td>NaN</td>\n",
       "      <td>16216.0</td>\n",
       "      <td>0.0</td>\n",
       "    </tr>\n",
       "    <tr>\n",
       "      <th>1</th>\n",
       "      <td>63367290</td>\n",
       "      <td>IN</td>\n",
       "      <td>2.0</td>\n",
       "      <td>M</td>\n",
       "      <td>2017-08-31 00:00:01</td>\n",
       "      <td>Datawind</td>\n",
       "      <td>chrome</td>\n",
       "      <td>Android</td>\n",
       "      <td>NaN</td>\n",
       "      <td>42.107.175.145</td>\n",
       "      <td>3734</td>\n",
       "      <td>NaN</td>\n",
       "      <td>1836.0</td>\n",
       "      <td>0.0</td>\n",
       "    </tr>\n",
       "    <tr>\n",
       "      <th>2</th>\n",
       "      <td>63367291</td>\n",
       "      <td>IN</td>\n",
       "      <td>1.0</td>\n",
       "      <td>A</td>\n",
       "      <td>2017-08-31 00:00:01</td>\n",
       "      <td>Panasonic</td>\n",
       "      <td>chrome</td>\n",
       "      <td>Android</td>\n",
       "      <td>synctraff.com</td>\n",
       "      <td>106.223.85.251</td>\n",
       "      <td>282</td>\n",
       "      <td>NaN</td>\n",
       "      <td>13431.0</td>\n",
       "      <td>0.0</td>\n",
       "    </tr>\n",
       "    <tr>\n",
       "      <th>3</th>\n",
       "      <td>63367292</td>\n",
       "      <td>BR</td>\n",
       "      <td>-1.0</td>\n",
       "      <td>M</td>\n",
       "      <td>2017-08-31 00:00:01</td>\n",
       "      <td>Generic</td>\n",
       "      <td>android_webkit</td>\n",
       "      <td>Android</td>\n",
       "      <td>NaN</td>\n",
       "      <td>177.35.22.162</td>\n",
       "      <td>1203</td>\n",
       "      <td>NaN</td>\n",
       "      <td>4787.0</td>\n",
       "      <td>0.0</td>\n",
       "    </tr>\n",
       "    <tr>\n",
       "      <th>4</th>\n",
       "      <td>63367293</td>\n",
       "      <td>IN</td>\n",
       "      <td>3.0</td>\n",
       "      <td>A</td>\n",
       "      <td>2017-08-31 00:00:01</td>\n",
       "      <td>Micromax</td>\n",
       "      <td>chrome</td>\n",
       "      <td>Android</td>\n",
       "      <td>NaN</td>\n",
       "      <td>101.210.255.232</td>\n",
       "      <td>597</td>\n",
       "      <td>NaN</td>\n",
       "      <td>9769.0</td>\n",
       "      <td>0.0</td>\n",
       "    </tr>\n",
       "  </tbody>\n",
       "</table>\n",
       "</div>"
      ],
      "text/plain": [
       "         ID Country  Carrier TrafficType            ClickDate     Device  \\\n",
       "0  63367289      IN      5.0         NaN  2017-08-31 00:00:01    Generic   \n",
       "1  63367290      IN      2.0           M  2017-08-31 00:00:01   Datawind   \n",
       "2  63367291      IN      1.0           A  2017-08-31 00:00:01  Panasonic   \n",
       "3  63367292      BR     -1.0           M  2017-08-31 00:00:01    Generic   \n",
       "4  63367293      IN      3.0           A  2017-08-31 00:00:01   Micromax   \n",
       "\n",
       "          Browser       OS     RefererUrl           UserIp publisherId  \\\n",
       "0              uc  Android            NaN    101.58.211.15        1479   \n",
       "1          chrome  Android            NaN   42.107.175.145        3734   \n",
       "2          chrome  Android  synctraff.com   106.223.85.251         282   \n",
       "3  android_webkit  Android            NaN    177.35.22.162        1203   \n",
       "4          chrome  Android            NaN  101.210.255.232         597   \n",
       "\n",
       "  subPublisherId  advertiserCampaignId  Fraud  \n",
       "0            NaN               16216.0    0.0  \n",
       "1            NaN                1836.0    0.0  \n",
       "2            NaN               13431.0    0.0  \n",
       "3            NaN                4787.0    0.0  \n",
       "4            NaN                9769.0    0.0  "
      ]
     },
     "execution_count": 4,
     "metadata": {},
     "output_type": "execute_result"
    }
   ],
   "source": [
    "Testdf.head()"
   ]
  },
  {
   "cell_type": "code",
   "execution_count": 6,
   "metadata": {
    "collapsed": true
   },
   "outputs": [],
   "source": [
    "# Replace the Missing value based on analysis\n",
    "Testdf['Fraud'] = Testdf['Fraud'].astype(np.int)\n",
    "Testdf['Device'] = Testdf['Device'].astype(str)\n",
    "Testdf['advertiserCampaignId'] = Testdf.advertiserCampaignId.fillna(7510).astype(np.int)\n",
    "Testdf['RefererUrl'] = Testdf.RefererUrl.fillna('NoRefer').astype(str)"
   ]
  },
  {
   "cell_type": "code",
   "execution_count": 8,
   "metadata": {
    "collapsed": true
   },
   "outputs": [],
   "source": [
    "Testdf['TrafficType'] = Testdf['TrafficType'].fillna(pd.Series(np.random.choice(['A','M'], p=[0.60,0.40], size=len(Testdf))))\n",
    "Testdf['Browser'] = Testdf['Browser'].fillna(pd.Series(np.random.choice(['android_webkit','chrome'], p=[0.60,0.40], size=len(Testdf))))\n",
    "Testdf['OS'] = Testdf['OS'].fillna(pd.Series(np.random.choice(['Android','Desktop','iOS'], p=[0.95,0.03,0.02], size=len(Testdf))))\n",
    "Testdf['Device'] = Testdf['Device'].fillna(pd.Series(np.random.choice(['Generic','Samsung','Alcatel','Micromax','Lenovo'], p=[0.50,0.20,0.10,0.10,0.10], size=len(Testdf))))\n",
    "Testdf['Country'] = Testdf['Country'].fillna(pd.Series(np.random.choice(['IN','BD','RU','ID','NG'], p=[0.50,0.15,0.13,0.12,0.10], size=len(Testdf))))"
   ]
  },
  {
   "cell_type": "code",
   "execution_count": 9,
   "metadata": {},
   "outputs": [
    {
     "data": {
      "text/html": [
       "<div>\n",
       "<style>\n",
       "    .dataframe thead tr:only-child th {\n",
       "        text-align: right;\n",
       "    }\n",
       "\n",
       "    .dataframe thead th {\n",
       "        text-align: left;\n",
       "    }\n",
       "\n",
       "    .dataframe tbody tr th {\n",
       "        vertical-align: top;\n",
       "    }\n",
       "</style>\n",
       "<table border=\"1\" class=\"dataframe\">\n",
       "  <thead>\n",
       "    <tr style=\"text-align: right;\">\n",
       "      <th></th>\n",
       "      <th>Missing Ratio</th>\n",
       "      <th>Missing Total</th>\n",
       "    </tr>\n",
       "  </thead>\n",
       "  <tbody>\n",
       "    <tr>\n",
       "      <th>subPublisherId</th>\n",
       "      <td>97.288667</td>\n",
       "      <td>24856158</td>\n",
       "    </tr>\n",
       "    <tr>\n",
       "      <th>publisherId</th>\n",
       "      <td>0.000595</td>\n",
       "      <td>152</td>\n",
       "    </tr>\n",
       "    <tr>\n",
       "      <th>Fraud</th>\n",
       "      <td>0.000000</td>\n",
       "      <td>0</td>\n",
       "    </tr>\n",
       "    <tr>\n",
       "      <th>advertiserCampaignId</th>\n",
       "      <td>0.000000</td>\n",
       "      <td>0</td>\n",
       "    </tr>\n",
       "    <tr>\n",
       "      <th>UserIp</th>\n",
       "      <td>0.000000</td>\n",
       "      <td>0</td>\n",
       "    </tr>\n",
       "    <tr>\n",
       "      <th>RefererUrl</th>\n",
       "      <td>0.000000</td>\n",
       "      <td>0</td>\n",
       "    </tr>\n",
       "    <tr>\n",
       "      <th>OS</th>\n",
       "      <td>0.000000</td>\n",
       "      <td>0</td>\n",
       "    </tr>\n",
       "    <tr>\n",
       "      <th>Browser</th>\n",
       "      <td>0.000000</td>\n",
       "      <td>0</td>\n",
       "    </tr>\n",
       "    <tr>\n",
       "      <th>Device</th>\n",
       "      <td>0.000000</td>\n",
       "      <td>0</td>\n",
       "    </tr>\n",
       "    <tr>\n",
       "      <th>ClickDate</th>\n",
       "      <td>0.000000</td>\n",
       "      <td>0</td>\n",
       "    </tr>\n",
       "  </tbody>\n",
       "</table>\n",
       "</div>"
      ],
      "text/plain": [
       "                      Missing Ratio  Missing Total\n",
       "subPublisherId            97.288667       24856158\n",
       "publisherId                0.000595            152\n",
       "Fraud                      0.000000              0\n",
       "advertiserCampaignId       0.000000              0\n",
       "UserIp                     0.000000              0\n",
       "RefererUrl                 0.000000              0\n",
       "OS                         0.000000              0\n",
       "Browser                    0.000000              0\n",
       "Device                     0.000000              0\n",
       "ClickDate                  0.000000              0"
      ]
     },
     "execution_count": 9,
     "metadata": {},
     "output_type": "execute_result"
    }
   ],
   "source": [
    "# Checking for the ratio of missing value after replacement\n",
    "Total = Testdf.isnull().sum().sort_values(ascending=False)[:30]\n",
    "percent = ((Testdf.isnull().sum()/Testdf.isnull().count())*100).sort_values(ascending=False)[:30]\n",
    "missing_data = pd.DataFrame({'Missing Ratio' :percent, 'Missing Total':Total})\n",
    "missing_data.head(10)"
   ]
  },
  {
   "cell_type": "code",
   "execution_count": 10,
   "metadata": {
    "collapsed": true
   },
   "outputs": [],
   "source": [
    "del Testdf['publisherId']"
   ]
  },
  {
   "cell_type": "code",
   "execution_count": 11,
   "metadata": {
    "collapsed": true
   },
   "outputs": [],
   "source": [
    "# Change the Referral URL as either Yes or No\n",
    "Testdf['RefererUrl'] = np.where(Testdf['RefererUrl']=='NoRefer', 0, 1).astype(int)"
   ]
  },
  {
   "cell_type": "code",
   "execution_count": 12,
   "metadata": {
    "collapsed": true
   },
   "outputs": [],
   "source": [
    "# Handing the ClickDate field as a Date\n",
    "Testdf['ClickDate'] = pd.to_datetime(Testdf['ClickDate'])"
   ]
  },
  {
   "cell_type": "code",
   "execution_count": 13,
   "metadata": {
    "collapsed": true
   },
   "outputs": [],
   "source": [
    "# Feature Enginerring to Create New variables for Day of Week and Day part\n",
    "Testdf['Weekday'] = (Testdf['ClickDate'].dt.dayofweek).astype(int)\n",
    "Testdf['Dayhour'] = (Testdf.ClickDate.apply(lambda x: x.hour)).astype(int)"
   ]
  },
  {
   "cell_type": "code",
   "execution_count": 14,
   "metadata": {
    "collapsed": true
   },
   "outputs": [],
   "source": [
    "# To remove Ordinality in both Weekday and DayHour variables convert into Categories\n",
    "Testdf['Weekday'] = Testdf['Weekday'].map( {0: 'Sun', 1: 'Mon', 2: 'Tue', 3: 'Wed',\n",
    "                                              4: 'Thr', 5: 'Fri', 6: 'Sat'} ).astype(str)\n",
    "Testdf['Dayhour'] = Testdf['Dayhour'].map( {0: 'AM1', 1: 'AM1', 2: 'AM1', 3: 'AM2', 4: 'AM2', 5: 'AM2', \n",
    "                                              6: 'AM3', 7: 'AM3', 8: 'AM3', 9: 'AM4', 10: 'AM4', 11: 'AM4', 12: 'PM1', \n",
    "                                              13: 'PM1', 14: 'PM1', 15: 'PM2', 16: 'PM2', 17: 'PM2', 18: 'PM3', \n",
    "                                              19: 'PM3', 20: 'PM3', 21: 'PM4', 22: 'PM4', 23: 'PM4'} ).astype(str)\n",
    "# Delete the Click Date varaible\n",
    "del Testdf['ClickDate']"
   ]
  },
  {
   "cell_type": "code",
   "execution_count": 15,
   "metadata": {
    "collapsed": true
   },
   "outputs": [],
   "source": [
    "Testdf['DayPeriod'] = (Testdf['Weekday'] + Testdf['Dayhour']).astype(str)\n",
    "del Testdf['Weekday'], Testdf['Dayhour']"
   ]
  },
  {
   "cell_type": "code",
   "execution_count": 16,
   "metadata": {
    "collapsed": true
   },
   "outputs": [],
   "source": [
    "Countrydf = pd.read_csv('Countrydf.csv')\n",
    "Carrierdf = pd.read_csv('Carrierdf.csv')\n",
    "Devicedf = pd.read_csv('Devicedf.csv')\n",
    "Browserdf = pd.read_csv('Browserdf.csv')\n",
    "Advertiserdf = pd.read_csv('Advertiserdf.csv')"
   ]
  },
  {
   "cell_type": "code",
   "execution_count": 17,
   "metadata": {},
   "outputs": [
    {
     "data": {
      "text/html": [
       "<div>\n",
       "<style>\n",
       "    .dataframe thead tr:only-child th {\n",
       "        text-align: right;\n",
       "    }\n",
       "\n",
       "    .dataframe thead th {\n",
       "        text-align: left;\n",
       "    }\n",
       "\n",
       "    .dataframe tbody tr th {\n",
       "        vertical-align: top;\n",
       "    }\n",
       "</style>\n",
       "<table border=\"1\" class=\"dataframe\">\n",
       "  <thead>\n",
       "    <tr style=\"text-align: right;\">\n",
       "      <th></th>\n",
       "      <th>ID</th>\n",
       "      <th>Country</th>\n",
       "      <th>Carrier</th>\n",
       "      <th>TrafficType</th>\n",
       "      <th>Device</th>\n",
       "      <th>Browser</th>\n",
       "      <th>OS</th>\n",
       "      <th>RefererUrl</th>\n",
       "      <th>UserIp</th>\n",
       "      <th>subPublisherId</th>\n",
       "      <th>advertiserCampaignId</th>\n",
       "      <th>Fraud</th>\n",
       "      <th>DayPeriod</th>\n",
       "    </tr>\n",
       "  </thead>\n",
       "  <tbody>\n",
       "    <tr>\n",
       "      <th>0</th>\n",
       "      <td>63367289</td>\n",
       "      <td>IN</td>\n",
       "      <td>5.0</td>\n",
       "      <td>A</td>\n",
       "      <td>Generic</td>\n",
       "      <td>uc</td>\n",
       "      <td>Android</td>\n",
       "      <td>0</td>\n",
       "      <td>101.58.211.15</td>\n",
       "      <td>NaN</td>\n",
       "      <td>16216</td>\n",
       "      <td>0</td>\n",
       "      <td>WedAM1</td>\n",
       "    </tr>\n",
       "    <tr>\n",
       "      <th>1</th>\n",
       "      <td>63367290</td>\n",
       "      <td>IN</td>\n",
       "      <td>2.0</td>\n",
       "      <td>M</td>\n",
       "      <td>Datawind</td>\n",
       "      <td>chrome</td>\n",
       "      <td>Android</td>\n",
       "      <td>0</td>\n",
       "      <td>42.107.175.145</td>\n",
       "      <td>NaN</td>\n",
       "      <td>1836</td>\n",
       "      <td>0</td>\n",
       "      <td>WedAM1</td>\n",
       "    </tr>\n",
       "    <tr>\n",
       "      <th>2</th>\n",
       "      <td>63367291</td>\n",
       "      <td>IN</td>\n",
       "      <td>1.0</td>\n",
       "      <td>A</td>\n",
       "      <td>Panasonic</td>\n",
       "      <td>chrome</td>\n",
       "      <td>Android</td>\n",
       "      <td>1</td>\n",
       "      <td>106.223.85.251</td>\n",
       "      <td>NaN</td>\n",
       "      <td>13431</td>\n",
       "      <td>0</td>\n",
       "      <td>WedAM1</td>\n",
       "    </tr>\n",
       "    <tr>\n",
       "      <th>3</th>\n",
       "      <td>63367292</td>\n",
       "      <td>BR</td>\n",
       "      <td>-1.0</td>\n",
       "      <td>M</td>\n",
       "      <td>Generic</td>\n",
       "      <td>android_webkit</td>\n",
       "      <td>Android</td>\n",
       "      <td>0</td>\n",
       "      <td>177.35.22.162</td>\n",
       "      <td>NaN</td>\n",
       "      <td>4787</td>\n",
       "      <td>0</td>\n",
       "      <td>WedAM1</td>\n",
       "    </tr>\n",
       "    <tr>\n",
       "      <th>4</th>\n",
       "      <td>63367293</td>\n",
       "      <td>IN</td>\n",
       "      <td>3.0</td>\n",
       "      <td>A</td>\n",
       "      <td>Micromax</td>\n",
       "      <td>chrome</td>\n",
       "      <td>Android</td>\n",
       "      <td>0</td>\n",
       "      <td>101.210.255.232</td>\n",
       "      <td>NaN</td>\n",
       "      <td>9769</td>\n",
       "      <td>0</td>\n",
       "      <td>WedAM1</td>\n",
       "    </tr>\n",
       "  </tbody>\n",
       "</table>\n",
       "</div>"
      ],
      "text/plain": [
       "         ID Country  Carrier TrafficType     Device         Browser       OS  \\\n",
       "0  63367289      IN      5.0           A    Generic              uc  Android   \n",
       "1  63367290      IN      2.0           M   Datawind          chrome  Android   \n",
       "2  63367291      IN      1.0           A  Panasonic          chrome  Android   \n",
       "3  63367292      BR     -1.0           M    Generic  android_webkit  Android   \n",
       "4  63367293      IN      3.0           A   Micromax          chrome  Android   \n",
       "\n",
       "   RefererUrl           UserIp subPublisherId  advertiserCampaignId  Fraud  \\\n",
       "0           0    101.58.211.15            NaN                 16216      0   \n",
       "1           0   42.107.175.145            NaN                  1836      0   \n",
       "2           1   106.223.85.251            NaN                 13431      0   \n",
       "3           0    177.35.22.162            NaN                  4787      0   \n",
       "4           0  101.210.255.232            NaN                  9769      0   \n",
       "\n",
       "  DayPeriod  \n",
       "0    WedAM1  \n",
       "1    WedAM1  \n",
       "2    WedAM1  \n",
       "3    WedAM1  \n",
       "4    WedAM1  "
      ]
     },
     "execution_count": 17,
     "metadata": {},
     "output_type": "execute_result"
    }
   ],
   "source": [
    "Testdf.head()"
   ]
  },
  {
   "cell_type": "code",
   "execution_count": 18,
   "metadata": {},
   "outputs": [
    {
     "data": {
      "text/plain": [
       "(25548873, 13)"
      ]
     },
     "execution_count": 18,
     "metadata": {},
     "output_type": "execute_result"
    }
   ],
   "source": [
    "Testdf.shape"
   ]
  },
  {
   "cell_type": "code",
   "execution_count": 19,
   "metadata": {},
   "outputs": [
    {
     "data": {
      "text/plain": [
       "(25548873, 15)"
      ]
     },
     "execution_count": 19,
     "metadata": {},
     "output_type": "execute_result"
    }
   ],
   "source": [
    "# Merge back the Columns to train and test\n",
    "Testdf = pd.merge(Testdf,Countrydf, how='left', left_on='Country', right_on='Country')\n",
    "Testdf.shape"
   ]
  },
  {
   "cell_type": "code",
   "execution_count": 20,
   "metadata": {},
   "outputs": [
    {
     "data": {
      "text/plain": [
       "(25548873, 17)"
      ]
     },
     "execution_count": 20,
     "metadata": {},
     "output_type": "execute_result"
    }
   ],
   "source": [
    "Testdf = pd.merge(Testdf,Carrierdf, how='left', left_on='Carrier', right_on='Carrier')\n",
    "Testdf.shape"
   ]
  },
  {
   "cell_type": "code",
   "execution_count": 21,
   "metadata": {},
   "outputs": [
    {
     "data": {
      "text/plain": [
       "(25548873, 19)"
      ]
     },
     "execution_count": 21,
     "metadata": {},
     "output_type": "execute_result"
    }
   ],
   "source": [
    "Testdf = pd.merge(Testdf,Devicedf, how='left', left_on='Device', right_on='Device')\n",
    "Testdf.shape"
   ]
  },
  {
   "cell_type": "code",
   "execution_count": 22,
   "metadata": {},
   "outputs": [
    {
     "data": {
      "text/plain": [
       "(25548873, 21)"
      ]
     },
     "execution_count": 22,
     "metadata": {},
     "output_type": "execute_result"
    }
   ],
   "source": [
    "Testdf = pd.merge(Testdf,Browserdf, how='left', left_on='Browser', right_on='Browser')\n",
    "Testdf.shape"
   ]
  },
  {
   "cell_type": "code",
   "execution_count": 23,
   "metadata": {},
   "outputs": [
    {
     "data": {
      "text/plain": [
       "(25548873, 23)"
      ]
     },
     "execution_count": 23,
     "metadata": {},
     "output_type": "execute_result"
    }
   ],
   "source": [
    "Testdf = pd.merge(Testdf,Advertiserdf, how='left', left_on='advertiserCampaignId', right_on='advertiserCampaignId')\n",
    "Testdf.shape"
   ]
  },
  {
   "cell_type": "code",
   "execution_count": 24,
   "metadata": {
    "collapsed": true
   },
   "outputs": [],
   "source": [
    "Testdf['DEVFRD']=Testdf.DEVFRD.fillna('L').astype(str)\n",
    "Testdf['NEWDEV']=Testdf.NEWDEV.fillna('UnOthers').astype(str)"
   ]
  },
  {
   "cell_type": "code",
   "execution_count": 25,
   "metadata": {},
   "outputs": [
    {
     "data": {
      "text/html": [
       "<div>\n",
       "<style>\n",
       "    .dataframe thead tr:only-child th {\n",
       "        text-align: right;\n",
       "    }\n",
       "\n",
       "    .dataframe thead th {\n",
       "        text-align: left;\n",
       "    }\n",
       "\n",
       "    .dataframe tbody tr th {\n",
       "        vertical-align: top;\n",
       "    }\n",
       "</style>\n",
       "<table border=\"1\" class=\"dataframe\">\n",
       "  <thead>\n",
       "    <tr style=\"text-align: right;\">\n",
       "      <th></th>\n",
       "      <th>Missing Ratio</th>\n",
       "      <th>Missing Total</th>\n",
       "    </tr>\n",
       "  </thead>\n",
       "  <tbody>\n",
       "    <tr>\n",
       "      <th>subPublisherId</th>\n",
       "      <td>97.288667</td>\n",
       "      <td>24856158</td>\n",
       "    </tr>\n",
       "    <tr>\n",
       "      <th>ADFRD</th>\n",
       "      <td>0.000000</td>\n",
       "      <td>0</td>\n",
       "    </tr>\n",
       "    <tr>\n",
       "      <th>advertiserCampaignId</th>\n",
       "      <td>0.000000</td>\n",
       "      <td>0</td>\n",
       "    </tr>\n",
       "    <tr>\n",
       "      <th>Country</th>\n",
       "      <td>0.000000</td>\n",
       "      <td>0</td>\n",
       "    </tr>\n",
       "    <tr>\n",
       "      <th>Carrier</th>\n",
       "      <td>0.000000</td>\n",
       "      <td>0</td>\n",
       "    </tr>\n",
       "    <tr>\n",
       "      <th>TrafficType</th>\n",
       "      <td>0.000000</td>\n",
       "      <td>0</td>\n",
       "    </tr>\n",
       "    <tr>\n",
       "      <th>Device</th>\n",
       "      <td>0.000000</td>\n",
       "      <td>0</td>\n",
       "    </tr>\n",
       "    <tr>\n",
       "      <th>Browser</th>\n",
       "      <td>0.000000</td>\n",
       "      <td>0</td>\n",
       "    </tr>\n",
       "    <tr>\n",
       "      <th>OS</th>\n",
       "      <td>0.000000</td>\n",
       "      <td>0</td>\n",
       "    </tr>\n",
       "    <tr>\n",
       "      <th>RefererUrl</th>\n",
       "      <td>0.000000</td>\n",
       "      <td>0</td>\n",
       "    </tr>\n",
       "  </tbody>\n",
       "</table>\n",
       "</div>"
      ],
      "text/plain": [
       "                      Missing Ratio  Missing Total\n",
       "subPublisherId            97.288667       24856158\n",
       "ADFRD                      0.000000              0\n",
       "advertiserCampaignId       0.000000              0\n",
       "Country                    0.000000              0\n",
       "Carrier                    0.000000              0\n",
       "TrafficType                0.000000              0\n",
       "Device                     0.000000              0\n",
       "Browser                    0.000000              0\n",
       "OS                         0.000000              0\n",
       "RefererUrl                 0.000000              0"
      ]
     },
     "execution_count": 25,
     "metadata": {},
     "output_type": "execute_result"
    }
   ],
   "source": [
    "# Checking for the ratio of missing value after replacement\n",
    "Total = Testdf.isnull().sum().sort_values(ascending=False)[:30]\n",
    "percent = ((Testdf.isnull().sum()/Testdf.isnull().count())*100).sort_values(ascending=False)[:30]\n",
    "missing_data = pd.DataFrame({'Missing Ratio' :percent, 'Missing Total':Total})\n",
    "missing_data.head(10)"
   ]
  },
  {
   "cell_type": "code",
   "execution_count": 22,
   "metadata": {
    "collapsed": true
   },
   "outputs": [],
   "source": [
    "#miss = Testdf[Traindf['PubCount'].isnull()]\n",
    "#miss.shape"
   ]
  },
  {
   "cell_type": "code",
   "execution_count": 26,
   "metadata": {
    "collapsed": true
   },
   "outputs": [],
   "source": [
    "# Creating a Category as Android Yes / No\n",
    "Testdf['AndroidOS'] = np.where(Testdf['OS']=='Android', 'yes', 'no')\n",
    "del Testdf['OS']"
   ]
  },
  {
   "cell_type": "code",
   "execution_count": 27,
   "metadata": {},
   "outputs": [
    {
     "name": "stdout",
     "output_type": "stream",
     "text": [
      "Time taken is : 589.1553823947906\n"
     ]
    }
   ],
   "source": [
    "# Convert the User Ip Address as Classes that they belong\n",
    "t0 = time.time()\n",
    "Testdf['FirstIP'] = Testdf['UserIp'].str.split('.').str[0]\n",
    "Testdf['FirstIP'] = Testdf['FirstIP'].astype(int)\n",
    "\n",
    "def func1(row):\n",
    "    if row['FirstIP'] <= 128:\n",
    "        val = 'ClassA'\n",
    "    elif row['FirstIP'] <= 191:\n",
    "        val = 'ClassB'\n",
    "    elif row['FirstIP'] <= 223:\n",
    "        val = 'ClassC'\n",
    "    elif row['FirstIP'] <= 239:\n",
    "        val = 'ClassD'\n",
    "    elif row['FirstIP'] <= 255:\n",
    "        val = 'ClassE'\n",
    "    else:\n",
    "        val = 'NoClass'\n",
    "    return val\n",
    "\n",
    "Testdf['IPClass'] = Testdf.apply(func1, axis = 1).astype(str)\n",
    "\n",
    "t1 = time.time()\n",
    "print ('Time taken is :',t1 - t0)\n",
    "del Testdf['FirstIP'], Testdf['UserIp']"
   ]
  },
  {
   "cell_type": "code",
   "execution_count": 31,
   "metadata": {
    "collapsed": true
   },
   "outputs": [],
   "source": [
    "# Remove unnecessary varaibles\n",
    "#del Testdf['Country'],Testdf['Carrier'],Testdf['Device'],Testdf['Browser'],Testdf['advertiserCampaignId']\n",
    "del Testdf['subPublisherId']"
   ]
  },
  {
   "cell_type": "code",
   "execution_count": 32,
   "metadata": {},
   "outputs": [
    {
     "data": {
      "text/plain": [
       "(25548873, 17)"
      ]
     },
     "execution_count": 32,
     "metadata": {},
     "output_type": "execute_result"
    }
   ],
   "source": [
    "Testdf.shape"
   ]
  },
  {
   "cell_type": "code",
   "execution_count": 36,
   "metadata": {},
   "outputs": [
    {
     "data": {
      "text/html": [
       "<div>\n",
       "<style>\n",
       "    .dataframe thead tr:only-child th {\n",
       "        text-align: right;\n",
       "    }\n",
       "\n",
       "    .dataframe thead th {\n",
       "        text-align: left;\n",
       "    }\n",
       "\n",
       "    .dataframe tbody tr th {\n",
       "        vertical-align: top;\n",
       "    }\n",
       "</style>\n",
       "<table border=\"1\" class=\"dataframe\">\n",
       "  <thead>\n",
       "    <tr style=\"text-align: right;\">\n",
       "      <th></th>\n",
       "      <th>ID</th>\n",
       "      <th>TrafficType</th>\n",
       "      <th>RefererUrl</th>\n",
       "      <th>Fraud</th>\n",
       "      <th>DayPeriod</th>\n",
       "      <th>Country</th>\n",
       "      <th>CountryFrd</th>\n",
       "      <th>Carrier</th>\n",
       "      <th>CarrierFrd</th>\n",
       "      <th>Device</th>\n",
       "      <th>DeviceFrd</th>\n",
       "      <th>Browser</th>\n",
       "      <th>BrowserFrd</th>\n",
       "      <th>AdvCampaign</th>\n",
       "      <th>AdvCampaignFrd</th>\n",
       "      <th>AndroidOS</th>\n",
       "      <th>IPClass</th>\n",
       "    </tr>\n",
       "  </thead>\n",
       "  <tbody>\n",
       "    <tr>\n",
       "      <th>0</th>\n",
       "      <td>63367289</td>\n",
       "      <td>A</td>\n",
       "      <td>0</td>\n",
       "      <td>0</td>\n",
       "      <td>WedAM1</td>\n",
       "      <td>IN</td>\n",
       "      <td>CL7</td>\n",
       "      <td>UNC</td>\n",
       "      <td>L</td>\n",
       "      <td>Generic</td>\n",
       "      <td>VH</td>\n",
       "      <td>OTHBRW</td>\n",
       "      <td>L</td>\n",
       "      <td>ADCMOT</td>\n",
       "      <td>L</td>\n",
       "      <td>yes</td>\n",
       "      <td>ClassA</td>\n",
       "    </tr>\n",
       "    <tr>\n",
       "      <th>1</th>\n",
       "      <td>63367290</td>\n",
       "      <td>M</td>\n",
       "      <td>0</td>\n",
       "      <td>0</td>\n",
       "      <td>WedAM1</td>\n",
       "      <td>IN</td>\n",
       "      <td>CL7</td>\n",
       "      <td>CR4</td>\n",
       "      <td>H</td>\n",
       "      <td>UnOthers</td>\n",
       "      <td>L</td>\n",
       "      <td>CHROME</td>\n",
       "      <td>H</td>\n",
       "      <td>ADCMOT</td>\n",
       "      <td>L</td>\n",
       "      <td>yes</td>\n",
       "      <td>ClassA</td>\n",
       "    </tr>\n",
       "    <tr>\n",
       "      <th>2</th>\n",
       "      <td>63367291</td>\n",
       "      <td>A</td>\n",
       "      <td>1</td>\n",
       "      <td>0</td>\n",
       "      <td>WedAM1</td>\n",
       "      <td>IN</td>\n",
       "      <td>CL7</td>\n",
       "      <td>CR2</td>\n",
       "      <td>M</td>\n",
       "      <td>UnOthers</td>\n",
       "      <td>L</td>\n",
       "      <td>CHROME</td>\n",
       "      <td>H</td>\n",
       "      <td>ADCMOT</td>\n",
       "      <td>L</td>\n",
       "      <td>yes</td>\n",
       "      <td>ClassA</td>\n",
       "    </tr>\n",
       "    <tr>\n",
       "      <th>3</th>\n",
       "      <td>63367292</td>\n",
       "      <td>M</td>\n",
       "      <td>0</td>\n",
       "      <td>0</td>\n",
       "      <td>WedAM1</td>\n",
       "      <td>BR</td>\n",
       "      <td>CL5</td>\n",
       "      <td>CR1</td>\n",
       "      <td>VH</td>\n",
       "      <td>Generic</td>\n",
       "      <td>VH</td>\n",
       "      <td>ANDWEB</td>\n",
       "      <td>H</td>\n",
       "      <td>ADCM38</td>\n",
       "      <td>L</td>\n",
       "      <td>yes</td>\n",
       "      <td>ClassB</td>\n",
       "    </tr>\n",
       "    <tr>\n",
       "      <th>4</th>\n",
       "      <td>63367293</td>\n",
       "      <td>A</td>\n",
       "      <td>0</td>\n",
       "      <td>0</td>\n",
       "      <td>WedAM1</td>\n",
       "      <td>IN</td>\n",
       "      <td>CL7</td>\n",
       "      <td>CR13</td>\n",
       "      <td>H</td>\n",
       "      <td>Micromax</td>\n",
       "      <td>H</td>\n",
       "      <td>CHROME</td>\n",
       "      <td>H</td>\n",
       "      <td>ADCMOT</td>\n",
       "      <td>L</td>\n",
       "      <td>yes</td>\n",
       "      <td>ClassA</td>\n",
       "    </tr>\n",
       "  </tbody>\n",
       "</table>\n",
       "</div>"
      ],
      "text/plain": [
       "         ID TrafficType  RefererUrl  Fraud DayPeriod Country CountryFrd  \\\n",
       "0  63367289           A           0      0    WedAM1      IN        CL7   \n",
       "1  63367290           M           0      0    WedAM1      IN        CL7   \n",
       "2  63367291           A           1      0    WedAM1      IN        CL7   \n",
       "3  63367292           M           0      0    WedAM1      BR        CL5   \n",
       "4  63367293           A           0      0    WedAM1      IN        CL7   \n",
       "\n",
       "  Carrier CarrierFrd    Device DeviceFrd Browser BrowserFrd AdvCampaign  \\\n",
       "0     UNC          L   Generic        VH  OTHBRW          L      ADCMOT   \n",
       "1     CR4          H  UnOthers         L  CHROME          H      ADCMOT   \n",
       "2     CR2          M  UnOthers         L  CHROME          H      ADCMOT   \n",
       "3     CR1         VH   Generic        VH  ANDWEB          H      ADCM38   \n",
       "4    CR13          H  Micromax         H  CHROME          H      ADCMOT   \n",
       "\n",
       "  AdvCampaignFrd AndroidOS IPClass  \n",
       "0              L       yes  ClassA  \n",
       "1              L       yes  ClassA  \n",
       "2              L       yes  ClassA  \n",
       "3              L       yes  ClassB  \n",
       "4              L       yes  ClassA  "
      ]
     },
     "execution_count": 36,
     "metadata": {},
     "output_type": "execute_result"
    }
   ],
   "source": [
    "Testdf.head()"
   ]
  },
  {
   "cell_type": "code",
   "execution_count": 35,
   "metadata": {
    "collapsed": true
   },
   "outputs": [],
   "source": [
    "Testdf.columns = ['ID','TrafficType','RefererUrl','Fraud','DayPeriod','Country','CountryFrd','Carrier','CarrierFrd',\n",
    "                    'Device','DeviceFrd','Browser','BrowserFrd','AdvCampaign','AdvCampaignFrd','AndroidOS','IPClass']"
   ]
  },
  {
   "cell_type": "code",
   "execution_count": 37,
   "metadata": {},
   "outputs": [
    {
     "data": {
      "text/plain": [
       "3679037712"
      ]
     },
     "execution_count": 37,
     "metadata": {},
     "output_type": "execute_result"
    }
   ],
   "source": [
    "import sys\n",
    "Testdf.memory_usage(index=True).sum()"
   ]
  },
  {
   "cell_type": "code",
   "execution_count": 38,
   "metadata": {},
   "outputs": [
    {
     "data": {
      "text/html": [
       "<div>\n",
       "<style>\n",
       "    .dataframe thead tr:only-child th {\n",
       "        text-align: right;\n",
       "    }\n",
       "\n",
       "    .dataframe thead th {\n",
       "        text-align: left;\n",
       "    }\n",
       "\n",
       "    .dataframe tbody tr th {\n",
       "        vertical-align: top;\n",
       "    }\n",
       "</style>\n",
       "<table border=\"1\" class=\"dataframe\">\n",
       "  <thead>\n",
       "    <tr style=\"text-align: right;\">\n",
       "      <th></th>\n",
       "      <th>Missing Ratio</th>\n",
       "    </tr>\n",
       "  </thead>\n",
       "  <tbody>\n",
       "  </tbody>\n",
       "</table>\n",
       "</div>"
      ],
      "text/plain": [
       "Empty DataFrame\n",
       "Columns: [Missing Ratio]\n",
       "Index: []"
      ]
     },
     "execution_count": 38,
     "metadata": {},
     "output_type": "execute_result"
    }
   ],
   "source": [
    "# Checking for the missing value details after the replacement\n",
    "# Checking for the ratio of missing value\n",
    "Testdf_na = (Testdf.isnull().sum() / len(Testdf)) * 100\n",
    "Testdf_na = Testdf_na.drop(Testdf_na[Testdf_na == 0].index).sort_values(ascending=False)[:30]\n",
    "missing_data = pd.DataFrame({'Missing Ratio' :Testdf_na})\n",
    "missing_data.head(10)"
   ]
  },
  {
   "cell_type": "code",
   "execution_count": 39,
   "metadata": {},
   "outputs": [
    {
     "name": "stdout",
     "output_type": "stream",
     "text": [
      "Time taken is : 134.3782036304474\n"
     ]
    }
   ],
   "source": [
    "t0 = time.time()\n",
    "Testdf.to_csv('Finaltest.csv', index=False)\n",
    "t1 = time.time()\n",
    "print ('Time taken is :',t1 - t0)"
   ]
  },
  {
   "cell_type": "markdown",
   "metadata": {},
   "source": [
    "# Treat Data for the Regression Train data"
   ]
  },
  {
   "cell_type": "code",
   "execution_count": 1,
   "metadata": {
    "collapsed": true
   },
   "outputs": [],
   "source": [
    "import pandas as pd\n",
    "import numpy as np\n",
    "import matplotlib.pyplot as plt\n",
    "import time\n",
    "import sys\n",
    "pd.set_option('display.max_columns', 99)"
   ]
  },
  {
   "cell_type": "code",
   "execution_count": 6,
   "metadata": {},
   "outputs": [
    {
     "name": "stderr",
     "output_type": "stream",
     "text": [
      "/Users/viswanathravindran/anaconda/lib/python3.6/site-packages/IPython/core/interactiveshell.py:2698: DtypeWarning: Columns (13) have mixed types. Specify dtype option on import or set low_memory=False.\n",
      "  interactivity=interactivity, compiler=compiler, result=result)\n"
     ]
    }
   ],
   "source": [
    "filename = '/Users/viswanathravindran/AVDatahack/ADClick/RawData/train.csv'\n",
    "Traindf = pd.read_csv(filename)"
   ]
  },
  {
   "cell_type": "code",
   "execution_count": 7,
   "metadata": {
    "collapsed": true
   },
   "outputs": [],
   "source": [
    "RegTraindf = Traindf[Traindf.ConversionStatus==True]\n",
    "del Traindf"
   ]
  },
  {
   "cell_type": "code",
   "execution_count": 27,
   "metadata": {
    "collapsed": true
   },
   "outputs": [],
   "source": [
    "RegTraindf.to_csv('PreRegTrain.csv', index=False)"
   ]
  },
  {
   "cell_type": "code",
   "execution_count": 4,
   "metadata": {
    "collapsed": true
   },
   "outputs": [],
   "source": [
    "RegTraindf = pd.read_csv('PreRegTrain.csv')"
   ]
  },
  {
   "cell_type": "code",
   "execution_count": 5,
   "metadata": {},
   "outputs": [
    {
     "data": {
      "text/html": [
       "<div>\n",
       "<style>\n",
       "    .dataframe thead tr:only-child th {\n",
       "        text-align: right;\n",
       "    }\n",
       "\n",
       "    .dataframe thead th {\n",
       "        text-align: left;\n",
       "    }\n",
       "\n",
       "    .dataframe tbody tr th {\n",
       "        vertical-align: top;\n",
       "    }\n",
       "</style>\n",
       "<table border=\"1\" class=\"dataframe\">\n",
       "  <thead>\n",
       "    <tr style=\"text-align: right;\">\n",
       "      <th></th>\n",
       "      <th>ID</th>\n",
       "      <th>Country</th>\n",
       "      <th>Carrier</th>\n",
       "      <th>TrafficType</th>\n",
       "      <th>ClickDate</th>\n",
       "      <th>Device</th>\n",
       "      <th>Browser</th>\n",
       "      <th>OS</th>\n",
       "      <th>RefererUrl</th>\n",
       "      <th>UserIp</th>\n",
       "      <th>ConversionStatus</th>\n",
       "      <th>ConversionDate</th>\n",
       "      <th>ConversionPayOut</th>\n",
       "      <th>publisherId</th>\n",
       "      <th>subPublisherId</th>\n",
       "      <th>advertiserCampaignId</th>\n",
       "      <th>Fraud</th>\n",
       "    </tr>\n",
       "  </thead>\n",
       "  <tbody>\n",
       "    <tr>\n",
       "      <th>0</th>\n",
       "      <td>1378</td>\n",
       "      <td>BD</td>\n",
       "      <td>-1.0</td>\n",
       "      <td>A</td>\n",
       "      <td>2017-08-21 00:00:15</td>\n",
       "      <td>Generic</td>\n",
       "      <td>46.0.2490.76</td>\n",
       "      <td>Android</td>\n",
       "      <td>NoRefer</td>\n",
       "      <td>123.108.246.34</td>\n",
       "      <td>1</td>\n",
       "      <td>2017-08-21 20:40:00</td>\n",
       "      <td>4.550000</td>\n",
       "      <td>520.0</td>\n",
       "      <td>NaN</td>\n",
       "      <td>4904</td>\n",
       "      <td>0</td>\n",
       "    </tr>\n",
       "    <tr>\n",
       "      <th>1</th>\n",
       "      <td>1720</td>\n",
       "      <td>BD</td>\n",
       "      <td>44.0</td>\n",
       "      <td>A</td>\n",
       "      <td>2017-08-21 00:00:19</td>\n",
       "      <td>Samsung</td>\n",
       "      <td>chrome</td>\n",
       "      <td>Android</td>\n",
       "      <td>NoRefer</td>\n",
       "      <td>119.30.32.128</td>\n",
       "      <td>1</td>\n",
       "      <td>2017-08-21 00:00:00</td>\n",
       "      <td>2.652650</td>\n",
       "      <td>274.0</td>\n",
       "      <td>NaN</td>\n",
       "      <td>4129</td>\n",
       "      <td>0</td>\n",
       "    </tr>\n",
       "    <tr>\n",
       "      <th>2</th>\n",
       "      <td>3698</td>\n",
       "      <td>RU</td>\n",
       "      <td>703.0</td>\n",
       "      <td>A</td>\n",
       "      <td>2017-08-21 00:00:41</td>\n",
       "      <td>Alcatel</td>\n",
       "      <td>chrome</td>\n",
       "      <td>Android</td>\n",
       "      <td>NoRefer</td>\n",
       "      <td>83.149.46.223</td>\n",
       "      <td>1</td>\n",
       "      <td>2017-08-21 02:22:00</td>\n",
       "      <td>25.493000</td>\n",
       "      <td>301.0</td>\n",
       "      <td>NaN</td>\n",
       "      <td>11829</td>\n",
       "      <td>0</td>\n",
       "    </tr>\n",
       "    <tr>\n",
       "      <th>3</th>\n",
       "      <td>4050</td>\n",
       "      <td>BD</td>\n",
       "      <td>44.0</td>\n",
       "      <td>A</td>\n",
       "      <td>2017-08-21 00:00:45</td>\n",
       "      <td>Generic</td>\n",
       "      <td>android_webkit</td>\n",
       "      <td>Android</td>\n",
       "      <td>rocktraff.com</td>\n",
       "      <td>119.30.47.26</td>\n",
       "      <td>1</td>\n",
       "      <td>2017-08-21 01:07:00</td>\n",
       "      <td>1.123456</td>\n",
       "      <td>6240.0</td>\n",
       "      <td>NaN</td>\n",
       "      <td>3312</td>\n",
       "      <td>0</td>\n",
       "    </tr>\n",
       "    <tr>\n",
       "      <th>4</th>\n",
       "      <td>8667</td>\n",
       "      <td>IN</td>\n",
       "      <td>1.0</td>\n",
       "      <td>A</td>\n",
       "      <td>2017-08-21 00:01:37</td>\n",
       "      <td>Intex</td>\n",
       "      <td>chrome</td>\n",
       "      <td>Android</td>\n",
       "      <td>NoRefer</td>\n",
       "      <td>223.182.190.14</td>\n",
       "      <td>1</td>\n",
       "      <td>2017-08-21 00:35:00</td>\n",
       "      <td>65.000000</td>\n",
       "      <td>209.0</td>\n",
       "      <td>NaN</td>\n",
       "      <td>16060</td>\n",
       "      <td>0</td>\n",
       "    </tr>\n",
       "  </tbody>\n",
       "</table>\n",
       "</div>"
      ],
      "text/plain": [
       "     ID Country  Carrier TrafficType            ClickDate   Device  \\\n",
       "0  1378      BD     -1.0           A  2017-08-21 00:00:15  Generic   \n",
       "1  1720      BD     44.0           A  2017-08-21 00:00:19  Samsung   \n",
       "2  3698      RU    703.0           A  2017-08-21 00:00:41  Alcatel   \n",
       "3  4050      BD     44.0           A  2017-08-21 00:00:45  Generic   \n",
       "4  8667      IN      1.0           A  2017-08-21 00:01:37    Intex   \n",
       "\n",
       "          Browser       OS     RefererUrl          UserIp  ConversionStatus  \\\n",
       "0    46.0.2490.76  Android        NoRefer  123.108.246.34                 1   \n",
       "1          chrome  Android        NoRefer   119.30.32.128                 1   \n",
       "2          chrome  Android        NoRefer   83.149.46.223                 1   \n",
       "3  android_webkit  Android  rocktraff.com    119.30.47.26                 1   \n",
       "4          chrome  Android        NoRefer  223.182.190.14                 1   \n",
       "\n",
       "        ConversionDate  ConversionPayOut  publisherId subPublisherId  \\\n",
       "0  2017-08-21 20:40:00          4.550000        520.0            NaN   \n",
       "1  2017-08-21 00:00:00          2.652650        274.0            NaN   \n",
       "2  2017-08-21 02:22:00         25.493000        301.0            NaN   \n",
       "3  2017-08-21 01:07:00          1.123456       6240.0            NaN   \n",
       "4  2017-08-21 00:35:00         65.000000        209.0            NaN   \n",
       "\n",
       "   advertiserCampaignId  Fraud  \n",
       "0                  4904      0  \n",
       "1                  4129      0  \n",
       "2                 11829      0  \n",
       "3                  3312      0  \n",
       "4                 16060      0  "
      ]
     },
     "execution_count": 5,
     "metadata": {},
     "output_type": "execute_result"
    }
   ],
   "source": [
    "RegTraindf.head()"
   ]
  },
  {
   "cell_type": "code",
   "execution_count": 6,
   "metadata": {},
   "outputs": [
    {
     "name": "stdout",
     "output_type": "stream",
     "text": [
      "(34524, 17)\n"
     ]
    }
   ],
   "source": [
    "print (RegTraindf.shape)"
   ]
  },
  {
   "cell_type": "code",
   "execution_count": 7,
   "metadata": {
    "collapsed": true
   },
   "outputs": [],
   "source": [
    "# Regularizs the values\n",
    "RegTraindf['Fraud'] = RegTraindf['Fraud'].astype(np.int)\n",
    "RegTraindf['ConversionStatus'] = RegTraindf['ConversionStatus'].astype(np.int)\n",
    "RegTraindf['Device'] = RegTraindf['Device'].astype(str)\n",
    "RegTraindf['advertiserCampaignId'] = RegTraindf.advertiserCampaignId.fillna(7510).astype(np.int)\n",
    "RegTraindf['RefererUrl'] = RegTraindf.RefererUrl.fillna('NoRefer').astype(str)"
   ]
  },
  {
   "cell_type": "code",
   "execution_count": 8,
   "metadata": {
    "collapsed": true
   },
   "outputs": [],
   "source": [
    "# fill the missing values\n",
    "RegTraindf['TrafficType'] = RegTraindf['TrafficType'].fillna(pd.Series(np.random.choice(['A','M'], p=[0.60,0.40], size=len(RegTraindf))))\n",
    "RegTraindf['Browser'] = RegTraindf['Browser'].fillna(pd.Series(np.random.choice(['android_webkit','chrome'], p=[0.60,0.40], size=len(RegTraindf))))\n",
    "RegTraindf['OS'] = RegTraindf['OS'].fillna(pd.Series(np.random.choice(['Android','Desktop','iOS'], p=[0.95,0.03,0.02], size=len(RegTraindf))))\n",
    "RegTraindf['Device'] = RegTraindf['Device'].fillna(pd.Series(np.random.choice(['Generic','Samsung','Alcatel','Micromax','Lenovo'], p=[0.50,0.20,0.10,0.10,0.10], size=len(RegTraindf))))\n",
    "RegTraindf['Country'] = RegTraindf['Country'].fillna(pd.Series(np.random.choice(['IN','BD','RU','ID','NG'], p=[0.50,0.15,0.13,0.12,0.10], size=len(RegTraindf))))\n",
    "RegTraindf['ConversionPayOut'] = RegTraindf.ConversionPayOut.fillna(0)"
   ]
  },
  {
   "cell_type": "code",
   "execution_count": 9,
   "metadata": {},
   "outputs": [
    {
     "data": {
      "text/html": [
       "<div>\n",
       "<style>\n",
       "    .dataframe thead tr:only-child th {\n",
       "        text-align: right;\n",
       "    }\n",
       "\n",
       "    .dataframe thead th {\n",
       "        text-align: left;\n",
       "    }\n",
       "\n",
       "    .dataframe tbody tr th {\n",
       "        vertical-align: top;\n",
       "    }\n",
       "</style>\n",
       "<table border=\"1\" class=\"dataframe\">\n",
       "  <thead>\n",
       "    <tr style=\"text-align: right;\">\n",
       "      <th></th>\n",
       "      <th>Missing Ratio</th>\n",
       "      <th>Missing Total</th>\n",
       "    </tr>\n",
       "  </thead>\n",
       "  <tbody>\n",
       "    <tr>\n",
       "      <th>subPublisherId</th>\n",
       "      <td>98.331595</td>\n",
       "      <td>33948</td>\n",
       "    </tr>\n",
       "    <tr>\n",
       "      <th>Fraud</th>\n",
       "      <td>0.000000</td>\n",
       "      <td>0</td>\n",
       "    </tr>\n",
       "    <tr>\n",
       "      <th>OS</th>\n",
       "      <td>0.000000</td>\n",
       "      <td>0</td>\n",
       "    </tr>\n",
       "    <tr>\n",
       "      <th>Country</th>\n",
       "      <td>0.000000</td>\n",
       "      <td>0</td>\n",
       "    </tr>\n",
       "    <tr>\n",
       "      <th>Carrier</th>\n",
       "      <td>0.000000</td>\n",
       "      <td>0</td>\n",
       "    </tr>\n",
       "  </tbody>\n",
       "</table>\n",
       "</div>"
      ],
      "text/plain": [
       "                Missing Ratio  Missing Total\n",
       "subPublisherId      98.331595          33948\n",
       "Fraud                0.000000              0\n",
       "OS                   0.000000              0\n",
       "Country              0.000000              0\n",
       "Carrier              0.000000              0"
      ]
     },
     "execution_count": 9,
     "metadata": {},
     "output_type": "execute_result"
    }
   ],
   "source": [
    "# Checking for the ratio of missing value after replacement\n",
    "Total = RegTraindf.isnull().sum().sort_values(ascending=False)[:30]\n",
    "percent = ((RegTraindf.isnull().sum()/RegTraindf.isnull().count())*100).sort_values(ascending=False)[:30]\n",
    "missing_data = pd.DataFrame({'Missing Ratio' :percent, 'Missing Total':Total})\n",
    "missing_data.head(5)"
   ]
  },
  {
   "cell_type": "code",
   "execution_count": 10,
   "metadata": {
    "collapsed": true
   },
   "outputs": [],
   "source": [
    "del RegTraindf['publisherId']"
   ]
  },
  {
   "cell_type": "code",
   "execution_count": 11,
   "metadata": {
    "collapsed": true
   },
   "outputs": [],
   "source": [
    "# Change the Referral URL as either Yes or No\n",
    "RegTraindf['RefererUrl'] = np.where(RegTraindf['RefererUrl']=='NoRefer', 0, 1).astype(int)"
   ]
  },
  {
   "cell_type": "code",
   "execution_count": 12,
   "metadata": {
    "collapsed": true
   },
   "outputs": [],
   "source": [
    "# Handing the ClickDate field as a Date\n",
    "RegTraindf['ClickDate'] = pd.to_datetime(RegTraindf['ClickDate'])"
   ]
  },
  {
   "cell_type": "code",
   "execution_count": 13,
   "metadata": {
    "collapsed": true
   },
   "outputs": [],
   "source": [
    "# Feature Enginerring to Create New variables for Day of Week and Day part\n",
    "RegTraindf['Weekday'] = (RegTraindf['ClickDate'].dt.dayofweek).astype(int)\n",
    "RegTraindf['Dayhour'] = (RegTraindf.ClickDate.apply(lambda x: x.hour)).astype(int)"
   ]
  },
  {
   "cell_type": "code",
   "execution_count": 14,
   "metadata": {
    "collapsed": true
   },
   "outputs": [],
   "source": [
    "# To remove Ordinality in both Weekday and DayHour variables convert into Categories\n",
    "RegTraindf['Weekday'] = RegTraindf['Weekday'].map( {0: 'Sun', 1: 'Mon', 2: 'Tue', 3: 'Wed',\n",
    "                                              4: 'Thr', 5: 'Fri', 6: 'Sat'} ).astype(str)\n",
    "RegTraindf['Dayhour'] = RegTraindf['Dayhour'].map( {0: 'AM1', 1: 'AM1', 2: 'AM1', 3: 'AM2', 4: 'AM2', 5: 'AM2', \n",
    "                                              6: 'AM3', 7: 'AM3', 8: 'AM3', 9: 'AM4', 10: 'AM4', 11: 'AM4', 12: 'PM1', \n",
    "                                              13: 'PM1', 14: 'PM1', 15: 'PM2', 16: 'PM2', 17: 'PM2', 18: 'PM3', \n",
    "                                              19: 'PM3', 20: 'PM3', 21: 'PM4', 22: 'PM4', 23: 'PM4'} ).astype(str)\n",
    "# Delete the Click Date varaible\n",
    "del RegTraindf['ClickDate']"
   ]
  },
  {
   "cell_type": "code",
   "execution_count": 15,
   "metadata": {
    "collapsed": true
   },
   "outputs": [],
   "source": [
    "RegTraindf['DayPeriod'] = (RegTraindf['Weekday'] + RegTraindf['Dayhour']).astype(str)\n",
    "del RegTraindf['Weekday'], RegTraindf['Dayhour']"
   ]
  },
  {
   "cell_type": "code",
   "execution_count": 16,
   "metadata": {
    "collapsed": true
   },
   "outputs": [],
   "source": [
    "Countrydf = pd.read_csv('Countrydf.csv')\n",
    "Carrierdf = pd.read_csv('Carrierdf.csv')\n",
    "Devicedf = pd.read_csv('Devicedf.csv')\n",
    "Browserdf = pd.read_csv('Browserdf.csv')\n",
    "Advertiserdf = pd.read_csv('Advertiserdf.csv')"
   ]
  },
  {
   "cell_type": "code",
   "execution_count": 17,
   "metadata": {},
   "outputs": [
    {
     "data": {
      "text/html": [
       "<div>\n",
       "<style>\n",
       "    .dataframe thead tr:only-child th {\n",
       "        text-align: right;\n",
       "    }\n",
       "\n",
       "    .dataframe thead th {\n",
       "        text-align: left;\n",
       "    }\n",
       "\n",
       "    .dataframe tbody tr th {\n",
       "        vertical-align: top;\n",
       "    }\n",
       "</style>\n",
       "<table border=\"1\" class=\"dataframe\">\n",
       "  <thead>\n",
       "    <tr style=\"text-align: right;\">\n",
       "      <th></th>\n",
       "      <th>ID</th>\n",
       "      <th>Country</th>\n",
       "      <th>Carrier</th>\n",
       "      <th>TrafficType</th>\n",
       "      <th>Device</th>\n",
       "      <th>Browser</th>\n",
       "      <th>OS</th>\n",
       "      <th>RefererUrl</th>\n",
       "      <th>UserIp</th>\n",
       "      <th>ConversionStatus</th>\n",
       "      <th>ConversionDate</th>\n",
       "      <th>ConversionPayOut</th>\n",
       "      <th>subPublisherId</th>\n",
       "      <th>advertiserCampaignId</th>\n",
       "      <th>Fraud</th>\n",
       "      <th>DayPeriod</th>\n",
       "    </tr>\n",
       "  </thead>\n",
       "  <tbody>\n",
       "    <tr>\n",
       "      <th>0</th>\n",
       "      <td>1378</td>\n",
       "      <td>BD</td>\n",
       "      <td>-1.0</td>\n",
       "      <td>A</td>\n",
       "      <td>Generic</td>\n",
       "      <td>46.0.2490.76</td>\n",
       "      <td>Android</td>\n",
       "      <td>0</td>\n",
       "      <td>123.108.246.34</td>\n",
       "      <td>1</td>\n",
       "      <td>2017-08-21 20:40:00</td>\n",
       "      <td>4.550000</td>\n",
       "      <td>NaN</td>\n",
       "      <td>4904</td>\n",
       "      <td>0</td>\n",
       "      <td>SunAM1</td>\n",
       "    </tr>\n",
       "    <tr>\n",
       "      <th>1</th>\n",
       "      <td>1720</td>\n",
       "      <td>BD</td>\n",
       "      <td>44.0</td>\n",
       "      <td>A</td>\n",
       "      <td>Samsung</td>\n",
       "      <td>chrome</td>\n",
       "      <td>Android</td>\n",
       "      <td>0</td>\n",
       "      <td>119.30.32.128</td>\n",
       "      <td>1</td>\n",
       "      <td>2017-08-21 00:00:00</td>\n",
       "      <td>2.652650</td>\n",
       "      <td>NaN</td>\n",
       "      <td>4129</td>\n",
       "      <td>0</td>\n",
       "      <td>SunAM1</td>\n",
       "    </tr>\n",
       "    <tr>\n",
       "      <th>2</th>\n",
       "      <td>3698</td>\n",
       "      <td>RU</td>\n",
       "      <td>703.0</td>\n",
       "      <td>A</td>\n",
       "      <td>Alcatel</td>\n",
       "      <td>chrome</td>\n",
       "      <td>Android</td>\n",
       "      <td>0</td>\n",
       "      <td>83.149.46.223</td>\n",
       "      <td>1</td>\n",
       "      <td>2017-08-21 02:22:00</td>\n",
       "      <td>25.493000</td>\n",
       "      <td>NaN</td>\n",
       "      <td>11829</td>\n",
       "      <td>0</td>\n",
       "      <td>SunAM1</td>\n",
       "    </tr>\n",
       "    <tr>\n",
       "      <th>3</th>\n",
       "      <td>4050</td>\n",
       "      <td>BD</td>\n",
       "      <td>44.0</td>\n",
       "      <td>A</td>\n",
       "      <td>Generic</td>\n",
       "      <td>android_webkit</td>\n",
       "      <td>Android</td>\n",
       "      <td>1</td>\n",
       "      <td>119.30.47.26</td>\n",
       "      <td>1</td>\n",
       "      <td>2017-08-21 01:07:00</td>\n",
       "      <td>1.123456</td>\n",
       "      <td>NaN</td>\n",
       "      <td>3312</td>\n",
       "      <td>0</td>\n",
       "      <td>SunAM1</td>\n",
       "    </tr>\n",
       "    <tr>\n",
       "      <th>4</th>\n",
       "      <td>8667</td>\n",
       "      <td>IN</td>\n",
       "      <td>1.0</td>\n",
       "      <td>A</td>\n",
       "      <td>Intex</td>\n",
       "      <td>chrome</td>\n",
       "      <td>Android</td>\n",
       "      <td>0</td>\n",
       "      <td>223.182.190.14</td>\n",
       "      <td>1</td>\n",
       "      <td>2017-08-21 00:35:00</td>\n",
       "      <td>65.000000</td>\n",
       "      <td>NaN</td>\n",
       "      <td>16060</td>\n",
       "      <td>0</td>\n",
       "      <td>SunAM1</td>\n",
       "    </tr>\n",
       "  </tbody>\n",
       "</table>\n",
       "</div>"
      ],
      "text/plain": [
       "     ID Country  Carrier TrafficType   Device         Browser       OS  \\\n",
       "0  1378      BD     -1.0           A  Generic    46.0.2490.76  Android   \n",
       "1  1720      BD     44.0           A  Samsung          chrome  Android   \n",
       "2  3698      RU    703.0           A  Alcatel          chrome  Android   \n",
       "3  4050      BD     44.0           A  Generic  android_webkit  Android   \n",
       "4  8667      IN      1.0           A    Intex          chrome  Android   \n",
       "\n",
       "   RefererUrl          UserIp  ConversionStatus       ConversionDate  \\\n",
       "0           0  123.108.246.34                 1  2017-08-21 20:40:00   \n",
       "1           0   119.30.32.128                 1  2017-08-21 00:00:00   \n",
       "2           0   83.149.46.223                 1  2017-08-21 02:22:00   \n",
       "3           1    119.30.47.26                 1  2017-08-21 01:07:00   \n",
       "4           0  223.182.190.14                 1  2017-08-21 00:35:00   \n",
       "\n",
       "   ConversionPayOut subPublisherId  advertiserCampaignId  Fraud DayPeriod  \n",
       "0          4.550000            NaN                  4904      0    SunAM1  \n",
       "1          2.652650            NaN                  4129      0    SunAM1  \n",
       "2         25.493000            NaN                 11829      0    SunAM1  \n",
       "3          1.123456            NaN                  3312      0    SunAM1  \n",
       "4         65.000000            NaN                 16060      0    SunAM1  "
      ]
     },
     "execution_count": 17,
     "metadata": {},
     "output_type": "execute_result"
    }
   ],
   "source": [
    "RegTraindf.head()"
   ]
  },
  {
   "cell_type": "code",
   "execution_count": 18,
   "metadata": {},
   "outputs": [
    {
     "data": {
      "text/plain": [
       "(34524, 16)"
      ]
     },
     "execution_count": 18,
     "metadata": {},
     "output_type": "execute_result"
    }
   ],
   "source": [
    "RegTraindf.shape"
   ]
  },
  {
   "cell_type": "code",
   "execution_count": 19,
   "metadata": {},
   "outputs": [
    {
     "data": {
      "text/plain": [
       "(34524, 18)"
      ]
     },
     "execution_count": 19,
     "metadata": {},
     "output_type": "execute_result"
    }
   ],
   "source": [
    "# Merge back the Columns to train and test\n",
    "RegTraindf = pd.merge(RegTraindf,Countrydf, how='left', left_on='Country', right_on='Country')\n",
    "RegTraindf.shape"
   ]
  },
  {
   "cell_type": "code",
   "execution_count": 20,
   "metadata": {},
   "outputs": [
    {
     "data": {
      "text/plain": [
       "(34524, 20)"
      ]
     },
     "execution_count": 20,
     "metadata": {},
     "output_type": "execute_result"
    }
   ],
   "source": [
    "RegTraindf = pd.merge(RegTraindf,Carrierdf, how='left', left_on='Carrier', right_on='Carrier')\n",
    "RegTraindf.shape"
   ]
  },
  {
   "cell_type": "code",
   "execution_count": 21,
   "metadata": {},
   "outputs": [
    {
     "data": {
      "text/plain": [
       "(34524, 22)"
      ]
     },
     "execution_count": 21,
     "metadata": {},
     "output_type": "execute_result"
    }
   ],
   "source": [
    "RegTraindf = pd.merge(RegTraindf,Devicedf, how='left', left_on='Device', right_on='Device')\n",
    "RegTraindf.shape"
   ]
  },
  {
   "cell_type": "code",
   "execution_count": 22,
   "metadata": {},
   "outputs": [
    {
     "data": {
      "text/plain": [
       "(34524, 24)"
      ]
     },
     "execution_count": 22,
     "metadata": {},
     "output_type": "execute_result"
    }
   ],
   "source": [
    "RegTraindf = pd.merge(RegTraindf,Browserdf, how='left', left_on='Browser', right_on='Browser')\n",
    "RegTraindf.shape"
   ]
  },
  {
   "cell_type": "code",
   "execution_count": 23,
   "metadata": {},
   "outputs": [
    {
     "data": {
      "text/plain": [
       "(34524, 26)"
      ]
     },
     "execution_count": 23,
     "metadata": {},
     "output_type": "execute_result"
    }
   ],
   "source": [
    "RegTraindf = pd.merge(RegTraindf,Advertiserdf, how='left', left_on='advertiserCampaignId', right_on='advertiserCampaignId')\n",
    "RegTraindf.shape"
   ]
  },
  {
   "cell_type": "code",
   "execution_count": 24,
   "metadata": {
    "collapsed": true
   },
   "outputs": [],
   "source": [
    "RegTraindf['DEVFRD']=RegTraindf.DEVFRD.fillna('L').astype(str)\n",
    "RegTraindf['NEWDEV']=RegTraindf.NEWDEV.fillna('UnOthers').astype(str)"
   ]
  },
  {
   "cell_type": "code",
   "execution_count": 26,
   "metadata": {},
   "outputs": [
    {
     "data": {
      "text/html": [
       "<div>\n",
       "<style>\n",
       "    .dataframe thead tr:only-child th {\n",
       "        text-align: right;\n",
       "    }\n",
       "\n",
       "    .dataframe thead th {\n",
       "        text-align: left;\n",
       "    }\n",
       "\n",
       "    .dataframe tbody tr th {\n",
       "        vertical-align: top;\n",
       "    }\n",
       "</style>\n",
       "<table border=\"1\" class=\"dataframe\">\n",
       "  <thead>\n",
       "    <tr style=\"text-align: right;\">\n",
       "      <th></th>\n",
       "      <th>Missing Ratio</th>\n",
       "      <th>Missing Total</th>\n",
       "    </tr>\n",
       "  </thead>\n",
       "  <tbody>\n",
       "    <tr>\n",
       "      <th>subPublisherId</th>\n",
       "      <td>98.331595</td>\n",
       "      <td>33948</td>\n",
       "    </tr>\n",
       "    <tr>\n",
       "      <th>NEWADCM</th>\n",
       "      <td>0.000000</td>\n",
       "      <td>0</td>\n",
       "    </tr>\n",
       "    <tr>\n",
       "      <th>Country</th>\n",
       "      <td>0.000000</td>\n",
       "      <td>0</td>\n",
       "    </tr>\n",
       "    <tr>\n",
       "      <th>Carrier</th>\n",
       "      <td>0.000000</td>\n",
       "      <td>0</td>\n",
       "    </tr>\n",
       "    <tr>\n",
       "      <th>TrafficType</th>\n",
       "      <td>0.000000</td>\n",
       "      <td>0</td>\n",
       "    </tr>\n",
       "  </tbody>\n",
       "</table>\n",
       "</div>"
      ],
      "text/plain": [
       "                Missing Ratio  Missing Total\n",
       "subPublisherId      98.331595          33948\n",
       "NEWADCM              0.000000              0\n",
       "Country              0.000000              0\n",
       "Carrier              0.000000              0\n",
       "TrafficType          0.000000              0"
      ]
     },
     "execution_count": 26,
     "metadata": {},
     "output_type": "execute_result"
    }
   ],
   "source": [
    "# Checking for the ratio of missing value after replacement\n",
    "Total = RegTraindf.isnull().sum().sort_values(ascending=False)[:30]\n",
    "percent = ((RegTraindf.isnull().sum()/RegTraindf.isnull().count())*100).sort_values(ascending=False)[:30]\n",
    "missing_data = pd.DataFrame({'Missing Ratio' :percent, 'Missing Total':Total})\n",
    "missing_data.head()"
   ]
  },
  {
   "cell_type": "code",
   "execution_count": 27,
   "metadata": {
    "collapsed": true
   },
   "outputs": [],
   "source": [
    "#miss = RegTraindf[Traindf['PubCount'].isnull()]\n",
    "#miss.shape"
   ]
  },
  {
   "cell_type": "code",
   "execution_count": 28,
   "metadata": {
    "collapsed": true
   },
   "outputs": [],
   "source": [
    "# Creating a Category as Android Yes / No\n",
    "RegTraindf['AndroidOS'] = np.where(RegTraindf['OS']=='Android', 'yes', 'no')\n",
    "del RegTraindf['OS']"
   ]
  },
  {
   "cell_type": "code",
   "execution_count": 29,
   "metadata": {},
   "outputs": [
    {
     "name": "stdout",
     "output_type": "stream",
     "text": [
      "Time taken is : 1.0134119987487793\n"
     ]
    }
   ],
   "source": [
    "# Convert the User Ip Address as Classes that they belong\n",
    "t0 = time.time()\n",
    "RegTraindf['FirstIP'] = RegTraindf['UserIp'].str.split('.').str[0]\n",
    "RegTraindf['FirstIP'] = RegTraindf['FirstIP'].astype(int)\n",
    "\n",
    "def func1(row):\n",
    "    if row['FirstIP'] <= 128:\n",
    "        val = 'ClassA'\n",
    "    elif row['FirstIP'] <= 191:\n",
    "        val = 'ClassB'\n",
    "    elif row['FirstIP'] <= 223:\n",
    "        val = 'ClassC'\n",
    "    elif row['FirstIP'] <= 239:\n",
    "        val = 'ClassD'\n",
    "    elif row['FirstIP'] <= 255:\n",
    "        val = 'ClassE'\n",
    "    else:\n",
    "        val = 'NoClass'\n",
    "    return val\n",
    "\n",
    "RegTraindf['IPClass'] = RegTraindf.apply(func1, axis = 1).astype(str)\n",
    "\n",
    "t1 = time.time()\n",
    "print ('Time taken is :',t1 - t0)\n",
    "del RegTraindf['FirstIP'], RegTraindf['UserIp']"
   ]
  },
  {
   "cell_type": "code",
   "execution_count": 30,
   "metadata": {
    "collapsed": true
   },
   "outputs": [],
   "source": [
    "# Remove unnecessary varaibles\n",
    "del RegTraindf['Country'],RegTraindf['Carrier'],RegTraindf['Device'],RegTraindf['Browser'],RegTraindf['advertiserCampaignId'], RegTraindf['subPublisherId'],RegTraindf['ConversionDate']"
   ]
  },
  {
   "cell_type": "code",
   "execution_count": 31,
   "metadata": {},
   "outputs": [
    {
     "data": {
      "text/plain": [
       "(34524, 19)"
      ]
     },
     "execution_count": 31,
     "metadata": {},
     "output_type": "execute_result"
    }
   ],
   "source": [
    "RegTraindf.shape"
   ]
  },
  {
   "cell_type": "code",
   "execution_count": 32,
   "metadata": {},
   "outputs": [
    {
     "data": {
      "text/html": [
       "<div>\n",
       "<style>\n",
       "    .dataframe thead tr:only-child th {\n",
       "        text-align: right;\n",
       "    }\n",
       "\n",
       "    .dataframe thead th {\n",
       "        text-align: left;\n",
       "    }\n",
       "\n",
       "    .dataframe tbody tr th {\n",
       "        vertical-align: top;\n",
       "    }\n",
       "</style>\n",
       "<table border=\"1\" class=\"dataframe\">\n",
       "  <thead>\n",
       "    <tr style=\"text-align: right;\">\n",
       "      <th></th>\n",
       "      <th>ID</th>\n",
       "      <th>TrafficType</th>\n",
       "      <th>RefererUrl</th>\n",
       "      <th>ConversionStatus</th>\n",
       "      <th>ConversionPayOut</th>\n",
       "      <th>Fraud</th>\n",
       "      <th>DayPeriod</th>\n",
       "      <th>NEWCNTRY</th>\n",
       "      <th>FRDCLS</th>\n",
       "      <th>NEWCARR</th>\n",
       "      <th>CARRFRD</th>\n",
       "      <th>NEWDEV</th>\n",
       "      <th>DEVFRD</th>\n",
       "      <th>NEWBRWSR</th>\n",
       "      <th>BRWSRFRD</th>\n",
       "      <th>NEWADCM</th>\n",
       "      <th>ADFRD</th>\n",
       "      <th>AndroidOS</th>\n",
       "      <th>IPClass</th>\n",
       "    </tr>\n",
       "  </thead>\n",
       "  <tbody>\n",
       "    <tr>\n",
       "      <th>0</th>\n",
       "      <td>1378</td>\n",
       "      <td>A</td>\n",
       "      <td>0</td>\n",
       "      <td>1</td>\n",
       "      <td>4.550000</td>\n",
       "      <td>0</td>\n",
       "      <td>SunAM1</td>\n",
       "      <td>BD</td>\n",
       "      <td>CL8</td>\n",
       "      <td>CR1</td>\n",
       "      <td>VH</td>\n",
       "      <td>Generic</td>\n",
       "      <td>VH</td>\n",
       "      <td>OTHBRW</td>\n",
       "      <td>L</td>\n",
       "      <td>ADCM4</td>\n",
       "      <td>H</td>\n",
       "      <td>yes</td>\n",
       "      <td>ClassA</td>\n",
       "    </tr>\n",
       "    <tr>\n",
       "      <th>1</th>\n",
       "      <td>1720</td>\n",
       "      <td>A</td>\n",
       "      <td>0</td>\n",
       "      <td>1</td>\n",
       "      <td>2.652650</td>\n",
       "      <td>0</td>\n",
       "      <td>SunAM1</td>\n",
       "      <td>BD</td>\n",
       "      <td>CL8</td>\n",
       "      <td>CR8</td>\n",
       "      <td>H</td>\n",
       "      <td>Samsung</td>\n",
       "      <td>VH</td>\n",
       "      <td>CHROME</td>\n",
       "      <td>H</td>\n",
       "      <td>ADCM20</td>\n",
       "      <td>H</td>\n",
       "      <td>yes</td>\n",
       "      <td>ClassA</td>\n",
       "    </tr>\n",
       "    <tr>\n",
       "      <th>2</th>\n",
       "      <td>3698</td>\n",
       "      <td>A</td>\n",
       "      <td>0</td>\n",
       "      <td>1</td>\n",
       "      <td>25.493000</td>\n",
       "      <td>0</td>\n",
       "      <td>SunAM1</td>\n",
       "      <td>RU</td>\n",
       "      <td>CL7</td>\n",
       "      <td>CR17</td>\n",
       "      <td>H</td>\n",
       "      <td>Alcatel</td>\n",
       "      <td>VH</td>\n",
       "      <td>CHROME</td>\n",
       "      <td>H</td>\n",
       "      <td>ADCM13</td>\n",
       "      <td>H</td>\n",
       "      <td>yes</td>\n",
       "      <td>ClassA</td>\n",
       "    </tr>\n",
       "    <tr>\n",
       "      <th>3</th>\n",
       "      <td>4050</td>\n",
       "      <td>A</td>\n",
       "      <td>1</td>\n",
       "      <td>1</td>\n",
       "      <td>1.123456</td>\n",
       "      <td>0</td>\n",
       "      <td>SunAM1</td>\n",
       "      <td>BD</td>\n",
       "      <td>CL8</td>\n",
       "      <td>CR8</td>\n",
       "      <td>H</td>\n",
       "      <td>Generic</td>\n",
       "      <td>VH</td>\n",
       "      <td>ANDWEB</td>\n",
       "      <td>H</td>\n",
       "      <td>ADCM2</td>\n",
       "      <td>H</td>\n",
       "      <td>yes</td>\n",
       "      <td>ClassA</td>\n",
       "    </tr>\n",
       "    <tr>\n",
       "      <th>4</th>\n",
       "      <td>8667</td>\n",
       "      <td>A</td>\n",
       "      <td>0</td>\n",
       "      <td>1</td>\n",
       "      <td>65.000000</td>\n",
       "      <td>0</td>\n",
       "      <td>SunAM1</td>\n",
       "      <td>IN</td>\n",
       "      <td>CL7</td>\n",
       "      <td>CR2</td>\n",
       "      <td>M</td>\n",
       "      <td>Intex</td>\n",
       "      <td>M</td>\n",
       "      <td>CHROME</td>\n",
       "      <td>H</td>\n",
       "      <td>ADCM39</td>\n",
       "      <td>L</td>\n",
       "      <td>yes</td>\n",
       "      <td>ClassC</td>\n",
       "    </tr>\n",
       "  </tbody>\n",
       "</table>\n",
       "</div>"
      ],
      "text/plain": [
       "     ID TrafficType  RefererUrl  ConversionStatus  ConversionPayOut  Fraud  \\\n",
       "0  1378           A           0                 1          4.550000      0   \n",
       "1  1720           A           0                 1          2.652650      0   \n",
       "2  3698           A           0                 1         25.493000      0   \n",
       "3  4050           A           1                 1          1.123456      0   \n",
       "4  8667           A           0                 1         65.000000      0   \n",
       "\n",
       "  DayPeriod NEWCNTRY FRDCLS NEWCARR CARRFRD   NEWDEV DEVFRD NEWBRWSR BRWSRFRD  \\\n",
       "0    SunAM1       BD    CL8     CR1      VH  Generic     VH   OTHBRW        L   \n",
       "1    SunAM1       BD    CL8     CR8       H  Samsung     VH   CHROME        H   \n",
       "2    SunAM1       RU    CL7    CR17       H  Alcatel     VH   CHROME        H   \n",
       "3    SunAM1       BD    CL8     CR8       H  Generic     VH   ANDWEB        H   \n",
       "4    SunAM1       IN    CL7     CR2       M    Intex      M   CHROME        H   \n",
       "\n",
       "  NEWADCM ADFRD AndroidOS IPClass  \n",
       "0   ADCM4     H       yes  ClassA  \n",
       "1  ADCM20     H       yes  ClassA  \n",
       "2  ADCM13     H       yes  ClassA  \n",
       "3   ADCM2     H       yes  ClassA  \n",
       "4  ADCM39     L       yes  ClassC  "
      ]
     },
     "execution_count": 32,
     "metadata": {},
     "output_type": "execute_result"
    }
   ],
   "source": [
    "RegTraindf.head()"
   ]
  },
  {
   "cell_type": "code",
   "execution_count": 33,
   "metadata": {
    "collapsed": true
   },
   "outputs": [],
   "source": [
    "RegTraindf.columns = ['ID','TrafficType','RefererUrl','y','ConversionPayOut','Fraud','DayPeriod','Country',\n",
    "                      'CountryFrd','Carrier','CarrierFrd','Device','DeviceFrd','Browser','BrowserFrd',\n",
    "                      'AdvCampaign','AdvCampaignFrd','AndroidOS','IPClass']"
   ]
  },
  {
   "cell_type": "code",
   "execution_count": 34,
   "metadata": {},
   "outputs": [
    {
     "data": {
      "text/html": [
       "<div>\n",
       "<style>\n",
       "    .dataframe thead tr:only-child th {\n",
       "        text-align: right;\n",
       "    }\n",
       "\n",
       "    .dataframe thead th {\n",
       "        text-align: left;\n",
       "    }\n",
       "\n",
       "    .dataframe tbody tr th {\n",
       "        vertical-align: top;\n",
       "    }\n",
       "</style>\n",
       "<table border=\"1\" class=\"dataframe\">\n",
       "  <thead>\n",
       "    <tr style=\"text-align: right;\">\n",
       "      <th></th>\n",
       "      <th>Missing Ratio</th>\n",
       "      <th>Missing Total</th>\n",
       "    </tr>\n",
       "  </thead>\n",
       "  <tbody>\n",
       "    <tr>\n",
       "      <th>IPClass</th>\n",
       "      <td>0.0</td>\n",
       "      <td>0</td>\n",
       "    </tr>\n",
       "    <tr>\n",
       "      <th>CountryFrd</th>\n",
       "      <td>0.0</td>\n",
       "      <td>0</td>\n",
       "    </tr>\n",
       "    <tr>\n",
       "      <th>TrafficType</th>\n",
       "      <td>0.0</td>\n",
       "      <td>0</td>\n",
       "    </tr>\n",
       "  </tbody>\n",
       "</table>\n",
       "</div>"
      ],
      "text/plain": [
       "             Missing Ratio  Missing Total\n",
       "IPClass                0.0              0\n",
       "CountryFrd             0.0              0\n",
       "TrafficType            0.0              0"
      ]
     },
     "execution_count": 34,
     "metadata": {},
     "output_type": "execute_result"
    }
   ],
   "source": [
    "# Checking for the missing value details before exporting\n",
    "Total = RegTraindf.isnull().sum().sort_values(ascending=False)[:30]\n",
    "percent = ((RegTraindf.isnull().sum()/RegTraindf.isnull().count())*100).sort_values(ascending=False)[:30]\n",
    "missing_data = pd.DataFrame({'Missing Ratio' :percent, 'Missing Total':Total})\n",
    "missing_data.head(3)"
   ]
  },
  {
   "cell_type": "code",
   "execution_count": 35,
   "metadata": {
    "collapsed": true
   },
   "outputs": [],
   "source": [
    "Reg_y = pd.DataFrame(RegTraindf['ConversionPayOut'])\n",
    "del RegTraindf['ConversionPayOut']"
   ]
  },
  {
   "cell_type": "code",
   "execution_count": 36,
   "metadata": {},
   "outputs": [
    {
     "data": {
      "text/html": [
       "<div>\n",
       "<style>\n",
       "    .dataframe thead tr:only-child th {\n",
       "        text-align: right;\n",
       "    }\n",
       "\n",
       "    .dataframe thead th {\n",
       "        text-align: left;\n",
       "    }\n",
       "\n",
       "    .dataframe tbody tr th {\n",
       "        vertical-align: top;\n",
       "    }\n",
       "</style>\n",
       "<table border=\"1\" class=\"dataframe\">\n",
       "  <thead>\n",
       "    <tr style=\"text-align: right;\">\n",
       "      <th></th>\n",
       "      <th>ConversionPayOut</th>\n",
       "    </tr>\n",
       "  </thead>\n",
       "  <tbody>\n",
       "    <tr>\n",
       "      <th>0</th>\n",
       "      <td>4.550000</td>\n",
       "    </tr>\n",
       "    <tr>\n",
       "      <th>1</th>\n",
       "      <td>2.652650</td>\n",
       "    </tr>\n",
       "    <tr>\n",
       "      <th>2</th>\n",
       "      <td>25.493000</td>\n",
       "    </tr>\n",
       "    <tr>\n",
       "      <th>3</th>\n",
       "      <td>1.123456</td>\n",
       "    </tr>\n",
       "    <tr>\n",
       "      <th>4</th>\n",
       "      <td>65.000000</td>\n",
       "    </tr>\n",
       "  </tbody>\n",
       "</table>\n",
       "</div>"
      ],
      "text/plain": [
       "   ConversionPayOut\n",
       "0          4.550000\n",
       "1          2.652650\n",
       "2         25.493000\n",
       "3          1.123456\n",
       "4         65.000000"
      ]
     },
     "execution_count": 36,
     "metadata": {},
     "output_type": "execute_result"
    }
   ],
   "source": [
    "Reg_y.head()"
   ]
  },
  {
   "cell_type": "code",
   "execution_count": 37,
   "metadata": {},
   "outputs": [
    {
     "name": "stdout",
     "output_type": "stream",
     "text": [
      "Before One hit encoding (34524, 18) (34524, 1)\n"
     ]
    }
   ],
   "source": [
    "print ('Before One hit encoding', RegTraindf.shape, Reg_y.shape)"
   ]
  },
  {
   "cell_type": "code",
   "execution_count": 38,
   "metadata": {},
   "outputs": [
    {
     "name": "stdout",
     "output_type": "stream",
     "text": [
      "After One hot encoding (34524, 197) (34524, 1)\n"
     ]
    }
   ],
   "source": [
    "RegTraindf = pd.get_dummies(RegTraindf, columns=['TrafficType','DayPeriod','Country','CountryFrd','Carrier','CarrierFrd',\n",
    "                                           'Device', 'DeviceFrd', 'Browser', 'BrowserFrd', 'AdvCampaign',\n",
    "                                           'AdvCampaignFrd', 'AndroidOS', 'IPClass'], drop_first=True)\n",
    "print ('After One hot encoding',RegTraindf.shape, Reg_y.shape)"
   ]
  },
  {
   "cell_type": "code",
   "execution_count": 39,
   "metadata": {},
   "outputs": [
    {
     "name": "stdout",
     "output_type": "stream",
     "text": [
      "Time taken is : 4.104580879211426\n"
     ]
    }
   ],
   "source": [
    "t0 = time.time()\n",
    "RegTraindf.to_csv('RegTraindf.csv', index=False)\n",
    "Reg_y.to_csv('Reg_y.csv', index=False)\n",
    "t1 = time.time()\n",
    "print ('Time taken is :',t1 - t0)"
   ]
  },
  {
   "cell_type": "code",
   "execution_count": null,
   "metadata": {
    "collapsed": true
   },
   "outputs": [],
   "source": []
  }
 ],
 "metadata": {
  "kernelspec": {
   "display_name": "Python 3",
   "language": "python",
   "name": "python3"
  },
  "language_info": {
   "codemirror_mode": {
    "name": "ipython",
    "version": 3
   },
   "file_extension": ".py",
   "mimetype": "text/x-python",
   "name": "python",
   "nbconvert_exporter": "python",
   "pygments_lexer": "ipython3",
   "version": "3.6.2"
  }
 },
 "nbformat": 4,
 "nbformat_minor": 2
}
