{
 "cells": [
  {
   "cell_type": "code",
   "execution_count": 1,
   "metadata": {
    "collapsed": true
   },
   "outputs": [],
   "source": [
    "import pandas as pd\n",
    "import numpy as np\n",
    "import matplotlib.pyplot as plt\n",
    "pd.set_option('display.max_columns', 99)\n",
    "pd.set_option('display.max_rows', 999)"
   ]
  },
  {
   "cell_type": "code",
   "execution_count": 2,
   "metadata": {},
   "outputs": [
    {
     "name": "stderr",
     "output_type": "stream",
     "text": [
      "/usr/local/lib/python3.5/site-packages/IPython/core/interactiveshell.py:2698: DtypeWarning: Columns (13) have mixed types. Specify dtype option on import or set low_memory=False.\n",
      "  interactivity=interactivity, compiler=compiler, result=result)\n",
      "/usr/local/lib/python3.5/site-packages/IPython/core/interactiveshell.py:2698: DtypeWarning: Columns (10) have mixed types. Specify dtype option on import or set low_memory=False.\n",
      "  interactivity=interactivity, compiler=compiler, result=result)\n"
     ]
    }
   ],
   "source": [
    "# Importing the part df on local and full data on cloud\n",
    "#filename = '/Users/viswanathravindran/AVDatahack/ADClick/Data/train.csv'\n",
    "#Traindf = pd.read_csv(filename, nrows = 80000)\n",
    "Traindf = pd.read_csv('/advdata/train.csv')\n",
    "Testdf = pd.read_csv('/advdata/test.csv')"
   ]
  },
  {
   "cell_type": "code",
   "execution_count": 3,
   "metadata": {},
   "outputs": [
    {
     "data": {
      "text/html": [
       "<div>\n",
       "<style>\n",
       "    .dataframe thead tr:only-child th {\n",
       "        text-align: right;\n",
       "    }\n",
       "\n",
       "    .dataframe thead th {\n",
       "        text-align: left;\n",
       "    }\n",
       "\n",
       "    .dataframe tbody tr th {\n",
       "        vertical-align: top;\n",
       "    }\n",
       "</style>\n",
       "<table border=\"1\" class=\"dataframe\">\n",
       "  <thead>\n",
       "    <tr style=\"text-align: right;\">\n",
       "      <th></th>\n",
       "      <th>ID</th>\n",
       "      <th>Country</th>\n",
       "      <th>Carrier</th>\n",
       "      <th>TrafficType</th>\n",
       "      <th>ClickDate</th>\n",
       "      <th>Device</th>\n",
       "      <th>Browser</th>\n",
       "      <th>OS</th>\n",
       "      <th>RefererUrl</th>\n",
       "      <th>UserIp</th>\n",
       "      <th>ConversionStatus</th>\n",
       "      <th>ConversionDate</th>\n",
       "      <th>ConversionPayOut</th>\n",
       "      <th>publisherId</th>\n",
       "      <th>subPublisherId</th>\n",
       "      <th>advertiserCampaignId</th>\n",
       "      <th>Fraud</th>\n",
       "    </tr>\n",
       "  </thead>\n",
       "  <tbody>\n",
       "    <tr>\n",
       "      <th>0</th>\n",
       "      <td>0</td>\n",
       "      <td>IN</td>\n",
       "      <td>2.0</td>\n",
       "      <td>M</td>\n",
       "      <td>2017-08-21 00:00:01</td>\n",
       "      <td>Google</td>\n",
       "      <td>chrome</td>\n",
       "      <td>Android</td>\n",
       "      <td>NaN</td>\n",
       "      <td>42.111.171.131</td>\n",
       "      <td>False</td>\n",
       "      <td>NaN</td>\n",
       "      <td>0.0</td>\n",
       "      <td>69</td>\n",
       "      <td>NaN</td>\n",
       "      <td>6555.0</td>\n",
       "      <td>0.0</td>\n",
       "    </tr>\n",
       "    <tr>\n",
       "      <th>1</th>\n",
       "      <td>1</td>\n",
       "      <td>TH</td>\n",
       "      <td>27.0</td>\n",
       "      <td>A</td>\n",
       "      <td>2017-08-21 00:00:01</td>\n",
       "      <td>Generic</td>\n",
       "      <td>46.0.2490.76</td>\n",
       "      <td>Android</td>\n",
       "      <td>NaN</td>\n",
       "      <td>1.46.235.65</td>\n",
       "      <td>False</td>\n",
       "      <td>NaN</td>\n",
       "      <td>0.0</td>\n",
       "      <td>646</td>\n",
       "      <td>NaN</td>\n",
       "      <td>7510.0</td>\n",
       "      <td>0.0</td>\n",
       "    </tr>\n",
       "    <tr>\n",
       "      <th>2</th>\n",
       "      <td>2</td>\n",
       "      <td>IN</td>\n",
       "      <td>4.0</td>\n",
       "      <td>M</td>\n",
       "      <td>2017-08-21 00:00:01</td>\n",
       "      <td>Samsung</td>\n",
       "      <td>chromium</td>\n",
       "      <td>Android</td>\n",
       "      <td>NaN</td>\n",
       "      <td>49.15.91.224</td>\n",
       "      <td>False</td>\n",
       "      <td>NaN</td>\n",
       "      <td>0.0</td>\n",
       "      <td>301</td>\n",
       "      <td>NaN</td>\n",
       "      <td>12696.0</td>\n",
       "      <td>0.0</td>\n",
       "    </tr>\n",
       "    <tr>\n",
       "      <th>3</th>\n",
       "      <td>3</td>\n",
       "      <td>PH</td>\n",
       "      <td>-1.0</td>\n",
       "      <td>A</td>\n",
       "      <td>2017-08-21 00:00:01</td>\n",
       "      <td>Generic</td>\n",
       "      <td>android_webkit</td>\n",
       "      <td>Android</td>\n",
       "      <td>NaN</td>\n",
       "      <td>115.42.126.86</td>\n",
       "      <td>False</td>\n",
       "      <td>NaN</td>\n",
       "      <td>0.0</td>\n",
       "      <td>242</td>\n",
       "      <td>NaN</td>\n",
       "      <td>735.0</td>\n",
       "      <td>0.0</td>\n",
       "    </tr>\n",
       "    <tr>\n",
       "      <th>4</th>\n",
       "      <td>4</td>\n",
       "      <td>MX</td>\n",
       "      <td>-1.0</td>\n",
       "      <td>NaN</td>\n",
       "      <td>2017-08-21 00:00:01</td>\n",
       "      <td>Generic</td>\n",
       "      <td>chrome</td>\n",
       "      <td>Android</td>\n",
       "      <td>NaN</td>\n",
       "      <td>187.161.11.97</td>\n",
       "      <td>False</td>\n",
       "      <td>NaN</td>\n",
       "      <td>0.0</td>\n",
       "      <td>1306</td>\n",
       "      <td>NaN</td>\n",
       "      <td>7802.0</td>\n",
       "      <td>0.0</td>\n",
       "    </tr>\n",
       "  </tbody>\n",
       "</table>\n",
       "</div>"
      ],
      "text/plain": [
       "   ID Country  Carrier TrafficType            ClickDate   Device  \\\n",
       "0   0      IN      2.0           M  2017-08-21 00:00:01   Google   \n",
       "1   1      TH     27.0           A  2017-08-21 00:00:01  Generic   \n",
       "2   2      IN      4.0           M  2017-08-21 00:00:01  Samsung   \n",
       "3   3      PH     -1.0           A  2017-08-21 00:00:01  Generic   \n",
       "4   4      MX     -1.0         NaN  2017-08-21 00:00:01  Generic   \n",
       "\n",
       "          Browser       OS RefererUrl          UserIp  ConversionStatus  \\\n",
       "0          chrome  Android        NaN  42.111.171.131             False   \n",
       "1    46.0.2490.76  Android        NaN     1.46.235.65             False   \n",
       "2        chromium  Android        NaN    49.15.91.224             False   \n",
       "3  android_webkit  Android        NaN   115.42.126.86             False   \n",
       "4          chrome  Android        NaN   187.161.11.97             False   \n",
       "\n",
       "  ConversionDate  ConversionPayOut publisherId subPublisherId  \\\n",
       "0            NaN               0.0          69            NaN   \n",
       "1            NaN               0.0         646            NaN   \n",
       "2            NaN               0.0         301            NaN   \n",
       "3            NaN               0.0         242            NaN   \n",
       "4            NaN               0.0        1306            NaN   \n",
       "\n",
       "   advertiserCampaignId  Fraud  \n",
       "0                6555.0    0.0  \n",
       "1                7510.0    0.0  \n",
       "2               12696.0    0.0  \n",
       "3                 735.0    0.0  \n",
       "4                7802.0    0.0  "
      ]
     },
     "execution_count": 3,
     "metadata": {},
     "output_type": "execute_result"
    }
   ],
   "source": [
    "Traindf.head()"
   ]
  },
  {
   "cell_type": "code",
   "execution_count": 4,
   "metadata": {},
   "outputs": [
    {
     "name": "stdout",
     "output_type": "stream",
     "text": [
      "The shape of the Full training Data is:  (63367217, 17)\n",
      "The shape of the Full Test Data is:  (25548873, 14)\n",
      "The shape of the dataframe with only converted members is:  (34524, 17)\n",
      "The Percentage of conversion is:  0.054482430560269045\n"
     ]
    }
   ],
   "source": [
    "print ('The shape of the Full training Data is: ', Traindf.shape)\n",
    "print ('The shape of the Full Test Data is: ', Testdf.shape)\n",
    "ConvTrndf = Traindf[Traindf.ConversionStatus==True]\n",
    "print ('The shape of the dataframe with only converted members is: ', ConvTrndf.shape)\n",
    "print ('The Percentage of conversion is: ', ((ConvTrndf.shape[0] / Traindf.shape[0])*100))"
   ]
  },
  {
   "cell_type": "code",
   "execution_count": 5,
   "metadata": {
    "collapsed": true
   },
   "outputs": [],
   "source": [
    "del ConvTrndf"
   ]
  },
  {
   "cell_type": "code",
   "execution_count": 7,
   "metadata": {},
   "outputs": [
    {
     "name": "stdout",
     "output_type": "stream",
     "text": [
      "Fraud Count in Train 0.0    63366821\n",
      "1.0         396\n",
      "Name: Fraud, dtype: int64\n",
      "Fraud Count in Test 0.0    25444662\n",
      "1.0      104211\n",
      "Name: Fraud, dtype: int64\n"
     ]
    }
   ],
   "source": [
    "# this indicates in the complete sample that we have taken there are Fraud variable set to 1.0\n",
    "print ('Fraud Count in Train',Traindf.Fraud.value_counts())\n",
    "print ('Fraud Count in Test',Testdf.Fraud.value_counts())"
   ]
  },
  {
   "cell_type": "code",
   "execution_count": 8,
   "metadata": {
    "collapsed": true
   },
   "outputs": [],
   "source": [
    "# Convert the Fraud and Conversion Status to integer \n",
    "Traindf['Fraud'] = Traindf['Fraud'].astype(np.int)\n",
    "Testdf['Fraud'] = Testdf['Fraud'].astype(np.int)\n",
    "Traindf['ConversionStatus'] = Traindf['ConversionStatus'].astype(np.int)"
   ]
  },
  {
   "cell_type": "code",
   "execution_count": 9,
   "metadata": {},
   "outputs": [
    {
     "data": {
      "text/html": [
       "<div>\n",
       "<style>\n",
       "    .dataframe thead tr:only-child th {\n",
       "        text-align: right;\n",
       "    }\n",
       "\n",
       "    .dataframe thead th {\n",
       "        text-align: left;\n",
       "    }\n",
       "\n",
       "    .dataframe tbody tr th {\n",
       "        vertical-align: top;\n",
       "    }\n",
       "</style>\n",
       "<table border=\"1\" class=\"dataframe\">\n",
       "  <thead>\n",
       "    <tr style=\"text-align: right;\">\n",
       "      <th></th>\n",
       "      <th>Missing Ratio</th>\n",
       "    </tr>\n",
       "  </thead>\n",
       "  <tbody>\n",
       "    <tr>\n",
       "      <th>ConversionDate</th>\n",
       "      <td>99.945518</td>\n",
       "    </tr>\n",
       "    <tr>\n",
       "      <th>subPublisherId</th>\n",
       "      <td>98.348556</td>\n",
       "    </tr>\n",
       "    <tr>\n",
       "      <th>RefererUrl</th>\n",
       "      <td>74.716878</td>\n",
       "    </tr>\n",
       "    <tr>\n",
       "      <th>TrafficType</th>\n",
       "      <td>14.978493</td>\n",
       "    </tr>\n",
       "    <tr>\n",
       "      <th>OS</th>\n",
       "      <td>0.487481</td>\n",
       "    </tr>\n",
       "    <tr>\n",
       "      <th>Browser</th>\n",
       "      <td>0.430606</td>\n",
       "    </tr>\n",
       "    <tr>\n",
       "      <th>Device</th>\n",
       "      <td>0.209716</td>\n",
       "    </tr>\n",
       "    <tr>\n",
       "      <th>Country</th>\n",
       "      <td>0.064795</td>\n",
       "    </tr>\n",
       "    <tr>\n",
       "      <th>advertiserCampaignId</th>\n",
       "      <td>0.000726</td>\n",
       "    </tr>\n",
       "    <tr>\n",
       "      <th>publisherId</th>\n",
       "      <td>0.000314</td>\n",
       "    </tr>\n",
       "  </tbody>\n",
       "</table>\n",
       "</div>"
      ],
      "text/plain": [
       "                      Missing Ratio\n",
       "ConversionDate            99.945518\n",
       "subPublisherId            98.348556\n",
       "RefererUrl                74.716878\n",
       "TrafficType               14.978493\n",
       "OS                         0.487481\n",
       "Browser                    0.430606\n",
       "Device                     0.209716\n",
       "Country                    0.064795\n",
       "advertiserCampaignId       0.000726\n",
       "publisherId                0.000314"
      ]
     },
     "execution_count": 9,
     "metadata": {},
     "output_type": "execute_result"
    }
   ],
   "source": [
    "# Checking for the ratio of missing value\n",
    "Traindf_na = (Traindf.isnull().sum() / len(Traindf)) * 100\n",
    "Traindf_na = Traindf_na.drop(Traindf_na[Traindf_na == 0].index).sort_values(ascending=False)[:30]\n",
    "missing_data = pd.DataFrame({'Missing Ratio' :Traindf_na})\n",
    "missing_data.head(10)"
   ]
  },
  {
   "cell_type": "code",
   "execution_count": 10,
   "metadata": {
    "collapsed": true
   },
   "outputs": [],
   "source": [
    "del Traindf_na, missing_data"
   ]
  },
  {
   "cell_type": "code",
   "execution_count": 11,
   "metadata": {},
   "outputs": [
    {
     "data": {
      "text/html": [
       "<div>\n",
       "<style>\n",
       "    .dataframe thead tr:only-child th {\n",
       "        text-align: right;\n",
       "    }\n",
       "\n",
       "    .dataframe thead th {\n",
       "        text-align: left;\n",
       "    }\n",
       "\n",
       "    .dataframe tbody tr th {\n",
       "        vertical-align: top;\n",
       "    }\n",
       "</style>\n",
       "<table border=\"1\" class=\"dataframe\">\n",
       "  <thead>\n",
       "    <tr style=\"text-align: right;\">\n",
       "      <th></th>\n",
       "      <th>Missing Ratio</th>\n",
       "    </tr>\n",
       "  </thead>\n",
       "  <tbody>\n",
       "    <tr>\n",
       "      <th>subPublisherId</th>\n",
       "      <td>97.288667</td>\n",
       "    </tr>\n",
       "    <tr>\n",
       "      <th>RefererUrl</th>\n",
       "      <td>63.835008</td>\n",
       "    </tr>\n",
       "    <tr>\n",
       "      <th>TrafficType</th>\n",
       "      <td>20.355023</td>\n",
       "    </tr>\n",
       "    <tr>\n",
       "      <th>OS</th>\n",
       "      <td>0.521236</td>\n",
       "    </tr>\n",
       "    <tr>\n",
       "      <th>Browser</th>\n",
       "      <td>0.372200</td>\n",
       "    </tr>\n",
       "    <tr>\n",
       "      <th>Device</th>\n",
       "      <td>0.214311</td>\n",
       "    </tr>\n",
       "    <tr>\n",
       "      <th>Country</th>\n",
       "      <td>0.035375</td>\n",
       "    </tr>\n",
       "    <tr>\n",
       "      <th>advertiserCampaignId</th>\n",
       "      <td>0.001558</td>\n",
       "    </tr>\n",
       "    <tr>\n",
       "      <th>publisherId</th>\n",
       "      <td>0.000595</td>\n",
       "    </tr>\n",
       "  </tbody>\n",
       "</table>\n",
       "</div>"
      ],
      "text/plain": [
       "                      Missing Ratio\n",
       "subPublisherId            97.288667\n",
       "RefererUrl                63.835008\n",
       "TrafficType               20.355023\n",
       "OS                         0.521236\n",
       "Browser                    0.372200\n",
       "Device                     0.214311\n",
       "Country                    0.035375\n",
       "advertiserCampaignId       0.001558\n",
       "publisherId                0.000595"
      ]
     },
     "execution_count": 11,
     "metadata": {},
     "output_type": "execute_result"
    }
   ],
   "source": [
    "# Checking for the ratio of missing value\n",
    "Testdf_na = (Testdf.isnull().sum() / len(Testdf)) * 100\n",
    "Testdf_na = Testdf_na.drop(Testdf_na[Testdf_na == 0].index).sort_values(ascending=False)[:30]\n",
    "missing_data = pd.DataFrame({'Missing Ratio' :Testdf_na})\n",
    "missing_data.head(10)"
   ]
  },
  {
   "cell_type": "code",
   "execution_count": 12,
   "metadata": {
    "collapsed": true
   },
   "outputs": [],
   "source": [
    "del Testdf_na, missing_data"
   ]
  },
  {
   "cell_type": "code",
   "execution_count": 13,
   "metadata": {},
   "outputs": [
    {
     "data": {
      "text/plain": [
       "A    36659661\n",
       "M    17216102\n",
       "Name: TrafficType, dtype: int64"
      ]
     },
     "execution_count": 13,
     "metadata": {},
     "output_type": "execute_result"
    }
   ],
   "source": [
    "Traindf.TrafficType.value_counts().head()"
   ]
  },
  {
   "cell_type": "code",
   "execution_count": 16,
   "metadata": {
    "collapsed": true
   },
   "outputs": [],
   "source": [
    "# Replace the Missing value based on above result\n",
    "#Traindf['Country'] = Traindf.Country.fillna('IN').astype(str)\n",
    "#Traindf['Device'] = Traindf.Device.fillna('UN').astype(str)\n",
    "Traindf['publisherId'] = Traindf.publisherId.fillna(1306).astype(str)\n",
    "#Traindf['advertiserCampaignId'] = Traindf.advertiserCampaignId.fillna(7510).astype(np.int)\n",
    "#Testdf['Country'] = Testdf.Country.fillna('IN').astype(str)\n",
    "#Testdf['Device'] = Testdf.Device.fillna('UN').astype(str)\n",
    "Testdf['publisherId'] = Testdf.publisherId.fillna(1306).astype(str)\n",
    "#Testdf['advertiserCampaignId'] = Testdf.advertiserCampaignId.fillna(7510).astype(np.int)"
   ]
  },
  {
   "cell_type": "code",
   "execution_count": 17,
   "metadata": {},
   "outputs": [
    {
     "data": {
      "text/plain": [
       "(88916090, 6)"
      ]
     },
     "execution_count": 17,
     "metadata": {},
     "output_type": "execute_result"
    }
   ],
   "source": [
    "# Combining the data only for the necessary fields\n",
    "STrain = Traindf[['Country','Carrier','Device','publisherId','advertiserCampaignId','Fraud']]\n",
    "STest = Testdf[['Country','Carrier','Device','publisherId','advertiserCampaignId','Fraud']]\n",
    "Combdf = pd.concat([STrain,STest])\n",
    "Combdf.shape"
   ]
  },
  {
   "cell_type": "code",
   "execution_count": 34,
   "metadata": {
    "collapsed": true
   },
   "outputs": [],
   "source": [
    "#del STrain, STest\n",
    "del Traindf, Testdf"
   ]
  },
  {
   "cell_type": "code",
   "execution_count": 19,
   "metadata": {},
   "outputs": [
    {
     "data": {
      "text/html": [
       "<div>\n",
       "<style>\n",
       "    .dataframe thead tr:only-child th {\n",
       "        text-align: right;\n",
       "    }\n",
       "\n",
       "    .dataframe thead th {\n",
       "        text-align: left;\n",
       "    }\n",
       "\n",
       "    .dataframe tbody tr th {\n",
       "        vertical-align: top;\n",
       "    }\n",
       "</style>\n",
       "<table border=\"1\" class=\"dataframe\">\n",
       "  <thead>\n",
       "    <tr style=\"text-align: right;\">\n",
       "      <th></th>\n",
       "      <th>Country</th>\n",
       "      <th>Carrier</th>\n",
       "      <th>Device</th>\n",
       "      <th>publisherId</th>\n",
       "      <th>advertiserCampaignId</th>\n",
       "      <th>Fraud</th>\n",
       "    </tr>\n",
       "  </thead>\n",
       "  <tbody>\n",
       "    <tr>\n",
       "      <th>0</th>\n",
       "      <td>IN</td>\n",
       "      <td>2.0</td>\n",
       "      <td>Google</td>\n",
       "      <td>69</td>\n",
       "      <td>6555</td>\n",
       "      <td>0</td>\n",
       "    </tr>\n",
       "    <tr>\n",
       "      <th>1</th>\n",
       "      <td>TH</td>\n",
       "      <td>27.0</td>\n",
       "      <td>Generic</td>\n",
       "      <td>646</td>\n",
       "      <td>7510</td>\n",
       "      <td>0</td>\n",
       "    </tr>\n",
       "    <tr>\n",
       "      <th>2</th>\n",
       "      <td>IN</td>\n",
       "      <td>4.0</td>\n",
       "      <td>Samsung</td>\n",
       "      <td>301</td>\n",
       "      <td>12696</td>\n",
       "      <td>0</td>\n",
       "    </tr>\n",
       "    <tr>\n",
       "      <th>3</th>\n",
       "      <td>PH</td>\n",
       "      <td>-1.0</td>\n",
       "      <td>Generic</td>\n",
       "      <td>242</td>\n",
       "      <td>735</td>\n",
       "      <td>0</td>\n",
       "    </tr>\n",
       "    <tr>\n",
       "      <th>4</th>\n",
       "      <td>MX</td>\n",
       "      <td>-1.0</td>\n",
       "      <td>Generic</td>\n",
       "      <td>1306</td>\n",
       "      <td>7802</td>\n",
       "      <td>0</td>\n",
       "    </tr>\n",
       "  </tbody>\n",
       "</table>\n",
       "</div>"
      ],
      "text/plain": [
       "  Country  Carrier   Device publisherId  advertiserCampaignId  Fraud\n",
       "0      IN      2.0   Google          69                  6555      0\n",
       "1      TH     27.0  Generic         646                  7510      0\n",
       "2      IN      4.0  Samsung         301                 12696      0\n",
       "3      PH     -1.0  Generic         242                   735      0\n",
       "4      MX     -1.0  Generic        1306                  7802      0"
      ]
     },
     "execution_count": 19,
     "metadata": {},
     "output_type": "execute_result"
    }
   ],
   "source": [
    "Combdf.head()"
   ]
  },
  {
   "cell_type": "code",
   "execution_count": 24,
   "metadata": {
    "collapsed": true
   },
   "outputs": [],
   "source": [
    "# Count the count of the variables which we should convert into their counts and run it one varaible at a time\n",
    "#Combdf['CntryCount'] = Combdf.groupby('Country')['Country'].transform('count').astype(np.int)\n",
    "#Combdf['CarrCount'] = Combdf.groupby('Carrier')['Carrier'].transform('count').astype(np.int)\n",
    "#Combdf['DevCount'] = Combdf.groupby('Device')['Device'].transform('count').astype(np.int)\n",
    "#Combdf['PubCount'] = Combdf.groupby('publisherId')['publisherId'].transform('count').astype(np.int)\n",
    "Combdf['AdvCount'] = Combdf.groupby('advertiserCampaignId')['advertiserCampaignId'].transform('count').astype(np.int)"
   ]
  },
  {
   "cell_type": "code",
   "execution_count": 31,
   "metadata": {
    "collapsed": true
   },
   "outputs": [],
   "source": [
    "# Count the count of the variables which we should convert into their counts and run it one varaible at a time\n",
    "#Combdf['CntryFrd'] = Combdf.groupby('Country')['Fraud'].transform('sum').astype(np.int)\n",
    "#Combdf['CarrFrd'] = Combdf.groupby('Carrier')['Fraud'].transform('sum').astype(np.int)\n",
    "#Combdf['DevFrd'] = Combdf.groupby('Device')['Fraud'].transform('sum').astype(np.int)\n",
    "#Combdf['PubFrd'] = Combdf.groupby('publisherId')['Fraud'].transform('sum').astype(np.int)\n",
    "Combdf['AdvFrd'] = Combdf.groupby('advertiserCampaignId')['Fraud'].transform('sum').astype(np.int)"
   ]
  },
  {
   "cell_type": "code",
   "execution_count": 29,
   "metadata": {},
   "outputs": [
    {
     "name": "stdout",
     "output_type": "stream",
     "text": [
      "Min is 1 ,33 percentile is 2721633.0 ,66 percentile is 8536822.0 ,Max Value is 27137013\n",
      "Min is 1 ,33 percentile is 1776906.0 ,66 percentile is 6282011.0 ,Max Value is 27640537\n",
      "Min is 1 ,33 percentile is 3492463.0 ,66 percentile is 43168936.0 ,Max Value is 43168936\n",
      "Min is 1 ,33 percentile is 390083.0 ,66 percentile is 1929233.0 ,Max Value is 6407143\n",
      "Min is 1 ,33 percentile is 731465.0 ,66 percentile is 2684511.0 ,Max Value is 6662847\n"
     ]
    }
   ],
   "source": [
    "#Identify the min, 33rd, 66th and max percentile in data for all Count columns\n",
    "print ('Min is',Combdf.CntryCount.min(),',33 percentile is', np.percentile(Combdf.CntryCount, 33), ',66 percentile is', np.percentile(Combdf.CntryCount, 66), ',Max Value is', Combdf.CntryCount.max())\n",
    "print ('Min is',Combdf.CarrCount.min(),',33 percentile is', np.percentile(Combdf.CarrCount, 33), ',66 percentile is', np.percentile(Combdf.CarrCount, 66), ',Max Value is', Combdf.CarrCount.max())\n",
    "print ('Min is',Combdf.DevCount.min(),',33 percentile is', np.percentile(Combdf.DevCount, 33), ',66 percentile is', np.percentile(Combdf.DevCount, 66), ',Max Value is', Combdf.DevCount.max())\n",
    "print ('Min is',Combdf.PubCount.min(),',33 percentile is', np.percentile(Combdf.PubCount, 33), ',66 percentile is', np.percentile(Combdf.PubCount, 66), ',Max Value is', Combdf.PubCount.max())\n",
    "print ('Min is',Combdf.AdvCount.min(),',33 percentile is', np.percentile(Combdf.AdvCount, 33), ',66 percentile is', np.percentile(Combdf.AdvCount, 66), ',Max Value is', Combdf.AdvCount.max())"
   ]
  },
  {
   "cell_type": "code",
   "execution_count": 32,
   "metadata": {},
   "outputs": [
    {
     "name": "stdout",
     "output_type": "stream",
     "text": [
      "Min is 0 ,Median is 23.0 ,80 percentile is 9986.0 ,Max Value is 26775\n",
      "Min is 0 ,Median is 1233.0 ,80 percentile is 32729.0 ,Max Value is 32729\n",
      "Min is 0 ,Median is 103.0 ,80 percentile is 46748.0 ,Max Value is 46748\n",
      "Min is 0 ,Median is 22.0 ,80 percentile is 3398.0 ,Max Value is 20675\n",
      "Min is 0 ,Median is 0.0 ,80 percentile is 6430.0 ,Max Value is 11386\n"
     ]
    }
   ],
   "source": [
    "#Identify the min, 33rd, 66th and max percentile in data for all Fraud Sum columns\n",
    "print ('Min is',Combdf.CntryFrd.min(),',Median is', np.percentile(Combdf.CntryFrd, 5), ',80 percentile is', np.percentile(Combdf.CntryFrd, 80), ',Max Value is', Combdf.CntryFrd.max())\n",
    "print ('Min is',Combdf.CarrFrd.min(),',Median is', np.percentile(Combdf.CarrFrd, 50), ',80 percentile is', np.percentile(Combdf.CarrFrd, 80), ',Max Value is', Combdf.CarrFrd.max())\n",
    "print ('Min is',Combdf.DevFrd.min(),',Median is', np.percentile(Combdf.DevFrd, 5), ',80 percentile is', np.percentile(Combdf.DevFrd, 80), ',Max Value is', Combdf.DevFrd.max())\n",
    "print ('Min is',Combdf.PubFrd.min(),',Median is', np.percentile(Combdf.PubFrd, 50), ',80 percentile is', np.percentile(Combdf.PubFrd, 80), ',Max Value is', Combdf.PubFrd.max())\n",
    "print ('Min is',Combdf.AdvFrd.min(),',Median is', np.percentile(Combdf.AdvFrd, 5), ',80 percentile is', np.percentile(Combdf.AdvFrd, 80), ',Max Value is', Combdf.AdvFrd.max())"
   ]
  },
  {
   "cell_type": "code",
   "execution_count": 1,
   "metadata": {
    "collapsed": true
   },
   "outputs": [],
   "source": [
    "#Countrydf = Combdf[['Country','CntryCount','CntryFrd']]\n",
    "#Carrierdf = Combdf[['Carrier','CarrCount','CarrFrd']]\n",
    "#Devicedf = Combdf[['Device','DevCount','DevFrd']]\n",
    "#Publisherdf = Combdf[['publisherId','PubCount','PubFrd']]\n",
    "#Advertiserdf = Combdf[['advertiserCampaignId','AdvCount','AdvFrd']]"
   ]
  },
  {
   "cell_type": "code",
   "execution_count": 34,
   "metadata": {},
   "outputs": [
    {
     "name": "stdout",
     "output_type": "stream",
     "text": [
      "(88916090, 3)\n",
      "(88916090, 3)\n",
      "(88916090, 3)\n",
      "(88916090, 3)\n",
      "(88916090, 3)\n"
     ]
    }
   ],
   "source": [
    "print (Countrydf.shape)\n",
    "print (Carrierdf.shape)\n",
    "print (Devicedf.shape)\n",
    "print (Publisherdf.shape)\n",
    "print (Advertiserdf.shape)"
   ]
  },
  {
   "cell_type": "code",
   "execution_count": 35,
   "metadata": {
    "collapsed": true
   },
   "outputs": [],
   "source": [
    "del Combdf"
   ]
  },
  {
   "cell_type": "code",
   "execution_count": 43,
   "metadata": {
    "collapsed": true
   },
   "outputs": [],
   "source": [
    "Countrydf = Countrydf.drop_duplicates()\n",
    "Carrierdf = Carrierdf.drop_duplicates()\n",
    "Devicedf = Devicedf.drop_duplicates()\n",
    "Publisherdf = Publisherdf.drop_duplicates()\n",
    "Advertiserdf = Advertiserdf.drop_duplicates()"
   ]
  },
  {
   "cell_type": "code",
   "execution_count": 44,
   "metadata": {},
   "outputs": [
    {
     "name": "stdout",
     "output_type": "stream",
     "text": [
      "(232, 3)\n",
      "(383, 3)\n",
      "(1344, 3)\n",
      "(12534, 3)\n",
      "(2132, 3)\n"
     ]
    }
   ],
   "source": [
    "print (Countrydf.shape)\n",
    "print (Carrierdf.shape)\n",
    "print (Devicedf.shape)\n",
    "print (Publisherdf.shape)\n",
    "print (Advertiserdf.shape)"
   ]
  },
  {
   "cell_type": "code",
   "execution_count": 47,
   "metadata": {
    "collapsed": true
   },
   "outputs": [],
   "source": [
    "#Countrydf.to_csv('Countrydf.csv', index= False)\n",
    "#Carrierdf.to_csv('Carrierdf.csv', index= False)\n",
    "#Devicedf.to_csv('Devicedf.csv', index= False)\n",
    "#Publisherdf.to_csv('Publisherdf.csv', index= False)\n",
    "Advertiserdf.to_csv('Advertiserdf.csv', index= False)"
   ]
  },
  {
   "cell_type": "code",
   "execution_count": 48,
   "metadata": {},
   "outputs": [
    {
     "name": "stdout",
     "output_type": "stream",
     "text": [
      "Shape of training data Before merging the new cols (63367217, 17)\n",
      "Shape of Test data Before merging the new cols (25548873, 14)\n"
     ]
    }
   ],
   "source": [
    "print ('Shape of training data Before merging the new cols',Traindf.shape)\n",
    "print ('Shape of Test data Before merging the new cols',Testdf.shape)"
   ]
  },
  {
   "cell_type": "code",
   "execution_count": 59,
   "metadata": {},
   "outputs": [
    {
     "name": "stdout",
     "output_type": "stream",
     "text": [
      "Shape of training data Before merging the new cols (63367217, 17)\n",
      "Shape of Test data Before merging the new cols (25548873, 24)\n"
     ]
    }
   ],
   "source": [
    "print ('Shape of training data Before merging the new cols',Traindf.shape)\n",
    "print ('Shape of Test data Before merging the new cols',Testdf.shape)"
   ]
  },
  {
   "cell_type": "markdown",
   "metadata": {},
   "source": [
    "# Restart without the Count of variables"
   ]
  },
  {
   "cell_type": "code",
   "execution_count": 1,
   "metadata": {
    "collapsed": true
   },
   "outputs": [],
   "source": [
    "import pandas as pd\n",
    "import numpy as np\n",
    "import matplotlib.pyplot as plt\n",
    "pd.set_option('display.max_columns', 99)\n",
    "pd.set_option('display.max_rows', 999)"
   ]
  },
  {
   "cell_type": "code",
   "execution_count": 2,
   "metadata": {},
   "outputs": [
    {
     "name": "stderr",
     "output_type": "stream",
     "text": [
      "/usr/local/lib/python3.5/site-packages/IPython/core/interactiveshell.py:2698: DtypeWarning: Columns (13) have mixed types. Specify dtype option on import or set low_memory=False.\n",
      "  interactivity=interactivity, compiler=compiler, result=result)\n"
     ]
    }
   ],
   "source": [
    "# Importing the part df on local and full data on cloud\n",
    "#filename = '/Users/viswanathravindran/AVDatahack/ADClick/RawData/train.csv'\n",
    "#Traindf = pd.read_csv(filename, nrows = 20000)\n",
    "Traindf = pd.read_csv('/advdata/train.csv')\n",
    "#Testdf = pd.read_csv('/advdata/test.csv')"
   ]
  },
  {
   "cell_type": "code",
   "execution_count": 3,
   "metadata": {},
   "outputs": [
    {
     "data": {
      "text/html": [
       "<div>\n",
       "<style>\n",
       "    .dataframe thead tr:only-child th {\n",
       "        text-align: right;\n",
       "    }\n",
       "\n",
       "    .dataframe thead th {\n",
       "        text-align: left;\n",
       "    }\n",
       "\n",
       "    .dataframe tbody tr th {\n",
       "        vertical-align: top;\n",
       "    }\n",
       "</style>\n",
       "<table border=\"1\" class=\"dataframe\">\n",
       "  <thead>\n",
       "    <tr style=\"text-align: right;\">\n",
       "      <th></th>\n",
       "      <th>ID</th>\n",
       "      <th>Country</th>\n",
       "      <th>Carrier</th>\n",
       "      <th>TrafficType</th>\n",
       "      <th>ClickDate</th>\n",
       "      <th>Device</th>\n",
       "      <th>Browser</th>\n",
       "      <th>OS</th>\n",
       "      <th>RefererUrl</th>\n",
       "      <th>UserIp</th>\n",
       "      <th>ConversionStatus</th>\n",
       "      <th>ConversionDate</th>\n",
       "      <th>ConversionPayOut</th>\n",
       "      <th>publisherId</th>\n",
       "      <th>subPublisherId</th>\n",
       "      <th>advertiserCampaignId</th>\n",
       "      <th>Fraud</th>\n",
       "    </tr>\n",
       "  </thead>\n",
       "  <tbody>\n",
       "    <tr>\n",
       "      <th>0</th>\n",
       "      <td>0</td>\n",
       "      <td>IN</td>\n",
       "      <td>2.0</td>\n",
       "      <td>M</td>\n",
       "      <td>2017-08-21 00:00:01</td>\n",
       "      <td>Google</td>\n",
       "      <td>chrome</td>\n",
       "      <td>Android</td>\n",
       "      <td>NaN</td>\n",
       "      <td>42.111.171.131</td>\n",
       "      <td>False</td>\n",
       "      <td>NaN</td>\n",
       "      <td>0.0</td>\n",
       "      <td>69</td>\n",
       "      <td>NaN</td>\n",
       "      <td>6555.0</td>\n",
       "      <td>0.0</td>\n",
       "    </tr>\n",
       "    <tr>\n",
       "      <th>1</th>\n",
       "      <td>1</td>\n",
       "      <td>TH</td>\n",
       "      <td>27.0</td>\n",
       "      <td>A</td>\n",
       "      <td>2017-08-21 00:00:01</td>\n",
       "      <td>Generic</td>\n",
       "      <td>46.0.2490.76</td>\n",
       "      <td>Android</td>\n",
       "      <td>NaN</td>\n",
       "      <td>1.46.235.65</td>\n",
       "      <td>False</td>\n",
       "      <td>NaN</td>\n",
       "      <td>0.0</td>\n",
       "      <td>646</td>\n",
       "      <td>NaN</td>\n",
       "      <td>7510.0</td>\n",
       "      <td>0.0</td>\n",
       "    </tr>\n",
       "    <tr>\n",
       "      <th>2</th>\n",
       "      <td>2</td>\n",
       "      <td>IN</td>\n",
       "      <td>4.0</td>\n",
       "      <td>M</td>\n",
       "      <td>2017-08-21 00:00:01</td>\n",
       "      <td>Samsung</td>\n",
       "      <td>chromium</td>\n",
       "      <td>Android</td>\n",
       "      <td>NaN</td>\n",
       "      <td>49.15.91.224</td>\n",
       "      <td>False</td>\n",
       "      <td>NaN</td>\n",
       "      <td>0.0</td>\n",
       "      <td>301</td>\n",
       "      <td>NaN</td>\n",
       "      <td>12696.0</td>\n",
       "      <td>0.0</td>\n",
       "    </tr>\n",
       "    <tr>\n",
       "      <th>3</th>\n",
       "      <td>3</td>\n",
       "      <td>PH</td>\n",
       "      <td>-1.0</td>\n",
       "      <td>A</td>\n",
       "      <td>2017-08-21 00:00:01</td>\n",
       "      <td>Generic</td>\n",
       "      <td>android_webkit</td>\n",
       "      <td>Android</td>\n",
       "      <td>NaN</td>\n",
       "      <td>115.42.126.86</td>\n",
       "      <td>False</td>\n",
       "      <td>NaN</td>\n",
       "      <td>0.0</td>\n",
       "      <td>242</td>\n",
       "      <td>NaN</td>\n",
       "      <td>735.0</td>\n",
       "      <td>0.0</td>\n",
       "    </tr>\n",
       "    <tr>\n",
       "      <th>4</th>\n",
       "      <td>4</td>\n",
       "      <td>MX</td>\n",
       "      <td>-1.0</td>\n",
       "      <td>NaN</td>\n",
       "      <td>2017-08-21 00:00:01</td>\n",
       "      <td>Generic</td>\n",
       "      <td>chrome</td>\n",
       "      <td>Android</td>\n",
       "      <td>NaN</td>\n",
       "      <td>187.161.11.97</td>\n",
       "      <td>False</td>\n",
       "      <td>NaN</td>\n",
       "      <td>0.0</td>\n",
       "      <td>1306</td>\n",
       "      <td>NaN</td>\n",
       "      <td>7802.0</td>\n",
       "      <td>0.0</td>\n",
       "    </tr>\n",
       "  </tbody>\n",
       "</table>\n",
       "</div>"
      ],
      "text/plain": [
       "   ID Country  Carrier TrafficType            ClickDate   Device  \\\n",
       "0   0      IN      2.0           M  2017-08-21 00:00:01   Google   \n",
       "1   1      TH     27.0           A  2017-08-21 00:00:01  Generic   \n",
       "2   2      IN      4.0           M  2017-08-21 00:00:01  Samsung   \n",
       "3   3      PH     -1.0           A  2017-08-21 00:00:01  Generic   \n",
       "4   4      MX     -1.0         NaN  2017-08-21 00:00:01  Generic   \n",
       "\n",
       "          Browser       OS RefererUrl          UserIp  ConversionStatus  \\\n",
       "0          chrome  Android        NaN  42.111.171.131             False   \n",
       "1    46.0.2490.76  Android        NaN     1.46.235.65             False   \n",
       "2        chromium  Android        NaN    49.15.91.224             False   \n",
       "3  android_webkit  Android        NaN   115.42.126.86             False   \n",
       "4          chrome  Android        NaN   187.161.11.97             False   \n",
       "\n",
       "  ConversionDate  ConversionPayOut publisherId subPublisherId  \\\n",
       "0            NaN               0.0          69            NaN   \n",
       "1            NaN               0.0         646            NaN   \n",
       "2            NaN               0.0         301            NaN   \n",
       "3            NaN               0.0         242            NaN   \n",
       "4            NaN               0.0        1306            NaN   \n",
       "\n",
       "   advertiserCampaignId  Fraud  \n",
       "0                6555.0    0.0  \n",
       "1                7510.0    0.0  \n",
       "2               12696.0    0.0  \n",
       "3                 735.0    0.0  \n",
       "4                7802.0    0.0  "
      ]
     },
     "execution_count": 3,
     "metadata": {},
     "output_type": "execute_result"
    }
   ],
   "source": [
    "Traindf.head()"
   ]
  },
  {
   "cell_type": "code",
   "execution_count": 4,
   "metadata": {
    "collapsed": true
   },
   "outputs": [],
   "source": [
    "# Convert the Fraud and Conversion Status to integer \n",
    "Traindf['Fraud'] = Traindf['Fraud'].astype(np.int)\n",
    "Traindf['ConversionStatus'] = Traindf['ConversionStatus'].astype(np.int)"
   ]
  },
  {
   "cell_type": "code",
   "execution_count": 5,
   "metadata": {
    "collapsed": true
   },
   "outputs": [],
   "source": [
    "del Traindf['subPublisherId']"
   ]
  },
  {
   "cell_type": "code",
   "execution_count": 6,
   "metadata": {},
   "outputs": [
    {
     "data": {
      "text/plain": [
       "0    63332693\n",
       "1       34524\n",
       "Name: ConversionStatus, dtype: int64"
      ]
     },
     "execution_count": 6,
     "metadata": {},
     "output_type": "execute_result"
    }
   ],
   "source": [
    "Traindf.ConversionStatus.value_counts()"
   ]
  },
  {
   "cell_type": "code",
   "execution_count": 7,
   "metadata": {},
   "outputs": [
    {
     "name": "stdout",
     "output_type": "stream",
     "text": [
      "Count of Status of Y (34524, 16) Count of Status of N (63332693, 16)\n"
     ]
    }
   ],
   "source": [
    "# Seperating the Classes \n",
    "TraindfY = Traindf[(Traindf['ConversionStatus'] == 1)]\n",
    "TraindfN = Traindf[(Traindf['ConversionStatus'] == 0)]\n",
    "print ('Count of Status of Y', TraindfY.shape, 'Count of Status of N', TraindfN.shape)"
   ]
  },
  {
   "cell_type": "code",
   "execution_count": 8,
   "metadata": {
    "collapsed": true
   },
   "outputs": [],
   "source": [
    "del Traindf"
   ]
  },
  {
   "cell_type": "code",
   "execution_count": 9,
   "metadata": {},
   "outputs": [
    {
     "data": {
      "text/plain": [
       "0.23888073953115055"
      ]
     },
     "execution_count": 9,
     "metadata": {},
     "output_type": "execute_result"
    }
   ],
   "source": [
    "34524/ (34524 + 110000)"
   ]
  },
  {
   "cell_type": "code",
   "execution_count": 10,
   "metadata": {},
   "outputs": [
    {
     "data": {
      "text/plain": [
       "144524"
      ]
     },
     "execution_count": 10,
     "metadata": {},
     "output_type": "execute_result"
    }
   ],
   "source": [
    "34524 + 110000"
   ]
  },
  {
   "cell_type": "code",
   "execution_count": 11,
   "metadata": {},
   "outputs": [
    {
     "name": "stdout",
     "output_type": "stream",
     "text": [
      "After sampling the shape of TraindfN1 is (110000, 16)\n"
     ]
    }
   ],
   "source": [
    "# Select a sample so that the ratio is near 80:20 of both the class\n",
    "TraindfN = TraindfN.sample(n=110000)\n",
    "print ('After sampling the shape of TraindfN1 is', TraindfN.shape)"
   ]
  },
  {
   "cell_type": "code",
   "execution_count": 12,
   "metadata": {},
   "outputs": [
    {
     "data": {
      "text/plain": [
       "A    63673\n",
       "M    29787\n",
       "Name: TrafficType, dtype: int64"
      ]
     },
     "execution_count": 12,
     "metadata": {},
     "output_type": "execute_result"
    }
   ],
   "source": [
    "TraindfN.TrafficType.value_counts()"
   ]
  },
  {
   "cell_type": "code",
   "execution_count": 13,
   "metadata": {},
   "outputs": [
    {
     "name": "stdout",
     "output_type": "stream",
     "text": [
      "The Shape of the New training dataframe is: (144524, 16)\n"
     ]
    }
   ],
   "source": [
    "# Merging the Traindf after resampling\n",
    "Traindf = pd.concat([TraindfY, TraindfN])\n",
    "print ('The Shape of the New training dataframe is:', Traindf.shape)"
   ]
  },
  {
   "cell_type": "code",
   "execution_count": 14,
   "metadata": {
    "collapsed": true
   },
   "outputs": [],
   "source": [
    "# delete the 2 temp DF's\n",
    "del TraindfY, TraindfN"
   ]
  },
  {
   "cell_type": "code",
   "execution_count": 15,
   "metadata": {},
   "outputs": [
    {
     "data": {
      "text/plain": [
       "0    110000\n",
       "1     34524\n",
       "Name: ConversionStatus, dtype: int64"
      ]
     },
     "execution_count": 15,
     "metadata": {},
     "output_type": "execute_result"
    }
   ],
   "source": [
    "# Check to see if the sample is fine\n",
    "#Traindf.tail()\n",
    "#Traindf.Country.value_counts(normalize =  True, sort=True, ascending=False).head(5)\n",
    "#Traindf.TrafficType.value_counts(normalize =  True, sort=True, ascending=False).head()\n",
    "#Traindf.Device.value_counts(normalize =  True, sort=True, ascending=False).head()\n",
    "Traindf.ConversionStatus.value_counts()"
   ]
  },
  {
   "cell_type": "code",
   "execution_count": 16,
   "metadata": {
    "collapsed": true
   },
   "outputs": [],
   "source": [
    "# Change the Referral URL as either Yes or No\n",
    "Traindf['RefererUrl'] = np.where(Traindf['RefererUrl']=='NoRefer', 0, 1).astype(int)"
   ]
  },
  {
   "cell_type": "code",
   "execution_count": 17,
   "metadata": {
    "collapsed": true
   },
   "outputs": [],
   "source": [
    "# Handing the ClickDate field as a Date\n",
    "Traindf['ClickDate'] = pd.to_datetime(Traindf['ClickDate'])"
   ]
  },
  {
   "cell_type": "code",
   "execution_count": 18,
   "metadata": {
    "collapsed": true
   },
   "outputs": [],
   "source": [
    "# Feature Enginerring to Create New variables for Day of Week and Day part\n",
    "Traindf['Weekday'] = (Traindf['ClickDate'].dt.dayofweek).astype(int)\n",
    "Traindf['Dayhour'] = (Traindf.ClickDate.apply(lambda x: x.hour)).astype(int)"
   ]
  },
  {
   "cell_type": "code",
   "execution_count": 19,
   "metadata": {
    "collapsed": true
   },
   "outputs": [],
   "source": [
    "# To remove Ordinality in both Weekday and DayHour variables convert into Categories\n",
    "Traindf['Weekday'] = Traindf['Weekday'].map( {0: 'Sun', 1: 'Mon', 2: 'Tue', 3: 'Wed',\n",
    "                                              4: 'Thr', 5: 'Fri', 6: 'Sat'} ).astype(str)\n",
    "Traindf['Dayhour'] = Traindf['Dayhour'].map( {0: 'PrAM', 1: 'PrAM', 2: 'PrAM', 3: 'PrAM', 4: 'PrAM', 5: 'PrAM', \n",
    "                                              6: 'AM', 7: 'AM', 8: 'AM', 9: 'AM', 10: 'AM', 11: 'AM', 12: 'PM', \n",
    "                                              13: 'PM', 14: 'PM', 15: 'PM', 16: 'PM', 17: 'PM', 18: 'PM', \n",
    "                                              19: 'PoPM', 20: 'PoPM', 21: 'PoPM', 22: 'PoPM', 23: 'PoPM'} ).astype(str)\n",
    "# Delete the Click Date varaible\n",
    "del Traindf['ClickDate']"
   ]
  },
  {
   "cell_type": "code",
   "execution_count": 20,
   "metadata": {},
   "outputs": [
    {
     "data": {
      "text/plain": [
       "(144524, 17)"
      ]
     },
     "execution_count": 20,
     "metadata": {},
     "output_type": "execute_result"
    }
   ],
   "source": [
    "Traindf.shape"
   ]
  },
  {
   "cell_type": "code",
   "execution_count": 21,
   "metadata": {},
   "outputs": [
    {
     "data": {
      "text/html": [
       "<div>\n",
       "<style>\n",
       "    .dataframe thead tr:only-child th {\n",
       "        text-align: right;\n",
       "    }\n",
       "\n",
       "    .dataframe thead th {\n",
       "        text-align: left;\n",
       "    }\n",
       "\n",
       "    .dataframe tbody tr th {\n",
       "        vertical-align: top;\n",
       "    }\n",
       "</style>\n",
       "<table border=\"1\" class=\"dataframe\">\n",
       "  <thead>\n",
       "    <tr style=\"text-align: right;\">\n",
       "      <th></th>\n",
       "      <th>ID</th>\n",
       "      <th>Country</th>\n",
       "      <th>Carrier</th>\n",
       "      <th>TrafficType</th>\n",
       "      <th>Device</th>\n",
       "      <th>Browser</th>\n",
       "      <th>OS</th>\n",
       "      <th>RefererUrl</th>\n",
       "      <th>UserIp</th>\n",
       "      <th>ConversionStatus</th>\n",
       "      <th>ConversionDate</th>\n",
       "      <th>ConversionPayOut</th>\n",
       "      <th>publisherId</th>\n",
       "      <th>advertiserCampaignId</th>\n",
       "      <th>Fraud</th>\n",
       "      <th>Weekday</th>\n",
       "      <th>Dayhour</th>\n",
       "    </tr>\n",
       "  </thead>\n",
       "  <tbody>\n",
       "    <tr>\n",
       "      <th>1378</th>\n",
       "      <td>1378</td>\n",
       "      <td>BD</td>\n",
       "      <td>-1.0</td>\n",
       "      <td>A</td>\n",
       "      <td>Generic</td>\n",
       "      <td>46.0.2490.76</td>\n",
       "      <td>Android</td>\n",
       "      <td>1</td>\n",
       "      <td>123.108.246.34</td>\n",
       "      <td>1</td>\n",
       "      <td>2017-08-21 20:40:00</td>\n",
       "      <td>4.550000</td>\n",
       "      <td>520</td>\n",
       "      <td>4904.0</td>\n",
       "      <td>0</td>\n",
       "      <td>Sun</td>\n",
       "      <td>PrAM</td>\n",
       "    </tr>\n",
       "    <tr>\n",
       "      <th>1720</th>\n",
       "      <td>1720</td>\n",
       "      <td>BD</td>\n",
       "      <td>44.0</td>\n",
       "      <td>A</td>\n",
       "      <td>Samsung</td>\n",
       "      <td>chrome</td>\n",
       "      <td>Android</td>\n",
       "      <td>1</td>\n",
       "      <td>119.30.32.128</td>\n",
       "      <td>1</td>\n",
       "      <td>2017-08-21 00:00:00</td>\n",
       "      <td>2.652650</td>\n",
       "      <td>274</td>\n",
       "      <td>4129.0</td>\n",
       "      <td>0</td>\n",
       "      <td>Sun</td>\n",
       "      <td>PrAM</td>\n",
       "    </tr>\n",
       "    <tr>\n",
       "      <th>3698</th>\n",
       "      <td>3698</td>\n",
       "      <td>RU</td>\n",
       "      <td>703.0</td>\n",
       "      <td>A</td>\n",
       "      <td>Alcatel</td>\n",
       "      <td>chrome</td>\n",
       "      <td>Android</td>\n",
       "      <td>1</td>\n",
       "      <td>83.149.46.223</td>\n",
       "      <td>1</td>\n",
       "      <td>2017-08-21 02:22:00</td>\n",
       "      <td>25.493000</td>\n",
       "      <td>301</td>\n",
       "      <td>11829.0</td>\n",
       "      <td>0</td>\n",
       "      <td>Sun</td>\n",
       "      <td>PrAM</td>\n",
       "    </tr>\n",
       "    <tr>\n",
       "      <th>4050</th>\n",
       "      <td>4050</td>\n",
       "      <td>BD</td>\n",
       "      <td>44.0</td>\n",
       "      <td>A</td>\n",
       "      <td>Generic</td>\n",
       "      <td>android_webkit</td>\n",
       "      <td>Android</td>\n",
       "      <td>1</td>\n",
       "      <td>119.30.47.26</td>\n",
       "      <td>1</td>\n",
       "      <td>2017-08-21 01:07:00</td>\n",
       "      <td>1.123456</td>\n",
       "      <td>6240</td>\n",
       "      <td>3312.0</td>\n",
       "      <td>0</td>\n",
       "      <td>Sun</td>\n",
       "      <td>PrAM</td>\n",
       "    </tr>\n",
       "    <tr>\n",
       "      <th>8667</th>\n",
       "      <td>8667</td>\n",
       "      <td>IN</td>\n",
       "      <td>1.0</td>\n",
       "      <td>A</td>\n",
       "      <td>Intex</td>\n",
       "      <td>chrome</td>\n",
       "      <td>Android</td>\n",
       "      <td>1</td>\n",
       "      <td>223.182.190.14</td>\n",
       "      <td>1</td>\n",
       "      <td>2017-08-21 00:35:00</td>\n",
       "      <td>65.000000</td>\n",
       "      <td>209</td>\n",
       "      <td>16060.0</td>\n",
       "      <td>0</td>\n",
       "      <td>Sun</td>\n",
       "      <td>PrAM</td>\n",
       "    </tr>\n",
       "  </tbody>\n",
       "</table>\n",
       "</div>"
      ],
      "text/plain": [
       "        ID Country  Carrier TrafficType   Device         Browser       OS  \\\n",
       "1378  1378      BD     -1.0           A  Generic    46.0.2490.76  Android   \n",
       "1720  1720      BD     44.0           A  Samsung          chrome  Android   \n",
       "3698  3698      RU    703.0           A  Alcatel          chrome  Android   \n",
       "4050  4050      BD     44.0           A  Generic  android_webkit  Android   \n",
       "8667  8667      IN      1.0           A    Intex          chrome  Android   \n",
       "\n",
       "      RefererUrl          UserIp  ConversionStatus       ConversionDate  \\\n",
       "1378           1  123.108.246.34                 1  2017-08-21 20:40:00   \n",
       "1720           1   119.30.32.128                 1  2017-08-21 00:00:00   \n",
       "3698           1   83.149.46.223                 1  2017-08-21 02:22:00   \n",
       "4050           1    119.30.47.26                 1  2017-08-21 01:07:00   \n",
       "8667           1  223.182.190.14                 1  2017-08-21 00:35:00   \n",
       "\n",
       "      ConversionPayOut publisherId  advertiserCampaignId  Fraud Weekday  \\\n",
       "1378          4.550000         520                4904.0      0     Sun   \n",
       "1720          2.652650         274                4129.0      0     Sun   \n",
       "3698         25.493000         301               11829.0      0     Sun   \n",
       "4050          1.123456        6240                3312.0      0     Sun   \n",
       "8667         65.000000         209               16060.0      0     Sun   \n",
       "\n",
       "     Dayhour  \n",
       "1378    PrAM  \n",
       "1720    PrAM  \n",
       "3698    PrAM  \n",
       "4050    PrAM  \n",
       "8667    PrAM  "
      ]
     },
     "execution_count": 21,
     "metadata": {},
     "output_type": "execute_result"
    }
   ],
   "source": [
    "Traindf.head()"
   ]
  },
  {
   "cell_type": "code",
   "execution_count": 22,
   "metadata": {
    "collapsed": true
   },
   "outputs": [],
   "source": [
    "Traindf.to_csv('AfterSample.csv', index= False)"
   ]
  },
  {
   "cell_type": "markdown",
   "metadata": {},
   "source": [
    "# Restart after sampling"
   ]
  },
  {
   "cell_type": "code",
   "execution_count": 1,
   "metadata": {
    "collapsed": true
   },
   "outputs": [],
   "source": [
    "import pandas as pd\n",
    "import numpy as np\n",
    "import matplotlib.pyplot as plt\n",
    "pd.set_option('display.max_columns', 99)\n",
    "pd.set_option('display.max_rows', 999)"
   ]
  },
  {
   "cell_type": "code",
   "execution_count": 23,
   "metadata": {},
   "outputs": [
    {
     "name": "stderr",
     "output_type": "stream",
     "text": [
      "/usr/local/lib/python3.5/site-packages/IPython/core/interactiveshell.py:2698: DtypeWarning: Columns (10) have mixed types. Specify dtype option on import or set low_memory=False.\n",
      "  interactivity=interactivity, compiler=compiler, result=result)\n"
     ]
    }
   ],
   "source": [
    "Traindf = pd.read_csv('AfterSample.csv')"
   ]
  },
  {
   "cell_type": "code",
   "execution_count": 24,
   "metadata": {
    "scrolled": true
   },
   "outputs": [
    {
     "data": {
      "text/plain": [
       "(144524, 17)"
      ]
     },
     "execution_count": 24,
     "metadata": {},
     "output_type": "execute_result"
    }
   ],
   "source": [
    "Traindf.shape"
   ]
  },
  {
   "cell_type": "code",
   "execution_count": 25,
   "metadata": {
    "collapsed": true
   },
   "outputs": [],
   "source": [
    "# Replace the Missing value based on analysis\n",
    "Traindf['Fraud'] = Traindf['Fraud'].astype(np.int)\n",
    "Traindf['ConversionStatus'] = Traindf['ConversionStatus'].astype(np.int)\n",
    "Traindf['Country'] = Traindf.Country.fillna('IN').astype(str)\n",
    "Traindf['Device'] = Traindf.Device.fillna('UN').astype(str)\n",
    "Traindf['publisherId'] = Traindf.publisherId.fillna(1306).astype(str)\n",
    "Traindf['advertiserCampaignId'] = Traindf.advertiserCampaignId.fillna(7510).astype(np.int)\n",
    "Traindf['TrafficType'] = Traindf.TrafficType.fillna('UN').astype(str)\n",
    "Traindf['Browser'] = Traindf.Browser.fillna('android_webkit').astype(str)\n",
    "Traindf['OS'] = Traindf.OS.fillna('Android').astype(str)\n",
    "Traindf['RefererUrl'] = Traindf.RefererUrl.fillna('NoRefer').astype(str)"
   ]
  },
  {
   "cell_type": "code",
   "execution_count": 26,
   "metadata": {},
   "outputs": [
    {
     "data": {
      "text/html": [
       "<div>\n",
       "<style>\n",
       "    .dataframe thead tr:only-child th {\n",
       "        text-align: right;\n",
       "    }\n",
       "\n",
       "    .dataframe thead th {\n",
       "        text-align: left;\n",
       "    }\n",
       "\n",
       "    .dataframe tbody tr th {\n",
       "        vertical-align: top;\n",
       "    }\n",
       "</style>\n",
       "<table border=\"1\" class=\"dataframe\">\n",
       "  <thead>\n",
       "    <tr style=\"text-align: right;\">\n",
       "      <th></th>\n",
       "      <th>Missing Ratio</th>\n",
       "    </tr>\n",
       "  </thead>\n",
       "  <tbody>\n",
       "    <tr>\n",
       "      <th>ConversionDate</th>\n",
       "      <td>76.111926</td>\n",
       "    </tr>\n",
       "    <tr>\n",
       "      <th>ConversionPayOut</th>\n",
       "      <td>0.001384</td>\n",
       "    </tr>\n",
       "  </tbody>\n",
       "</table>\n",
       "</div>"
      ],
      "text/plain": [
       "                  Missing Ratio\n",
       "ConversionDate        76.111926\n",
       "ConversionPayOut       0.001384"
      ]
     },
     "execution_count": 26,
     "metadata": {},
     "output_type": "execute_result"
    }
   ],
   "source": [
    "# Checking for the ratio of missing value\n",
    "Traindf_na = (Traindf.isnull().sum() / len(Traindf)) * 100\n",
    "Traindf_na = Traindf_na.drop(Traindf_na[Traindf_na == 0].index).sort_values(ascending=False)[:30]\n",
    "missing_data = pd.DataFrame({'Missing Ratio' :Traindf_na})\n",
    "missing_data.head(10)"
   ]
  },
  {
   "cell_type": "code",
   "execution_count": 27,
   "metadata": {
    "collapsed": true
   },
   "outputs": [],
   "source": [
    "#Traindf['publisherId_New']=Traindf.publisherId.apply(lambda x: np.where(x.isdigit(),x,'99999')).astype(int)\n",
    "del Traindf['publisherId']"
   ]
  },
  {
   "cell_type": "code",
   "execution_count": 28,
   "metadata": {
    "collapsed": true
   },
   "outputs": [],
   "source": [
    "# Replacing the country with their Area\n",
    "url=\"https://raw.githubusercontent.com/lukes/ISO-3166-Countries-with-Regional-Codes/master/all/all.csv\"\n",
    "regiondf = pd.read_csv(url, usecols=['alpha-2','region'])\n",
    "regiondf.columns = ['Country', 'Region']"
   ]
  },
  {
   "cell_type": "code",
   "execution_count": 29,
   "metadata": {
    "collapsed": true
   },
   "outputs": [],
   "source": [
    "regiondf['Region'] = regiondf.Region.fillna('Unknown')\n",
    "regiondf = regiondf[pd.notnull(regiondf['Country'])]"
   ]
  },
  {
   "cell_type": "code",
   "execution_count": 30,
   "metadata": {
    "collapsed": true
   },
   "outputs": [],
   "source": [
    "Traindf = pd.merge(Traindf,regiondf, how='left', left_on='Country', right_on='Country')"
   ]
  },
  {
   "cell_type": "code",
   "execution_count": 31,
   "metadata": {
    "collapsed": true
   },
   "outputs": [],
   "source": [
    "# Code to check the value of the missing field\n",
    "# miss = Traindf[Traindf['Region'].isnull()]\n",
    "Traindf.loc[(Traindf['Country'] == 'UK') ,'Region'] = 'Europe'\n",
    "Traindf.loc[(Traindf['Country'] == '**') ,'Region'] = 'Asia'"
   ]
  },
  {
   "cell_type": "code",
   "execution_count": 32,
   "metadata": {},
   "outputs": [
    {
     "data": {
      "text/plain": [
       "(144524, 17)"
      ]
     },
     "execution_count": 32,
     "metadata": {},
     "output_type": "execute_result"
    }
   ],
   "source": [
    "Traindf.shape"
   ]
  },
  {
   "cell_type": "code",
   "execution_count": 33,
   "metadata": {},
   "outputs": [
    {
     "data": {
      "text/html": [
       "<div>\n",
       "<style>\n",
       "    .dataframe thead tr:only-child th {\n",
       "        text-align: right;\n",
       "    }\n",
       "\n",
       "    .dataframe thead th {\n",
       "        text-align: left;\n",
       "    }\n",
       "\n",
       "    .dataframe tbody tr th {\n",
       "        vertical-align: top;\n",
       "    }\n",
       "</style>\n",
       "<table border=\"1\" class=\"dataframe\">\n",
       "  <thead>\n",
       "    <tr style=\"text-align: right;\">\n",
       "      <th></th>\n",
       "      <th>ID</th>\n",
       "      <th>Country</th>\n",
       "      <th>Carrier</th>\n",
       "      <th>TrafficType</th>\n",
       "      <th>Device</th>\n",
       "      <th>Browser</th>\n",
       "      <th>OS</th>\n",
       "      <th>RefererUrl</th>\n",
       "      <th>UserIp</th>\n",
       "      <th>ConversionStatus</th>\n",
       "      <th>ConversionDate</th>\n",
       "      <th>ConversionPayOut</th>\n",
       "      <th>advertiserCampaignId</th>\n",
       "      <th>Fraud</th>\n",
       "      <th>Weekday</th>\n",
       "      <th>Dayhour</th>\n",
       "      <th>Region</th>\n",
       "    </tr>\n",
       "  </thead>\n",
       "  <tbody>\n",
       "    <tr>\n",
       "      <th>0</th>\n",
       "      <td>1378</td>\n",
       "      <td>BD</td>\n",
       "      <td>-1.0</td>\n",
       "      <td>A</td>\n",
       "      <td>Generic</td>\n",
       "      <td>46.0.2490.76</td>\n",
       "      <td>Android</td>\n",
       "      <td>1</td>\n",
       "      <td>123.108.246.34</td>\n",
       "      <td>1</td>\n",
       "      <td>2017-08-21 20:40:00</td>\n",
       "      <td>4.550000</td>\n",
       "      <td>4904</td>\n",
       "      <td>0</td>\n",
       "      <td>Sun</td>\n",
       "      <td>PrAM</td>\n",
       "      <td>Asia</td>\n",
       "    </tr>\n",
       "    <tr>\n",
       "      <th>1</th>\n",
       "      <td>1720</td>\n",
       "      <td>BD</td>\n",
       "      <td>44.0</td>\n",
       "      <td>A</td>\n",
       "      <td>Samsung</td>\n",
       "      <td>chrome</td>\n",
       "      <td>Android</td>\n",
       "      <td>1</td>\n",
       "      <td>119.30.32.128</td>\n",
       "      <td>1</td>\n",
       "      <td>2017-08-21 00:00:00</td>\n",
       "      <td>2.652650</td>\n",
       "      <td>4129</td>\n",
       "      <td>0</td>\n",
       "      <td>Sun</td>\n",
       "      <td>PrAM</td>\n",
       "      <td>Asia</td>\n",
       "    </tr>\n",
       "    <tr>\n",
       "      <th>2</th>\n",
       "      <td>3698</td>\n",
       "      <td>RU</td>\n",
       "      <td>703.0</td>\n",
       "      <td>A</td>\n",
       "      <td>Alcatel</td>\n",
       "      <td>chrome</td>\n",
       "      <td>Android</td>\n",
       "      <td>1</td>\n",
       "      <td>83.149.46.223</td>\n",
       "      <td>1</td>\n",
       "      <td>2017-08-21 02:22:00</td>\n",
       "      <td>25.493000</td>\n",
       "      <td>11829</td>\n",
       "      <td>0</td>\n",
       "      <td>Sun</td>\n",
       "      <td>PrAM</td>\n",
       "      <td>Europe</td>\n",
       "    </tr>\n",
       "    <tr>\n",
       "      <th>3</th>\n",
       "      <td>4050</td>\n",
       "      <td>BD</td>\n",
       "      <td>44.0</td>\n",
       "      <td>A</td>\n",
       "      <td>Generic</td>\n",
       "      <td>android_webkit</td>\n",
       "      <td>Android</td>\n",
       "      <td>1</td>\n",
       "      <td>119.30.47.26</td>\n",
       "      <td>1</td>\n",
       "      <td>2017-08-21 01:07:00</td>\n",
       "      <td>1.123456</td>\n",
       "      <td>3312</td>\n",
       "      <td>0</td>\n",
       "      <td>Sun</td>\n",
       "      <td>PrAM</td>\n",
       "      <td>Asia</td>\n",
       "    </tr>\n",
       "    <tr>\n",
       "      <th>4</th>\n",
       "      <td>8667</td>\n",
       "      <td>IN</td>\n",
       "      <td>1.0</td>\n",
       "      <td>A</td>\n",
       "      <td>Intex</td>\n",
       "      <td>chrome</td>\n",
       "      <td>Android</td>\n",
       "      <td>1</td>\n",
       "      <td>223.182.190.14</td>\n",
       "      <td>1</td>\n",
       "      <td>2017-08-21 00:35:00</td>\n",
       "      <td>65.000000</td>\n",
       "      <td>16060</td>\n",
       "      <td>0</td>\n",
       "      <td>Sun</td>\n",
       "      <td>PrAM</td>\n",
       "      <td>Asia</td>\n",
       "    </tr>\n",
       "  </tbody>\n",
       "</table>\n",
       "</div>"
      ],
      "text/plain": [
       "     ID Country  Carrier TrafficType   Device         Browser       OS  \\\n",
       "0  1378      BD     -1.0           A  Generic    46.0.2490.76  Android   \n",
       "1  1720      BD     44.0           A  Samsung          chrome  Android   \n",
       "2  3698      RU    703.0           A  Alcatel          chrome  Android   \n",
       "3  4050      BD     44.0           A  Generic  android_webkit  Android   \n",
       "4  8667      IN      1.0           A    Intex          chrome  Android   \n",
       "\n",
       "  RefererUrl          UserIp  ConversionStatus       ConversionDate  \\\n",
       "0          1  123.108.246.34                 1  2017-08-21 20:40:00   \n",
       "1          1   119.30.32.128                 1  2017-08-21 00:00:00   \n",
       "2          1   83.149.46.223                 1  2017-08-21 02:22:00   \n",
       "3          1    119.30.47.26                 1  2017-08-21 01:07:00   \n",
       "4          1  223.182.190.14                 1  2017-08-21 00:35:00   \n",
       "\n",
       "   ConversionPayOut  advertiserCampaignId  Fraud Weekday Dayhour  Region  \n",
       "0          4.550000                  4904      0     Sun    PrAM    Asia  \n",
       "1          2.652650                  4129      0     Sun    PrAM    Asia  \n",
       "2         25.493000                 11829      0     Sun    PrAM  Europe  \n",
       "3          1.123456                  3312      0     Sun    PrAM    Asia  \n",
       "4         65.000000                 16060      0     Sun    PrAM    Asia  "
      ]
     },
     "execution_count": 33,
     "metadata": {},
     "output_type": "execute_result"
    }
   ],
   "source": [
    "Traindf.head()"
   ]
  },
  {
   "cell_type": "code",
   "execution_count": 34,
   "metadata": {
    "collapsed": true
   },
   "outputs": [],
   "source": [
    "Countrydf = pd.read_csv('Countrydf.csv')\n",
    "Carrierdf = pd.read_csv('Carrierdf.csv')\n",
    "Devicedf = pd.read_csv('Devicedf.csv')\n",
    "Publisherdf = pd.read_csv('Publisherdf.csv')\n",
    "Advertiserdf = pd.read_csv('Advertiserdf.csv')"
   ]
  },
  {
   "cell_type": "code",
   "execution_count": 35,
   "metadata": {
    "collapsed": true
   },
   "outputs": [],
   "source": [
    "Publisherdf['publisherId']=Publisherdf.publisherId.astype(str)"
   ]
  },
  {
   "cell_type": "code",
   "execution_count": 36,
   "metadata": {
    "collapsed": true
   },
   "outputs": [],
   "source": [
    "#Publisherdf['publisherId_New']=Publisherdf.publisherId.apply(lambda x: np.where(x.isdigit(),x,'99999')).astype(int)\n",
    "del Publisherdf['publisherId']"
   ]
  },
  {
   "cell_type": "code",
   "execution_count": 37,
   "metadata": {},
   "outputs": [
    {
     "data": {
      "text/plain": [
       "(144524, 19)"
      ]
     },
     "execution_count": 37,
     "metadata": {},
     "output_type": "execute_result"
    }
   ],
   "source": [
    "# Merge back the Columns to train and test\n",
    "Traindf = pd.merge(Traindf,Countrydf, how='left', left_on='Country', right_on='Country')\n",
    "Traindf.shape"
   ]
  },
  {
   "cell_type": "code",
   "execution_count": 38,
   "metadata": {},
   "outputs": [
    {
     "data": {
      "text/plain": [
       "(144524, 21)"
      ]
     },
     "execution_count": 38,
     "metadata": {},
     "output_type": "execute_result"
    }
   ],
   "source": [
    "Traindf = pd.merge(Traindf,Carrierdf, how='left', left_on='Carrier', right_on='Carrier')\n",
    "Traindf.shape"
   ]
  },
  {
   "cell_type": "code",
   "execution_count": 39,
   "metadata": {},
   "outputs": [
    {
     "data": {
      "text/plain": [
       "(144524, 23)"
      ]
     },
     "execution_count": 39,
     "metadata": {},
     "output_type": "execute_result"
    }
   ],
   "source": [
    "Traindf = pd.merge(Traindf,Devicedf, how='left', left_on='Device', right_on='Device')\n",
    "Traindf.shape"
   ]
  },
  {
   "cell_type": "code",
   "execution_count": 40,
   "metadata": {
    "collapsed": true
   },
   "outputs": [],
   "source": [
    "#Traindf = pd.merge(Traindf,Publisherdf, how='left', left_on='publisherId_New', right_on='publisherId_New')\n",
    "#Traindf.shape"
   ]
  },
  {
   "cell_type": "code",
   "execution_count": 41,
   "metadata": {},
   "outputs": [
    {
     "data": {
      "text/plain": [
       "(144524, 25)"
      ]
     },
     "execution_count": 41,
     "metadata": {},
     "output_type": "execute_result"
    }
   ],
   "source": [
    "Traindf = pd.merge(Traindf,Advertiserdf, how='left', left_on='advertiserCampaignId', right_on='advertiserCampaignId')\n",
    "Traindf.shape"
   ]
  },
  {
   "cell_type": "code",
   "execution_count": 42,
   "metadata": {},
   "outputs": [
    {
     "data": {
      "text/html": [
       "<div>\n",
       "<style>\n",
       "    .dataframe thead tr:only-child th {\n",
       "        text-align: right;\n",
       "    }\n",
       "\n",
       "    .dataframe thead th {\n",
       "        text-align: left;\n",
       "    }\n",
       "\n",
       "    .dataframe tbody tr th {\n",
       "        vertical-align: top;\n",
       "    }\n",
       "</style>\n",
       "<table border=\"1\" class=\"dataframe\">\n",
       "  <thead>\n",
       "    <tr style=\"text-align: right;\">\n",
       "      <th></th>\n",
       "      <th>ID</th>\n",
       "      <th>Country</th>\n",
       "      <th>Carrier</th>\n",
       "      <th>TrafficType</th>\n",
       "      <th>Device</th>\n",
       "      <th>Browser</th>\n",
       "      <th>OS</th>\n",
       "      <th>RefererUrl</th>\n",
       "      <th>UserIp</th>\n",
       "      <th>ConversionStatus</th>\n",
       "      <th>ConversionDate</th>\n",
       "      <th>ConversionPayOut</th>\n",
       "      <th>advertiserCampaignId</th>\n",
       "      <th>Fraud</th>\n",
       "      <th>Weekday</th>\n",
       "      <th>Dayhour</th>\n",
       "      <th>Region</th>\n",
       "      <th>CntryCount</th>\n",
       "      <th>CntryFrd</th>\n",
       "      <th>CarrCount</th>\n",
       "      <th>CarrFrd</th>\n",
       "      <th>DevCount</th>\n",
       "      <th>DevFrd</th>\n",
       "      <th>AdvCount</th>\n",
       "      <th>AdvFrd</th>\n",
       "    </tr>\n",
       "  </thead>\n",
       "  <tbody>\n",
       "    <tr>\n",
       "      <th>0</th>\n",
       "      <td>1378</td>\n",
       "      <td>BD</td>\n",
       "      <td>-1.0</td>\n",
       "      <td>A</td>\n",
       "      <td>Generic</td>\n",
       "      <td>46.0.2490.76</td>\n",
       "      <td>Android</td>\n",
       "      <td>1</td>\n",
       "      <td>123.108.246.34</td>\n",
       "      <td>1</td>\n",
       "      <td>2017-08-21 20:40:00</td>\n",
       "      <td>4.550000</td>\n",
       "      <td>4904</td>\n",
       "      <td>0</td>\n",
       "      <td>Sun</td>\n",
       "      <td>PrAM</td>\n",
       "      <td>Asia</td>\n",
       "      <td>8191723</td>\n",
       "      <td>26775</td>\n",
       "      <td>27640537.0</td>\n",
       "      <td>32729</td>\n",
       "      <td>43168936</td>\n",
       "      <td>46748</td>\n",
       "      <td>4453198.0</td>\n",
       "      <td>3126</td>\n",
       "    </tr>\n",
       "    <tr>\n",
       "      <th>1</th>\n",
       "      <td>1720</td>\n",
       "      <td>BD</td>\n",
       "      <td>44.0</td>\n",
       "      <td>A</td>\n",
       "      <td>Samsung</td>\n",
       "      <td>chrome</td>\n",
       "      <td>Android</td>\n",
       "      <td>1</td>\n",
       "      <td>119.30.32.128</td>\n",
       "      <td>1</td>\n",
       "      <td>2017-08-21 00:00:00</td>\n",
       "      <td>2.652650</td>\n",
       "      <td>4129</td>\n",
       "      <td>0</td>\n",
       "      <td>Sun</td>\n",
       "      <td>PrAM</td>\n",
       "      <td>Asia</td>\n",
       "      <td>8191723</td>\n",
       "      <td>26775</td>\n",
       "      <td>2108346.0</td>\n",
       "      <td>6847</td>\n",
       "      <td>13575659</td>\n",
       "      <td>14293</td>\n",
       "      <td>1081260.0</td>\n",
       "      <td>5071</td>\n",
       "    </tr>\n",
       "    <tr>\n",
       "      <th>2</th>\n",
       "      <td>3698</td>\n",
       "      <td>RU</td>\n",
       "      <td>703.0</td>\n",
       "      <td>A</td>\n",
       "      <td>Alcatel</td>\n",
       "      <td>chrome</td>\n",
       "      <td>Android</td>\n",
       "      <td>1</td>\n",
       "      <td>83.149.46.223</td>\n",
       "      <td>1</td>\n",
       "      <td>2017-08-21 02:22:00</td>\n",
       "      <td>25.493000</td>\n",
       "      <td>11829</td>\n",
       "      <td>0</td>\n",
       "      <td>Sun</td>\n",
       "      <td>PrAM</td>\n",
       "      <td>Europe</td>\n",
       "      <td>3349617</td>\n",
       "      <td>16756</td>\n",
       "      <td>924488.0</td>\n",
       "      <td>3428</td>\n",
       "      <td>3492463</td>\n",
       "      <td>11144</td>\n",
       "      <td>1704306.0</td>\n",
       "      <td>5538</td>\n",
       "    </tr>\n",
       "    <tr>\n",
       "      <th>3</th>\n",
       "      <td>4050</td>\n",
       "      <td>BD</td>\n",
       "      <td>44.0</td>\n",
       "      <td>A</td>\n",
       "      <td>Generic</td>\n",
       "      <td>android_webkit</td>\n",
       "      <td>Android</td>\n",
       "      <td>1</td>\n",
       "      <td>119.30.47.26</td>\n",
       "      <td>1</td>\n",
       "      <td>2017-08-21 01:07:00</td>\n",
       "      <td>1.123456</td>\n",
       "      <td>3312</td>\n",
       "      <td>0</td>\n",
       "      <td>Sun</td>\n",
       "      <td>PrAM</td>\n",
       "      <td>Asia</td>\n",
       "      <td>8191723</td>\n",
       "      <td>26775</td>\n",
       "      <td>2108346.0</td>\n",
       "      <td>6847</td>\n",
       "      <td>43168936</td>\n",
       "      <td>46748</td>\n",
       "      <td>5745057.0</td>\n",
       "      <td>6430</td>\n",
       "    </tr>\n",
       "    <tr>\n",
       "      <th>4</th>\n",
       "      <td>8667</td>\n",
       "      <td>IN</td>\n",
       "      <td>1.0</td>\n",
       "      <td>A</td>\n",
       "      <td>Intex</td>\n",
       "      <td>chrome</td>\n",
       "      <td>Android</td>\n",
       "      <td>1</td>\n",
       "      <td>223.182.190.14</td>\n",
       "      <td>1</td>\n",
       "      <td>2017-08-21 00:35:00</td>\n",
       "      <td>65.000000</td>\n",
       "      <td>16060</td>\n",
       "      <td>0</td>\n",
       "      <td>Sun</td>\n",
       "      <td>PrAM</td>\n",
       "      <td>Asia</td>\n",
       "      <td>27137013</td>\n",
       "      <td>9986</td>\n",
       "      <td>6282011.0</td>\n",
       "      <td>329</td>\n",
       "      <td>1390903</td>\n",
       "      <td>560</td>\n",
       "      <td>502408.0</td>\n",
       "      <td>1</td>\n",
       "    </tr>\n",
       "  </tbody>\n",
       "</table>\n",
       "</div>"
      ],
      "text/plain": [
       "     ID Country  Carrier TrafficType   Device         Browser       OS  \\\n",
       "0  1378      BD     -1.0           A  Generic    46.0.2490.76  Android   \n",
       "1  1720      BD     44.0           A  Samsung          chrome  Android   \n",
       "2  3698      RU    703.0           A  Alcatel          chrome  Android   \n",
       "3  4050      BD     44.0           A  Generic  android_webkit  Android   \n",
       "4  8667      IN      1.0           A    Intex          chrome  Android   \n",
       "\n",
       "  RefererUrl          UserIp  ConversionStatus       ConversionDate  \\\n",
       "0          1  123.108.246.34                 1  2017-08-21 20:40:00   \n",
       "1          1   119.30.32.128                 1  2017-08-21 00:00:00   \n",
       "2          1   83.149.46.223                 1  2017-08-21 02:22:00   \n",
       "3          1    119.30.47.26                 1  2017-08-21 01:07:00   \n",
       "4          1  223.182.190.14                 1  2017-08-21 00:35:00   \n",
       "\n",
       "   ConversionPayOut advertiserCampaignId  Fraud Weekday Dayhour  Region  \\\n",
       "0          4.550000                 4904      0     Sun    PrAM    Asia   \n",
       "1          2.652650                 4129      0     Sun    PrAM    Asia   \n",
       "2         25.493000                11829      0     Sun    PrAM  Europe   \n",
       "3          1.123456                 3312      0     Sun    PrAM    Asia   \n",
       "4         65.000000                16060      0     Sun    PrAM    Asia   \n",
       "\n",
       "   CntryCount  CntryFrd   CarrCount  CarrFrd  DevCount  DevFrd   AdvCount  \\\n",
       "0     8191723     26775  27640537.0    32729  43168936   46748  4453198.0   \n",
       "1     8191723     26775   2108346.0     6847  13575659   14293  1081260.0   \n",
       "2     3349617     16756    924488.0     3428   3492463   11144  1704306.0   \n",
       "3     8191723     26775   2108346.0     6847  43168936   46748  5745057.0   \n",
       "4    27137013      9986   6282011.0      329   1390903     560   502408.0   \n",
       "\n",
       "   AdvFrd  \n",
       "0    3126  \n",
       "1    5071  \n",
       "2    5538  \n",
       "3    6430  \n",
       "4       1  "
      ]
     },
     "execution_count": 42,
     "metadata": {},
     "output_type": "execute_result"
    }
   ],
   "source": [
    "Traindf.head()"
   ]
  },
  {
   "cell_type": "code",
   "execution_count": 22,
   "metadata": {
    "collapsed": true
   },
   "outputs": [],
   "source": [
    "#miss = Traindf[Traindf['PubCount'].isnull()]\n",
    "#miss.shape"
   ]
  },
  {
   "cell_type": "code",
   "execution_count": 43,
   "metadata": {
    "collapsed": true
   },
   "outputs": [],
   "source": [
    "# Creating a Category as Android Yes / No\n",
    "Traindf['AndroidOS'] = np.where(Traindf['OS']=='Android', 'yes', 'no')\n",
    "del Traindf['OS']"
   ]
  },
  {
   "cell_type": "code",
   "execution_count": 44,
   "metadata": {
    "collapsed": true
   },
   "outputs": [],
   "source": [
    "# Convert the User Ip Address as Classes that they belong\n",
    "Traindf['FirstIP'] = Traindf['UserIp'].str.split('.').str[0]\n",
    "Traindf['FirstIP'] = Traindf['FirstIP'].astype(int)\n",
    "\n",
    "def func1(row):\n",
    "    if row['FirstIP'] <= 128:\n",
    "        val = 'ClassA'\n",
    "    elif row['FirstIP'] <= 191:\n",
    "        val = 'ClassB'\n",
    "    elif row['FirstIP'] <= 223:\n",
    "        val = 'ClassC'\n",
    "    elif row['FirstIP'] <= 239:\n",
    "        val = 'ClassD'\n",
    "    elif row['FirstIP'] <= 255:\n",
    "        val = 'ClassE'\n",
    "    else:\n",
    "        val = 'NoClass'\n",
    "    return val\n",
    "\n",
    "Traindf['IPClass'] = Traindf.apply(func1, axis = 1).astype(str)\n",
    "del Traindf['FirstIP'], Traindf['UserIp']"
   ]
  },
  {
   "cell_type": "code",
   "execution_count": 45,
   "metadata": {
    "collapsed": true
   },
   "outputs": [],
   "source": [
    "# Cleaning the Browser column and creation only 3 categories based on previous cell \n",
    "Traindf['Browser'] = Traindf['Browser'].astype(str)\n",
    "\n",
    "def func2(row):\n",
    "    if row['Browser'] == 'android_webkit':\n",
    "        val = 'AndBrowser'\n",
    "    elif row['Browser'] == 'chrome':\n",
    "        val = 'Chrome'\n",
    "    elif row['Browser'] == 'chromium':\n",
    "        val = 'Chrome'\n",
    "    elif row['Browser'] == 'firefox_desktop':\n",
    "        val = 'firefox'\n",
    "    elif row['Browser'] == 'firefox_mobile':\n",
    "        val = 'firefox'\n",
    "    elif row['Browser'] == 'iphone':\n",
    "        val = 'Safari'\n",
    "    elif row['Browser'] == 'safari':\n",
    "        val = 'Safari'\n",
    "    elif row['Browser'] == 'blackberry':\n",
    "        val = 'blackberry'\n",
    "    elif row['Browser'] == 'opera':\n",
    "        val = 'opera'\n",
    "    elif row['Browser'] == 'iemobile':\n",
    "        val = 'iemobile'\n",
    "    else:\n",
    "        val = 'Others'\n",
    "    return val\n",
    "\n",
    "Traindf['Browser'] = Traindf.apply(func2, axis = 1).astype(str)"
   ]
  },
  {
   "cell_type": "code",
   "execution_count": 46,
   "metadata": {
    "collapsed": true
   },
   "outputs": [],
   "source": [
    "# Remove the Y's\n",
    "All_y = Traindf[['ID', 'ConversionStatus','ConversionDate','ConversionPayOut']]"
   ]
  },
  {
   "cell_type": "code",
   "execution_count": 47,
   "metadata": {
    "collapsed": true
   },
   "outputs": [],
   "source": [
    "# Removing the variables that are part of Y\n",
    "del Traindf['ConversionStatus'],Traindf['ConversionDate'],Traindf['ConversionPayOut']"
   ]
  },
  {
   "cell_type": "code",
   "execution_count": 48,
   "metadata": {
    "collapsed": true
   },
   "outputs": [],
   "source": [
    "# Remove unnecessary varaibles\n",
    "del Traindf['Country'],Traindf['Carrier'],Traindf['Device'],Traindf['advertiserCampaignId']"
   ]
  },
  {
   "cell_type": "code",
   "execution_count": 49,
   "metadata": {
    "collapsed": true
   },
   "outputs": [],
   "source": [
    "def func1(row):\n",
    "    if row['CntryCount'] <= 2721633.0:\n",
    "        val = 'L'\n",
    "    elif row['CntryCount'] <= 8536822.0:\n",
    "        val = 'M'\n",
    "    else:\n",
    "        val = 'H'\n",
    "    return val\n",
    "\n",
    "def func2(row):\n",
    "    if row['CarrCount'] <= 1776906.0:\n",
    "        val = 'L'\n",
    "    elif row['CarrCount'] <= 6282011.0:\n",
    "        val = 'M'\n",
    "    else:\n",
    "        val = 'H'\n",
    "    return val\n",
    "\n",
    "def func3(row):\n",
    "    if row['DevCount'] <= 3492463.0:\n",
    "        val = 'L'\n",
    "    elif row['DevCount'] <= 43168936.0:\n",
    "        val = 'M'\n",
    "    else:\n",
    "        val = 'H'\n",
    "    return val\n",
    "\n",
    "def func4(row):\n",
    "    if row['PubCount'] <= 433397.0:\n",
    "        val = 'L'\n",
    "    elif row['PubCount'] <= 2719241.0:\n",
    "        val = 'M'\n",
    "    else:\n",
    "        val = 'H'\n",
    "    return val\n",
    "\n",
    "def func5(row):\n",
    "    if row['AdvCount'] <= 731465.0:\n",
    "        val = 'L'\n",
    "    elif row['AdvCount'] <= 2684511.0:\n",
    "        val = 'M'\n",
    "    else:\n",
    "        val = 'H'\n",
    "    return val\n",
    "\n",
    "Traindf['CntryCntClass'] = Traindf.apply(func1, axis = 1).astype(str)\n",
    "Traindf['TraficCntClass'] = Traindf.apply(func2, axis = 1).astype(str)\n",
    "Traindf['DevCntClass'] = Traindf.apply(func3, axis = 1).astype(str)\n",
    "#Traindf['PubCntClass'] = Traindf.apply(func4, axis = 1).astype(str)\n",
    "Traindf['AdtsrCntClass'] = Traindf.apply(func5, axis = 1).astype(str)\n",
    "\n",
    "del Traindf['CntryCount'],Traindf['CarrCount'],Traindf['DevCount'],Traindf['AdvCount']\n",
    "#Traindf['PubCount'],"
   ]
  },
  {
   "cell_type": "code",
   "execution_count": 50,
   "metadata": {
    "collapsed": true
   },
   "outputs": [],
   "source": [
    "def func1(row):\n",
    "    if row['CntryFrd'] <= 23.0:\n",
    "        val = 'LF'\n",
    "    elif row['CntryFrd'] <= 9986.0:\n",
    "        val = 'MF'\n",
    "    else:\n",
    "        val = 'HF'\n",
    "    return val\n",
    "\n",
    "def func2(row):\n",
    "    if row['CarrFrd'] <= 1233.0:\n",
    "        val = 'LF'\n",
    "    elif row['CarrFrd'] <= 32729.0:\n",
    "        val = 'MF'\n",
    "    else:\n",
    "        val = 'HF'\n",
    "    return val\n",
    "\n",
    "def func3(row):\n",
    "    if row['DevFrd'] <= 46748.0:\n",
    "        val = 'LF'\n",
    "    else:\n",
    "        val = 'HF'\n",
    "    return val\n",
    "\n",
    "def func4(row):\n",
    "    if row['PubFrd'] <= 11.0:\n",
    "        val = 'LF'\n",
    "    else:\n",
    "        val = 'HF'\n",
    "    return val\n",
    "\n",
    "def func5(row):\n",
    "    if row['AdvFrd'] <= 6430.0:\n",
    "        val = 'LF'\n",
    "    else:\n",
    "        val = 'HF'\n",
    "    return val\n",
    "\n",
    "Traindf['CntryFrdClass'] = Traindf.apply(func1, axis = 1).astype(str)\n",
    "Traindf['TraficFrdClass'] = Traindf.apply(func2, axis = 1).astype(str)\n",
    "Traindf['DevFrdClass'] = Traindf.apply(func3, axis = 1).astype(str)\n",
    "#Traindf['PubFrdClass'] = Traindf.apply(func4, axis = 1).astype(str)\n",
    "Traindf['AdtsrFrdClass'] = Traindf.apply(func5, axis = 1).astype(str)\n",
    "\n",
    "del Traindf['CntryFrd'],Traindf['CarrFrd'],Traindf['DevFrd'],Traindf['AdvFrd']\n",
    "#Traindf['PubFrd'],"
   ]
  },
  {
   "cell_type": "code",
   "execution_count": 51,
   "metadata": {},
   "outputs": [
    {
     "data": {
      "text/plain": [
       "(144524, 18)"
      ]
     },
     "execution_count": 51,
     "metadata": {},
     "output_type": "execute_result"
    }
   ],
   "source": [
    "Traindf.shape"
   ]
  },
  {
   "cell_type": "code",
   "execution_count": 52,
   "metadata": {},
   "outputs": [
    {
     "data": {
      "text/html": [
       "<div>\n",
       "<style>\n",
       "    .dataframe thead tr:only-child th {\n",
       "        text-align: right;\n",
       "    }\n",
       "\n",
       "    .dataframe thead th {\n",
       "        text-align: left;\n",
       "    }\n",
       "\n",
       "    .dataframe tbody tr th {\n",
       "        vertical-align: top;\n",
       "    }\n",
       "</style>\n",
       "<table border=\"1\" class=\"dataframe\">\n",
       "  <thead>\n",
       "    <tr style=\"text-align: right;\">\n",
       "      <th></th>\n",
       "      <th>ID</th>\n",
       "      <th>TrafficType</th>\n",
       "      <th>Browser</th>\n",
       "      <th>RefererUrl</th>\n",
       "      <th>Fraud</th>\n",
       "      <th>Weekday</th>\n",
       "      <th>Dayhour</th>\n",
       "      <th>Region</th>\n",
       "      <th>AndroidOS</th>\n",
       "      <th>IPClass</th>\n",
       "      <th>CntryCntClass</th>\n",
       "      <th>TraficCntClass</th>\n",
       "      <th>DevCntClass</th>\n",
       "      <th>AdtsrCntClass</th>\n",
       "      <th>CntryFrdClass</th>\n",
       "      <th>TraficFrdClass</th>\n",
       "      <th>DevFrdClass</th>\n",
       "      <th>AdtsrFrdClass</th>\n",
       "    </tr>\n",
       "  </thead>\n",
       "  <tbody>\n",
       "    <tr>\n",
       "      <th>0</th>\n",
       "      <td>1378</td>\n",
       "      <td>A</td>\n",
       "      <td>Others</td>\n",
       "      <td>1</td>\n",
       "      <td>0</td>\n",
       "      <td>Sun</td>\n",
       "      <td>PrAM</td>\n",
       "      <td>Asia</td>\n",
       "      <td>yes</td>\n",
       "      <td>ClassA</td>\n",
       "      <td>M</td>\n",
       "      <td>H</td>\n",
       "      <td>M</td>\n",
       "      <td>H</td>\n",
       "      <td>HF</td>\n",
       "      <td>MF</td>\n",
       "      <td>LF</td>\n",
       "      <td>LF</td>\n",
       "    </tr>\n",
       "    <tr>\n",
       "      <th>1</th>\n",
       "      <td>1720</td>\n",
       "      <td>A</td>\n",
       "      <td>Chrome</td>\n",
       "      <td>1</td>\n",
       "      <td>0</td>\n",
       "      <td>Sun</td>\n",
       "      <td>PrAM</td>\n",
       "      <td>Asia</td>\n",
       "      <td>yes</td>\n",
       "      <td>ClassA</td>\n",
       "      <td>M</td>\n",
       "      <td>M</td>\n",
       "      <td>M</td>\n",
       "      <td>M</td>\n",
       "      <td>HF</td>\n",
       "      <td>MF</td>\n",
       "      <td>LF</td>\n",
       "      <td>LF</td>\n",
       "    </tr>\n",
       "    <tr>\n",
       "      <th>2</th>\n",
       "      <td>3698</td>\n",
       "      <td>A</td>\n",
       "      <td>Chrome</td>\n",
       "      <td>1</td>\n",
       "      <td>0</td>\n",
       "      <td>Sun</td>\n",
       "      <td>PrAM</td>\n",
       "      <td>Europe</td>\n",
       "      <td>yes</td>\n",
       "      <td>ClassA</td>\n",
       "      <td>M</td>\n",
       "      <td>L</td>\n",
       "      <td>L</td>\n",
       "      <td>M</td>\n",
       "      <td>HF</td>\n",
       "      <td>MF</td>\n",
       "      <td>LF</td>\n",
       "      <td>LF</td>\n",
       "    </tr>\n",
       "    <tr>\n",
       "      <th>3</th>\n",
       "      <td>4050</td>\n",
       "      <td>A</td>\n",
       "      <td>AndBrowser</td>\n",
       "      <td>1</td>\n",
       "      <td>0</td>\n",
       "      <td>Sun</td>\n",
       "      <td>PrAM</td>\n",
       "      <td>Asia</td>\n",
       "      <td>yes</td>\n",
       "      <td>ClassA</td>\n",
       "      <td>M</td>\n",
       "      <td>M</td>\n",
       "      <td>M</td>\n",
       "      <td>H</td>\n",
       "      <td>HF</td>\n",
       "      <td>MF</td>\n",
       "      <td>LF</td>\n",
       "      <td>LF</td>\n",
       "    </tr>\n",
       "    <tr>\n",
       "      <th>4</th>\n",
       "      <td>8667</td>\n",
       "      <td>A</td>\n",
       "      <td>Chrome</td>\n",
       "      <td>1</td>\n",
       "      <td>0</td>\n",
       "      <td>Sun</td>\n",
       "      <td>PrAM</td>\n",
       "      <td>Asia</td>\n",
       "      <td>yes</td>\n",
       "      <td>ClassC</td>\n",
       "      <td>H</td>\n",
       "      <td>M</td>\n",
       "      <td>L</td>\n",
       "      <td>L</td>\n",
       "      <td>MF</td>\n",
       "      <td>LF</td>\n",
       "      <td>LF</td>\n",
       "      <td>LF</td>\n",
       "    </tr>\n",
       "  </tbody>\n",
       "</table>\n",
       "</div>"
      ],
      "text/plain": [
       "     ID TrafficType     Browser RefererUrl  Fraud Weekday Dayhour  Region  \\\n",
       "0  1378           A      Others          1      0     Sun    PrAM    Asia   \n",
       "1  1720           A      Chrome          1      0     Sun    PrAM    Asia   \n",
       "2  3698           A      Chrome          1      0     Sun    PrAM  Europe   \n",
       "3  4050           A  AndBrowser          1      0     Sun    PrAM    Asia   \n",
       "4  8667           A      Chrome          1      0     Sun    PrAM    Asia   \n",
       "\n",
       "  AndroidOS IPClass CntryCntClass TraficCntClass DevCntClass AdtsrCntClass  \\\n",
       "0       yes  ClassA             M              H           M             H   \n",
       "1       yes  ClassA             M              M           M             M   \n",
       "2       yes  ClassA             M              L           L             M   \n",
       "3       yes  ClassA             M              M           M             H   \n",
       "4       yes  ClassC             H              M           L             L   \n",
       "\n",
       "  CntryFrdClass TraficFrdClass DevFrdClass AdtsrFrdClass  \n",
       "0            HF             MF          LF            LF  \n",
       "1            HF             MF          LF            LF  \n",
       "2            HF             MF          LF            LF  \n",
       "3            HF             MF          LF            LF  \n",
       "4            MF             LF          LF            LF  "
      ]
     },
     "execution_count": 52,
     "metadata": {},
     "output_type": "execute_result"
    }
   ],
   "source": [
    "Traindf.head()"
   ]
  },
  {
   "cell_type": "code",
   "execution_count": 53,
   "metadata": {
    "collapsed": true
   },
   "outputs": [],
   "source": [
    "Traindf.columns = ['ID','TrafficType','Browser','RefererUrl','Fraud','Weekday','Dayhour','Region', 'AndroidOS',\n",
    "                   'IPClass','CntryCntClass','TraficCntClass','DevCntClass','AdtsrCntClass',\n",
    "                   'CntryFrdClass','TraficFrdClass','DevFrdClass','AdtsrFrdClass']\n",
    "#'PubCntClass','PubFrdClass',"
   ]
  },
  {
   "cell_type": "code",
   "execution_count": 54,
   "metadata": {},
   "outputs": [
    {
     "data": {
      "text/html": [
       "<div>\n",
       "<style>\n",
       "    .dataframe thead tr:only-child th {\n",
       "        text-align: right;\n",
       "    }\n",
       "\n",
       "    .dataframe thead th {\n",
       "        text-align: left;\n",
       "    }\n",
       "\n",
       "    .dataframe tbody tr th {\n",
       "        vertical-align: top;\n",
       "    }\n",
       "</style>\n",
       "<table border=\"1\" class=\"dataframe\">\n",
       "  <thead>\n",
       "    <tr style=\"text-align: right;\">\n",
       "      <th></th>\n",
       "      <th>Missing Ratio</th>\n",
       "    </tr>\n",
       "  </thead>\n",
       "  <tbody>\n",
       "    <tr>\n",
       "      <th>Region</th>\n",
       "      <td>0.000692</td>\n",
       "    </tr>\n",
       "  </tbody>\n",
       "</table>\n",
       "</div>"
      ],
      "text/plain": [
       "        Missing Ratio\n",
       "Region       0.000692"
      ]
     },
     "execution_count": 54,
     "metadata": {},
     "output_type": "execute_result"
    }
   ],
   "source": [
    "# Verify the variables for null\n",
    "Traindf_na = (Traindf.isnull().sum() / len(Traindf)) * 100\n",
    "Traindf_na = Traindf_na.drop(Traindf_na[Traindf_na == 0].index).sort_values(ascending=False)[:30]\n",
    "missing_data = pd.DataFrame({'Missing Ratio' :Traindf_na})\n",
    "missing_data.head(10)"
   ]
  },
  {
   "cell_type": "code",
   "execution_count": 55,
   "metadata": {},
   "outputs": [
    {
     "data": {
      "text/html": [
       "<div>\n",
       "<style>\n",
       "    .dataframe thead tr:only-child th {\n",
       "        text-align: right;\n",
       "    }\n",
       "\n",
       "    .dataframe thead th {\n",
       "        text-align: left;\n",
       "    }\n",
       "\n",
       "    .dataframe tbody tr th {\n",
       "        vertical-align: top;\n",
       "    }\n",
       "</style>\n",
       "<table border=\"1\" class=\"dataframe\">\n",
       "  <thead>\n",
       "    <tr style=\"text-align: right;\">\n",
       "      <th></th>\n",
       "      <th>ID</th>\n",
       "      <th>TrafficType</th>\n",
       "      <th>Browser</th>\n",
       "      <th>RefererUrl</th>\n",
       "      <th>Fraud</th>\n",
       "      <th>Weekday</th>\n",
       "      <th>Dayhour</th>\n",
       "      <th>Region</th>\n",
       "      <th>AndroidOS</th>\n",
       "      <th>IPClass</th>\n",
       "      <th>CntryCntClass</th>\n",
       "      <th>TraficCntClass</th>\n",
       "      <th>DevCntClass</th>\n",
       "      <th>AdtsrCntClass</th>\n",
       "      <th>CntryFrdClass</th>\n",
       "      <th>TraficFrdClass</th>\n",
       "      <th>DevFrdClass</th>\n",
       "      <th>AdtsrFrdClass</th>\n",
       "    </tr>\n",
       "  </thead>\n",
       "  <tbody>\n",
       "    <tr>\n",
       "      <th>72249</th>\n",
       "      <td>2181728</td>\n",
       "      <td>UN</td>\n",
       "      <td>AndBrowser</td>\n",
       "      <td>1</td>\n",
       "      <td>0</td>\n",
       "      <td>Sun</td>\n",
       "      <td>PM</td>\n",
       "      <td>NaN</td>\n",
       "      <td>yes</td>\n",
       "      <td>ClassA</td>\n",
       "      <td>L</td>\n",
       "      <td>H</td>\n",
       "      <td>L</td>\n",
       "      <td>L</td>\n",
       "      <td>LF</td>\n",
       "      <td>MF</td>\n",
       "      <td>LF</td>\n",
       "      <td>LF</td>\n",
       "    </tr>\n",
       "  </tbody>\n",
       "</table>\n",
       "</div>"
      ],
      "text/plain": [
       "            ID TrafficType     Browser RefererUrl  Fraud Weekday Dayhour  \\\n",
       "72249  2181728          UN  AndBrowser          1      0     Sun      PM   \n",
       "\n",
       "      Region AndroidOS IPClass CntryCntClass TraficCntClass DevCntClass  \\\n",
       "72249    NaN       yes  ClassA             L              H           L   \n",
       "\n",
       "      AdtsrCntClass CntryFrdClass TraficFrdClass DevFrdClass AdtsrFrdClass  \n",
       "72249             L            LF             MF          LF            LF  "
      ]
     },
     "execution_count": 55,
     "metadata": {},
     "output_type": "execute_result"
    }
   ],
   "source": [
    "miss = Traindf[Traindf['Region'].isnull()]\n",
    "miss"
   ]
  },
  {
   "cell_type": "code",
   "execution_count": 57,
   "metadata": {
    "collapsed": true
   },
   "outputs": [],
   "source": [
    "Traindf['Region'] = Traindf.Region.fillna('Europe').astype(str)"
   ]
  },
  {
   "cell_type": "code",
   "execution_count": 58,
   "metadata": {
    "collapsed": true
   },
   "outputs": [],
   "source": [
    "Traindf.to_csv('ClassifierTrain.csv', index= False)"
   ]
  },
  {
   "cell_type": "code",
   "execution_count": 59,
   "metadata": {
    "collapsed": true
   },
   "outputs": [],
   "source": [
    "All_y.to_csv('All_y.csv', index=False)"
   ]
  },
  {
   "cell_type": "code",
   "execution_count": 60,
   "metadata": {},
   "outputs": [
    {
     "data": {
      "text/plain": [
       "(144524, 18)"
      ]
     },
     "execution_count": 60,
     "metadata": {},
     "output_type": "execute_result"
    }
   ],
   "source": [
    "Traindf.shape"
   ]
  },
  {
   "cell_type": "code",
   "execution_count": 62,
   "metadata": {
    "collapsed": true
   },
   "outputs": [],
   "source": [
    "#del Traindf\n",
    "del All_y"
   ]
  },
  {
   "cell_type": "markdown",
   "metadata": {},
   "source": [
    "# Convert the Test data"
   ]
  },
  {
   "cell_type": "code",
   "execution_count": 1,
   "metadata": {
    "collapsed": true
   },
   "outputs": [],
   "source": [
    "import pandas as pd\n",
    "import numpy as np\n",
    "import matplotlib.pyplot as plt\n",
    "import time\n",
    "pd.set_option('display.max_columns', 99)\n",
    "pd.set_option('display.max_rows', 999)"
   ]
  },
  {
   "cell_type": "code",
   "execution_count": 2,
   "metadata": {},
   "outputs": [
    {
     "name": "stderr",
     "output_type": "stream",
     "text": [
      "/usr/local/lib/python3.5/site-packages/IPython/core/interactiveshell.py:2698: DtypeWarning: Columns (10) have mixed types. Specify dtype option on import or set low_memory=False.\n",
      "  interactivity=interactivity, compiler=compiler, result=result)\n"
     ]
    }
   ],
   "source": [
    "#filename = '/Users/viswanathravindran/AVDatahack/ADClick/RawData/test.csv'\n",
    "#Testdf = pd.read_csv(filename, nrows=50000)\n",
    "Testdf = pd.read_csv('/advdata/test.csv')"
   ]
  },
  {
   "cell_type": "code",
   "execution_count": 3,
   "metadata": {},
   "outputs": [
    {
     "data": {
      "text/plain": [
       "(25548873, 14)"
      ]
     },
     "execution_count": 3,
     "metadata": {},
     "output_type": "execute_result"
    }
   ],
   "source": [
    "Testdf.shape"
   ]
  },
  {
   "cell_type": "code",
   "execution_count": 4,
   "metadata": {},
   "outputs": [
    {
     "data": {
      "text/html": [
       "<div>\n",
       "<style>\n",
       "    .dataframe thead tr:only-child th {\n",
       "        text-align: right;\n",
       "    }\n",
       "\n",
       "    .dataframe thead th {\n",
       "        text-align: left;\n",
       "    }\n",
       "\n",
       "    .dataframe tbody tr th {\n",
       "        vertical-align: top;\n",
       "    }\n",
       "</style>\n",
       "<table border=\"1\" class=\"dataframe\">\n",
       "  <thead>\n",
       "    <tr style=\"text-align: right;\">\n",
       "      <th></th>\n",
       "      <th>ID</th>\n",
       "      <th>Country</th>\n",
       "      <th>Carrier</th>\n",
       "      <th>TrafficType</th>\n",
       "      <th>ClickDate</th>\n",
       "      <th>Device</th>\n",
       "      <th>Browser</th>\n",
       "      <th>OS</th>\n",
       "      <th>RefererUrl</th>\n",
       "      <th>UserIp</th>\n",
       "      <th>publisherId</th>\n",
       "      <th>subPublisherId</th>\n",
       "      <th>advertiserCampaignId</th>\n",
       "      <th>Fraud</th>\n",
       "    </tr>\n",
       "  </thead>\n",
       "  <tbody>\n",
       "    <tr>\n",
       "      <th>0</th>\n",
       "      <td>63367289</td>\n",
       "      <td>IN</td>\n",
       "      <td>5.0</td>\n",
       "      <td>NaN</td>\n",
       "      <td>2017-08-31 00:00:01</td>\n",
       "      <td>Generic</td>\n",
       "      <td>uc</td>\n",
       "      <td>Android</td>\n",
       "      <td>NaN</td>\n",
       "      <td>101.58.211.15</td>\n",
       "      <td>1479</td>\n",
       "      <td>NaN</td>\n",
       "      <td>16216.0</td>\n",
       "      <td>0.0</td>\n",
       "    </tr>\n",
       "    <tr>\n",
       "      <th>1</th>\n",
       "      <td>63367290</td>\n",
       "      <td>IN</td>\n",
       "      <td>2.0</td>\n",
       "      <td>M</td>\n",
       "      <td>2017-08-31 00:00:01</td>\n",
       "      <td>Datawind</td>\n",
       "      <td>chrome</td>\n",
       "      <td>Android</td>\n",
       "      <td>NaN</td>\n",
       "      <td>42.107.175.145</td>\n",
       "      <td>3734</td>\n",
       "      <td>NaN</td>\n",
       "      <td>1836.0</td>\n",
       "      <td>0.0</td>\n",
       "    </tr>\n",
       "    <tr>\n",
       "      <th>2</th>\n",
       "      <td>63367291</td>\n",
       "      <td>IN</td>\n",
       "      <td>1.0</td>\n",
       "      <td>A</td>\n",
       "      <td>2017-08-31 00:00:01</td>\n",
       "      <td>Panasonic</td>\n",
       "      <td>chrome</td>\n",
       "      <td>Android</td>\n",
       "      <td>synctraff.com</td>\n",
       "      <td>106.223.85.251</td>\n",
       "      <td>282</td>\n",
       "      <td>NaN</td>\n",
       "      <td>13431.0</td>\n",
       "      <td>0.0</td>\n",
       "    </tr>\n",
       "    <tr>\n",
       "      <th>3</th>\n",
       "      <td>63367292</td>\n",
       "      <td>BR</td>\n",
       "      <td>-1.0</td>\n",
       "      <td>M</td>\n",
       "      <td>2017-08-31 00:00:01</td>\n",
       "      <td>Generic</td>\n",
       "      <td>android_webkit</td>\n",
       "      <td>Android</td>\n",
       "      <td>NaN</td>\n",
       "      <td>177.35.22.162</td>\n",
       "      <td>1203</td>\n",
       "      <td>NaN</td>\n",
       "      <td>4787.0</td>\n",
       "      <td>0.0</td>\n",
       "    </tr>\n",
       "    <tr>\n",
       "      <th>4</th>\n",
       "      <td>63367293</td>\n",
       "      <td>IN</td>\n",
       "      <td>3.0</td>\n",
       "      <td>A</td>\n",
       "      <td>2017-08-31 00:00:01</td>\n",
       "      <td>Micromax</td>\n",
       "      <td>chrome</td>\n",
       "      <td>Android</td>\n",
       "      <td>NaN</td>\n",
       "      <td>101.210.255.232</td>\n",
       "      <td>597</td>\n",
       "      <td>NaN</td>\n",
       "      <td>9769.0</td>\n",
       "      <td>0.0</td>\n",
       "    </tr>\n",
       "  </tbody>\n",
       "</table>\n",
       "</div>"
      ],
      "text/plain": [
       "         ID Country  Carrier TrafficType            ClickDate     Device  \\\n",
       "0  63367289      IN      5.0         NaN  2017-08-31 00:00:01    Generic   \n",
       "1  63367290      IN      2.0           M  2017-08-31 00:00:01   Datawind   \n",
       "2  63367291      IN      1.0           A  2017-08-31 00:00:01  Panasonic   \n",
       "3  63367292      BR     -1.0           M  2017-08-31 00:00:01    Generic   \n",
       "4  63367293      IN      3.0           A  2017-08-31 00:00:01   Micromax   \n",
       "\n",
       "          Browser       OS     RefererUrl           UserIp publisherId  \\\n",
       "0              uc  Android            NaN    101.58.211.15        1479   \n",
       "1          chrome  Android            NaN   42.107.175.145        3734   \n",
       "2          chrome  Android  synctraff.com   106.223.85.251         282   \n",
       "3  android_webkit  Android            NaN    177.35.22.162        1203   \n",
       "4          chrome  Android            NaN  101.210.255.232         597   \n",
       "\n",
       "  subPublisherId  advertiserCampaignId  Fraud  \n",
       "0            NaN               16216.0    0.0  \n",
       "1            NaN                1836.0    0.0  \n",
       "2            NaN               13431.0    0.0  \n",
       "3            NaN                4787.0    0.0  \n",
       "4            NaN                9769.0    0.0  "
      ]
     },
     "execution_count": 4,
     "metadata": {},
     "output_type": "execute_result"
    }
   ],
   "source": [
    "Testdf.head()"
   ]
  },
  {
   "cell_type": "code",
   "execution_count": 13,
   "metadata": {
    "collapsed": true
   },
   "outputs": [],
   "source": [
    "# Replace the Missing value based on analysis\n",
    "#Testdf['Fraud'] = Testdf['Fraud'].astype(np.int)\n",
    "#Testdf['Country'] = Testdf.Country.fillna('IN').astype(str)\n",
    "#Testdf['Device'] = Testdf.Device.fillna('UN').astype(str)\n",
    "#Testdf['publisherId'] = Testdf.publisherId.fillna(1306).astype(np.int)\n",
    "#Testdf['advertiserCampaignId'] = Testdf.advertiserCampaignId.fillna(7510).astype(np.int)\n",
    "#Testdf['TrafficType'] = Testdf.TrafficType.fillna('UN').astype(str)\n",
    "#Testdf['Browser'] = Testdf.Browser.fillna('android_webkit').astype(str)\n",
    "#Testdf['OS'] = Testdf.OS.fillna('Android').astype(str)\n",
    "Testdf['RefererUrl'] = Testdf.RefererUrl.fillna('NoRefer').astype(str)"
   ]
  },
  {
   "cell_type": "code",
   "execution_count": 14,
   "metadata": {},
   "outputs": [
    {
     "data": {
      "text/html": [
       "<div>\n",
       "<style>\n",
       "    .dataframe thead tr:only-child th {\n",
       "        text-align: right;\n",
       "    }\n",
       "\n",
       "    .dataframe thead th {\n",
       "        text-align: left;\n",
       "    }\n",
       "\n",
       "    .dataframe tbody tr th {\n",
       "        vertical-align: top;\n",
       "    }\n",
       "</style>\n",
       "<table border=\"1\" class=\"dataframe\">\n",
       "  <thead>\n",
       "    <tr style=\"text-align: right;\">\n",
       "      <th></th>\n",
       "      <th>Missing Ratio</th>\n",
       "    </tr>\n",
       "  </thead>\n",
       "  <tbody>\n",
       "    <tr>\n",
       "      <th>subPublisherId</th>\n",
       "      <td>97.288667</td>\n",
       "    </tr>\n",
       "    <tr>\n",
       "      <th>publisherId</th>\n",
       "      <td>0.000595</td>\n",
       "    </tr>\n",
       "  </tbody>\n",
       "</table>\n",
       "</div>"
      ],
      "text/plain": [
       "                Missing Ratio\n",
       "subPublisherId      97.288667\n",
       "publisherId          0.000595"
      ]
     },
     "execution_count": 14,
     "metadata": {},
     "output_type": "execute_result"
    }
   ],
   "source": [
    "# Checking for the ratio of missing value\n",
    "Testdf_na = (Testdf.isnull().sum() / len(Testdf)) * 100\n",
    "Testdf_na = Testdf_na.drop(Testdf_na[Testdf_na == 0].index).sort_values(ascending=False)[:30]\n",
    "missing_data = pd.DataFrame({'Missing Ratio' :Testdf_na})\n",
    "missing_data.head(10)"
   ]
  },
  {
   "cell_type": "code",
   "execution_count": 15,
   "metadata": {
    "collapsed": true
   },
   "outputs": [],
   "source": [
    "#Testdf['publisherId_New']=Testdf.publisherId.apply(lambda x: np.where(x.isdigit(),x,'99999')).astype(int)\n",
    "del Testdf['publisherId'], Testdf['subPublisherId']"
   ]
  },
  {
   "cell_type": "code",
   "execution_count": 16,
   "metadata": {
    "collapsed": true
   },
   "outputs": [],
   "source": [
    "# Replacing the country with their Area\n",
    "url=\"https://raw.githubusercontent.com/lukes/ISO-3166-Countries-with-Regional-Codes/master/all/all.csv\"\n",
    "regiondf = pd.read_csv(url, usecols=['alpha-2','region'])\n",
    "regiondf.columns = ['Country', 'Region']"
   ]
  },
  {
   "cell_type": "code",
   "execution_count": 17,
   "metadata": {
    "collapsed": true
   },
   "outputs": [],
   "source": [
    "regiondf['Region'] = regiondf.Region.fillna('Unknown')\n",
    "regiondf = regiondf[pd.notnull(regiondf['Country'])]"
   ]
  },
  {
   "cell_type": "code",
   "execution_count": 18,
   "metadata": {},
   "outputs": [
    {
     "data": {
      "text/plain": [
       "(25548873, 13)"
      ]
     },
     "execution_count": 18,
     "metadata": {},
     "output_type": "execute_result"
    }
   ],
   "source": [
    "Testdf = pd.merge(Testdf,regiondf, how='left', left_on='Country', right_on='Country')\n",
    "Testdf.shape"
   ]
  },
  {
   "cell_type": "code",
   "execution_count": 19,
   "metadata": {
    "collapsed": true
   },
   "outputs": [],
   "source": [
    "# Code to check the value of the missing field\n",
    "# miss = Testdf[Testdf['Region'].isnull()]\n",
    "# miss.shape\n",
    "# miss\n",
    "Testdf.loc[(Testdf['Country'] == 'UK') ,'Region'] = 'Europe'\n",
    "Testdf.loc[(Testdf['Country'] == '**') ,'Region'] = 'Asia'\n",
    "Testdf.loc[(Testdf['Country'] == 'EU') ,'Region'] = 'Europe'\n",
    "# del miss"
   ]
  },
  {
   "cell_type": "code",
   "execution_count": 20,
   "metadata": {
    "collapsed": true
   },
   "outputs": [],
   "source": [
    "Countrydf = pd.read_csv('Countrydf.csv')\n",
    "Carrierdf = pd.read_csv('Carrierdf.csv')\n",
    "Devicedf = pd.read_csv('Devicedf.csv')\n",
    "Publisherdf = pd.read_csv('Publisherdf.csv')\n",
    "Advertiserdf = pd.read_csv('Advertiserdf.csv')"
   ]
  },
  {
   "cell_type": "code",
   "execution_count": 21,
   "metadata": {},
   "outputs": [
    {
     "data": {
      "text/html": [
       "<div>\n",
       "<style>\n",
       "    .dataframe thead tr:only-child th {\n",
       "        text-align: right;\n",
       "    }\n",
       "\n",
       "    .dataframe thead th {\n",
       "        text-align: left;\n",
       "    }\n",
       "\n",
       "    .dataframe tbody tr th {\n",
       "        vertical-align: top;\n",
       "    }\n",
       "</style>\n",
       "<table border=\"1\" class=\"dataframe\">\n",
       "  <thead>\n",
       "    <tr style=\"text-align: right;\">\n",
       "      <th></th>\n",
       "      <th>ID</th>\n",
       "      <th>Country</th>\n",
       "      <th>Carrier</th>\n",
       "      <th>TrafficType</th>\n",
       "      <th>ClickDate</th>\n",
       "      <th>Device</th>\n",
       "      <th>Browser</th>\n",
       "      <th>OS</th>\n",
       "      <th>RefererUrl</th>\n",
       "      <th>UserIp</th>\n",
       "      <th>advertiserCampaignId</th>\n",
       "      <th>Fraud</th>\n",
       "      <th>Region</th>\n",
       "    </tr>\n",
       "  </thead>\n",
       "  <tbody>\n",
       "    <tr>\n",
       "      <th>0</th>\n",
       "      <td>63367289</td>\n",
       "      <td>IN</td>\n",
       "      <td>5.0</td>\n",
       "      <td>UN</td>\n",
       "      <td>2017-08-31 00:00:01</td>\n",
       "      <td>Generic</td>\n",
       "      <td>uc</td>\n",
       "      <td>Android</td>\n",
       "      <td>NoRefer</td>\n",
       "      <td>101.58.211.15</td>\n",
       "      <td>16216</td>\n",
       "      <td>0</td>\n",
       "      <td>Asia</td>\n",
       "    </tr>\n",
       "    <tr>\n",
       "      <th>1</th>\n",
       "      <td>63367290</td>\n",
       "      <td>IN</td>\n",
       "      <td>2.0</td>\n",
       "      <td>M</td>\n",
       "      <td>2017-08-31 00:00:01</td>\n",
       "      <td>Datawind</td>\n",
       "      <td>chrome</td>\n",
       "      <td>Android</td>\n",
       "      <td>NoRefer</td>\n",
       "      <td>42.107.175.145</td>\n",
       "      <td>1836</td>\n",
       "      <td>0</td>\n",
       "      <td>Asia</td>\n",
       "    </tr>\n",
       "    <tr>\n",
       "      <th>2</th>\n",
       "      <td>63367291</td>\n",
       "      <td>IN</td>\n",
       "      <td>1.0</td>\n",
       "      <td>A</td>\n",
       "      <td>2017-08-31 00:00:01</td>\n",
       "      <td>Panasonic</td>\n",
       "      <td>chrome</td>\n",
       "      <td>Android</td>\n",
       "      <td>synctraff.com</td>\n",
       "      <td>106.223.85.251</td>\n",
       "      <td>13431</td>\n",
       "      <td>0</td>\n",
       "      <td>Asia</td>\n",
       "    </tr>\n",
       "    <tr>\n",
       "      <th>3</th>\n",
       "      <td>63367292</td>\n",
       "      <td>BR</td>\n",
       "      <td>-1.0</td>\n",
       "      <td>M</td>\n",
       "      <td>2017-08-31 00:00:01</td>\n",
       "      <td>Generic</td>\n",
       "      <td>android_webkit</td>\n",
       "      <td>Android</td>\n",
       "      <td>NoRefer</td>\n",
       "      <td>177.35.22.162</td>\n",
       "      <td>4787</td>\n",
       "      <td>0</td>\n",
       "      <td>Americas</td>\n",
       "    </tr>\n",
       "    <tr>\n",
       "      <th>4</th>\n",
       "      <td>63367293</td>\n",
       "      <td>IN</td>\n",
       "      <td>3.0</td>\n",
       "      <td>A</td>\n",
       "      <td>2017-08-31 00:00:01</td>\n",
       "      <td>Micromax</td>\n",
       "      <td>chrome</td>\n",
       "      <td>Android</td>\n",
       "      <td>NoRefer</td>\n",
       "      <td>101.210.255.232</td>\n",
       "      <td>9769</td>\n",
       "      <td>0</td>\n",
       "      <td>Asia</td>\n",
       "    </tr>\n",
       "  </tbody>\n",
       "</table>\n",
       "</div>"
      ],
      "text/plain": [
       "         ID Country  Carrier TrafficType            ClickDate     Device  \\\n",
       "0  63367289      IN      5.0          UN  2017-08-31 00:00:01    Generic   \n",
       "1  63367290      IN      2.0           M  2017-08-31 00:00:01   Datawind   \n",
       "2  63367291      IN      1.0           A  2017-08-31 00:00:01  Panasonic   \n",
       "3  63367292      BR     -1.0           M  2017-08-31 00:00:01    Generic   \n",
       "4  63367293      IN      3.0           A  2017-08-31 00:00:01   Micromax   \n",
       "\n",
       "          Browser       OS     RefererUrl           UserIp  \\\n",
       "0              uc  Android        NoRefer    101.58.211.15   \n",
       "1          chrome  Android        NoRefer   42.107.175.145   \n",
       "2          chrome  Android  synctraff.com   106.223.85.251   \n",
       "3  android_webkit  Android        NoRefer    177.35.22.162   \n",
       "4          chrome  Android        NoRefer  101.210.255.232   \n",
       "\n",
       "   advertiserCampaignId  Fraud    Region  \n",
       "0                 16216      0      Asia  \n",
       "1                  1836      0      Asia  \n",
       "2                 13431      0      Asia  \n",
       "3                  4787      0  Americas  \n",
       "4                  9769      0      Asia  "
      ]
     },
     "execution_count": 21,
     "metadata": {},
     "output_type": "execute_result"
    }
   ],
   "source": [
    "Testdf.head()"
   ]
  },
  {
   "cell_type": "code",
   "execution_count": 15,
   "metadata": {
    "collapsed": true
   },
   "outputs": [],
   "source": [
    "#Publisherdf['publisherId']=Publisherdf.publisherId.astype(str)"
   ]
  },
  {
   "cell_type": "code",
   "execution_count": 16,
   "metadata": {
    "collapsed": true
   },
   "outputs": [],
   "source": [
    "#Publisherdf['publisherId_New']=Publisherdf.publisherId.apply(lambda x: np.where(x.isdigit(),x,'99999')).astype(int)\n",
    "#del Publisherdf['publisherId']"
   ]
  },
  {
   "cell_type": "code",
   "execution_count": 22,
   "metadata": {},
   "outputs": [
    {
     "data": {
      "text/plain": [
       "(25548873, 15)"
      ]
     },
     "execution_count": 22,
     "metadata": {},
     "output_type": "execute_result"
    }
   ],
   "source": [
    "# Merge back the Columns to train and test\n",
    "Testdf = pd.merge(Testdf,Countrydf, how='left', left_on='Country', right_on='Country')\n",
    "Testdf.shape"
   ]
  },
  {
   "cell_type": "code",
   "execution_count": 23,
   "metadata": {},
   "outputs": [
    {
     "data": {
      "text/plain": [
       "(25548873, 17)"
      ]
     },
     "execution_count": 23,
     "metadata": {},
     "output_type": "execute_result"
    }
   ],
   "source": [
    "Testdf = pd.merge(Testdf,Carrierdf, how='left', left_on='Carrier', right_on='Carrier')\n",
    "Testdf.shape"
   ]
  },
  {
   "cell_type": "code",
   "execution_count": 24,
   "metadata": {},
   "outputs": [
    {
     "data": {
      "text/plain": [
       "(25548873, 19)"
      ]
     },
     "execution_count": 24,
     "metadata": {},
     "output_type": "execute_result"
    }
   ],
   "source": [
    "Testdf = pd.merge(Testdf,Devicedf, how='left', left_on='Device', right_on='Device')\n",
    "Testdf.shape"
   ]
  },
  {
   "cell_type": "code",
   "execution_count": 25,
   "metadata": {
    "collapsed": true
   },
   "outputs": [],
   "source": [
    "#Testdf = pd.merge(Testdf,Publisherdf, how='left', left_on='publisherId_New', right_on='publisherId_New')\n",
    "#Testdf.shape"
   ]
  },
  {
   "cell_type": "code",
   "execution_count": 26,
   "metadata": {},
   "outputs": [
    {
     "data": {
      "text/plain": [
       "(25548873, 21)"
      ]
     },
     "execution_count": 26,
     "metadata": {},
     "output_type": "execute_result"
    }
   ],
   "source": [
    "Testdf = pd.merge(Testdf,Advertiserdf, how='left', left_on='advertiserCampaignId', right_on='advertiserCampaignId')\n",
    "Testdf.shape"
   ]
  },
  {
   "cell_type": "code",
   "execution_count": 22,
   "metadata": {
    "collapsed": true
   },
   "outputs": [],
   "source": [
    "#miss = Testdf[Traindf['PubCount'].isnull()]\n",
    "#miss.shape"
   ]
  },
  {
   "cell_type": "code",
   "execution_count": 27,
   "metadata": {
    "collapsed": true
   },
   "outputs": [],
   "source": [
    "# Creating a Category as Android Yes / No\n",
    "Testdf['AndroidOS'] = np.where(Testdf['OS']=='Android', 'yes', 'no')\n",
    "del Testdf['OS']"
   ]
  },
  {
   "cell_type": "code",
   "execution_count": 28,
   "metadata": {
    "collapsed": true
   },
   "outputs": [],
   "source": [
    "# Convert the User Ip Address as Classes that they belong\n",
    "t0 = time.time()\n",
    "Testdf['FirstIP'] = Testdf['UserIp'].str.split('.').str[0]\n",
    "Testdf['FirstIP'] = Testdf['FirstIP'].astype(int)\n",
    "\n",
    "def func1(row):\n",
    "    if row['FirstIP'] <= 128:\n",
    "        val = 'ClassA'\n",
    "    elif row['FirstIP'] <= 191:\n",
    "        val = 'ClassB'\n",
    "    elif row['FirstIP'] <= 223:\n",
    "        val = 'ClassC'\n",
    "    elif row['FirstIP'] <= 239:\n",
    "        val = 'ClassD'\n",
    "    elif row['FirstIP'] <= 255:\n",
    "        val = 'ClassE'\n",
    "    else:\n",
    "        val = 'NoClass'\n",
    "    return val\n",
    "\n",
    "Testdf['IPClass'] = Testdf.apply(func1, axis = 1).astype(str)\n",
    "\n",
    "t1 = time.time()\n",
    "print ('Time taken is :',t1 - t0)\n",
    "del Testdf['FirstIP'], Testdf['UserIp']"
   ]
  },
  {
   "cell_type": "code",
   "execution_count": 29,
   "metadata": {},
   "outputs": [
    {
     "name": "stdout",
     "output_type": "stream",
     "text": [
      "Time taken is : 778.2085852622986\n"
     ]
    }
   ],
   "source": [
    "# Cleaning the Browser column and creation only 3 categories based on previous cell \n",
    "t0 = time.time()\n",
    "Testdf['Browser'] = Testdf['Browser'].astype(str)\n",
    "\n",
    "def func2(row):\n",
    "    if row['Browser'] == 'android_webkit':\n",
    "        val = 'AndBrowser'\n",
    "    elif row['Browser'] == 'chrome':\n",
    "        val = 'Chrome'\n",
    "    elif row['Browser'] == 'chromium':\n",
    "        val = 'Chrome'\n",
    "    elif row['Browser'] == 'firefox_desktop':\n",
    "        val = 'firefox'\n",
    "    elif row['Browser'] == 'firefox_mobile':\n",
    "        val = 'firefox'\n",
    "    elif row['Browser'] == 'iphone':\n",
    "        val = 'Safari'\n",
    "    elif row['Browser'] == 'safari':\n",
    "        val = 'Safari'\n",
    "    elif row['Browser'] == 'blackberry':\n",
    "        val = 'blackberry'\n",
    "    elif row['Browser'] == 'opera':\n",
    "        val = 'opera'\n",
    "    elif row['Browser'] == 'iemobile':\n",
    "        val = 'iemobile'\n",
    "    else:\n",
    "        val = 'Others'\n",
    "    return val\n",
    "\n",
    "Testdf['Browser'] = Testdf.apply(func2, axis = 1).astype(str)\n",
    "t1 = time.time()\n",
    "print ('Time taken is :',t1 - t0)"
   ]
  },
  {
   "cell_type": "code",
   "execution_count": 30,
   "metadata": {
    "collapsed": true
   },
   "outputs": [],
   "source": [
    "# Remove unnecessary varaibles\n",
    "del Testdf['Country'],Testdf['Carrier'],Testdf['Device'], Testdf['advertiserCampaignId']"
   ]
  },
  {
   "cell_type": "code",
   "execution_count": 31,
   "metadata": {},
   "outputs": [
    {
     "name": "stdout",
     "output_type": "stream",
     "text": [
      "Time taken is : 580.3456354141235\n"
     ]
    }
   ],
   "source": [
    "t0 = time.time()\n",
    "def func1(row):\n",
    "    if row['CntryCount'] <= 2721633.0:\n",
    "        val = 'L'\n",
    "    elif row['CntryCount'] <= 8536822.0:\n",
    "        val = 'M'\n",
    "    else:\n",
    "        val = 'H'\n",
    "    return val\n",
    "\n",
    "Testdf['CntryCntClass'] = Testdf.apply(func1, axis = 1).astype(str)\n",
    "t1 = time.time()\n",
    "print ('Time taken is :',t1 - t0)"
   ]
  },
  {
   "cell_type": "code",
   "execution_count": 32,
   "metadata": {},
   "outputs": [
    {
     "name": "stdout",
     "output_type": "stream",
     "text": [
      "Time taken is : 581.8792457580566\n"
     ]
    }
   ],
   "source": [
    "t0 = time.time()\n",
    "def func2(row):\n",
    "    if row['CarrCount'] <= 1776906.0:\n",
    "        val = 'L'\n",
    "    elif row['CarrCount'] <= 6282011.0:\n",
    "        val = 'M'\n",
    "    else:\n",
    "        val = 'H'\n",
    "    return val\n",
    "\n",
    "Testdf['TraficCntClass'] = Testdf.apply(func2, axis = 1).astype(str)\n",
    "t1 = time.time()\n",
    "print ('Time taken is :',t1 - t0)"
   ]
  },
  {
   "cell_type": "code",
   "execution_count": 33,
   "metadata": {},
   "outputs": [
    {
     "name": "stdout",
     "output_type": "stream",
     "text": [
      "Time taken is : 590.8620352745056\n"
     ]
    }
   ],
   "source": [
    "t0 = time.time()\n",
    "def func3(row):\n",
    "    if row['DevCount'] <= 3492463.0:\n",
    "        val = 'L'\n",
    "    elif row['DevCount'] <= 43168936.0:\n",
    "        val = 'M'\n",
    "    else:\n",
    "        val = 'H'\n",
    "    return val\n",
    "\n",
    "Testdf['DevCntClass'] = Testdf.apply(func3, axis = 1).astype(str)\n",
    "t1 = time.time()\n",
    "print ('Time taken is :',t1 - t0)"
   ]
  },
  {
   "cell_type": "code",
   "execution_count": 34,
   "metadata": {},
   "outputs": [
    {
     "name": "stdout",
     "output_type": "stream",
     "text": [
      "Time taken is : 0.0001125335693359375\n"
     ]
    }
   ],
   "source": [
    "t0 = time.time()\n",
    "def func4(row):\n",
    "    if row['PubCount'] <= 433397.0:\n",
    "        val = 'L'\n",
    "    elif row['PubCount'] <= 2719241.0:\n",
    "        val = 'M'\n",
    "    else:\n",
    "        val = 'H'\n",
    "    return val\n",
    "\n",
    "#Traindf['PubCntClass'] = Traindf.apply(func4, axis = 1).astype(str)\n",
    "t1 = time.time()\n",
    "print ('Time taken is :',t1 - t0)"
   ]
  },
  {
   "cell_type": "code",
   "execution_count": 35,
   "metadata": {},
   "outputs": [
    {
     "name": "stdout",
     "output_type": "stream",
     "text": [
      "Time taken is : 591.617681980133\n"
     ]
    }
   ],
   "source": [
    "t0 = time.time()\n",
    "def func5(row):\n",
    "    if row['AdvCount'] <= 731465.0:\n",
    "        val = 'L'\n",
    "    elif row['AdvCount'] <= 2684511.0:\n",
    "        val = 'M'\n",
    "    else:\n",
    "        val = 'H'\n",
    "    return val\n",
    "\n",
    "Testdf['AdtsrCntClass'] = Testdf.apply(func5, axis = 1).astype(str)\n",
    "\n",
    "del Testdf['CntryCount'],Testdf['CarrCount'],Testdf['DevCount'],Testdf['AdvCount']\n",
    "#Tdel raindf['PubCount']\n",
    "t1 = time.time()\n",
    "print ('Time taken is :',t1 - t0)"
   ]
  },
  {
   "cell_type": "code",
   "execution_count": 36,
   "metadata": {},
   "outputs": [
    {
     "name": "stdout",
     "output_type": "stream",
     "text": [
      "Time taken is : 666.7676918506622\n"
     ]
    }
   ],
   "source": [
    "t0 = time.time()\n",
    "def func1(row):\n",
    "    if row['CntryFrd'] <= 23.0:\n",
    "        val = 'LF'\n",
    "    elif row['CntryFrd'] <= 9986.0:\n",
    "        val = 'MF'\n",
    "    else:\n",
    "        val = 'HF'\n",
    "    return val\n",
    "\n",
    "Testdf['CntryFrdClass'] = Testdf.apply(func1, axis = 1).astype(str)\n",
    "t1 = time.time()\n",
    "print ('Time taken is :',t1 - t0)"
   ]
  },
  {
   "cell_type": "code",
   "execution_count": 37,
   "metadata": {},
   "outputs": [
    {
     "name": "stdout",
     "output_type": "stream",
     "text": [
      "Time taken is : 549.5853509902954\n"
     ]
    }
   ],
   "source": [
    "t0 = time.time()\n",
    "def func2(row):\n",
    "    if row['CarrFrd'] <= 1233.0:\n",
    "        val = 'LF'\n",
    "    elif row['CarrFrd'] <= 32729.0:\n",
    "        val = 'MF'\n",
    "    else:\n",
    "        val = 'HF'\n",
    "    return val\n",
    "\n",
    "Testdf['TraficFrdClass'] = Testdf.apply(func2, axis = 1).astype(str)\n",
    "t1 = time.time()\n",
    "print ('Time taken is :',t1 - t0)"
   ]
  },
  {
   "cell_type": "code",
   "execution_count": 38,
   "metadata": {},
   "outputs": [
    {
     "name": "stdout",
     "output_type": "stream",
     "text": [
      "Time taken is : 434.96286940574646\n"
     ]
    }
   ],
   "source": [
    "t0 = time.time()\n",
    "def func3(row):\n",
    "    if row['DevFrd'] <= 46748.0:\n",
    "        val = 'LF'\n",
    "    else:\n",
    "        val = 'HF'\n",
    "    return val\n",
    "\n",
    "Testdf['DevFrdClass'] = Testdf.apply(func3, axis = 1).astype(str)\n",
    "t1 = time.time()\n",
    "print ('Time taken is :',t1 - t0)"
   ]
  },
  {
   "cell_type": "code",
   "execution_count": 39,
   "metadata": {},
   "outputs": [
    {
     "name": "stdout",
     "output_type": "stream",
     "text": [
      "Time taken is : 9.72747802734375e-05\n"
     ]
    }
   ],
   "source": [
    "t0 = time.time()\n",
    "def func4(row):\n",
    "    if row['PubFrd'] <= 11.0:\n",
    "        val = 'LF'\n",
    "    else:\n",
    "        val = 'HF'\n",
    "    return val\n",
    "#Traindf['PubFrdClass'] = Traindf.apply(func4, axis = 1).astype(str)\n",
    "t1 = time.time()\n",
    "print ('Time taken is :',t1 - t0)"
   ]
  },
  {
   "cell_type": "code",
   "execution_count": 40,
   "metadata": {},
   "outputs": [
    {
     "name": "stdout",
     "output_type": "stream",
     "text": [
      "Time taken is : 436.0487587451935\n"
     ]
    }
   ],
   "source": [
    "t0 = time.time()\n",
    "def func5(row):\n",
    "    if row['AdvFrd'] <= 6430.0:\n",
    "        val = 'LF'\n",
    "    else:\n",
    "        val = 'HF'\n",
    "    return val\n",
    "\n",
    "Testdf['AdtsrFrdClass'] = Testdf.apply(func5, axis = 1).astype(str)\n",
    "\n",
    "del Testdf['CntryFrd'],Testdf['CarrFrd'],Testdf['DevFrd'],Testdf['AdvFrd']\n",
    "#Traindf['PubFrd']\n",
    "t1 = time.time()\n",
    "print ('Time taken is :',t1 - t0)"
   ]
  },
  {
   "cell_type": "code",
   "execution_count": 41,
   "metadata": {},
   "outputs": [
    {
     "data": {
      "text/plain": [
       "(25548873, 17)"
      ]
     },
     "execution_count": 41,
     "metadata": {},
     "output_type": "execute_result"
    }
   ],
   "source": [
    "Testdf.shape"
   ]
  },
  {
   "cell_type": "code",
   "execution_count": 42,
   "metadata": {},
   "outputs": [
    {
     "data": {
      "text/html": [
       "<div>\n",
       "<style>\n",
       "    .dataframe thead tr:only-child th {\n",
       "        text-align: right;\n",
       "    }\n",
       "\n",
       "    .dataframe thead th {\n",
       "        text-align: left;\n",
       "    }\n",
       "\n",
       "    .dataframe tbody tr th {\n",
       "        vertical-align: top;\n",
       "    }\n",
       "</style>\n",
       "<table border=\"1\" class=\"dataframe\">\n",
       "  <thead>\n",
       "    <tr style=\"text-align: right;\">\n",
       "      <th></th>\n",
       "      <th>ID</th>\n",
       "      <th>TrafficType</th>\n",
       "      <th>ClickDate</th>\n",
       "      <th>Browser</th>\n",
       "      <th>RefererUrl</th>\n",
       "      <th>Fraud</th>\n",
       "      <th>Region</th>\n",
       "      <th>AndroidOS</th>\n",
       "      <th>IPClass</th>\n",
       "      <th>CntryCntClass</th>\n",
       "      <th>TraficCntClass</th>\n",
       "      <th>DevCntClass</th>\n",
       "      <th>AdtsrCntClass</th>\n",
       "      <th>CntryFrdClass</th>\n",
       "      <th>TraficFrdClass</th>\n",
       "      <th>DevFrdClass</th>\n",
       "      <th>AdtsrFrdClass</th>\n",
       "    </tr>\n",
       "  </thead>\n",
       "  <tbody>\n",
       "    <tr>\n",
       "      <th>0</th>\n",
       "      <td>63367289</td>\n",
       "      <td>UN</td>\n",
       "      <td>2017-08-31 00:00:01</td>\n",
       "      <td>Others</td>\n",
       "      <td>NoRefer</td>\n",
       "      <td>0</td>\n",
       "      <td>Asia</td>\n",
       "      <td>yes</td>\n",
       "      <td>ClassA</td>\n",
       "      <td>H</td>\n",
       "      <td>L</td>\n",
       "      <td>M</td>\n",
       "      <td>L</td>\n",
       "      <td>MF</td>\n",
       "      <td>LF</td>\n",
       "      <td>LF</td>\n",
       "      <td>LF</td>\n",
       "    </tr>\n",
       "    <tr>\n",
       "      <th>1</th>\n",
       "      <td>63367290</td>\n",
       "      <td>M</td>\n",
       "      <td>2017-08-31 00:00:01</td>\n",
       "      <td>Chrome</td>\n",
       "      <td>NoRefer</td>\n",
       "      <td>0</td>\n",
       "      <td>Asia</td>\n",
       "      <td>yes</td>\n",
       "      <td>ClassA</td>\n",
       "      <td>H</td>\n",
       "      <td>M</td>\n",
       "      <td>L</td>\n",
       "      <td>L</td>\n",
       "      <td>MF</td>\n",
       "      <td>MF</td>\n",
       "      <td>LF</td>\n",
       "      <td>LF</td>\n",
       "    </tr>\n",
       "    <tr>\n",
       "      <th>2</th>\n",
       "      <td>63367291</td>\n",
       "      <td>A</td>\n",
       "      <td>2017-08-31 00:00:01</td>\n",
       "      <td>Chrome</td>\n",
       "      <td>synctraff.com</td>\n",
       "      <td>0</td>\n",
       "      <td>Asia</td>\n",
       "      <td>yes</td>\n",
       "      <td>ClassA</td>\n",
       "      <td>H</td>\n",
       "      <td>M</td>\n",
       "      <td>L</td>\n",
       "      <td>L</td>\n",
       "      <td>MF</td>\n",
       "      <td>LF</td>\n",
       "      <td>LF</td>\n",
       "      <td>LF</td>\n",
       "    </tr>\n",
       "    <tr>\n",
       "      <th>3</th>\n",
       "      <td>63367292</td>\n",
       "      <td>M</td>\n",
       "      <td>2017-08-31 00:00:01</td>\n",
       "      <td>AndBrowser</td>\n",
       "      <td>NoRefer</td>\n",
       "      <td>0</td>\n",
       "      <td>Americas</td>\n",
       "      <td>yes</td>\n",
       "      <td>ClassB</td>\n",
       "      <td>M</td>\n",
       "      <td>H</td>\n",
       "      <td>M</td>\n",
       "      <td>L</td>\n",
       "      <td>MF</td>\n",
       "      <td>MF</td>\n",
       "      <td>LF</td>\n",
       "      <td>LF</td>\n",
       "    </tr>\n",
       "    <tr>\n",
       "      <th>4</th>\n",
       "      <td>63367293</td>\n",
       "      <td>A</td>\n",
       "      <td>2017-08-31 00:00:01</td>\n",
       "      <td>Chrome</td>\n",
       "      <td>NoRefer</td>\n",
       "      <td>0</td>\n",
       "      <td>Asia</td>\n",
       "      <td>yes</td>\n",
       "      <td>ClassA</td>\n",
       "      <td>H</td>\n",
       "      <td>L</td>\n",
       "      <td>L</td>\n",
       "      <td>L</td>\n",
       "      <td>MF</td>\n",
       "      <td>MF</td>\n",
       "      <td>LF</td>\n",
       "      <td>LF</td>\n",
       "    </tr>\n",
       "  </tbody>\n",
       "</table>\n",
       "</div>"
      ],
      "text/plain": [
       "         ID TrafficType            ClickDate     Browser     RefererUrl  \\\n",
       "0  63367289          UN  2017-08-31 00:00:01      Others        NoRefer   \n",
       "1  63367290           M  2017-08-31 00:00:01      Chrome        NoRefer   \n",
       "2  63367291           A  2017-08-31 00:00:01      Chrome  synctraff.com   \n",
       "3  63367292           M  2017-08-31 00:00:01  AndBrowser        NoRefer   \n",
       "4  63367293           A  2017-08-31 00:00:01      Chrome        NoRefer   \n",
       "\n",
       "   Fraud    Region AndroidOS IPClass CntryCntClass TraficCntClass DevCntClass  \\\n",
       "0      0      Asia       yes  ClassA             H              L           M   \n",
       "1      0      Asia       yes  ClassA             H              M           L   \n",
       "2      0      Asia       yes  ClassA             H              M           L   \n",
       "3      0  Americas       yes  ClassB             M              H           M   \n",
       "4      0      Asia       yes  ClassA             H              L           L   \n",
       "\n",
       "  AdtsrCntClass CntryFrdClass TraficFrdClass DevFrdClass AdtsrFrdClass  \n",
       "0             L            MF             LF          LF            LF  \n",
       "1             L            MF             MF          LF            LF  \n",
       "2             L            MF             LF          LF            LF  \n",
       "3             L            MF             MF          LF            LF  \n",
       "4             L            MF             MF          LF            LF  "
      ]
     },
     "execution_count": 42,
     "metadata": {},
     "output_type": "execute_result"
    }
   ],
   "source": [
    "Testdf.head()"
   ]
  },
  {
   "cell_type": "code",
   "execution_count": 43,
   "metadata": {
    "collapsed": true
   },
   "outputs": [],
   "source": [
    "# Change the Referral URL as either Yes or No\n",
    "Testdf['RefererUrl'] = np.where(Testdf['RefererUrl']=='NoRefer', 0, 1).astype(int)"
   ]
  },
  {
   "cell_type": "code",
   "execution_count": 44,
   "metadata": {
    "collapsed": true
   },
   "outputs": [],
   "source": [
    "# Handing the ClickDate field as a Date\n",
    "Testdf['ClickDate'] = pd.to_datetime(Testdf['ClickDate'])"
   ]
  },
  {
   "cell_type": "code",
   "execution_count": 45,
   "metadata": {},
   "outputs": [
    {
     "name": "stdout",
     "output_type": "stream",
     "text": [
      "Time taken is : 90.39211249351501\n"
     ]
    }
   ],
   "source": [
    "# Feature Enginerring to Create New variables for Day of Week and Day part\n",
    "t0 = time.time()\n",
    "Testdf['Weekday'] = (Testdf['ClickDate'].dt.dayofweek).astype(int)\n",
    "Testdf['Dayhour'] = (Testdf.ClickDate.apply(lambda x: x.hour)).astype(int)\n",
    "t1 = time.time()\n",
    "print ('Time taken is :',t1 - t0)"
   ]
  },
  {
   "cell_type": "code",
   "execution_count": 46,
   "metadata": {},
   "outputs": [
    {
     "name": "stdout",
     "output_type": "stream",
     "text": [
      "Time taken is : 5.44592022895813\n"
     ]
    }
   ],
   "source": [
    "# To remove Ordinality in both Weekday and DayHour variables convert into Categories\n",
    "t0 = time.time()\n",
    "Testdf['Weekday'] = Testdf['Weekday'].map( {0: 'Sun', 1: 'Mon', 2: 'Tue', 3: 'Wed',\n",
    "                                                  4: 'Thr', 5: 'Fri', 6: 'Sat'} ).astype(str)\n",
    "t1 = time.time()\n",
    "print ('Time taken is :',t1 - t0)"
   ]
  },
  {
   "cell_type": "code",
   "execution_count": 47,
   "metadata": {},
   "outputs": [
    {
     "name": "stdout",
     "output_type": "stream",
     "text": [
      "Time taken is : 5.468459844589233\n"
     ]
    }
   ],
   "source": [
    "# To remove Ordinality in both Weekday and DayHour variables convert into Categories\n",
    "t0 = time.time()\n",
    "Testdf['Dayhour'] = Testdf['Dayhour'].map( {0: 'PrAM', 1: 'PrAM', 2: 'PrAM', 3: 'PrAM', \n",
    "                                                  4: 'PrAM', 5: 'PrAM', 6: 'AM', 7: 'AM', 8: 'AM', 9: 'AM', \n",
    "                                                  10: 'AM', 11: 'AM', 12: 'PM', 13: 'PM', 14: 'PM', 15: 'PM', \n",
    "                                                  16: 'PM', 17: 'PM', 18: 'PM', 19: 'PoPM', 20: 'PoPM', \n",
    "                                                  21: 'PoPM', 22: 'PoPM', 23: 'PoPM'} ).astype(str)\n",
    "# Delete the Click Date varaible\n",
    "del Testdf['ClickDate']\n",
    "t1 = time.time()\n",
    "print ('Time taken is :',t1 - t0)"
   ]
  },
  {
   "cell_type": "code",
   "execution_count": 48,
   "metadata": {},
   "outputs": [
    {
     "data": {
      "text/plain": [
       "(25548873, 18)"
      ]
     },
     "execution_count": 48,
     "metadata": {},
     "output_type": "execute_result"
    }
   ],
   "source": [
    "Testdf.shape"
   ]
  },
  {
   "cell_type": "code",
   "execution_count": 49,
   "metadata": {},
   "outputs": [
    {
     "data": {
      "text/html": [
       "<div>\n",
       "<style>\n",
       "    .dataframe thead tr:only-child th {\n",
       "        text-align: right;\n",
       "    }\n",
       "\n",
       "    .dataframe thead th {\n",
       "        text-align: left;\n",
       "    }\n",
       "\n",
       "    .dataframe tbody tr th {\n",
       "        vertical-align: top;\n",
       "    }\n",
       "</style>\n",
       "<table border=\"1\" class=\"dataframe\">\n",
       "  <thead>\n",
       "    <tr style=\"text-align: right;\">\n",
       "      <th></th>\n",
       "      <th>ID</th>\n",
       "      <th>TrafficType</th>\n",
       "      <th>Browser</th>\n",
       "      <th>RefererUrl</th>\n",
       "      <th>Fraud</th>\n",
       "      <th>Region</th>\n",
       "      <th>AndroidOS</th>\n",
       "      <th>IPClass</th>\n",
       "      <th>CntryCntClass</th>\n",
       "      <th>TraficCntClass</th>\n",
       "      <th>DevCntClass</th>\n",
       "      <th>AdtsrCntClass</th>\n",
       "      <th>CntryFrdClass</th>\n",
       "      <th>TraficFrdClass</th>\n",
       "      <th>DevFrdClass</th>\n",
       "      <th>AdtsrFrdClass</th>\n",
       "      <th>Weekday</th>\n",
       "      <th>Dayhour</th>\n",
       "    </tr>\n",
       "  </thead>\n",
       "  <tbody>\n",
       "    <tr>\n",
       "      <th>0</th>\n",
       "      <td>63367289</td>\n",
       "      <td>UN</td>\n",
       "      <td>Others</td>\n",
       "      <td>0</td>\n",
       "      <td>0</td>\n",
       "      <td>Asia</td>\n",
       "      <td>yes</td>\n",
       "      <td>ClassA</td>\n",
       "      <td>H</td>\n",
       "      <td>L</td>\n",
       "      <td>M</td>\n",
       "      <td>L</td>\n",
       "      <td>MF</td>\n",
       "      <td>LF</td>\n",
       "      <td>LF</td>\n",
       "      <td>LF</td>\n",
       "      <td>Wed</td>\n",
       "      <td>PrAM</td>\n",
       "    </tr>\n",
       "    <tr>\n",
       "      <th>1</th>\n",
       "      <td>63367290</td>\n",
       "      <td>M</td>\n",
       "      <td>Chrome</td>\n",
       "      <td>0</td>\n",
       "      <td>0</td>\n",
       "      <td>Asia</td>\n",
       "      <td>yes</td>\n",
       "      <td>ClassA</td>\n",
       "      <td>H</td>\n",
       "      <td>M</td>\n",
       "      <td>L</td>\n",
       "      <td>L</td>\n",
       "      <td>MF</td>\n",
       "      <td>MF</td>\n",
       "      <td>LF</td>\n",
       "      <td>LF</td>\n",
       "      <td>Wed</td>\n",
       "      <td>PrAM</td>\n",
       "    </tr>\n",
       "    <tr>\n",
       "      <th>2</th>\n",
       "      <td>63367291</td>\n",
       "      <td>A</td>\n",
       "      <td>Chrome</td>\n",
       "      <td>1</td>\n",
       "      <td>0</td>\n",
       "      <td>Asia</td>\n",
       "      <td>yes</td>\n",
       "      <td>ClassA</td>\n",
       "      <td>H</td>\n",
       "      <td>M</td>\n",
       "      <td>L</td>\n",
       "      <td>L</td>\n",
       "      <td>MF</td>\n",
       "      <td>LF</td>\n",
       "      <td>LF</td>\n",
       "      <td>LF</td>\n",
       "      <td>Wed</td>\n",
       "      <td>PrAM</td>\n",
       "    </tr>\n",
       "    <tr>\n",
       "      <th>3</th>\n",
       "      <td>63367292</td>\n",
       "      <td>M</td>\n",
       "      <td>AndBrowser</td>\n",
       "      <td>0</td>\n",
       "      <td>0</td>\n",
       "      <td>Americas</td>\n",
       "      <td>yes</td>\n",
       "      <td>ClassB</td>\n",
       "      <td>M</td>\n",
       "      <td>H</td>\n",
       "      <td>M</td>\n",
       "      <td>L</td>\n",
       "      <td>MF</td>\n",
       "      <td>MF</td>\n",
       "      <td>LF</td>\n",
       "      <td>LF</td>\n",
       "      <td>Wed</td>\n",
       "      <td>PrAM</td>\n",
       "    </tr>\n",
       "    <tr>\n",
       "      <th>4</th>\n",
       "      <td>63367293</td>\n",
       "      <td>A</td>\n",
       "      <td>Chrome</td>\n",
       "      <td>0</td>\n",
       "      <td>0</td>\n",
       "      <td>Asia</td>\n",
       "      <td>yes</td>\n",
       "      <td>ClassA</td>\n",
       "      <td>H</td>\n",
       "      <td>L</td>\n",
       "      <td>L</td>\n",
       "      <td>L</td>\n",
       "      <td>MF</td>\n",
       "      <td>MF</td>\n",
       "      <td>LF</td>\n",
       "      <td>LF</td>\n",
       "      <td>Wed</td>\n",
       "      <td>PrAM</td>\n",
       "    </tr>\n",
       "  </tbody>\n",
       "</table>\n",
       "</div>"
      ],
      "text/plain": [
       "         ID TrafficType     Browser  RefererUrl  Fraud    Region AndroidOS  \\\n",
       "0  63367289          UN      Others           0      0      Asia       yes   \n",
       "1  63367290           M      Chrome           0      0      Asia       yes   \n",
       "2  63367291           A      Chrome           1      0      Asia       yes   \n",
       "3  63367292           M  AndBrowser           0      0  Americas       yes   \n",
       "4  63367293           A      Chrome           0      0      Asia       yes   \n",
       "\n",
       "  IPClass CntryCntClass TraficCntClass DevCntClass AdtsrCntClass  \\\n",
       "0  ClassA             H              L           M             L   \n",
       "1  ClassA             H              M           L             L   \n",
       "2  ClassA             H              M           L             L   \n",
       "3  ClassB             M              H           M             L   \n",
       "4  ClassA             H              L           L             L   \n",
       "\n",
       "  CntryFrdClass TraficFrdClass DevFrdClass AdtsrFrdClass Weekday Dayhour  \n",
       "0            MF             LF          LF            LF     Wed    PrAM  \n",
       "1            MF             MF          LF            LF     Wed    PrAM  \n",
       "2            MF             LF          LF            LF     Wed    PrAM  \n",
       "3            MF             MF          LF            LF     Wed    PrAM  \n",
       "4            MF             MF          LF            LF     Wed    PrAM  "
      ]
     },
     "execution_count": 49,
     "metadata": {},
     "output_type": "execute_result"
    }
   ],
   "source": [
    "Testdf.head()"
   ]
  },
  {
   "cell_type": "code",
   "execution_count": 50,
   "metadata": {
    "collapsed": true
   },
   "outputs": [],
   "source": [
    "Testdf = Testdf[['ID','TrafficType','Browser','RefererUrl','Fraud','Weekday','Dayhour','Region', 'AndroidOS',\n",
    "                   'IPClass','CntryCntClass','TraficCntClass','DevCntClass','AdtsrCntClass',\n",
    "                   'CntryFrdClass','TraficFrdClass','DevFrdClass','AdtsrFrdClass']]"
   ]
  },
  {
   "cell_type": "code",
   "execution_count": 51,
   "metadata": {},
   "outputs": [
    {
     "data": {
      "text/plain": [
       "3883428696"
      ]
     },
     "execution_count": 51,
     "metadata": {},
     "output_type": "execute_result"
    }
   ],
   "source": [
    "import sys\n",
    "Testdf.memory_usage(index=True).sum()"
   ]
  },
  {
   "cell_type": "code",
   "execution_count": 52,
   "metadata": {},
   "outputs": [
    {
     "data": {
      "text/html": [
       "<div>\n",
       "<style>\n",
       "    .dataframe thead tr:only-child th {\n",
       "        text-align: right;\n",
       "    }\n",
       "\n",
       "    .dataframe thead th {\n",
       "        text-align: left;\n",
       "    }\n",
       "\n",
       "    .dataframe tbody tr th {\n",
       "        vertical-align: top;\n",
       "    }\n",
       "</style>\n",
       "<table border=\"1\" class=\"dataframe\">\n",
       "  <thead>\n",
       "    <tr style=\"text-align: right;\">\n",
       "      <th></th>\n",
       "      <th>Missing Ratio</th>\n",
       "    </tr>\n",
       "  </thead>\n",
       "  <tbody>\n",
       "  </tbody>\n",
       "</table>\n",
       "</div>"
      ],
      "text/plain": [
       "Empty DataFrame\n",
       "Columns: [Missing Ratio]\n",
       "Index: []"
      ]
     },
     "execution_count": 52,
     "metadata": {},
     "output_type": "execute_result"
    }
   ],
   "source": [
    "# Checking for the missing value details after the replacement\n",
    "# Checking for the ratio of missing value\n",
    "Testdf_na = (Testdf.isnull().sum() / len(Testdf)) * 100\n",
    "Testdf_na = Testdf_na.drop(Testdf_na[Testdf_na == 0].index).sort_values(ascending=False)[:30]\n",
    "missing_data = pd.DataFrame({'Missing Ratio' :Testdf_na})\n",
    "missing_data.head(10)"
   ]
  },
  {
   "cell_type": "code",
   "execution_count": 53,
   "metadata": {},
   "outputs": [
    {
     "name": "stdout",
     "output_type": "stream",
     "text": [
      "Time taken is : 127.0963306427002\n"
     ]
    }
   ],
   "source": [
    "t0 = time.time()\n",
    "Testdf.to_csv('Finaltest.csv', index=False)\n",
    "t1 = time.time()\n",
    "print ('Time taken is :',t1 - t0)"
   ]
  },
  {
   "cell_type": "markdown",
   "metadata": {},
   "source": [
    "# Modelling"
   ]
  },
  {
   "cell_type": "code",
   "execution_count": 1,
   "metadata": {
    "collapsed": true
   },
   "outputs": [],
   "source": [
    "import pandas as pd\n",
    "import numpy as np\n",
    "import matplotlib.pyplot as plt\n",
    "import time\n",
    "import sys\n",
    "pd.set_option('display.max_columns', 99)"
   ]
  },
  {
   "cell_type": "code",
   "execution_count": 3,
   "metadata": {},
   "outputs": [
    {
     "name": "stderr",
     "output_type": "stream",
     "text": [
      "/Users/viswanathravindran/anaconda/lib/python3.6/site-packages/IPython/core/interactiveshell.py:2698: DtypeWarning: Columns (2) have mixed types. Specify dtype option on import or set low_memory=False.\n",
      "  interactivity=interactivity, compiler=compiler, result=result)\n"
     ]
    }
   ],
   "source": [
    "Traindf = pd.read_csv('/Users/viswanathravindran/AVDatahack/ADClick/ProData/ClassifierTrain.csv')\n",
    "All_y = pd.read_csv('/Users/viswanathravindran/AVDatahack/ADClick/ProData/All_y.csv')\n",
    "#Traindf = pd.read_csv('/advdata/FinalClassifTrain.csv')\n",
    "#All_y = pd.read_csv('/advdata/All_y.csv')"
   ]
  },
  {
   "cell_type": "code",
   "execution_count": 4,
   "metadata": {},
   "outputs": [
    {
     "data": {
      "text/html": [
       "<div>\n",
       "<style>\n",
       "    .dataframe thead tr:only-child th {\n",
       "        text-align: right;\n",
       "    }\n",
       "\n",
       "    .dataframe thead th {\n",
       "        text-align: left;\n",
       "    }\n",
       "\n",
       "    .dataframe tbody tr th {\n",
       "        vertical-align: top;\n",
       "    }\n",
       "</style>\n",
       "<table border=\"1\" class=\"dataframe\">\n",
       "  <thead>\n",
       "    <tr style=\"text-align: right;\">\n",
       "      <th></th>\n",
       "      <th>ID</th>\n",
       "      <th>TrafficType</th>\n",
       "      <th>Browser</th>\n",
       "      <th>RefererUrl</th>\n",
       "      <th>Fraud</th>\n",
       "      <th>Weekday</th>\n",
       "      <th>Dayhour</th>\n",
       "      <th>Region</th>\n",
       "      <th>AndroidOS</th>\n",
       "      <th>IPClass</th>\n",
       "      <th>CntryCntClass</th>\n",
       "      <th>TraficCntClass</th>\n",
       "      <th>DevCntClass</th>\n",
       "      <th>AdtsrCntClass</th>\n",
       "      <th>CntryFrdClass</th>\n",
       "      <th>TraficFrdClass</th>\n",
       "      <th>DevFrdClass</th>\n",
       "      <th>AdtsrFrdClass</th>\n",
       "    </tr>\n",
       "  </thead>\n",
       "  <tbody>\n",
       "    <tr>\n",
       "      <th>0</th>\n",
       "      <td>1378</td>\n",
       "      <td>A</td>\n",
       "      <td>Others</td>\n",
       "      <td>Android</td>\n",
       "      <td>0</td>\n",
       "      <td>Sun</td>\n",
       "      <td>PrAM</td>\n",
       "      <td>Asia</td>\n",
       "      <td>yes</td>\n",
       "      <td>ClassA</td>\n",
       "      <td>M</td>\n",
       "      <td>H</td>\n",
       "      <td>M</td>\n",
       "      <td>H</td>\n",
       "      <td>HF</td>\n",
       "      <td>MF</td>\n",
       "      <td>LF</td>\n",
       "      <td>LF</td>\n",
       "    </tr>\n",
       "    <tr>\n",
       "      <th>1</th>\n",
       "      <td>1720</td>\n",
       "      <td>A</td>\n",
       "      <td>Chrome</td>\n",
       "      <td>Android</td>\n",
       "      <td>0</td>\n",
       "      <td>Sun</td>\n",
       "      <td>PrAM</td>\n",
       "      <td>Asia</td>\n",
       "      <td>yes</td>\n",
       "      <td>ClassA</td>\n",
       "      <td>M</td>\n",
       "      <td>M</td>\n",
       "      <td>M</td>\n",
       "      <td>M</td>\n",
       "      <td>HF</td>\n",
       "      <td>MF</td>\n",
       "      <td>LF</td>\n",
       "      <td>LF</td>\n",
       "    </tr>\n",
       "    <tr>\n",
       "      <th>2</th>\n",
       "      <td>3698</td>\n",
       "      <td>A</td>\n",
       "      <td>Chrome</td>\n",
       "      <td>Android</td>\n",
       "      <td>0</td>\n",
       "      <td>Sun</td>\n",
       "      <td>PrAM</td>\n",
       "      <td>Europe</td>\n",
       "      <td>yes</td>\n",
       "      <td>ClassA</td>\n",
       "      <td>M</td>\n",
       "      <td>L</td>\n",
       "      <td>L</td>\n",
       "      <td>M</td>\n",
       "      <td>HF</td>\n",
       "      <td>MF</td>\n",
       "      <td>LF</td>\n",
       "      <td>LF</td>\n",
       "    </tr>\n",
       "    <tr>\n",
       "      <th>3</th>\n",
       "      <td>4050</td>\n",
       "      <td>A</td>\n",
       "      <td>AndBrowser</td>\n",
       "      <td>Android</td>\n",
       "      <td>0</td>\n",
       "      <td>Sun</td>\n",
       "      <td>PrAM</td>\n",
       "      <td>Asia</td>\n",
       "      <td>yes</td>\n",
       "      <td>ClassA</td>\n",
       "      <td>M</td>\n",
       "      <td>M</td>\n",
       "      <td>M</td>\n",
       "      <td>H</td>\n",
       "      <td>HF</td>\n",
       "      <td>MF</td>\n",
       "      <td>LF</td>\n",
       "      <td>LF</td>\n",
       "    </tr>\n",
       "    <tr>\n",
       "      <th>4</th>\n",
       "      <td>8667</td>\n",
       "      <td>A</td>\n",
       "      <td>Chrome</td>\n",
       "      <td>Android</td>\n",
       "      <td>0</td>\n",
       "      <td>Sun</td>\n",
       "      <td>PrAM</td>\n",
       "      <td>Asia</td>\n",
       "      <td>yes</td>\n",
       "      <td>ClassC</td>\n",
       "      <td>H</td>\n",
       "      <td>M</td>\n",
       "      <td>L</td>\n",
       "      <td>L</td>\n",
       "      <td>MF</td>\n",
       "      <td>LF</td>\n",
       "      <td>LF</td>\n",
       "      <td>LF</td>\n",
       "    </tr>\n",
       "  </tbody>\n",
       "</table>\n",
       "</div>"
      ],
      "text/plain": [
       "     ID TrafficType     Browser RefererUrl  Fraud Weekday Dayhour  Region  \\\n",
       "0  1378           A      Others    Android      0     Sun    PrAM    Asia   \n",
       "1  1720           A      Chrome    Android      0     Sun    PrAM    Asia   \n",
       "2  3698           A      Chrome    Android      0     Sun    PrAM  Europe   \n",
       "3  4050           A  AndBrowser    Android      0     Sun    PrAM    Asia   \n",
       "4  8667           A      Chrome    Android      0     Sun    PrAM    Asia   \n",
       "\n",
       "  AndroidOS IPClass CntryCntClass TraficCntClass DevCntClass AdtsrCntClass  \\\n",
       "0       yes  ClassA             M              H           M             H   \n",
       "1       yes  ClassA             M              M           M             M   \n",
       "2       yes  ClassA             M              L           L             M   \n",
       "3       yes  ClassA             M              M           M             H   \n",
       "4       yes  ClassC             H              M           L             L   \n",
       "\n",
       "  CntryFrdClass TraficFrdClass DevFrdClass AdtsrFrdClass  \n",
       "0            HF             MF          LF            LF  \n",
       "1            HF             MF          LF            LF  \n",
       "2            HF             MF          LF            LF  \n",
       "3            HF             MF          LF            LF  \n",
       "4            MF             LF          LF            LF  "
      ]
     },
     "execution_count": 4,
     "metadata": {},
     "output_type": "execute_result"
    }
   ],
   "source": [
    "Traindf.head()\n",
    "#Testdf.head()"
   ]
  },
  {
   "cell_type": "code",
   "execution_count": 5,
   "metadata": {},
   "outputs": [
    {
     "name": "stdout",
     "output_type": "stream",
     "text": [
      "(144524, 18)\n"
     ]
    }
   ],
   "source": [
    "print (Traindf.shape)"
   ]
  },
  {
   "cell_type": "code",
   "execution_count": 6,
   "metadata": {
    "collapsed": true
   },
   "outputs": [],
   "source": [
    "# Convert TrafficType, Browser, OS, Weekday, Dayhour into Numerical\n",
    "Traindf = pd.get_dummies(Traindf, columns=['TrafficType','Browser','Weekday','Dayhour','Region','AndroidOS',\n",
    "                                           'IPClass','CntryCntClass','TraficCntClass','DevCntClass','AdtsrCntClass',\n",
    "                                           'CntryFrdClass','TraficFrdClass','DevFrdClass','AdtsrFrdClass'], drop_first=True)"
   ]
  },
  {
   "cell_type": "code",
   "execution_count": 7,
   "metadata": {
    "collapsed": true
   },
   "outputs": [],
   "source": [
    "# Creating y\n",
    "yTrain = All_y['ConversionStatus'].as_matrix().astype(np.int)"
   ]
  },
  {
   "cell_type": "code",
   "execution_count": 9,
   "metadata": {},
   "outputs": [
    {
     "data": {
      "text/plain": [
       "Android             142171\n",
       "iOS                   1689\n",
       "Desktop                504\n",
       "Windows Phone OS       102\n",
       "Tizen                   30\n",
       "RIM OS                  21\n",
       "Mac OS X                 6\n",
       "Symbian OS               1\n",
       "Name: RefererUrl, dtype: int64"
      ]
     },
     "execution_count": 9,
     "metadata": {},
     "output_type": "execute_result"
    }
   ],
   "source": [
    "Traindf.RefererUrl.value_counts()"
   ]
  },
  {
   "cell_type": "code",
   "execution_count": 8,
   "metadata": {},
   "outputs": [
    {
     "ename": "ValueError",
     "evalue": "invalid literal for int() with base 10: 'Android'",
     "output_type": "error",
     "traceback": [
      "\u001b[0;31m---------------------------------------------------------------------------\u001b[0m",
      "\u001b[0;31mValueError\u001b[0m                                Traceback (most recent call last)",
      "\u001b[0;32m<ipython-input-8-bf13247d6c28>\u001b[0m in \u001b[0;36m<module>\u001b[0;34m()\u001b[0m\n\u001b[1;32m      1\u001b[0m \u001b[0;31m# creating X\u001b[0m\u001b[0;34m\u001b[0m\u001b[0;34m\u001b[0m\u001b[0m\n\u001b[1;32m      2\u001b[0m \u001b[0;32mdel\u001b[0m \u001b[0mTraindf\u001b[0m\u001b[0;34m[\u001b[0m\u001b[0;34m'ID'\u001b[0m\u001b[0;34m]\u001b[0m\u001b[0;34m\u001b[0m\u001b[0m\n\u001b[0;32m----> 3\u001b[0;31m \u001b[0mXTrain\u001b[0m \u001b[0;34m=\u001b[0m \u001b[0mTraindf\u001b[0m\u001b[0;34m.\u001b[0m\u001b[0mas_matrix\u001b[0m\u001b[0;34m(\u001b[0m\u001b[0;34m)\u001b[0m\u001b[0;34m.\u001b[0m\u001b[0mastype\u001b[0m\u001b[0;34m(\u001b[0m\u001b[0mnp\u001b[0m\u001b[0;34m.\u001b[0m\u001b[0mint\u001b[0m\u001b[0;34m)\u001b[0m\u001b[0;34m\u001b[0m\u001b[0m\n\u001b[0m\u001b[1;32m      4\u001b[0m \u001b[0mXTrain\u001b[0m\u001b[0;34m\u001b[0m\u001b[0m\n",
      "\u001b[0;31mValueError\u001b[0m: invalid literal for int() with base 10: 'Android'"
     ]
    }
   ],
   "source": []
  },
  {
   "cell_type": "code",
   "execution_count": 70,
   "metadata": {},
   "outputs": [
    {
     "name": "stdout",
     "output_type": "stream",
     "text": [
      "(143937, 45)\n"
     ]
    },
    {
     "name": "stderr",
     "output_type": "stream",
     "text": [
      "/usr/local/lib/python3.5/site-packages/sklearn/utils/validation.py:429: DataConversionWarning: Data with input dtype int64 was converted to float64 by StandardScaler.\n",
      "  warnings.warn(msg, _DataConversionWarning)\n"
     ]
    },
    {
     "data": {
      "text/plain": [
       "array([[ 0.        ,  0.        ,  1.62553502, ...,  0.12590232,\n",
       "        -0.50744266, -0.39486228],\n",
       "       [ 0.        ,  0.        ,  1.62553502, ...,  0.12590232,\n",
       "        -0.50744266, -0.39486228],\n",
       "       [ 0.        ,  0.        ,  1.62553502, ...,  0.12590232,\n",
       "        -0.50744266, -0.39486228],\n",
       "       ..., \n",
       "       [ 0.        ,  0.        , -1.41400754, ...,  0.12590232,\n",
       "        -0.50744266,  2.53252853],\n",
       "       [ 0.        ,  0.        , -1.41400754, ...,  0.12590232,\n",
       "         1.97066599, -0.39486228],\n",
       "       [ 0.        ,  0.        , -1.41400754, ...,  0.12590232,\n",
       "        -0.50744266, -0.39486228]])"
      ]
     },
     "execution_count": 70,
     "metadata": {},
     "output_type": "execute_result"
    }
   ],
   "source": [
    "# Apply Standard Scaling to ensure the variables are in scale\n",
    "XTest = scaler.fit_transform(XTest)\n",
    "print (XTest.shape)\n",
    "XTest"
   ]
  },
  {
   "cell_type": "code",
   "execution_count": 71,
   "metadata": {},
   "outputs": [
    {
     "name": "stdout",
     "output_type": "stream",
     "text": [
      "The shape of X is: (143937, 45) The shape of y is (143937,)\n"
     ]
    }
   ],
   "source": [
    "print ('The shape of XTrain is:',XTrain.shape, 'The shape of y is', yTrain.shape)"
   ]
  },
  {
   "cell_type": "code",
   "execution_count": null,
   "metadata": {
    "collapsed": true
   },
   "outputs": [],
   "source": []
  },
  {
   "cell_type": "code",
   "execution_count": 72,
   "metadata": {
    "collapsed": true
   },
   "outputs": [],
   "source": [
    "from sklearn import model_selection\n",
    "from sklearn import ensemble\n",
    "from sklearn import metrics\n",
    "from sklearn import linear_model\n",
    "from xgboost import XGBClassifier\n",
    "from xgboost.sklearn import XGBClassifier"
   ]
  },
  {
   "cell_type": "code",
   "execution_count": null,
   "metadata": {
    "collapsed": true
   },
   "outputs": [],
   "source": [
    "rfc = ensemble.RandomForestClassifier()\n",
    "rfc.fit(XTrain, yTrain)"
   ]
  },
  {
   "cell_type": "code",
   "execution_count": 87,
   "metadata": {
    "collapsed": true
   },
   "outputs": [],
   "source": [
    "Testdf = pd.read_csv('Finaltest.csv')\n",
    "#Testdf = pd.read_csv('/advdata/test.csv')"
   ]
  },
  {
   "cell_type": "code",
   "execution_count": 89,
   "metadata": {
    "collapsed": true
   },
   "outputs": [],
   "source": [
    "Testdf.shape"
   ]
  },
  {
   "cell_type": "code",
   "execution_count": null,
   "metadata": {
    "collapsed": true
   },
   "outputs": [],
   "source": [
    "# Convert TrafficType, Browser, OS, Weekday, Dayhour into Numerical\n",
    "Testdf = pd.get_dummies(Testdf, columns=['TrafficType','Browser','Weekday','Dayhour','Region','AndroidOS',\n",
    "                                           'IPClass','CntryCntClass','TraficCntClass','DevCntClass','AdtsrCntClass',\n",
    "                                           'CntryFrdClass','TraficFrdClass','DevFrdClass','AdtsrFrdClass'], drop_first=True)"
   ]
  },
  {
   "cell_type": "code",
   "execution_count": null,
   "metadata": {
    "collapsed": true
   },
   "outputs": [],
   "source": [
    "print ('The shape of XTest is:',XTest.shape)"
   ]
  },
  {
   "cell_type": "code",
   "execution_count": null,
   "metadata": {
    "collapsed": true
   },
   "outputs": [],
   "source": [
    "# creating X\n",
    "del Testdf['ID']\n",
    "XTest = Testdf.as_matrix().astype(np.int)\n",
    "XTest"
   ]
  },
  {
   "cell_type": "code",
   "execution_count": null,
   "metadata": {
    "collapsed": true
   },
   "outputs": [],
   "source": [
    "pred = rfc.precict(XTest)"
   ]
  },
  {
   "cell_type": "code",
   "execution_count": null,
   "metadata": {
    "collapsed": true
   },
   "outputs": [],
   "source": [
    "NXtest = pd.DataFrame({\"ID\":Xtest.ID, \"y\":pred})"
   ]
  },
  {
   "cell_type": "code",
   "execution_count": null,
   "metadata": {
    "collapsed": true
   },
   "outputs": [],
   "source": [
    "Xtest = pd.merge(Xtest, NXtest, on='ID')"
   ]
  },
  {
   "cell_type": "code",
   "execution_count": null,
   "metadata": {
    "collapsed": true
   },
   "outputs": [],
   "source": [
    "XTrain = "
   ]
  }
 ],
 "metadata": {
  "kernelspec": {
   "display_name": "Python 3",
   "language": "python",
   "name": "python3"
  },
  "language_info": {
   "codemirror_mode": {
    "name": "ipython",
    "version": 3
   },
   "file_extension": ".py",
   "mimetype": "text/x-python",
   "name": "python",
   "nbconvert_exporter": "python",
   "pygments_lexer": "ipython3",
   "version": "3.6.2"
  }
 },
 "nbformat": 4,
 "nbformat_minor": 2
}
