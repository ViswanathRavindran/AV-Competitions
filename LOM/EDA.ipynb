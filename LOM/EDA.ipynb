{
 "cells": [
  {
   "cell_type": "code",
   "execution_count": 1,
   "metadata": {},
   "outputs": [],
   "source": [
    "import numpy as np\n",
    "import pandas as pd\n",
    "from sklearn.model_selection import train_test_split\n",
    "from sklearn.model_selection import KFold\n",
    "import xgboost as xgb\n",
    "from time import time\n",
    "import gc\n",
    "import warnings\n",
    "warnings.filterwarnings('ignore')\n",
    "pd.options.display.max_rows = 999\n",
    "pd.options.display.max_columns = 999"
   ]
  },
  {
   "cell_type": "code",
   "execution_count": 2,
   "metadata": {},
   "outputs": [
    {
     "name": "stdout",
     "output_type": "stream",
     "text": [
      "Shape of the train data is (1023191, 14)\n",
      "Shape of the test data is (773858, 12)\n"
     ]
    }
   ],
   "source": [
    "#path = '/Users/804357/Desktop/MyFiles/Learn/LOM/Data/'\n",
    "path = '/Users/Vishy/Files/AVDatahack/LOM/Data/' \n",
    "train = pd.read_csv(path+'train.csv')\n",
    "test = pd.read_csv(path+'test.csv')\n",
    "camp = pd.read_csv(path+'campaign_data.csv')\n",
    "\n",
    "train_df = pd.merge(train, camp, on='campaign_id')\n",
    "test_df = pd.merge(test, camp, on='campaign_id')\n",
    "print('Shape of the train data is', train_df.shape)\n",
    "print('Shape of the test data is', test_df.shape)"
   ]
  },
  {
   "cell_type": "code",
   "execution_count": 4,
   "metadata": {},
   "outputs": [
    {
     "data": {
      "text/plain": [
       "Index(['id', 'user_id', 'campaign_id', 'send_date', 'is_open', 'is_click',\n",
       "       'communication_type', 'total_links', 'no_of_internal_links',\n",
       "       'no_of_images', 'no_of_sections', 'email_body', 'subject', 'email_url'],\n",
       "      dtype='object')"
      ]
     },
     "execution_count": 4,
     "metadata": {},
     "output_type": "execute_result"
    }
   ],
   "source": [
    "train_df.columns"
   ]
  },
  {
   "cell_type": "code",
   "execution_count": 11,
   "metadata": {},
   "outputs": [],
   "source": [
    "def overlap(list1,list2):\n",
    "    listC = []\n",
    "    for element in list1:\n",
    "        if element in list2:\n",
    "            listC.append(element)\n",
    "    return len(listC)        \n",
    "        \n",
    "def distinct(list1,list2):\n",
    "    listD = []\n",
    "    for element in list1:\n",
    "        if element not in list2:\n",
    "            listD.append(element)\n",
    "    return len(listD)        "
   ]
  },
  {
   "cell_type": "code",
   "execution_count": 17,
   "metadata": {},
   "outputs": [
    {
     "name": "stdout",
     "output_type": "stream",
     "text": [
      "The Number of unique users in Train and Test Data respectively are 168236 198219\n",
      "---------------------------------------------------------------\n",
      "The number of users from Train and in Test are: 145737\n",
      "---------------------------------------------------------------\n",
      "The number of users from Train and not in Test are: 74981\n"
     ]
    }
   ],
   "source": [
    "print('The Number of unique users in Train and Test Data respectively are', train_df.user_id.nunique(), \n",
    "      test_df.user_id.nunique())\n",
    "print('---------------------------------------------------------------')\n",
    "print('The number of users from Train and in Test are:',len(set(train_df.user_id.unique())&set(test_df.user_id.unique())))\n",
    "print('---------------------------------------------------------------')\n",
    "print('The number of users from Train and not in Test are:',len(set(train_df.user_id.unique())^set(test_df.user_id.unique())))"
   ]
  },
  {
   "cell_type": "code",
   "execution_count": 19,
   "metadata": {},
   "outputs": [
    {
     "name": "stdout",
     "output_type": "stream",
     "text": [
      "The Number of unique campaign in Train and Test Data respectively are 26 26\n",
      "----------------------------------------\n",
      "The number of campaigns from Train and in Test are: 26\n",
      "---------------------------------------------------------------\n",
      "The number of campaigns from Train and not in Test are: 52\n"
     ]
    }
   ],
   "source": [
    "print('The Number of unique campaign in Train and Test Data respectively are', train_df.campaign_id.nunique(), \n",
    "      test_df.campaign_id.nunique())\n",
    "print('----------------------------------------')\n",
    "print('The number of campaigns from Train and in Test are:', len(set(train_df.campaign_id.unique())&set(train_df.campaign_id.unique())))\n",
    "print('---------------------------------------------------------------')\n",
    "print('The number of campaigns from Train and not in Test are:', len(set(train_df.campaign_id.unique())^set(test_df.campaign_id.unique())))"
   ]
  },
  {
   "cell_type": "code",
   "execution_count": 25,
   "metadata": {},
   "outputs": [
    {
     "name": "stdout",
     "output_type": "stream",
     "text": [
      "26\n",
      "[42 52 33 44 29 49 30 54 36 53 32 48 50 41 47 39 34 46 35 31 37 38 45 51\n",
      " 40 43]\n",
      "26\n",
      "[63 56 57 71 76 74 67 75 64 69 78 79 61 58 77 60 80 65 70 55 68 73 59 66\n",
      " 72 62]\n"
     ]
    }
   ],
   "source": [
    "print(train_df.campaign_id.nunique())\n",
    "print(train_df.campaign_id.unique())\n",
    "print(test_df.campaign_id.nunique())\n",
    "print(test_df.campaign_id.unique())"
   ]
  },
  {
   "cell_type": "code",
   "execution_count": 26,
   "metadata": {},
   "outputs": [
    {
     "name": "stdout",
     "output_type": "stream",
     "text": [
      "7\n",
      "['Newsletter' 'Others' 'Upcoming Events' 'Conference' 'Corporate'\n",
      " 'Hackathon' 'Webinar']\n",
      "4\n",
      "['Newsletter' 'Upcoming Events' 'Hackathon' 'Corporate']\n"
     ]
    }
   ],
   "source": [
    "print(train_df.communication_type.nunique())\n",
    "print(train_df.communication_type.unique())\n",
    "print(test_df.communication_type.nunique())\n",
    "print(test_df.communication_type.unique())"
   ]
  },
  {
   "cell_type": "code",
   "execution_count": 27,
   "metadata": {},
   "outputs": [
    {
     "data": {
      "text/plain": [
       "0    920401\n",
       "1    102790\n",
       "Name: is_open, dtype: int64"
      ]
     },
     "execution_count": 27,
     "metadata": {},
     "output_type": "execute_result"
    }
   ],
   "source": [
    "train_df.is_open.value_counts()"
   ]
  },
  {
   "cell_type": "code",
   "execution_count": 28,
   "metadata": {},
   "outputs": [
    {
     "data": {
      "text/plain": [
       "0    1010409\n",
       "1      12782\n",
       "Name: is_click, dtype: int64"
      ]
     },
     "execution_count": 28,
     "metadata": {},
     "output_type": "execute_result"
    }
   ],
   "source": [
    "train_df.is_click.value_counts()"
   ]
  },
  {
   "cell_type": "code",
   "execution_count": null,
   "metadata": {},
   "outputs": [],
   "source": []
  }
 ],
 "metadata": {
  "kernelspec": {
   "display_name": "Python 3",
   "language": "python",
   "name": "python3"
  },
  "language_info": {
   "codemirror_mode": {
    "name": "ipython",
    "version": 3
   },
   "file_extension": ".py",
   "mimetype": "text/x-python",
   "name": "python",
   "nbconvert_exporter": "python",
   "pygments_lexer": "ipython3",
   "version": "3.6.3"
  }
 },
 "nbformat": 4,
 "nbformat_minor": 2
}
