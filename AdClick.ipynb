{
 "cells": [
  {
   "cell_type": "code",
   "execution_count": 1,
   "metadata": {
    "collapsed": true
   },
   "outputs": [],
   "source": [
    "import pandas as pd\n",
    "import numpy as np\n",
    "import matplotlib.pyplot as plt\n",
    "import seaborn as sns\n",
    "import random"
   ]
  },
  {
   "cell_type": "code",
   "execution_count": 28,
   "metadata": {
    "collapsed": true
   },
   "outputs": [],
   "source": [
    "# Importing the part df\n",
    "\"\"\"\n",
    "date_parser = pd.datetools.to_datetime\n",
    "headers = ['ID', 'Country', 'Carrier', 'TrafficType', 'ClickDate', 'Device', 'Browser', 'OS', \n",
    "          'RefererUrl', 'UserIp', 'ConversionStatus', 'ConversionDate', 'ConversionPayOut', \n",
    "           'publisherId', 'subPublisherId', 'advertiserCampaignId', 'Fraud']\n",
    "dtypes = {'col1': 'str', 'col2': 'str', 'col3': 'str', 'col4': 'float'}\n",
    "parse_dates = ['ClickDate']\n",
    "\n",
    "\n",
    "\n",
    "n = sum(1 for line in open(filename)) - 1 #number of records in file (excludes header)\n",
    "s = 10000 #desired sample size\n",
    "skip = sorted(random.sample(range(1,n+1),n-s)) #the 0-indexed header will not be included in the skip list\n",
    "\"\"\"\n",
    "filename = \"train.csv\"\n",
    "PartTrndf = pd.read_csv(filename, nrows=2000)"
   ]
  },
  {
   "cell_type": "raw",
   "metadata": {
    "collapsed": true
   },
   "source": [
    "\"\"\"\n",
    "print ('The shape of the Full training Data is: ', FullTrndf.shape)\n",
    "Segregate only the Converted Data Set\n",
    "ConvTrndf = FullTrndf[FullTrndf.ConversionStatus==True]\n",
    "print ('The shape of the Converted Training Data is: ', ConvTrndf.shape)\n",
    "print ('The Percentage of convertion is: ', ((ConvTrndf.shape[0] / FullTrndf.shape[0])*100))\n",
    "\n",
    "print ('There are about', FullTrndf.Country.nunique(), 'unique Country available in the training data')\n",
    "print ('The top 5 share of Country in the training data are as below:')\n",
    "print (FullTrndf.Country.value_counts(normalize =  True, sort=True, ascending=False).head(5))\n",
    "print (\"--------------------------------------------------------------------------------------------------\")\n",
    "print ('There are about', FullTrndf.Carrier.nunique(), 'unique Carrier available in the training data')\n",
    "print ('The top 3 share of Carrier in the training data are as below:')\n",
    "print (FullTrndf.Carrier.value_counts(normalize =  True, sort=True, ascending=False).head(3))\n",
    "print (\"--------------------------------------------------------------------------------------------------\")\n",
    "print ('There are about', FullTrndf.TrafficType.nunique(), 'unique TrafficType available in the training data')\n",
    "print ('The count of TrafficType in the training data are as below:')\n",
    "print (FullTrndf.TrafficType.value_counts(normalize =  True, sort=True, ascending=False))\n",
    "print (\"--------------------------------------------------------------------------------------------------\")\n",
    "print ('There are about', FullTrndf.Device.nunique(), 'unique Device available in the training data')\n",
    "print ('The top 3 share of Device in the training data are as below:')\n",
    "print (FullTrndf.Device.value_counts(normalize =  True, sort=True, ascending=False).head(3))\n",
    "print (\"--------------------------------------------------------------------------------------------------\")\n",
    "print ('There are about', FullTrndf.Browser.nunique(), 'unique Browser available in the training data')\n",
    "print ('The top 3 share of Browser in the training data are as below:')\n",
    "print (FullTrndf.Browser.value_counts(normalize =  True, sort=True, ascending=False).head(3))\n",
    "print (\"--------------------------------------------------------------------------------------------------\")\n",
    "print ('There are about', FullTrndf.OS.nunique(), 'unique OS available in the training data')\n",
    "print ('The top 3 share of OS in the training data are as below:')\n",
    "print (FullTrndf.OS.value_counts(normalize =  True, sort=True, ascending=False).head(3))\n",
    "\"\"\""
   ]
  },
  {
   "cell_type": "raw",
   "metadata": {},
   "source": [
    "Moved the Full dataset observation further below however developing the model  with the first 10000 rows\n",
    "Observations:\n",
    "The shape of the Full training Data is:  (63367217, 17)\n",
    "The shape of the Converted Training Data is:  (34524, 17)\n",
    "The Percentage of convertion is:  0.054482430560269045\n",
    "There are about 232 unique Country available in the training data\n",
    "The top 5 share of Country in the training data are as below:\n",
    "IN    0.311474\n",
    "TH    0.099770\n",
    "BD    0.095609\n",
    "ID    0.084199\n",
    "RU    0.036145\n",
    "\n",
    "Name: Country, dtype: float64\n",
    "--------------------------------------------------------------------------------------------------\n",
    "There are about 383 unique Carrier available in the training data\n",
    "The top 3 share of Carrier in the training data are as below:\n",
    "-1.0      0.309367\n",
    " 1.0      0.072037\n",
    " 121.0    0.065925\n",
    "\n",
    "Name: Carrier, dtype: float64\n",
    "--------------------------------------------------------------------------------------------------\n",
    "There are about 2 unique TrafficType available in the training data\n",
    "The count of TrafficType in the training data are as below:\n",
    "A    0.680448\n",
    "M    0.319552\n",
    "\n",
    "Name: TrafficType, dtype: float64\n",
    "--------------------------------------------------------------------------------------------------\n",
    "There are about 1302 unique Device available in the training data\n",
    "The top 3 share of Device in the training data are as below:\n",
    "Generic    0.486809\n",
    "Samsung    0.154218\n",
    "Lenovo     0.036442\n",
    "\n",
    "Name: Device, dtype: float64\n",
    "--------------------------------------------------------------------------------------------------\n",
    "There are about 40 unique Browser available in the training data\n",
    "The top 3 share of Browser in the training data are as below:\n",
    "android_webkit    0.468677\n",
    "chrome            0.411411\n",
    "46.0.2490.76      0.066501\n",
    "\n",
    "Name: Browser, dtype: float64\n",
    "--------------------------------------------------------------------------------------------------\n",
    "There are about 20 unique OS available in the training data\n",
    "The top 3 share of OS in the training data are as below:\n",
    "Android    0.983829\n",
    "iOS        0.011286\n",
    "Desktop    0.003755\n",
    "\n",
    "Name: OS, dtype: float64\n",
    "\n",
    "Disntict count of advertiserCampaignId is:  259\n",
    "Disntict count of publisherId is:  826\n",
    "Disntict count of UserIp is:  78646\n",
    "Disntict count of Carrier is:  239"
   ]
  },
  {
   "cell_type": "code",
   "execution_count": 29,
   "metadata": {},
   "outputs": [
    {
     "data": {
      "text/plain": [
       "(2000, 17)"
      ]
     },
     "execution_count": 29,
     "metadata": {},
     "output_type": "execute_result"
    }
   ],
   "source": [
    "PartTrndf.shape"
   ]
  },
  {
   "cell_type": "code",
   "execution_count": 30,
   "metadata": {
    "collapsed": true
   },
   "outputs": [],
   "source": [
    "All_y = PartTrndf[['ConversionStatus','ConversionDate','ConversionPayOut']]"
   ]
  },
  {
   "cell_type": "code",
   "execution_count": 31,
   "metadata": {},
   "outputs": [
    {
     "data": {
      "text/html": [
       "<div>\n",
       "<style>\n",
       "    .dataframe thead tr:only-child th {\n",
       "        text-align: right;\n",
       "    }\n",
       "\n",
       "    .dataframe thead th {\n",
       "        text-align: left;\n",
       "    }\n",
       "\n",
       "    .dataframe tbody tr th {\n",
       "        vertical-align: top;\n",
       "    }\n",
       "</style>\n",
       "<table border=\"1\" class=\"dataframe\">\n",
       "  <thead>\n",
       "    <tr style=\"text-align: right;\">\n",
       "      <th></th>\n",
       "      <th>Missing Ratio</th>\n",
       "    </tr>\n",
       "  </thead>\n",
       "  <tbody>\n",
       "    <tr>\n",
       "      <th>ConversionDate</th>\n",
       "      <td>99.9</td>\n",
       "    </tr>\n",
       "  </tbody>\n",
       "</table>\n",
       "</div>"
      ],
      "text/plain": [
       "                Missing Ratio\n",
       "ConversionDate           99.9"
      ]
     },
     "execution_count": 31,
     "metadata": {},
     "output_type": "execute_result"
    }
   ],
   "source": [
    "# Checking for the ratio of missing value in y\n",
    "y_na = (All_y.isnull().sum() / len(All_y)) * 100\n",
    "y_na = y_na.drop(y_na[y_na == 0].index).sort_values(ascending=False)[:30]\n",
    "missing_data = pd.DataFrame({'Missing Ratio' :y_na})\n",
    "missing_data.head()\n",
    "# Since we are not sure how the conversion Date will be useful we will look at it later"
   ]
  },
  {
   "cell_type": "code",
   "execution_count": 32,
   "metadata": {},
   "outputs": [
    {
     "data": {
      "text/plain": [
       "0.0    2000\n",
       "Name: Fraud, dtype: int64"
      ]
     },
     "execution_count": 32,
     "metadata": {},
     "output_type": "execute_result"
    }
   ],
   "source": [
    "PartTrndf.Fraud.value_counts()\n",
    "# this indicates in the complete sample that we have taken there are Fraud variable set to 1.0"
   ]
  },
  {
   "cell_type": "code",
   "execution_count": 33,
   "metadata": {
    "collapsed": true
   },
   "outputs": [],
   "source": [
    "# Removing the variables that are part of Y and the variables that we wil not be using\n",
    "del PartTrndf['ConversionStatus'], PartTrndf['ConversionDate'], PartTrndf['ConversionPayOut'], PartTrndf['subPublisherId'], PartTrndf['RefererUrl'], PartTrndf['Device'], PartTrndf['UserIp'], PartTrndf['OS']"
   ]
  },
  {
   "cell_type": "code",
   "execution_count": 34,
   "metadata": {},
   "outputs": [
    {
     "data": {
      "text/plain": [
       "(2000, 9)"
      ]
     },
     "execution_count": 34,
     "metadata": {},
     "output_type": "execute_result"
    }
   ],
   "source": [
    "PartTrndf.shape"
   ]
  },
  {
   "cell_type": "code",
   "execution_count": 35,
   "metadata": {},
   "outputs": [
    {
     "data": {
      "text/html": [
       "<div>\n",
       "<style>\n",
       "    .dataframe thead tr:only-child th {\n",
       "        text-align: right;\n",
       "    }\n",
       "\n",
       "    .dataframe thead th {\n",
       "        text-align: left;\n",
       "    }\n",
       "\n",
       "    .dataframe tbody tr th {\n",
       "        vertical-align: top;\n",
       "    }\n",
       "</style>\n",
       "<table border=\"1\" class=\"dataframe\">\n",
       "  <thead>\n",
       "    <tr style=\"text-align: right;\">\n",
       "      <th></th>\n",
       "      <th>ID</th>\n",
       "      <th>Country</th>\n",
       "      <th>Carrier</th>\n",
       "      <th>TrafficType</th>\n",
       "      <th>ClickDate</th>\n",
       "      <th>Browser</th>\n",
       "      <th>publisherId</th>\n",
       "      <th>advertiserCampaignId</th>\n",
       "      <th>Fraud</th>\n",
       "    </tr>\n",
       "  </thead>\n",
       "  <tbody>\n",
       "    <tr>\n",
       "      <th>0</th>\n",
       "      <td>0</td>\n",
       "      <td>IN</td>\n",
       "      <td>2.0</td>\n",
       "      <td>M</td>\n",
       "      <td>2017-08-21 00:00:01</td>\n",
       "      <td>chrome</td>\n",
       "      <td>69</td>\n",
       "      <td>6555.0</td>\n",
       "      <td>0.0</td>\n",
       "    </tr>\n",
       "    <tr>\n",
       "      <th>1</th>\n",
       "      <td>1</td>\n",
       "      <td>TH</td>\n",
       "      <td>27.0</td>\n",
       "      <td>A</td>\n",
       "      <td>2017-08-21 00:00:01</td>\n",
       "      <td>46.0.2490.76</td>\n",
       "      <td>646</td>\n",
       "      <td>7510.0</td>\n",
       "      <td>0.0</td>\n",
       "    </tr>\n",
       "    <tr>\n",
       "      <th>2</th>\n",
       "      <td>2</td>\n",
       "      <td>IN</td>\n",
       "      <td>4.0</td>\n",
       "      <td>M</td>\n",
       "      <td>2017-08-21 00:00:01</td>\n",
       "      <td>chromium</td>\n",
       "      <td>301</td>\n",
       "      <td>12696.0</td>\n",
       "      <td>0.0</td>\n",
       "    </tr>\n",
       "    <tr>\n",
       "      <th>3</th>\n",
       "      <td>3</td>\n",
       "      <td>PH</td>\n",
       "      <td>-1.0</td>\n",
       "      <td>A</td>\n",
       "      <td>2017-08-21 00:00:01</td>\n",
       "      <td>android_webkit</td>\n",
       "      <td>242</td>\n",
       "      <td>735.0</td>\n",
       "      <td>0.0</td>\n",
       "    </tr>\n",
       "    <tr>\n",
       "      <th>4</th>\n",
       "      <td>4</td>\n",
       "      <td>MX</td>\n",
       "      <td>-1.0</td>\n",
       "      <td>NaN</td>\n",
       "      <td>2017-08-21 00:00:01</td>\n",
       "      <td>chrome</td>\n",
       "      <td>1306</td>\n",
       "      <td>7802.0</td>\n",
       "      <td>0.0</td>\n",
       "    </tr>\n",
       "  </tbody>\n",
       "</table>\n",
       "</div>"
      ],
      "text/plain": [
       "   ID Country  Carrier TrafficType            ClickDate         Browser  \\\n",
       "0   0      IN      2.0           M  2017-08-21 00:00:01          chrome   \n",
       "1   1      TH     27.0           A  2017-08-21 00:00:01    46.0.2490.76   \n",
       "2   2      IN      4.0           M  2017-08-21 00:00:01        chromium   \n",
       "3   3      PH     -1.0           A  2017-08-21 00:00:01  android_webkit   \n",
       "4   4      MX     -1.0         NaN  2017-08-21 00:00:01          chrome   \n",
       "\n",
       "   publisherId  advertiserCampaignId  Fraud  \n",
       "0           69                6555.0    0.0  \n",
       "1          646                7510.0    0.0  \n",
       "2          301               12696.0    0.0  \n",
       "3          242                 735.0    0.0  \n",
       "4         1306                7802.0    0.0  "
      ]
     },
     "execution_count": 35,
     "metadata": {},
     "output_type": "execute_result"
    }
   ],
   "source": [
    "PartTrndf.head()"
   ]
  },
  {
   "cell_type": "code",
   "execution_count": 36,
   "metadata": {},
   "outputs": [
    {
     "data": {
      "text/html": [
       "<div>\n",
       "<style>\n",
       "    .dataframe thead tr:only-child th {\n",
       "        text-align: right;\n",
       "    }\n",
       "\n",
       "    .dataframe thead th {\n",
       "        text-align: left;\n",
       "    }\n",
       "\n",
       "    .dataframe tbody tr th {\n",
       "        vertical-align: top;\n",
       "    }\n",
       "</style>\n",
       "<table border=\"1\" class=\"dataframe\">\n",
       "  <thead>\n",
       "    <tr style=\"text-align: right;\">\n",
       "      <th></th>\n",
       "      <th>Missing Ratio</th>\n",
       "    </tr>\n",
       "  </thead>\n",
       "  <tbody>\n",
       "    <tr>\n",
       "      <th>TrafficType</th>\n",
       "      <td>12.45</td>\n",
       "    </tr>\n",
       "    <tr>\n",
       "      <th>Browser</th>\n",
       "      <td>0.40</td>\n",
       "    </tr>\n",
       "    <tr>\n",
       "      <th>Country</th>\n",
       "      <td>0.30</td>\n",
       "    </tr>\n",
       "  </tbody>\n",
       "</table>\n",
       "</div>"
      ],
      "text/plain": [
       "             Missing Ratio\n",
       "TrafficType          12.45\n",
       "Browser               0.40\n",
       "Country               0.30"
      ]
     },
     "execution_count": 36,
     "metadata": {},
     "output_type": "execute_result"
    }
   ],
   "source": [
    "# Checking for the ratio of missing value\n",
    "PartTrndf_na = (PartTrndf.isnull().sum() / len(PartTrndf)) * 100\n",
    "PartTrndf_na = PartTrndf_na.drop(PartTrndf_na[PartTrndf_na == 0].index).sort_values(ascending=False)[:30]\n",
    "missing_data = pd.DataFrame({'Missing Ratio' :PartTrndf_na})\n",
    "missing_data.head(20)"
   ]
  },
  {
   "cell_type": "code",
   "execution_count": 37,
   "metadata": {},
   "outputs": [
    {
     "data": {
      "image/png": "[encoded data removed]",
      "text/plain": [
       "<matplotlib.figure.Figure at 0x11480d940>"
      ]
     },
     "metadata": {},
     "output_type": "display_data"
    }
   ],
   "source": [
    "f, ax = plt.subplots(figsize=(6, 6))\n",
    "plt.xticks(rotation='90')\n",
    "sns.barplot(x=PartTrndf_na.index, y=PartTrndf_na)\n",
    "plt.xlabel('Features', fontsize=15)\n",
    "plt.ylabel('Percent of missing values', fontsize=15)\n",
    "plt.title('Percent missing data by feature', fontsize=15)\n",
    "plt.show()"
   ]
  },
  {
   "cell_type": "code",
   "execution_count": 38,
   "metadata": {
    "collapsed": true
   },
   "outputs": [],
   "source": [
    "# Replace the Missing value\n",
    "PartTrndf['TrafficType'] = PartTrndf.TrafficType.fillna('UN')\n",
    "PartTrndf['Country'] = PartTrndf.Country.fillna('UN')\n",
    "PartTrndf['Browser'] = PartTrndf.Browser.fillna('UN')\n",
    "#dropped OS since it is very similar PartTrndf['OS'] = PartTrndf.OS.fillna('UN')"
   ]
  },
  {
   "cell_type": "code",
   "execution_count": 39,
   "metadata": {},
   "outputs": [
    {
     "data": {
      "text/html": [
       "<div>\n",
       "<style>\n",
       "    .dataframe thead tr:only-child th {\n",
       "        text-align: right;\n",
       "    }\n",
       "\n",
       "    .dataframe thead th {\n",
       "        text-align: left;\n",
       "    }\n",
       "\n",
       "    .dataframe tbody tr th {\n",
       "        vertical-align: top;\n",
       "    }\n",
       "</style>\n",
       "<table border=\"1\" class=\"dataframe\">\n",
       "  <thead>\n",
       "    <tr style=\"text-align: right;\">\n",
       "      <th></th>\n",
       "      <th>Missing Ratio</th>\n",
       "    </tr>\n",
       "  </thead>\n",
       "  <tbody>\n",
       "  </tbody>\n",
       "</table>\n",
       "</div>"
      ],
      "text/plain": [
       "Empty DataFrame\n",
       "Columns: [Missing Ratio]\n",
       "Index: []"
      ]
     },
     "execution_count": 39,
     "metadata": {},
     "output_type": "execute_result"
    }
   ],
   "source": [
    "# Checking for the missing value details after the replacement\n",
    "# Checking for the ratio of missing value\n",
    "PartTrndf_na = (PartTrndf.isnull().sum() / len(PartTrndf)) * 100\n",
    "PartTrndf_na = PartTrndf_na.drop(PartTrndf_na[PartTrndf_na == 0].index).sort_values(ascending=False)[:30]\n",
    "missing_data = pd.DataFrame({'Missing Ratio' :PartTrndf_na})\n",
    "missing_data.head(20)"
   ]
  },
  {
   "cell_type": "code",
   "execution_count": 40,
   "metadata": {
    "collapsed": true
   },
   "outputs": [],
   "source": [
    "# Handing the ClickDate field as a Date\n",
    "PartTrndf['ClickDate'] = pd.to_datetime(PartTrndf['ClickDate'])"
   ]
  },
  {
   "cell_type": "code",
   "execution_count": 41,
   "metadata": {
    "collapsed": true
   },
   "outputs": [],
   "source": [
    "# Feature Enginerring to Create New variables for Day of Week and Day part\n",
    "PartTrndf['Weekday'] = (PartTrndf['ClickDate'].dt.dayofweek).astype(int)\n",
    "PartTrndf['Dayhour'] = (PartTrndf.ClickDate.apply(lambda x: x.hour)).astype(int)"
   ]
  },
  {
   "cell_type": "code",
   "execution_count": 42,
   "metadata": {
    "collapsed": true
   },
   "outputs": [],
   "source": [
    "# To remove Ordinality in both Weekday and DayHour variables convert into Categories\n",
    "PartTrndf['Weekday'] = PartTrndf['Weekday'].map( {0: 'Sun', 1: 'Mon', 2: 'Tue', 3: 'Wed',\n",
    "                                                  4: 'Thr', 5: 'Fri', 6: 'Sat'} ).astype(str)\n",
    "PartTrndf['Dayhour'] = PartTrndf['Dayhour'].map( {0: 'PrAM', 1: 'PrAM', 2: 'PrAM', 3: 'PrAM', \n",
    "                                                  4: 'PrAM', 5: 'PrAM', 6: 'AM', 7: 'AM', 8: 'AM', 9: 'AM', \n",
    "                                                  10: 'AM', 11: 'AM', 12: 'PM', 13: 'PM', 14: 'PM', 15: 'PM', \n",
    "                                                  16: 'PM', 17: 'PM', 18: 'PM', 19: 'PoPM', 20: 'PoPM', \n",
    "                                                  21: 'PoPM', 22: 'PoPM', 23: 'PoPM',} ).astype(str)\n",
    "# Delete the Click Date varaible\n",
    "del PartTrndf['ClickDate']"
   ]
  },
  {
   "cell_type": "code",
   "execution_count": 43,
   "metadata": {},
   "outputs": [
    {
     "data": {
      "text/html": [
       "<div>\n",
       "<style>\n",
       "    .dataframe thead tr:only-child th {\n",
       "        text-align: right;\n",
       "    }\n",
       "\n",
       "    .dataframe thead th {\n",
       "        text-align: left;\n",
       "    }\n",
       "\n",
       "    .dataframe tbody tr th {\n",
       "        vertical-align: top;\n",
       "    }\n",
       "</style>\n",
       "<table border=\"1\" class=\"dataframe\">\n",
       "  <thead>\n",
       "    <tr style=\"text-align: right;\">\n",
       "      <th></th>\n",
       "      <th>ID</th>\n",
       "      <th>Country</th>\n",
       "      <th>Carrier</th>\n",
       "      <th>TrafficType</th>\n",
       "      <th>Browser</th>\n",
       "      <th>publisherId</th>\n",
       "      <th>advertiserCampaignId</th>\n",
       "      <th>Fraud</th>\n",
       "      <th>Weekday</th>\n",
       "      <th>Dayhour</th>\n",
       "    </tr>\n",
       "  </thead>\n",
       "  <tbody>\n",
       "    <tr>\n",
       "      <th>0</th>\n",
       "      <td>0</td>\n",
       "      <td>IN</td>\n",
       "      <td>2.0</td>\n",
       "      <td>M</td>\n",
       "      <td>chrome</td>\n",
       "      <td>69</td>\n",
       "      <td>6555.0</td>\n",
       "      <td>0.0</td>\n",
       "      <td>Sun</td>\n",
       "      <td>PrAM</td>\n",
       "    </tr>\n",
       "    <tr>\n",
       "      <th>1</th>\n",
       "      <td>1</td>\n",
       "      <td>TH</td>\n",
       "      <td>27.0</td>\n",
       "      <td>A</td>\n",
       "      <td>46.0.2490.76</td>\n",
       "      <td>646</td>\n",
       "      <td>7510.0</td>\n",
       "      <td>0.0</td>\n",
       "      <td>Sun</td>\n",
       "      <td>PrAM</td>\n",
       "    </tr>\n",
       "    <tr>\n",
       "      <th>2</th>\n",
       "      <td>2</td>\n",
       "      <td>IN</td>\n",
       "      <td>4.0</td>\n",
       "      <td>M</td>\n",
       "      <td>chromium</td>\n",
       "      <td>301</td>\n",
       "      <td>12696.0</td>\n",
       "      <td>0.0</td>\n",
       "      <td>Sun</td>\n",
       "      <td>PrAM</td>\n",
       "    </tr>\n",
       "    <tr>\n",
       "      <th>3</th>\n",
       "      <td>3</td>\n",
       "      <td>PH</td>\n",
       "      <td>-1.0</td>\n",
       "      <td>A</td>\n",
       "      <td>android_webkit</td>\n",
       "      <td>242</td>\n",
       "      <td>735.0</td>\n",
       "      <td>0.0</td>\n",
       "      <td>Sun</td>\n",
       "      <td>PrAM</td>\n",
       "    </tr>\n",
       "    <tr>\n",
       "      <th>4</th>\n",
       "      <td>4</td>\n",
       "      <td>MX</td>\n",
       "      <td>-1.0</td>\n",
       "      <td>UN</td>\n",
       "      <td>chrome</td>\n",
       "      <td>1306</td>\n",
       "      <td>7802.0</td>\n",
       "      <td>0.0</td>\n",
       "      <td>Sun</td>\n",
       "      <td>PrAM</td>\n",
       "    </tr>\n",
       "  </tbody>\n",
       "</table>\n",
       "</div>"
      ],
      "text/plain": [
       "   ID Country  Carrier TrafficType         Browser  publisherId  \\\n",
       "0   0      IN      2.0           M          chrome           69   \n",
       "1   1      TH     27.0           A    46.0.2490.76          646   \n",
       "2   2      IN      4.0           M        chromium          301   \n",
       "3   3      PH     -1.0           A  android_webkit          242   \n",
       "4   4      MX     -1.0          UN          chrome         1306   \n",
       "\n",
       "   advertiserCampaignId  Fraud Weekday Dayhour  \n",
       "0                6555.0    0.0     Sun    PrAM  \n",
       "1                7510.0    0.0     Sun    PrAM  \n",
       "2               12696.0    0.0     Sun    PrAM  \n",
       "3                 735.0    0.0     Sun    PrAM  \n",
       "4                7802.0    0.0     Sun    PrAM  "
      ]
     },
     "execution_count": 43,
     "metadata": {},
     "output_type": "execute_result"
    }
   ],
   "source": [
    "PartTrndf.head()"
   ]
  },
  {
   "cell_type": "code",
   "execution_count": 44,
   "metadata": {
    "collapsed": true
   },
   "outputs": [],
   "source": [
    "# Convert TrafficType, Browser, OS, Weekday, Dayhour into Numerical\n",
    "PartTrndf = pd.get_dummies(PartTrndf, columns=['Country', 'Carrier','TrafficType', 'Browser', 'publisherId', \n",
    "                                               'advertiserCampaignId','Fraud','Weekday','Dayhour'], drop_first=True)"
   ]
  },
  {
   "cell_type": "code",
   "execution_count": 45,
   "metadata": {},
   "outputs": [
    {
     "data": {
      "text/html": [
       "<div>\n",
       "<style>\n",
       "    .dataframe thead tr:only-child th {\n",
       "        text-align: right;\n",
       "    }\n",
       "\n",
       "    .dataframe thead th {\n",
       "        text-align: left;\n",
       "    }\n",
       "\n",
       "    .dataframe tbody tr th {\n",
       "        vertical-align: top;\n",
       "    }\n",
       "</style>\n",
       "<table border=\"1\" class=\"dataframe\">\n",
       "  <thead>\n",
       "    <tr style=\"text-align: right;\">\n",
       "      <th></th>\n",
       "      <th>ID</th>\n",
       "      <th>Country_AE</th>\n",
       "      <th>Country_AR</th>\n",
       "      <th>Country_AT</th>\n",
       "      <th>Country_AZ</th>\n",
       "      <th>Country_BD</th>\n",
       "      <th>Country_BG</th>\n",
       "      <th>Country_BH</th>\n",
       "      <th>Country_BO</th>\n",
       "      <th>Country_BR</th>\n",
       "      <th>...</th>\n",
       "      <th>advertiserCampaignId_16216.0</th>\n",
       "      <th>advertiserCampaignId_16230.0</th>\n",
       "      <th>advertiserCampaignId_16240.0</th>\n",
       "      <th>advertiserCampaignId_16327.0</th>\n",
       "      <th>advertiserCampaignId_16367.0</th>\n",
       "      <th>advertiserCampaignId_16458.0</th>\n",
       "      <th>advertiserCampaignId_16603.0</th>\n",
       "      <th>advertiserCampaignId_16649.0</th>\n",
       "      <th>advertiserCampaignId_16769.0</th>\n",
       "      <th>advertiserCampaignId_16799.0</th>\n",
       "    </tr>\n",
       "  </thead>\n",
       "  <tbody>\n",
       "    <tr>\n",
       "      <th>0</th>\n",
       "      <td>0</td>\n",
       "      <td>0</td>\n",
       "      <td>0</td>\n",
       "      <td>0</td>\n",
       "      <td>0</td>\n",
       "      <td>0</td>\n",
       "      <td>0</td>\n",
       "      <td>0</td>\n",
       "      <td>0</td>\n",
       "      <td>0</td>\n",
       "      <td>...</td>\n",
       "      <td>0</td>\n",
       "      <td>0</td>\n",
       "      <td>0</td>\n",
       "      <td>0</td>\n",
       "      <td>0</td>\n",
       "      <td>0</td>\n",
       "      <td>0</td>\n",
       "      <td>0</td>\n",
       "      <td>0</td>\n",
       "      <td>0</td>\n",
       "    </tr>\n",
       "    <tr>\n",
       "      <th>1</th>\n",
       "      <td>1</td>\n",
       "      <td>0</td>\n",
       "      <td>0</td>\n",
       "      <td>0</td>\n",
       "      <td>0</td>\n",
       "      <td>0</td>\n",
       "      <td>0</td>\n",
       "      <td>0</td>\n",
       "      <td>0</td>\n",
       "      <td>0</td>\n",
       "      <td>...</td>\n",
       "      <td>0</td>\n",
       "      <td>0</td>\n",
       "      <td>0</td>\n",
       "      <td>0</td>\n",
       "      <td>0</td>\n",
       "      <td>0</td>\n",
       "      <td>0</td>\n",
       "      <td>0</td>\n",
       "      <td>0</td>\n",
       "      <td>0</td>\n",
       "    </tr>\n",
       "    <tr>\n",
       "      <th>2</th>\n",
       "      <td>2</td>\n",
       "      <td>0</td>\n",
       "      <td>0</td>\n",
       "      <td>0</td>\n",
       "      <td>0</td>\n",
       "      <td>0</td>\n",
       "      <td>0</td>\n",
       "      <td>0</td>\n",
       "      <td>0</td>\n",
       "      <td>0</td>\n",
       "      <td>...</td>\n",
       "      <td>0</td>\n",
       "      <td>0</td>\n",
       "      <td>0</td>\n",
       "      <td>0</td>\n",
       "      <td>0</td>\n",
       "      <td>0</td>\n",
       "      <td>0</td>\n",
       "      <td>0</td>\n",
       "      <td>0</td>\n",
       "      <td>0</td>\n",
       "    </tr>\n",
       "    <tr>\n",
       "      <th>3</th>\n",
       "      <td>3</td>\n",
       "      <td>0</td>\n",
       "      <td>0</td>\n",
       "      <td>0</td>\n",
       "      <td>0</td>\n",
       "      <td>0</td>\n",
       "      <td>0</td>\n",
       "      <td>0</td>\n",
       "      <td>0</td>\n",
       "      <td>0</td>\n",
       "      <td>...</td>\n",
       "      <td>0</td>\n",
       "      <td>0</td>\n",
       "      <td>0</td>\n",
       "      <td>0</td>\n",
       "      <td>0</td>\n",
       "      <td>0</td>\n",
       "      <td>0</td>\n",
       "      <td>0</td>\n",
       "      <td>0</td>\n",
       "      <td>0</td>\n",
       "    </tr>\n",
       "    <tr>\n",
       "      <th>4</th>\n",
       "      <td>4</td>\n",
       "      <td>0</td>\n",
       "      <td>0</td>\n",
       "      <td>0</td>\n",
       "      <td>0</td>\n",
       "      <td>0</td>\n",
       "      <td>0</td>\n",
       "      <td>0</td>\n",
       "      <td>0</td>\n",
       "      <td>0</td>\n",
       "      <td>...</td>\n",
       "      <td>0</td>\n",
       "      <td>0</td>\n",
       "      <td>0</td>\n",
       "      <td>0</td>\n",
       "      <td>0</td>\n",
       "      <td>0</td>\n",
       "      <td>0</td>\n",
       "      <td>0</td>\n",
       "      <td>0</td>\n",
       "      <td>0</td>\n",
       "    </tr>\n",
       "  </tbody>\n",
       "</table>\n",
       "<p>5 rows × 506 columns</p>\n",
       "</div>"
      ],
      "text/plain": [
       "   ID  Country_AE  Country_AR  Country_AT  Country_AZ  Country_BD  Country_BG  \\\n",
       "0   0           0           0           0           0           0           0   \n",
       "1   1           0           0           0           0           0           0   \n",
       "2   2           0           0           0           0           0           0   \n",
       "3   3           0           0           0           0           0           0   \n",
       "4   4           0           0           0           0           0           0   \n",
       "\n",
       "   Country_BH  Country_BO  Country_BR              ...               \\\n",
       "0           0           0           0              ...                \n",
       "1           0           0           0              ...                \n",
       "2           0           0           0              ...                \n",
       "3           0           0           0              ...                \n",
       "4           0           0           0              ...                \n",
       "\n",
       "   advertiserCampaignId_16216.0  advertiserCampaignId_16230.0  \\\n",
       "0                             0                             0   \n",
       "1                             0                             0   \n",
       "2                             0                             0   \n",
       "3                             0                             0   \n",
       "4                             0                             0   \n",
       "\n",
       "   advertiserCampaignId_16240.0  advertiserCampaignId_16327.0  \\\n",
       "0                             0                             0   \n",
       "1                             0                             0   \n",
       "2                             0                             0   \n",
       "3                             0                             0   \n",
       "4                             0                             0   \n",
       "\n",
       "   advertiserCampaignId_16367.0  advertiserCampaignId_16458.0  \\\n",
       "0                             0                             0   \n",
       "1                             0                             0   \n",
       "2                             0                             0   \n",
       "3                             0                             0   \n",
       "4                             0                             0   \n",
       "\n",
       "   advertiserCampaignId_16603.0  advertiserCampaignId_16649.0  \\\n",
       "0                             0                             0   \n",
       "1                             0                             0   \n",
       "2                             0                             0   \n",
       "3                             0                             0   \n",
       "4                             0                             0   \n",
       "\n",
       "   advertiserCampaignId_16769.0  advertiserCampaignId_16799.0  \n",
       "0                             0                             0  \n",
       "1                             0                             0  \n",
       "2                             0                             0  \n",
       "3                             0                             0  \n",
       "4                             0                             0  \n",
       "\n",
       "[5 rows x 506 columns]"
      ]
     },
     "execution_count": 45,
     "metadata": {},
     "output_type": "execute_result"
    }
   ],
   "source": [
    "PartTrndf.head()"
   ]
  },
  {
   "cell_type": "code",
   "execution_count": 46,
   "metadata": {},
   "outputs": [
    {
     "data": {
      "text/plain": [
       "(2000, 506)"
      ]
     },
     "execution_count": 46,
     "metadata": {},
     "output_type": "execute_result"
    }
   ],
   "source": [
    "PartTrndf.shape"
   ]
  },
  {
   "cell_type": "code",
   "execution_count": 47,
   "metadata": {
    "collapsed": true
   },
   "outputs": [],
   "source": [
    "# Creating y\n",
    "y = All_y['ConversionStatus'].as_matrix().astype(np.int)"
   ]
  },
  {
   "cell_type": "code",
   "execution_count": 48,
   "metadata": {},
   "outputs": [
    {
     "data": {
      "text/plain": [
       "array([[0, 0, 0, ..., 0, 0, 0],\n",
       "       [0, 0, 0, ..., 0, 0, 0],\n",
       "       [0, 0, 0, ..., 0, 0, 0],\n",
       "       ..., \n",
       "       [0, 0, 0, ..., 0, 0, 0],\n",
       "       [0, 0, 0, ..., 0, 0, 0],\n",
       "       [0, 0, 0, ..., 0, 0, 0]])"
      ]
     },
     "execution_count": 48,
     "metadata": {},
     "output_type": "execute_result"
    }
   ],
   "source": [
    "# creating X\n",
    "del PartTrndf['ID']\n",
    "X = PartTrndf.as_matrix().astype(np.int)\n",
    "X"
   ]
  },
  {
   "cell_type": "code",
   "execution_count": 49,
   "metadata": {},
   "outputs": [
    {
     "name": "stdout",
     "output_type": "stream",
     "text": [
      "The shape of X is: (2000, 505) The shape of y is (2000,)\n"
     ]
    }
   ],
   "source": [
    "print ('The shape of X is:',X.shape, 'The shape of y is', y.shape)"
   ]
  },
  {
   "cell_type": "code",
   "execution_count": 50,
   "metadata": {},
   "outputs": [
    {
     "name": "stdout",
     "output_type": "stream",
     "text": [
      "StratifiedKFold(n_splits=5, random_state=None, shuffle=True)\n"
     ]
    }
   ],
   "source": [
    "#Cross Validation\n",
    "from sklearn import model_selection\n",
    "stratified_k_fold = model_selection.StratifiedKFold(n_splits=5, shuffle=True)\n",
    "print (stratified_k_fold)"
   ]
  },
  {
   "cell_type": "code",
   "execution_count": 51,
   "metadata": {
    "collapsed": true
   },
   "outputs": [],
   "source": [
    "def stratified_cv(X, y, clf_class, shuffle=True, n_folds=5, **kwargs):\n",
    "    stratified_k_fold = model_selection.StratifiedKFold(n_splits=n_folds, shuffle=shuffle)\n",
    "    y_pred = y.copy()\n",
    "    for i, j in stratified_k_fold.split(X, y):\n",
    "        X_train, X_test = X[i], X[j]\n",
    "        y_train = y[i]\n",
    "        clf = clf_class(**kwargs)\n",
    "        clf.fit(X_train,y_train)\n",
    "        y_pred[j] = clf.predict(X_test)\n",
    "    return y_pred"
   ]
  },
  {
   "cell_type": "code",
   "execution_count": 52,
   "metadata": {},
   "outputs": [
    {
     "name": "stderr",
     "output_type": "stream",
     "text": [
      "/Users/viswanathravindran/anaconda/lib/python3.6/site-packages/sklearn/model_selection/_split.py:597: Warning: The least populated class in y has only 2 members, which is too few. The minimum number of members in any class cannot be less than n_splits=5.\n",
      "  % (min_groups, self.n_splits)), Warning)\n"
     ]
    },
    {
     "name": "stdout",
     "output_type": "stream",
     "text": [
      "Gradient Boosting Classifier:  1.00\n"
     ]
    }
   ],
   "source": [
    "from sklearn import tree\n",
    "from sklearn import svm\n",
    "from sklearn import ensemble\n",
    "from sklearn import neighbors\n",
    "from sklearn import metrics\n",
    "from sklearn import linear_model\n",
    "\n",
    "print('Gradient Boosting Classifier:  {:.2f}'.format(metrics.accuracy_score(y, stratified_cv(X, y, ensemble.GradientBoostingClassifier))))"
   ]
  },
  {
   "cell_type": "code",
   "execution_count": 53,
   "metadata": {},
   "outputs": [
    {
     "name": "stderr",
     "output_type": "stream",
     "text": [
      "/Users/viswanathravindran/anaconda/lib/python3.6/site-packages/sklearn/model_selection/_split.py:597: Warning: The least populated class in y has only 2 members, which is too few. The minimum number of members in any class cannot be less than n_splits=5.\n",
      "  % (min_groups, self.n_splits)), Warning)\n"
     ]
    },
    {
     "name": "stdout",
     "output_type": "stream",
     "text": [
      "Random Forest Classifier:      1.00\n"
     ]
    }
   ],
   "source": [
    "print('Random Forest Classifier:      {:.2f}'.format(metrics.accuracy_score(y, stratified_cv(X, y, ensemble.RandomForestClassifier))))\n"
   ]
  },
  {
   "cell_type": "code",
   "execution_count": 54,
   "metadata": {},
   "outputs": [
    {
     "name": "stdout",
     "output_type": "stream",
     "text": [
      "Support vector machine(SVM):   1.00\n"
     ]
    },
    {
     "name": "stderr",
     "output_type": "stream",
     "text": [
      "/Users/viswanathravindran/anaconda/lib/python3.6/site-packages/sklearn/model_selection/_split.py:597: Warning: The least populated class in y has only 2 members, which is too few. The minimum number of members in any class cannot be less than n_splits=5.\n",
      "  % (min_groups, self.n_splits)), Warning)\n"
     ]
    }
   ],
   "source": [
    "print('Support vector machine(SVM):   {:.2f}'.format(metrics.accuracy_score(y, stratified_cv(X, y, svm.SVC))))"
   ]
  },
  {
   "cell_type": "code",
   "execution_count": 55,
   "metadata": {},
   "outputs": [
    {
     "name": "stderr",
     "output_type": "stream",
     "text": [
      "/Users/viswanathravindran/anaconda/lib/python3.6/site-packages/sklearn/model_selection/_split.py:597: Warning: The least populated class in y has only 2 members, which is too few. The minimum number of members in any class cannot be less than n_splits=5.\n",
      "  % (min_groups, self.n_splits)), Warning)\n"
     ]
    },
    {
     "name": "stdout",
     "output_type": "stream",
     "text": [
      "K Nearest Neighbor Classifier: 1.00\n"
     ]
    }
   ],
   "source": [
    "print('K Nearest Neighbor Classifier: {:.2f}'.format(metrics.accuracy_score(y, stratified_cv(X, y, neighbors.KNeighborsClassifier))))"
   ]
  },
  {
   "cell_type": "code",
   "execution_count": 56,
   "metadata": {},
   "outputs": [
    {
     "name": "stderr",
     "output_type": "stream",
     "text": [
      "/Users/viswanathravindran/anaconda/lib/python3.6/site-packages/sklearn/model_selection/_split.py:597: Warning: The least populated class in y has only 2 members, which is too few. The minimum number of members in any class cannot be less than n_splits=5.\n",
      "  % (min_groups, self.n_splits)), Warning)\n",
      "/Users/viswanathravindran/anaconda/lib/python3.6/site-packages/sklearn/model_selection/_split.py:597: Warning: The least populated class in y has only 2 members, which is too few. The minimum number of members in any class cannot be less than n_splits=5.\n",
      "  % (min_groups, self.n_splits)), Warning)\n"
     ]
    }
   ],
   "source": [
    "from sklearn import linear_model\n",
    "\n",
    "grad_ens_conf_matrix = metrics.confusion_matrix(y, stratified_cv(X, y, ensemble.GradientBoostingClassifier))\n",
    "decision_conf_matrix = metrics.confusion_matrix(y, stratified_cv(X, y, tree.DecisionTreeClassifier))\n",
    "ridge_clf_conf_matrix = metrics.confusion_matrix(y, stratified_cv(X, y, linear_model.RidgeClassifier))\n",
    "svm_svc_conf_matrix = metrics.confusion_matrix(y, stratified_cv(X, y, svm.SVC))\n",
    "random_forest_conf_matrix = metrics.confusion_matrix(y, stratified_cv(X, y, ensemble.RandomForestClassifier))\n",
    "k_neighbors_conf_matrix = metrics.confusion_matrix(y, stratified_cv(X, y, neighbors.KNeighborsClassifier))\n",
    "\n",
    "conf_matrix = {\n",
    "                1: {\n",
    "                    'matrix': grad_ens_conf_matrix,\n",
    "                    'title': 'Gradient Boosting',\n",
    "                   },\n",
    "                2: {\n",
    "                    'matrix': decision_conf_matrix,\n",
    "                    'title': 'Decision Tree',\n",
    "                   },\n",
    "                3: {\n",
    "                    'matrix': ridge_clf_conf_matrix,\n",
    "                    'title': 'Ridge',\n",
    "                   },\n",
    "                4: {\n",
    "                    'matrix': svm_svc_conf_matrix,\n",
    "                    'title': 'Support Vector Machine',\n",
    "                   },\n",
    "                5: {\n",
    "                    'matrix': random_forest_conf_matrix,\n",
    "                    'title': 'Random Forest',\n",
    "                   },\n",
    "                6: {\n",
    "                    'matrix': k_neighbors_conf_matrix,\n",
    "                    'title': 'K Nearest Neighbors',\n",
    "                   },\n",
    "}"
   ]
  },
  {
   "cell_type": "code",
   "execution_count": 59,
   "metadata": {},
   "outputs": [
    {
     "data": {
      "image/png": "[encoded data removed]",
      "text/plain": [
       "<matplotlib.figure.Figure at 0x11989b080>"
      ]
     },
     "metadata": {},
     "output_type": "display_data"
    }
   ],
   "source": [
    "fig, ax = plt.subplots(figsize=(18, 12))\n",
    "plt.suptitle('Confusion Matrix of Various Classifiers')\n",
    "for ii, values in conf_matrix.items():\n",
    "    matrix = values['matrix']\n",
    "    title = values['title']\n",
    "    plt.subplot(2, 3, ii) # starts from 1\n",
    "    plt.title(title);\n",
    "    sns.heatmap(matrix, annot=True,  fmt='');\n",
    "plt.show()"
   ]
  },
  {
   "cell_type": "code",
   "execution_count": 60,
   "metadata": {},
   "outputs": [
    {
     "name": "stderr",
     "output_type": "stream",
     "text": [
      "/Users/viswanathravindran/anaconda/lib/python3.6/site-packages/sklearn/model_selection/_split.py:597: Warning: The least populated class in y has only 2 members, which is too few. The minimum number of members in any class cannot be less than n_splits=5.\n",
      "  % (min_groups, self.n_splits)), Warning)\n",
      "/Users/viswanathravindran/anaconda/lib/python3.6/site-packages/sklearn/metrics/classification.py:1135: UndefinedMetricWarning: Precision and F-score are ill-defined and being set to 0.0 in labels with no predicted samples.\n",
      "  'precision', 'predicted', average, warn_for)\n"
     ]
    },
    {
     "name": "stdout",
     "output_type": "stream",
     "text": [
      "Ridge Classifier:\n",
      "              precision    recall  f1-score   support\n",
      "\n",
      "          0       1.00      1.00      1.00      1998\n",
      "          1       0.00      0.00      0.00         2\n",
      "\n",
      "avg / total       1.00      1.00      1.00      2000\n",
      "\n",
      "\n",
      "Gradient Boosting Classifier:\n",
      "              precision    recall  f1-score   support\n",
      "\n",
      "          0       1.00      1.00      1.00      1998\n",
      "          1       0.00      0.00      0.00         2\n",
      "\n",
      "avg / total       1.00      1.00      1.00      2000\n",
      "\n",
      "\n",
      "Support vector machine(SVM):\n",
      "              precision    recall  f1-score   support\n",
      "\n",
      "          0       1.00      1.00      1.00      1998\n",
      "          1       0.00      0.00      0.00         2\n",
      "\n",
      "avg / total       1.00      1.00      1.00      2000\n",
      "\n",
      "\n",
      "Random Forest Classifier:\n",
      "              precision    recall  f1-score   support\n",
      "\n",
      "          0       1.00      1.00      1.00      1998\n",
      "          1       0.00      0.00      0.00         2\n",
      "\n",
      "avg / total       1.00      1.00      1.00      2000\n",
      "\n",
      "\n"
     ]
    },
    {
     "name": "stderr",
     "output_type": "stream",
     "text": [
      "/Users/viswanathravindran/anaconda/lib/python3.6/site-packages/sklearn/model_selection/_split.py:597: Warning: The least populated class in y has only 2 members, which is too few. The minimum number of members in any class cannot be less than n_splits=5.\n",
      "  % (min_groups, self.n_splits)), Warning)\n"
     ]
    },
    {
     "name": "stdout",
     "output_type": "stream",
     "text": [
      "K-Nearest Neighbor Classifier:\n",
      "              precision    recall  f1-score   support\n",
      "\n",
      "          0       1.00      1.00      1.00      1998\n",
      "          1       0.00      0.00      0.00         2\n",
      "\n",
      "avg / total       1.00      1.00      1.00      2000\n",
      "\n",
      "\n"
     ]
    },
    {
     "name": "stderr",
     "output_type": "stream",
     "text": [
      "/Users/viswanathravindran/anaconda/lib/python3.6/site-packages/sklearn/metrics/classification.py:1135: UndefinedMetricWarning: Precision and F-score are ill-defined and being set to 0.0 in labels with no predicted samples.\n",
      "  'precision', 'predicted', average, warn_for)\n"
     ]
    }
   ],
   "source": [
    "# Accuracy vs Precision vs Recall vs F1-score\n",
    "print('Ridge Classifier:\\n {}\\n'.format(metrics.classification_report(y, stratified_cv(X, y, linear_model.RidgeClassifier))))\n",
    "print('Gradient Boosting Classifier:\\n {}\\n'.format(metrics.classification_report(y, stratified_cv(X, y, ensemble.GradientBoostingClassifier))))\n",
    "print('Support vector machine(SVM):\\n {}\\n'.format(metrics.classification_report(y, stratified_cv(X, y, svm.SVC))))\n",
    "print('Random Forest Classifier:\\n {}\\n'.format(metrics.classification_report(y, stratified_cv(X, y, ensemble.RandomForestClassifier))))\n",
    "print('K-Nearest Neighbor Classifier:\\n {}\\n'.format(metrics.classification_report(y, stratified_cv(X, y, neighbors.KNeighborsClassifier))))"
   ]
  },
  {
   "cell_type": "code",
   "execution_count": 61,
   "metadata": {},
   "outputs": [
    {
     "data": {
      "text/plain": [
       "GradientBoostingClassifier(criterion='friedman_mse', init=None,\n",
       "              learning_rate=0.1, loss='deviance', max_depth=3,\n",
       "              max_features=None, max_leaf_nodes=None,\n",
       "              min_impurity_decrease=0.0, min_impurity_split=None,\n",
       "              min_samples_leaf=1, min_samples_split=2,\n",
       "              min_weight_fraction_leaf=0.0, n_estimators=100,\n",
       "              presort='auto', random_state=None, subsample=1.0, verbose=0,\n",
       "              warm_start=False)"
      ]
     },
     "execution_count": 61,
     "metadata": {},
     "output_type": "execute_result"
    }
   ],
   "source": [
    "gbc = ensemble.GradientBoostingClassifier()\n",
    "gbc.fit(X, y)"
   ]
  },
  {
   "cell_type": "code",
   "execution_count": 65,
   "metadata": {},
   "outputs": [
    {
     "data": {
      "image/png": "[encoded data removed]",
      "text/plain": [
       "<matplotlib.figure.Figure at 0x11cb17748>"
      ]
     },
     "metadata": {},
     "output_type": "display_data"
    }
   ],
   "source": [
    "# Get Feature Importance from the classifier\n",
    "feature_importance = gbc.feature_importances_\n",
    "# Normalize The Features\n",
    "feature_importance = 100.0 * (feature_importance / feature_importance.max())\n",
    "sorted_idx = np.argsort(feature_importance)\n",
    "pos = np.arange(sorted_idx.shape[0]) + .5\n",
    "plt.figure(figsize=(12, 16))\n",
    "plt.barh(pos, feature_importance[sorted_idx], align='center', color='#7A68A6')\n",
    "plt.yticks(pos, np.asanyarray(PartTrndf.columns.tolist())[sorted_idx])\n",
    "plt.xlabel('Relative Importance')\n",
    "plt.title('Variable Importance')\n",
    "plt.show()"
   ]
  },
  {
   "cell_type": "code",
   "execution_count": 66,
   "metadata": {
    "collapsed": true
   },
   "outputs": [],
   "source": [
    "# Split training into Train and test\n",
    "X_train, X_test, y_train, y_test = model_selection.train_test_split(X, y, test_size=0.2, random_state=0)"
   ]
  },
  {
   "cell_type": "code",
   "execution_count": null,
   "metadata": {},
   "outputs": [
    {
     "name": "stderr",
     "output_type": "stream",
     "text": [
      "/Users/viswanathravindran/anaconda/lib/python3.6/site-packages/sklearn/cross_validation.py:41: DeprecationWarning: This module was deprecated in version 0.18 in favor of the model_selection module into which all the refactored classes and functions are moved. Also note that the interface of the new CV iterators are different from that of this module. This module will be removed in 0.20.\n",
      "  \"This module will be removed in 0.20.\", DeprecationWarning)\n",
      "/Users/viswanathravindran/anaconda/lib/python3.6/site-packages/sklearn/grid_search.py:42: DeprecationWarning: This module was deprecated in version 0.18 in favor of the model_selection module into which all the refactored classes and functions are moved. This module will be removed in 0.20.\n",
      "  DeprecationWarning)\n",
      "/Users/viswanathravindran/anaconda/lib/python3.6/site-packages/sklearn/cross_validation.py:553: Warning: The least populated class in y has only 2 members, which is too few. The minimum number of labels for any class cannot be less than n_folds=3.\n",
      "  % (min_labels, self.n_folds)), Warning)\n"
     ]
    }
   ],
   "source": [
    "import time\n",
    "from sklearn import grid_search\n",
    "\n",
    "param_grid = {\n",
    "              'learning_rate': [0.1, 0.05, 0.01],\n",
    "              'max_depth': [4, 6],\n",
    "              'min_samples_leaf': [1, 2, 3, 4, 9, 15],\n",
    "              'n_estimators': [1000, 2000, 3000],\n",
    "              }\n",
    "\n",
    "est = ensemble.GradientBoostingClassifier()\n",
    "\n",
    "start_time = time.time()\n",
    "# run randomized search\n",
    "n_iter_search = 20\n",
    "randomized_search = grid_search.RandomizedSearchCV(est, param_distributions=param_grid,\n",
    "    n_iter=n_iter_search, n_jobs=4).fit(X_train, y_train)\n",
    "\n",
    "gs_cv = grid_search.GridSearchCV(est, param_grid, n_jobs=4).fit(X_train, y_train)\n",
    "end_time = time.time()\n",
    "\n",
    "print('It took {} seconds'.format(end_time - start_time))"
   ]
  },
  {
   "cell_type": "code",
   "execution_count": null,
   "metadata": {
    "collapsed": true
   },
   "outputs": [],
   "source": [
    "print ('The best parameters after random search is', randomized_search.best_params_)\n",
    "print ('The best score is after random search is', randomized_search.best_score_)"
   ]
  },
  {
   "cell_type": "code",
   "execution_count": null,
   "metadata": {
    "collapsed": true
   },
   "outputs": [],
   "source": []
  }
 ],
 "metadata": {
  "kernelspec": {
   "display_name": "Python 3",
   "language": "python",
   "name": "python3"
  },
  "language_info": {
   "codemirror_mode": {
    "name": "ipython",
    "version": 3
   },
   "file_extension": ".py",
   "mimetype": "text/x-python",
   "name": "python",
   "nbconvert_exporter": "python",
   "pygments_lexer": "ipython3",
   "version": "3.6.2"
  }
 },
 "nbformat": 4,
 "nbformat_minor": 2
}
